{
 "cells": [
  {
   "cell_type": "code",
   "execution_count": 2,
   "metadata": {},
   "outputs": [],
   "source": [
    "options(warn=-1)\n",
    "\n",
    "library(ppcor)\n",
    "#install.packages('lmPerm')\n",
    "library(lmPerm)\n",
    "library(psych)\n",
    "library(car)\n",
    "library(ggplot2)\n",
    "library(lme4)\n",
    "library(mediation)\n",
    "library(caret)\n",
    "library(gbm)\n",
    "library(party)\n",
    "library(Metrics)\n",
    "#install.packages(\"wesanderson\")\n",
    "library(wesanderson)\n",
    "library(gtools)\n",
    "library(interactions)\n",
    "#install.packages('ggstance')\n",
    "library(ggstance)\n",
    "#install.packages('elasticnet')\n",
    "#install.packages('kernlab')\n",
    "#install.packages('e1071')\n",
    "#install.packages('MatchIt')\n",
    "library(MatchIt)\n",
    "library(dplyr)\n",
    "library(ukbtools)\n",
    "library(mediation)\n",
    "library(lavaan)\n",
    "#install.packages('MissMech')\n",
    "#library(semTools)\n",
    "#library(MissMech)\n",
    "#install.packages('aod')\n",
    "#library(aod)"
   ]
  },
  {
   "cell_type": "markdown",
   "metadata": {},
   "source": [
    "# Read in the data "
   ]
  },
  {
   "cell_type": "code",
   "execution_count": 3,
   "metadata": {},
   "outputs": [],
   "source": [
    "di=read.table('/dagher/dagher11/filip/PRSOB/data/brain_data.csv', header=TRUE, na.strings = \"\", sep=',', quote = \"\\\"\")\n",
    "cov19=read.table('/dagher/dagher11/filip/COVID/data/covid19_result.txt', header=TRUE, na.strings = \"\", sep='\\t', quote = \"\\\"\")\n",
    "cov19= cov19[order(cov19$result, decreasing=TRUE),] \n",
    "\n",
    "covidinf=cov19\n",
    "covidinf=covidinf[!duplicated(covidinf$eid),]\n",
    "cov_base=covidinf\n",
    "\n",
    "death=read.table('/dagher/dagher11/filip/COVID/data/death_cause.txt', header=TRUE, na.strings = \"\", sep='\\t', quote = \"\\\"\")\n",
    "death=(death[death$level==1 & death$cause_icd10=='U071',]) # take only individuals whose primary cause of death was COVID"
   ]
  },
  {
   "cell_type": "markdown",
   "metadata": {},
   "source": [
    "## Add hypertension and diabetes diagnosis"
   ]
  },
  {
   "cell_type": "code",
   "execution_count": 4,
   "metadata": {},
   "outputs": [],
   "source": [
    "di$hypertension <- 0\n",
    "for (i in as.numeric(grep('vascularheart_problems_diagnosed_by_doctor', colnames(di)))) { \n",
    "    di$hypertension[di[i] == 'High blood pressure'] <- 1 # Hypertension\n",
    "}\n",
    "\n",
    "# Mark participants who have diabetes - self-reported\n",
    "di$diabetes <- 0\n",
    "for (i in as.numeric(grep('diabetes_diagnosed_by_doctor', colnames(di)))) { \n",
    "    di$diabetes[di[i] ==\"Yes\"] <- 1\n",
    "}\n",
    "\n",
    "# Mark participants with hypertension - diagnosed\n",
    "di$hypertension2 <- 0\n",
    "for (i in as.numeric(grep('icd10', colnames(di)))) { \n",
    "    di$hypertension2[di[i] == 'I10 Essential (primary) hypertension'] <- 1 # Hypertension\n",
    "    }\n",
    "\n",
    "# Mark participants who have diabetes - diagnoses\n",
    "exclusions_diabetes=c('^E11')\n",
    "di$diabetes2 <- NA\n",
    "for (i in as.numeric(grep('icd10', colnames(di)))) {\n",
    "    for (d in 1:length(exclusions_diabetes)) {\n",
    "        di$diabetes2[grepl(exclusions_diabetes[d], di[[i]])] = 1\n",
    "    }\n",
    "}\n",
    "\n",
    "di$Hypertension=0\n",
    "di$Hypertension[di$hypertension=='1' | di$hypertension2=='1']=1\n",
    "di$Diabetes=0\n",
    "di$Diabetes[di$diabetes=='1' | di$diabetes2=='1']=1"
   ]
  },
  {
   "cell_type": "code",
   "execution_count": 5,
   "metadata": {},
   "outputs": [],
   "source": [
    "# Mark participants who have liver diseases\n",
    "liver=c('^K7')\n",
    "di$liver_disease <- 0\n",
    "for (i in as.numeric(grep('icd10', colnames(di)))) {\n",
    "    for (d in 1:length(liver)) {\n",
    "        di$liver_disease[grepl(liver[d], di[[i]])] = 1\n",
    "    }\n",
    "}\n",
    "\n",
    "# Mark participants who have liver diseases\n",
    "cardiovascular=c('^I2','I3')\n",
    "di$cardiovascular_disease <- 0\n",
    "for (i in as.numeric(grep('icd10', colnames(di)))) {\n",
    "    for (d in 1:length(cardiovascular)) {\n",
    "        di$cardiovascular_disease[grepl(cardiovascular[d], di[[i]])] = 1\n",
    "    }\n",
    "}\n",
    "\n",
    "# Mark participants who have liver diseases\n",
    "pulmonary=c('^J')\n",
    "di$pulmonary_disease <- 0\n",
    "for (i in as.numeric(grep('icd10', colnames(di)))) {\n",
    "    for (d in 1:length(pulmonary)) {\n",
    "        di$pulmonary_disease[grepl(pulmonary[d], di[[i]])] = 1\n",
    "    }\n",
    "}\n",
    "\n",
    "# Mark participants who have liver diseases\n",
    "kidney=c('^N1')\n",
    "di$kidney_disease <- 0\n",
    "for (i in as.numeric(grep('icd10', colnames(di)))) {\n",
    "    for (d in 1:length(kidney)) {\n",
    "        di$kidney_disease[grepl(kidney[d], di[[i]])] = 1\n",
    "    }\n",
    "}\n",
    "\n"
   ]
  },
  {
   "cell_type": "markdown",
   "metadata": {},
   "source": [
    "## Create metabolic syndrome variable based on https://www.ahajournals.org/doi/full/10.1161/CIRCULATIONAHA.109.192644"
   ]
  },
  {
   "cell_type": "code",
   "execution_count": 6,
   "metadata": {},
   "outputs": [],
   "source": [
    "di$metabolic_syndrome <- 0\n",
    "\n",
    "di[which(di$sex_31.0.0==\"Female\" & di$triglycerides_30870.0.0>1.7 & di$hdl_cholesterol_30760.0.0>1.3 & \n",
    "    rowMeans(cbind(di$systolic_blood_pressure_automated_reading_4080.0.0,\n",
    "                                      di$systolic_blood_pressure_automated_reading_4080.0.1))>130 & \n",
    "    rowMeans(cbind(di$diastolic_blood_pressure_automated_reading_4079.0.0,\n",
    "                                       di$diastolic_blood_pressure_automated_reading_4079.0.1))>85 &\n",
    "    di$glucose_30740.0.0>5.6 &\n",
    "    di$waist_circumference_48.0.0>80),\"metabolic_syndrome\"] <- 1\n",
    "\n",
    "di[which(di$sex_31.0.0==\"Male\" & di$triglycerides_30870.0.0>1.7 & di$hdl_cholesterol_30760.0.0>1 & \n",
    "    rowMeans(cbind(di$systolic_blood_pressure_automated_reading_4080.0.0,\n",
    "                                      di$systolic_blood_pressure_automated_reading_4080.0.1))>130 & \n",
    "    rowMeans(cbind(di$diastolic_blood_pressure_automated_reading_4079.0.0,\n",
    "                                       di$diastolic_blood_pressure_automated_reading_4079.0.1))>85 &\n",
    "    di$glucose_30740.0.0>5.6 &\n",
    "    di$waist_circumference_48.0.0>94),\"metabolic_syndrome\"] <- 1"
   ]
  },
  {
   "cell_type": "code",
   "execution_count": 7,
   "metadata": {},
   "outputs": [],
   "source": [
    "fasting=read.table('/dagher/dagher11/filip/COVID/data/glucose.csv',sep=',', header=T)\n",
    "fasting=select(fasting,-c(eid))"
   ]
  },
  {
   "cell_type": "markdown",
   "metadata": {},
   "source": [
    "# MetS latent variable and OR - covid infection\n",
    "\n",
    "## Create dataframes"
   ]
  },
  {
   "cell_type": "code",
   "execution_count": 8,
   "metadata": {},
   "outputs": [
    {
     "data": {
      "text/html": [
       "12659"
      ],
      "text/latex": [
       "12659"
      ],
      "text/markdown": [
       "12659"
      ],
      "text/plain": [
       "[1] 12659"
      ]
     },
     "metadata": {},
     "output_type": "display_data"
    }
   ],
   "source": [
    "covidinf=merge(di, covidinf, by='eid')\n",
    "\n",
    "covidinf$TG=(log(covidinf$triglycerides_30870.0.0))\n",
    "covidinf$HDL=(log(covidinf$hdl_cholesterol_30760.0.0))\n",
    "covidinf$Sex=as.factor(covidinf$sex_31.0.0)\n",
    "covidinf$Waist=(covidinf$waist_circumference_48.0.0)\n",
    "covidinf$HbA1c=(log(covidinf$glycated_haemoglobin_hba1c_30750.0.0))\n",
    "covidinf$systolicBP=(rowMeans(cbind(covidinf$systolic_blood_pressure_automated_reading_4080.0.0,\n",
    "                                      covidinf$systolic_blood_pressure_automated_reading_4080.0.1)))\n",
    "covidinf$diastolicBP=(rowMeans(cbind(covidinf$diastolic_blood_pressure_automated_reading_4079.0.0,\n",
    "                                       covidinf$diastolic_blood_pressure_automated_reading_4079.0.1)))\n",
    "covidinf$glucose=(log(covidinf$glucose_30740.0.0))\n",
    "covidinf$CRP=(log(covidinf$c.reactive_protein_30710.0.0))\n",
    "\n",
    "\n",
    "COVinf=select(covidinf, TG, HDL, Sex, Hypertension, Diabetes, result,\n",
    "          laboratory, origin, spectype, qualifications_6138.0.0, townsend_deprivation_index_at_recruitment_189.0.0,\n",
    "          Waist, year_of_birth_34.0.0, smoking_status_20116.0.0,\n",
    "          ethnic_background_21000.0.0, HbA1c, systolicBP, diastolicBP, glucose,\n",
    "             average_total_household_income_before_tax_738.0.0, sex_31.0.0, CRP, eid,\n",
    "             sex_31.0.0, year_of_birth_34.0.0, waist_circumference_48.0.0, hip_circumference_49.0.0,\n",
    "              body_mass_index_bmi_21001.0.0, glucose_30740.0.0,glycated_haemoglobin_hba1c_30750.0.0,\n",
    "              hdl_cholesterol_30760.0.0, pulmonary_disease, kidney_disease, cardiovascular_disease, liver_disease)\n",
    "\n",
    "\n",
    "\n",
    "for (j in c(1, 2, 11, 12, 16, 17, 18, 19, 22)) { # \n",
    "    Q3=as.numeric(quantile(COVinf[j],0.75, na.rm=TRUE))\n",
    "    Q1=as.numeric(quantile(COVinf[j],0.25, na.rm=TRUE))\n",
    "    upper=Q3+(2.2*(Q3-Q1))\n",
    "    lower=Q1-(2.2*(Q3-Q1))\n",
    "    COVinf[j][COVinf[j]<lower]=NA\n",
    "    COVinf[j][COVinf[j]>upper]=NA\n",
    "    COVinf[j]=scale(COVinf[j])\n",
    "}\n",
    "\n",
    "COVinf=na.omit(COVinf)\n",
    "\n",
    "COVinf$Hypertension=as.numeric(COVinf$Hypertension)\n",
    "COVinf$Diabetes=as.numeric(COVinf$Diabetes)\n",
    "\n",
    "nrow(COVinf)\n",
    "\n",
    "COVinf=merge(COVinf,fasting, by=c('sex_31.0.0','year_of_birth_34.0.0', 'waist_circumference_48.0.0', \n",
    "                                  'hip_circumference_49.0.0','glucose_30740.0.0',\n",
    "                                 'glycated_haemoglobin_hba1c_30750.0.0', 'hdl_cholesterol_30760.0.0'), all.x=TRUE)\n",
    "\n",
    "\n",
    "COVinf$HDL=-1*COVinf$HDL\n",
    "\n",
    "COVinf$glucose=resid(lm(glucose ~ fasting_time_74.0.0, data=COVinf))"
   ]
  },
  {
   "cell_type": "code",
   "execution_count": 9,
   "metadata": {},
   "outputs": [
    {
     "data": {
      "text/html": [
       "1138"
      ],
      "text/latex": [
       "1138"
      ],
      "text/markdown": [
       "1138"
      ],
      "text/plain": [
       "[1] 1138"
      ]
     },
     "metadata": {},
     "output_type": "display_data"
    }
   ],
   "source": [
    "sum(COVinf$result)"
   ]
  },
  {
   "cell_type": "markdown",
   "metadata": {},
   "source": [
    "# Values before log-transformation"
   ]
  },
  {
   "cell_type": "markdown",
   "metadata": {},
   "source": [
    "### SARS-CoV-2 positive"
   ]
  },
  {
   "cell_type": "code",
   "execution_count": 10,
   "metadata": {},
   "outputs": [
    {
     "data": {
      "text/plain": [
       "\n",
       "         1 \n",
       "0.08989652 "
      ]
     },
     "metadata": {},
     "output_type": "display_data"
    },
    {
     "data": {
      "text/html": [
       "<table>\n",
       "<thead><tr><th></th><th scope=col>vars</th><th scope=col>n</th><th scope=col>mean</th><th scope=col>sd</th><th scope=col>median</th><th scope=col>trimmed</th><th scope=col>mad</th><th scope=col>min</th><th scope=col>max</th><th scope=col>range</th><th scope=col>skew</th><th scope=col>kurtosis</th><th scope=col>se</th></tr></thead>\n",
       "<tbody>\n",
       "\t<tr><th scope=row>X1</th><td>1        </td><td>1138     </td><td>1952.304 </td><td>9.127495 </td><td>1951.5   </td><td>1952.109 </td><td>12.6021  </td><td>1937     </td><td>1969     </td><td>32       </td><td>0.1585154</td><td>-1.344796</td><td>0.2705705</td></tr>\n",
       "</tbody>\n",
       "</table>\n"
      ],
      "text/latex": [
       "\\begin{tabular}{r|lllllllllllll}\n",
       "  & vars & n & mean & sd & median & trimmed & mad & min & max & range & skew & kurtosis & se\\\\\n",
       "\\hline\n",
       "\tX1 & 1         & 1138      & 1952.304  & 9.127495  & 1951.5    & 1952.109  & 12.6021   & 1937      & 1969      & 32        & 0.1585154 & -1.344796 & 0.2705705\\\\\n",
       "\\end{tabular}\n"
      ],
      "text/markdown": [
       "\n",
       "| <!--/--> | vars | n | mean | sd | median | trimmed | mad | min | max | range | skew | kurtosis | se |\n",
       "|---|---|---|---|---|---|---|---|---|---|---|---|---|---|\n",
       "| X1 | 1         | 1138      | 1952.304  | 9.127495  | 1951.5    | 1952.109  | 12.6021   | 1937      | 1969      | 32        | 0.1585154 | -1.344796 | 0.2705705 |\n",
       "\n"
      ],
      "text/plain": [
       "   vars n    mean     sd       median trimmed  mad     min  max  range\n",
       "X1 1    1138 1952.304 9.127495 1951.5 1952.109 12.6021 1937 1969 32   \n",
       "   skew      kurtosis  se       \n",
       "X1 0.1585154 -1.344796 0.2705705"
      ]
     },
     "metadata": {},
     "output_type": "display_data"
    },
    {
     "data": {
      "text/plain": [
       "\n",
       "  Female     Male \n",
       "0.473638 0.526362 "
      ]
     },
     "metadata": {},
     "output_type": "display_data"
    },
    {
     "data": {
      "text/html": [
       "<table>\n",
       "<thead><tr><th></th><th scope=col>vars</th><th scope=col>n</th><th scope=col>mean</th><th scope=col>sd</th><th scope=col>median</th><th scope=col>trimmed</th><th scope=col>mad</th><th scope=col>min</th><th scope=col>max</th><th scope=col>range</th><th scope=col>skew</th><th scope=col>kurtosis</th><th scope=col>se</th></tr></thead>\n",
       "<tbody>\n",
       "\t<tr><th scope=row>X1</th><td>1        </td><td>1138     </td><td>93.38489 </td><td>13.8909  </td><td>93       </td><td>92.93136 </td><td>13.3434  </td><td>62       </td><td>142      </td><td>80       </td><td>0.3321258</td><td>0.1348789</td><td>0.4117745</td></tr>\n",
       "</tbody>\n",
       "</table>\n"
      ],
      "text/latex": [
       "\\begin{tabular}{r|lllllllllllll}\n",
       "  & vars & n & mean & sd & median & trimmed & mad & min & max & range & skew & kurtosis & se\\\\\n",
       "\\hline\n",
       "\tX1 & 1         & 1138      & 93.38489  & 13.8909   & 93        & 92.93136  & 13.3434   & 62        & 142       & 80        & 0.3321258 & 0.1348789 & 0.4117745\\\\\n",
       "\\end{tabular}\n"
      ],
      "text/markdown": [
       "\n",
       "| <!--/--> | vars | n | mean | sd | median | trimmed | mad | min | max | range | skew | kurtosis | se |\n",
       "|---|---|---|---|---|---|---|---|---|---|---|---|---|---|\n",
       "| X1 | 1         | 1138      | 93.38489  | 13.8909   | 93        | 92.93136  | 13.3434   | 62        | 142       | 80        | 0.3321258 | 0.1348789 | 0.4117745 |\n",
       "\n"
      ],
      "text/plain": [
       "   vars n    mean     sd      median trimmed  mad     min max range skew     \n",
       "X1 1    1138 93.38489 13.8909 93     92.93136 13.3434 62  142 80    0.3321258\n",
       "   kurtosis  se       \n",
       "X1 0.1348789 0.4117745"
      ]
     },
     "metadata": {},
     "output_type": "display_data"
    },
    {
     "data": {
      "text/html": [
       "<table>\n",
       "<thead><tr><th></th><th scope=col>vars</th><th scope=col>n</th><th scope=col>mean</th><th scope=col>sd</th><th scope=col>median</th><th scope=col>trimmed</th><th scope=col>mad</th><th scope=col>min</th><th scope=col>max</th><th scope=col>range</th><th scope=col>skew</th><th scope=col>kurtosis</th><th scope=col>se</th></tr></thead>\n",
       "<tbody>\n",
       "\t<tr><th scope=row>X1</th><td>1        </td><td>1138     </td><td>35.82935 </td><td>4.505349 </td><td>35.3     </td><td>35.5716  </td><td>3.85476  </td><td>24       </td><td>53.2     </td><td>29.2     </td><td>0.662114 </td><td>1.039397 </td><td>0.1335541</td></tr>\n",
       "</tbody>\n",
       "</table>\n"
      ],
      "text/latex": [
       "\\begin{tabular}{r|lllllllllllll}\n",
       "  & vars & n & mean & sd & median & trimmed & mad & min & max & range & skew & kurtosis & se\\\\\n",
       "\\hline\n",
       "\tX1 & 1         & 1138      & 35.82935  & 4.505349  & 35.3      & 35.5716   & 3.85476   & 24        & 53.2      & 29.2      & 0.662114  & 1.039397  & 0.1335541\\\\\n",
       "\\end{tabular}\n"
      ],
      "text/markdown": [
       "\n",
       "| <!--/--> | vars | n | mean | sd | median | trimmed | mad | min | max | range | skew | kurtosis | se |\n",
       "|---|---|---|---|---|---|---|---|---|---|---|---|---|---|\n",
       "| X1 | 1         | 1138      | 35.82935  | 4.505349  | 35.3      | 35.5716   | 3.85476   | 24        | 53.2      | 29.2      | 0.662114  | 1.039397  | 0.1335541 |\n",
       "\n"
      ],
      "text/plain": [
       "   vars n    mean     sd       median trimmed mad     min max  range skew    \n",
       "X1 1    1138 35.82935 4.505349 35.3   35.5716 3.85476 24  53.2 29.2  0.662114\n",
       "   kurtosis se       \n",
       "X1 1.039397 0.1335541"
      ]
     },
     "metadata": {},
     "output_type": "display_data"
    },
    {
     "data": {
      "text/html": [
       "<table>\n",
       "<thead><tr><th></th><th scope=col>vars</th><th scope=col>n</th><th scope=col>mean</th><th scope=col>sd</th><th scope=col>median</th><th scope=col>trimmed</th><th scope=col>mad</th><th scope=col>min</th><th scope=col>max</th><th scope=col>range</th><th scope=col>skew</th><th scope=col>kurtosis</th><th scope=col>se</th></tr></thead>\n",
       "<tbody>\n",
       "\t<tr><th scope=row>X1</th><td>1        </td><td>1138     </td><td>3.000369 </td><td>5.229767 </td><td>1.59     </td><td>1.991031 </td><td>1.497426 </td><td>0.09     </td><td>63.93    </td><td>63.84    </td><td>6.35055  </td><td>55.08959 </td><td>0.1550284</td></tr>\n",
       "</tbody>\n",
       "</table>\n"
      ],
      "text/latex": [
       "\\begin{tabular}{r|lllllllllllll}\n",
       "  & vars & n & mean & sd & median & trimmed & mad & min & max & range & skew & kurtosis & se\\\\\n",
       "\\hline\n",
       "\tX1 & 1         & 1138      & 3.000369  & 5.229767  & 1.59      & 1.991031  & 1.497426  & 0.09      & 63.93     & 63.84     & 6.35055   & 55.08959  & 0.1550284\\\\\n",
       "\\end{tabular}\n"
      ],
      "text/markdown": [
       "\n",
       "| <!--/--> | vars | n | mean | sd | median | trimmed | mad | min | max | range | skew | kurtosis | se |\n",
       "|---|---|---|---|---|---|---|---|---|---|---|---|---|---|\n",
       "| X1 | 1         | 1138      | 3.000369  | 5.229767  | 1.59      | 1.991031  | 1.497426  | 0.09      | 63.93     | 63.84     | 6.35055   | 55.08959  | 0.1550284 |\n",
       "\n"
      ],
      "text/plain": [
       "   vars n    mean     sd       median trimmed  mad      min  max   range\n",
       "X1 1    1138 3.000369 5.229767 1.59   1.991031 1.497426 0.09 63.93 63.84\n",
       "   skew    kurtosis se       \n",
       "X1 6.35055 55.08959 0.1550284"
      ]
     },
     "metadata": {},
     "output_type": "display_data"
    },
    {
     "data": {
      "text/html": [
       "<table>\n",
       "<thead><tr><th></th><th scope=col>vars</th><th scope=col>n</th><th scope=col>mean</th><th scope=col>sd</th><th scope=col>median</th><th scope=col>trimmed</th><th scope=col>mad</th><th scope=col>min</th><th scope=col>max</th><th scope=col>range</th><th scope=col>skew</th><th scope=col>kurtosis</th><th scope=col>se</th></tr></thead>\n",
       "<tbody>\n",
       "\t<tr><th scope=row>X1</th><td>1         </td><td>1138      </td><td>4.983326  </td><td>0.6371266 </td><td>4.916     </td><td>4.936264  </td><td>0.5404077 </td><td>3.338     </td><td>7.572     </td><td>4.234     </td><td>0.8172972 </td><td>1.335378  </td><td>0.01888664</td></tr>\n",
       "</tbody>\n",
       "</table>\n"
      ],
      "text/latex": [
       "\\begin{tabular}{r|lllllllllllll}\n",
       "  & vars & n & mean & sd & median & trimmed & mad & min & max & range & skew & kurtosis & se\\\\\n",
       "\\hline\n",
       "\tX1 & 1          & 1138       & 4.983326   & 0.6371266  & 4.916      & 4.936264   & 0.5404077  & 3.338      & 7.572      & 4.234      & 0.8172972  & 1.335378   & 0.01888664\\\\\n",
       "\\end{tabular}\n"
      ],
      "text/markdown": [
       "\n",
       "| <!--/--> | vars | n | mean | sd | median | trimmed | mad | min | max | range | skew | kurtosis | se |\n",
       "|---|---|---|---|---|---|---|---|---|---|---|---|---|---|\n",
       "| X1 | 1          | 1138       | 4.983326   | 0.6371266  | 4.916      | 4.936264   | 0.5404077  | 3.338      | 7.572      | 4.234      | 0.8172972  | 1.335378   | 0.01888664 |\n",
       "\n"
      ],
      "text/plain": [
       "   vars n    mean     sd        median trimmed  mad       min   max   range\n",
       "X1 1    1138 4.983326 0.6371266 4.916  4.936264 0.5404077 3.338 7.572 4.234\n",
       "   skew      kurtosis se        \n",
       "X1 0.8172972 1.335378 0.01888664"
      ]
     },
     "metadata": {},
     "output_type": "display_data"
    },
    {
     "data": {
      "text/html": [
       "<table>\n",
       "<thead><tr><th></th><th scope=col>vars</th><th scope=col>n</th><th scope=col>mean</th><th scope=col>sd</th><th scope=col>median</th><th scope=col>trimmed</th><th scope=col>mad</th><th scope=col>min</th><th scope=col>max</th><th scope=col>range</th><th scope=col>skew</th><th scope=col>kurtosis</th><th scope=col>se</th></tr></thead>\n",
       "<tbody>\n",
       "\t<tr><th scope=row>X1</th><td>1         </td><td>1138      </td><td>1.361864  </td><td>0.3431419 </td><td>1.3185    </td><td>1.337944  </td><td>0.3328437 </td><td>0.511     </td><td>2.954     </td><td>2.443     </td><td>0.70471   </td><td>0.6325755 </td><td>0.01017191</td></tr>\n",
       "</tbody>\n",
       "</table>\n"
      ],
      "text/latex": [
       "\\begin{tabular}{r|lllllllllllll}\n",
       "  & vars & n & mean & sd & median & trimmed & mad & min & max & range & skew & kurtosis & se\\\\\n",
       "\\hline\n",
       "\tX1 & 1          & 1138       & 1.361864   & 0.3431419  & 1.3185     & 1.337944   & 0.3328437  & 0.511      & 2.954      & 2.443      & 0.70471    & 0.6325755  & 0.01017191\\\\\n",
       "\\end{tabular}\n"
      ],
      "text/markdown": [
       "\n",
       "| <!--/--> | vars | n | mean | sd | median | trimmed | mad | min | max | range | skew | kurtosis | se |\n",
       "|---|---|---|---|---|---|---|---|---|---|---|---|---|---|\n",
       "| X1 | 1          | 1138       | 1.361864   | 0.3431419  | 1.3185     | 1.337944   | 0.3328437  | 0.511      | 2.954      | 2.443      | 0.70471    | 0.6325755  | 0.01017191 |\n",
       "\n"
      ],
      "text/plain": [
       "   vars n    mean     sd        median trimmed  mad       min   max   range\n",
       "X1 1    1138 1.361864 0.3431419 1.3185 1.337944 0.3328437 0.511 2.954 2.443\n",
       "   skew    kurtosis  se        \n",
       "X1 0.70471 0.6325755 0.01017191"
      ]
     },
     "metadata": {},
     "output_type": "display_data"
    },
    {
     "data": {
      "text/html": [
       "<table>\n",
       "<thead><tr><th></th><th scope=col>vars</th><th scope=col>n</th><th scope=col>mean</th><th scope=col>sd</th><th scope=col>median</th><th scope=col>trimmed</th><th scope=col>mad</th><th scope=col>min</th><th scope=col>max</th><th scope=col>range</th><th scope=col>skew</th><th scope=col>kurtosis</th><th scope=col>se</th></tr></thead>\n",
       "<tbody>\n",
       "\t<tr><th scope=row>X1</th><td>1         </td><td>1138      </td><td>1.788083  </td><td>1.039995  </td><td>1.521     </td><td>1.640004  </td><td>0.8087583 </td><td>0.461     </td><td>10.856    </td><td>10.395    </td><td>1.977366  </td><td>7.691448  </td><td>0.03082906</td></tr>\n",
       "</tbody>\n",
       "</table>\n"
      ],
      "text/latex": [
       "\\begin{tabular}{r|lllllllllllll}\n",
       "  & vars & n & mean & sd & median & trimmed & mad & min & max & range & skew & kurtosis & se\\\\\n",
       "\\hline\n",
       "\tX1 & 1          & 1138       & 1.788083   & 1.039995   & 1.521      & 1.640004   & 0.8087583  & 0.461      & 10.856     & 10.395     & 1.977366   & 7.691448   & 0.03082906\\\\\n",
       "\\end{tabular}\n"
      ],
      "text/markdown": [
       "\n",
       "| <!--/--> | vars | n | mean | sd | median | trimmed | mad | min | max | range | skew | kurtosis | se |\n",
       "|---|---|---|---|---|---|---|---|---|---|---|---|---|---|\n",
       "| X1 | 1          | 1138       | 1.788083   | 1.039995   | 1.521      | 1.640004   | 0.8087583  | 0.461      | 10.856     | 10.395     | 1.977366   | 7.691448   | 0.03082906 |\n",
       "\n"
      ],
      "text/plain": [
       "   vars n    mean     sd       median trimmed  mad       min   max    range \n",
       "X1 1    1138 1.788083 1.039995 1.521  1.640004 0.8087583 0.461 10.856 10.395\n",
       "   skew     kurtosis se        \n",
       "X1 1.977366 7.691448 0.03082906"
      ]
     },
     "metadata": {},
     "output_type": "display_data"
    },
    {
     "data": {
      "text/html": [
       "<table>\n",
       "<thead><tr><th></th><th scope=col>vars</th><th scope=col>n</th><th scope=col>mean</th><th scope=col>sd</th><th scope=col>median</th><th scope=col>trimmed</th><th scope=col>mad</th><th scope=col>min</th><th scope=col>max</th><th scope=col>range</th><th scope=col>skew</th><th scope=col>kurtosis</th><th scope=col>se</th></tr></thead>\n",
       "<tbody>\n",
       "\t<tr><th scope=row>X1</th><td>1        </td><td>1138     </td><td>137.1977 </td><td>18.58658 </td><td>134.5    </td><td>136.2522 </td><td>18.5325  </td><td>91.5     </td><td>204.5    </td><td>113      </td><td>0.5311468</td><td>0.220753 </td><td>0.5509704</td></tr>\n",
       "</tbody>\n",
       "</table>\n"
      ],
      "text/latex": [
       "\\begin{tabular}{r|lllllllllllll}\n",
       "  & vars & n & mean & sd & median & trimmed & mad & min & max & range & skew & kurtosis & se\\\\\n",
       "\\hline\n",
       "\tX1 & 1         & 1138      & 137.1977  & 18.58658  & 134.5     & 136.2522  & 18.5325   & 91.5      & 204.5     & 113       & 0.5311468 & 0.220753  & 0.5509704\\\\\n",
       "\\end{tabular}\n"
      ],
      "text/markdown": [
       "\n",
       "| <!--/--> | vars | n | mean | sd | median | trimmed | mad | min | max | range | skew | kurtosis | se |\n",
       "|---|---|---|---|---|---|---|---|---|---|---|---|---|---|\n",
       "| X1 | 1         | 1138      | 137.1977  | 18.58658  | 134.5     | 136.2522  | 18.5325   | 91.5      | 204.5     | 113       | 0.5311468 | 0.220753  | 0.5509704 |\n",
       "\n"
      ],
      "text/plain": [
       "   vars n    mean     sd       median trimmed  mad     min  max   range\n",
       "X1 1    1138 137.1977 18.58658 134.5  136.2522 18.5325 91.5 204.5 113  \n",
       "   skew      kurtosis se       \n",
       "X1 0.5311468 0.220753 0.5509704"
      ]
     },
     "metadata": {},
     "output_type": "display_data"
    },
    {
     "data": {
      "text/html": [
       "<table>\n",
       "<thead><tr><th></th><th scope=col>vars</th><th scope=col>n</th><th scope=col>mean</th><th scope=col>sd</th><th scope=col>median</th><th scope=col>trimmed</th><th scope=col>mad</th><th scope=col>min</th><th scope=col>max</th><th scope=col>range</th><th scope=col>skew</th><th scope=col>kurtosis</th><th scope=col>se</th></tr></thead>\n",
       "<tbody>\n",
       "\t<tr><th scope=row>X1</th><td>1        </td><td>1138     </td><td>82.45782 </td><td>10.25369 </td><td>82       </td><td>82.30263 </td><td>9.6369   </td><td>48       </td><td>118.5    </td><td>70.5     </td><td>0.2016658</td><td>0.2175487</td><td>0.3039547</td></tr>\n",
       "</tbody>\n",
       "</table>\n"
      ],
      "text/latex": [
       "\\begin{tabular}{r|lllllllllllll}\n",
       "  & vars & n & mean & sd & median & trimmed & mad & min & max & range & skew & kurtosis & se\\\\\n",
       "\\hline\n",
       "\tX1 & 1         & 1138      & 82.45782  & 10.25369  & 82        & 82.30263  & 9.6369    & 48        & 118.5     & 70.5      & 0.2016658 & 0.2175487 & 0.3039547\\\\\n",
       "\\end{tabular}\n"
      ],
      "text/markdown": [
       "\n",
       "| <!--/--> | vars | n | mean | sd | median | trimmed | mad | min | max | range | skew | kurtosis | se |\n",
       "|---|---|---|---|---|---|---|---|---|---|---|---|---|---|\n",
       "| X1 | 1         | 1138      | 82.45782  | 10.25369  | 82        | 82.30263  | 9.6369    | 48        | 118.5     | 70.5      | 0.2016658 | 0.2175487 | 0.3039547 |\n",
       "\n"
      ],
      "text/plain": [
       "   vars n    mean     sd       median trimmed  mad    min max   range skew     \n",
       "X1 1    1138 82.45782 10.25369 82     82.30263 9.6369 48  118.5 70.5  0.2016658\n",
       "   kurtosis  se       \n",
       "X1 0.2175487 0.3039547"
      ]
     },
     "metadata": {},
     "output_type": "display_data"
    },
    {
     "data": {
      "text/plain": [
       "\n",
       "         0          1 \n",
       "0.90773286 0.09226714 "
      ]
     },
     "metadata": {},
     "output_type": "display_data"
    },
    {
     "data": {
      "text/plain": [
       "\n",
       "        0         1 \n",
       "0.5834798 0.4165202 "
      ]
     },
     "metadata": {},
     "output_type": "display_data"
    },
    {
     "data": {
      "text/plain": [
       "\n",
       "   FALSE     TRUE \n",
       "0.698594 0.301406 "
      ]
     },
     "metadata": {},
     "output_type": "display_data"
    },
    {
     "data": {
      "text/plain": [
       "\n",
       "         0          1 \n",
       "0.98418278 0.01581722 "
      ]
     },
     "metadata": {},
     "output_type": "display_data"
    },
    {
     "data": {
      "text/html": [
       "<table>\n",
       "<thead><tr><th></th><th scope=col>vars</th><th scope=col>n</th><th scope=col>mean</th><th scope=col>sd</th><th scope=col>median</th><th scope=col>trimmed</th><th scope=col>mad</th><th scope=col>min</th><th scope=col>max</th><th scope=col>range</th><th scope=col>skew</th><th scope=col>kurtosis</th><th scope=col>se</th></tr></thead>\n",
       "<tbody>\n",
       "\t<tr><th scope=row>X1</th><td>1       </td><td>1138    </td><td>28.40323</td><td>5.152065</td><td>27.54255</td><td>27.94259</td><td>4.424523</td><td>16.2785 </td><td>56.263  </td><td>39.9845 </td><td>1.026756</td><td>1.806507</td><td>0.152725</td></tr>\n",
       "</tbody>\n",
       "</table>\n"
      ],
      "text/latex": [
       "\\begin{tabular}{r|lllllllllllll}\n",
       "  & vars & n & mean & sd & median & trimmed & mad & min & max & range & skew & kurtosis & se\\\\\n",
       "\\hline\n",
       "\tX1 & 1        & 1138     & 28.40323 & 5.152065 & 27.54255 & 27.94259 & 4.424523 & 16.2785  & 56.263   & 39.9845  & 1.026756 & 1.806507 & 0.152725\\\\\n",
       "\\end{tabular}\n"
      ],
      "text/markdown": [
       "\n",
       "| <!--/--> | vars | n | mean | sd | median | trimmed | mad | min | max | range | skew | kurtosis | se |\n",
       "|---|---|---|---|---|---|---|---|---|---|---|---|---|---|\n",
       "| X1 | 1        | 1138     | 28.40323 | 5.152065 | 27.54255 | 27.94259 | 4.424523 | 16.2785  | 56.263   | 39.9845  | 1.026756 | 1.806507 | 0.152725 |\n",
       "\n"
      ],
      "text/plain": [
       "   vars n    mean     sd       median   trimmed  mad      min     max   \n",
       "X1 1    1138 28.40323 5.152065 27.54255 27.94259 4.424523 16.2785 56.263\n",
       "   range   skew     kurtosis se      \n",
       "X1 39.9845 1.026756 1.806507 0.152725"
      ]
     },
     "metadata": {},
     "output_type": "display_data"
    },
    {
     "data": {
      "text/plain": [
       "\n",
       "         0          1 \n",
       "0.97539543 0.02460457 "
      ]
     },
     "metadata": {},
     "output_type": "display_data"
    },
    {
     "data": {
      "text/plain": [
       "\n",
       "        0         1 \n",
       "0.7469244 0.2530756 "
      ]
     },
     "metadata": {},
     "output_type": "display_data"
    },
    {
     "data": {
      "text/plain": [
       "\n",
       "        0         1 \n",
       "0.8506151 0.1493849 "
      ]
     },
     "metadata": {},
     "output_type": "display_data"
    },
    {
     "data": {
      "text/plain": [
       "\n",
       "         0          1 \n",
       "0.92355009 0.07644991 "
      ]
     },
     "metadata": {},
     "output_type": "display_data"
    }
   ],
   "source": [
    "char_pos=merge(COVinf, covidinf, by='eid', all.x=TRUE)\n",
    "char_pos=char_pos[char_pos$result.x==1,]\n",
    "char=char_pos\n",
    "table(char$result.x)/nrow(COVinf)\n",
    "describe(char$year_of_birth_34.0.0.x)\n",
    "table(char$sex_31.0.0.x)/nrow(char)\n",
    "describe(char$waist_circumference_48.0.0.x)\n",
    "describe(char$glycated_haemoglobin_hba1c_30750.0.0.x)\n",
    "describe(char$c.reactive_protein_30710.0.0)\n",
    "describe(char$glucose_30740.0.0.x)\n",
    "describe(char$hdl_cholesterol_30760.0.0.x)\n",
    "describe(char$triglycerides_30870.0.0)\n",
    "describe((rowMeans(cbind(char$systolic_blood_pressure_automated_reading_4080.0.0,\n",
    "                                      char$systolic_blood_pressure_automated_reading_4080.0.1))))\n",
    "describe(rowMeans(cbind(char$diastolic_blood_pressure_automated_reading_4079.0.0,\n",
    "                                       char$diastolic_blood_pressure_automated_reading_4079.0.1)))\n",
    "table(char$Diabetes.x)/nrow(char)\n",
    "table(char$Hypertension.x)/nrow(char) \n",
    "table(char$body_mass_index_bmi_21001.0.0.x>30)/nrow(char) \n",
    "table(char$metabolic_syndrome)/nrow(char) \n",
    "describe(char$body_mass_index_bmi_21001.0.0.x)\n",
    "table(char$liver_disease.x)/nrow(char) \n",
    "table(char$pulmonary_disease.x)/nrow(char) \n",
    "table(char$cardiovascular_disease.x)/nrow(char) \n",
    "table(char$kidney_disease.x)/nrow(char) "
   ]
  },
  {
   "cell_type": "markdown",
   "metadata": {},
   "source": [
    "### SARS-CoV-2 negative"
   ]
  },
  {
   "cell_type": "code",
   "execution_count": 11,
   "metadata": {},
   "outputs": [
    {
     "data": {
      "text/plain": [
       "\n",
       "        0 \n",
       "0.9101035 "
      ]
     },
     "metadata": {},
     "output_type": "display_data"
    },
    {
     "data": {
      "text/html": [
       "<table>\n",
       "<thead><tr><th></th><th scope=col>vars</th><th scope=col>n</th><th scope=col>mean</th><th scope=col>sd</th><th scope=col>median</th><th scope=col>trimmed</th><th scope=col>mad</th><th scope=col>min</th><th scope=col>max</th><th scope=col>range</th><th scope=col>skew</th><th scope=col>kurtosis</th><th scope=col>se</th></tr></thead>\n",
       "<tbody>\n",
       "\t<tr><th scope=row>X1</th><td>1         </td><td>11521     </td><td>1950.016  </td><td>8.128044  </td><td>1948      </td><td>1949.422  </td><td>8.8956    </td><td>1937      </td><td>1970      </td><td>33        </td><td>0.5581258 </td><td>-0.7645892</td><td>0.07572529</td></tr>\n",
       "</tbody>\n",
       "</table>\n"
      ],
      "text/latex": [
       "\\begin{tabular}{r|lllllllllllll}\n",
       "  & vars & n & mean & sd & median & trimmed & mad & min & max & range & skew & kurtosis & se\\\\\n",
       "\\hline\n",
       "\tX1 & 1          & 11521      & 1950.016   & 8.128044   & 1948       & 1949.422   & 8.8956     & 1937       & 1970       & 33         & 0.5581258  & -0.7645892 & 0.07572529\\\\\n",
       "\\end{tabular}\n"
      ],
      "text/markdown": [
       "\n",
       "| <!--/--> | vars | n | mean | sd | median | trimmed | mad | min | max | range | skew | kurtosis | se |\n",
       "|---|---|---|---|---|---|---|---|---|---|---|---|---|---|\n",
       "| X1 | 1          | 11521      | 1950.016   | 8.128044   | 1948       | 1949.422   | 8.8956     | 1937       | 1970       | 33         | 0.5581258  | -0.7645892 | 0.07572529 |\n",
       "\n"
      ],
      "text/plain": [
       "   vars n     mean     sd       median trimmed  mad    min  max  range\n",
       "X1 1    11521 1950.016 8.128044 1948   1949.422 8.8956 1937 1970 33   \n",
       "   skew      kurtosis   se        \n",
       "X1 0.5581258 -0.7645892 0.07572529"
      ]
     },
     "metadata": {},
     "output_type": "display_data"
    },
    {
     "data": {
      "text/plain": [
       "\n",
       "   Female      Male \n",
       "0.5232185 0.4767815 "
      ]
     },
     "metadata": {},
     "output_type": "display_data"
    },
    {
     "data": {
      "text/html": [
       "<table>\n",
       "<thead><tr><th></th><th scope=col>vars</th><th scope=col>n</th><th scope=col>mean</th><th scope=col>sd</th><th scope=col>median</th><th scope=col>trimmed</th><th scope=col>mad</th><th scope=col>min</th><th scope=col>max</th><th scope=col>range</th><th scope=col>skew</th><th scope=col>kurtosis</th><th scope=col>se</th></tr></thead>\n",
       "<tbody>\n",
       "\t<tr><th scope=row>X1</th><td>1          </td><td>11521      </td><td>92.06818   </td><td>13.68869   </td><td>92         </td><td>91.63175   </td><td>13.3434    </td><td>57         </td><td>143        </td><td>86         </td><td>0.3247418  </td><td>-0.03190711</td><td>0.1275313  </td></tr>\n",
       "</tbody>\n",
       "</table>\n"
      ],
      "text/latex": [
       "\\begin{tabular}{r|lllllllllllll}\n",
       "  & vars & n & mean & sd & median & trimmed & mad & min & max & range & skew & kurtosis & se\\\\\n",
       "\\hline\n",
       "\tX1 & 1           & 11521       & 92.06818    & 13.68869    & 92          & 91.63175    & 13.3434     & 57          & 143         & 86          & 0.3247418   & -0.03190711 & 0.1275313  \\\\\n",
       "\\end{tabular}\n"
      ],
      "text/markdown": [
       "\n",
       "| <!--/--> | vars | n | mean | sd | median | trimmed | mad | min | max | range | skew | kurtosis | se |\n",
       "|---|---|---|---|---|---|---|---|---|---|---|---|---|---|\n",
       "| X1 | 1           | 11521       | 92.06818    | 13.68869    | 92          | 91.63175    | 13.3434     | 57          | 143         | 86          | 0.3247418   | -0.03190711 | 0.1275313   |\n",
       "\n"
      ],
      "text/plain": [
       "   vars n     mean     sd       median trimmed  mad     min max range skew     \n",
       "X1 1    11521 92.06818 13.68869 92     91.63175 13.3434 57  143 86    0.3247418\n",
       "   kurtosis    se       \n",
       "X1 -0.03190711 0.1275313"
      ]
     },
     "metadata": {},
     "output_type": "display_data"
    },
    {
     "data": {
      "text/html": [
       "<table>\n",
       "<thead><tr><th></th><th scope=col>vars</th><th scope=col>n</th><th scope=col>mean</th><th scope=col>sd</th><th scope=col>median</th><th scope=col>trimmed</th><th scope=col>mad</th><th scope=col>min</th><th scope=col>max</th><th scope=col>range</th><th scope=col>skew</th><th scope=col>kurtosis</th><th scope=col>se</th></tr></thead>\n",
       "<tbody>\n",
       "\t<tr><th scope=row>X1</th><td>1        </td><td>11521    </td><td>35.76357 </td><td>4.327334 </td><td>35.5     </td><td>35.55213 </td><td>3.7065   </td><td>23.9     </td><td>53.7     </td><td>29.8     </td><td>0.6563347</td><td>1.475758 </td><td>0.0403158</td></tr>\n",
       "</tbody>\n",
       "</table>\n"
      ],
      "text/latex": [
       "\\begin{tabular}{r|lllllllllllll}\n",
       "  & vars & n & mean & sd & median & trimmed & mad & min & max & range & skew & kurtosis & se\\\\\n",
       "\\hline\n",
       "\tX1 & 1         & 11521     & 35.76357  & 4.327334  & 35.5      & 35.55213  & 3.7065    & 23.9      & 53.7      & 29.8      & 0.6563347 & 1.475758  & 0.0403158\\\\\n",
       "\\end{tabular}\n"
      ],
      "text/markdown": [
       "\n",
       "| <!--/--> | vars | n | mean | sd | median | trimmed | mad | min | max | range | skew | kurtosis | se |\n",
       "|---|---|---|---|---|---|---|---|---|---|---|---|---|---|\n",
       "| X1 | 1         | 11521     | 35.76357  | 4.327334  | 35.5      | 35.55213  | 3.7065    | 23.9      | 53.7      | 29.8      | 0.6563347 | 1.475758  | 0.0403158 |\n",
       "\n"
      ],
      "text/plain": [
       "   vars n     mean     sd       median trimmed  mad    min  max  range\n",
       "X1 1    11521 35.76357 4.327334 35.5   35.55213 3.7065 23.9 53.7 29.8 \n",
       "   skew      kurtosis se       \n",
       "X1 0.6563347 1.475758 0.0403158"
      ]
     },
     "metadata": {},
     "output_type": "display_data"
    },
    {
     "data": {
      "text/html": [
       "<table>\n",
       "<thead><tr><th></th><th scope=col>vars</th><th scope=col>n</th><th scope=col>mean</th><th scope=col>sd</th><th scope=col>median</th><th scope=col>trimmed</th><th scope=col>mad</th><th scope=col>min</th><th scope=col>max</th><th scope=col>range</th><th scope=col>skew</th><th scope=col>kurtosis</th><th scope=col>se</th></tr></thead>\n",
       "<tbody>\n",
       "\t<tr><th scope=row>X1</th><td>1         </td><td>11521     </td><td>2.836558  </td><td>4.447098  </td><td>1.49      </td><td>1.92271   </td><td>1.378818  </td><td>0.08      </td><td>71.31     </td><td>71.23     </td><td>5.364848  </td><td>43.26239  </td><td>0.04143159</td></tr>\n",
       "</tbody>\n",
       "</table>\n"
      ],
      "text/latex": [
       "\\begin{tabular}{r|lllllllllllll}\n",
       "  & vars & n & mean & sd & median & trimmed & mad & min & max & range & skew & kurtosis & se\\\\\n",
       "\\hline\n",
       "\tX1 & 1          & 11521      & 2.836558   & 4.447098   & 1.49       & 1.92271    & 1.378818   & 0.08       & 71.31      & 71.23      & 5.364848   & 43.26239   & 0.04143159\\\\\n",
       "\\end{tabular}\n"
      ],
      "text/markdown": [
       "\n",
       "| <!--/--> | vars | n | mean | sd | median | trimmed | mad | min | max | range | skew | kurtosis | se |\n",
       "|---|---|---|---|---|---|---|---|---|---|---|---|---|---|\n",
       "| X1 | 1          | 11521      | 2.836558   | 4.447098   | 1.49       | 1.92271    | 1.378818   | 0.08       | 71.31      | 71.23      | 5.364848   | 43.26239   | 0.04143159 |\n",
       "\n"
      ],
      "text/plain": [
       "   vars n     mean     sd       median trimmed mad      min  max   range\n",
       "X1 1    11521 2.836558 4.447098 1.49   1.92271 1.378818 0.08 71.31 71.23\n",
       "   skew     kurtosis se        \n",
       "X1 5.364848 43.26239 0.04143159"
      ]
     },
     "metadata": {},
     "output_type": "display_data"
    },
    {
     "data": {
      "text/html": [
       "<table>\n",
       "<thead><tr><th></th><th scope=col>vars</th><th scope=col>n</th><th scope=col>mean</th><th scope=col>sd</th><th scope=col>median</th><th scope=col>trimmed</th><th scope=col>mad</th><th scope=col>min</th><th scope=col>max</th><th scope=col>range</th><th scope=col>skew</th><th scope=col>kurtosis</th><th scope=col>se</th></tr></thead>\n",
       "<tbody>\n",
       "\t<tr><th scope=row>X1</th><td>1          </td><td>11521      </td><td>5.003087   </td><td>0.6286926  </td><td>4.937      </td><td>4.960785   </td><td>0.5070492  </td><td>3.292      </td><td>7.568      </td><td>4.276      </td><td>0.8219338  </td><td>1.662386   </td><td>0.005857243</td></tr>\n",
       "</tbody>\n",
       "</table>\n"
      ],
      "text/latex": [
       "\\begin{tabular}{r|lllllllllllll}\n",
       "  & vars & n & mean & sd & median & trimmed & mad & min & max & range & skew & kurtosis & se\\\\\n",
       "\\hline\n",
       "\tX1 & 1           & 11521       & 5.003087    & 0.6286926   & 4.937       & 4.960785    & 0.5070492   & 3.292       & 7.568       & 4.276       & 0.8219338   & 1.662386    & 0.005857243\\\\\n",
       "\\end{tabular}\n"
      ],
      "text/markdown": [
       "\n",
       "| <!--/--> | vars | n | mean | sd | median | trimmed | mad | min | max | range | skew | kurtosis | se |\n",
       "|---|---|---|---|---|---|---|---|---|---|---|---|---|---|\n",
       "| X1 | 1           | 11521       | 5.003087    | 0.6286926   | 4.937       | 4.960785    | 0.5070492   | 3.292       | 7.568       | 4.276       | 0.8219338   | 1.662386    | 0.005857243 |\n",
       "\n"
      ],
      "text/plain": [
       "   vars n     mean     sd        median trimmed  mad       min   max   range\n",
       "X1 1    11521 5.003087 0.6286926 4.937  4.960785 0.5070492 3.292 7.568 4.276\n",
       "   skew      kurtosis se         \n",
       "X1 0.8219338 1.662386 0.005857243"
      ]
     },
     "metadata": {},
     "output_type": "display_data"
    },
    {
     "data": {
      "text/html": [
       "<table>\n",
       "<thead><tr><th></th><th scope=col>vars</th><th scope=col>n</th><th scope=col>mean</th><th scope=col>sd</th><th scope=col>median</th><th scope=col>trimmed</th><th scope=col>mad</th><th scope=col>min</th><th scope=col>max</th><th scope=col>range</th><th scope=col>skew</th><th scope=col>kurtosis</th><th scope=col>se</th></tr></thead>\n",
       "<tbody>\n",
       "\t<tr><th scope=row>X1</th><td>1          </td><td>11521      </td><td>1.432801   </td><td>0.3845299  </td><td>1.381      </td><td>1.40333    </td><td>0.3647196  </td><td>0.53       </td><td>3.524      </td><td>2.994      </td><td>0.841408   </td><td>1.099048   </td><td>0.003582491</td></tr>\n",
       "</tbody>\n",
       "</table>\n"
      ],
      "text/latex": [
       "\\begin{tabular}{r|lllllllllllll}\n",
       "  & vars & n & mean & sd & median & trimmed & mad & min & max & range & skew & kurtosis & se\\\\\n",
       "\\hline\n",
       "\tX1 & 1           & 11521       & 1.432801    & 0.3845299   & 1.381       & 1.40333     & 0.3647196   & 0.53        & 3.524       & 2.994       & 0.841408    & 1.099048    & 0.003582491\\\\\n",
       "\\end{tabular}\n"
      ],
      "text/markdown": [
       "\n",
       "| <!--/--> | vars | n | mean | sd | median | trimmed | mad | min | max | range | skew | kurtosis | se |\n",
       "|---|---|---|---|---|---|---|---|---|---|---|---|---|---|\n",
       "| X1 | 1           | 11521       | 1.432801    | 0.3845299   | 1.381       | 1.40333     | 0.3647196   | 0.53        | 3.524       | 2.994       | 0.841408    | 1.099048    | 0.003582491 |\n",
       "\n"
      ],
      "text/plain": [
       "   vars n     mean     sd        median trimmed mad       min  max   range\n",
       "X1 1    11521 1.432801 0.3845299 1.381  1.40333 0.3647196 0.53 3.524 2.994\n",
       "   skew     kurtosis se         \n",
       "X1 0.841408 1.099048 0.003582491"
      ]
     },
     "metadata": {},
     "output_type": "display_data"
    },
    {
     "data": {
      "text/html": [
       "<table>\n",
       "<thead><tr><th></th><th scope=col>vars</th><th scope=col>n</th><th scope=col>mean</th><th scope=col>sd</th><th scope=col>median</th><th scope=col>trimmed</th><th scope=col>mad</th><th scope=col>min</th><th scope=col>max</th><th scope=col>range</th><th scope=col>skew</th><th scope=col>kurtosis</th><th scope=col>se</th></tr></thead>\n",
       "<tbody>\n",
       "\t<tr><th scope=row>X1</th><td>1          </td><td>11521      </td><td>1.768551   </td><td>1.015978   </td><td>1.522      </td><td>1.620799   </td><td>0.7768824  </td><td>0.272      </td><td>10.664     </td><td>10.392     </td><td>1.982265   </td><td>6.745047   </td><td>0.009465405</td></tr>\n",
       "</tbody>\n",
       "</table>\n"
      ],
      "text/latex": [
       "\\begin{tabular}{r|lllllllllllll}\n",
       "  & vars & n & mean & sd & median & trimmed & mad & min & max & range & skew & kurtosis & se\\\\\n",
       "\\hline\n",
       "\tX1 & 1           & 11521       & 1.768551    & 1.015978    & 1.522       & 1.620799    & 0.7768824   & 0.272       & 10.664      & 10.392      & 1.982265    & 6.745047    & 0.009465405\\\\\n",
       "\\end{tabular}\n"
      ],
      "text/markdown": [
       "\n",
       "| <!--/--> | vars | n | mean | sd | median | trimmed | mad | min | max | range | skew | kurtosis | se |\n",
       "|---|---|---|---|---|---|---|---|---|---|---|---|---|---|\n",
       "| X1 | 1           | 11521       | 1.768551    | 1.015978    | 1.522       | 1.620799    | 0.7768824   | 0.272       | 10.664      | 10.392      | 1.982265    | 6.745047    | 0.009465405 |\n",
       "\n"
      ],
      "text/plain": [
       "   vars n     mean     sd       median trimmed  mad       min   max    range \n",
       "X1 1    11521 1.768551 1.015978 1.522  1.620799 0.7768824 0.272 10.664 10.392\n",
       "   skew     kurtosis se         \n",
       "X1 1.982265 6.745047 0.009465405"
      ]
     },
     "metadata": {},
     "output_type": "display_data"
    },
    {
     "data": {
      "text/html": [
       "<table>\n",
       "<thead><tr><th></th><th scope=col>vars</th><th scope=col>n</th><th scope=col>mean</th><th scope=col>sd</th><th scope=col>median</th><th scope=col>trimmed</th><th scope=col>mad</th><th scope=col>min</th><th scope=col>max</th><th scope=col>range</th><th scope=col>skew</th><th scope=col>kurtosis</th><th scope=col>se</th></tr></thead>\n",
       "<tbody>\n",
       "\t<tr><th scope=row>X1</th><td>1         </td><td>11521     </td><td>138.5533  </td><td>18.55339  </td><td>137       </td><td>137.7761  </td><td>18.5325   </td><td>87        </td><td>205       </td><td>118       </td><td>0.4141962 </td><td>0.05438034</td><td>0.1728535 </td></tr>\n",
       "</tbody>\n",
       "</table>\n"
      ],
      "text/latex": [
       "\\begin{tabular}{r|lllllllllllll}\n",
       "  & vars & n & mean & sd & median & trimmed & mad & min & max & range & skew & kurtosis & se\\\\\n",
       "\\hline\n",
       "\tX1 & 1          & 11521      & 138.5533   & 18.55339   & 137        & 137.7761   & 18.5325    & 87         & 205        & 118        & 0.4141962  & 0.05438034 & 0.1728535 \\\\\n",
       "\\end{tabular}\n"
      ],
      "text/markdown": [
       "\n",
       "| <!--/--> | vars | n | mean | sd | median | trimmed | mad | min | max | range | skew | kurtosis | se |\n",
       "|---|---|---|---|---|---|---|---|---|---|---|---|---|---|\n",
       "| X1 | 1          | 11521      | 138.5533   | 18.55339   | 137        | 137.7761   | 18.5325    | 87         | 205        | 118        | 0.4141962  | 0.05438034 | 0.1728535  |\n",
       "\n"
      ],
      "text/plain": [
       "   vars n     mean     sd       median trimmed  mad     min max range skew     \n",
       "X1 1    11521 138.5533 18.55339 137    137.7761 18.5325 87  205 118   0.4141962\n",
       "   kurtosis   se       \n",
       "X1 0.05438034 0.1728535"
      ]
     },
     "metadata": {},
     "output_type": "display_data"
    },
    {
     "data": {
      "text/html": [
       "<table>\n",
       "<thead><tr><th></th><th scope=col>vars</th><th scope=col>n</th><th scope=col>mean</th><th scope=col>sd</th><th scope=col>median</th><th scope=col>trimmed</th><th scope=col>mad</th><th scope=col>min</th><th scope=col>max</th><th scope=col>range</th><th scope=col>skew</th><th scope=col>kurtosis</th><th scope=col>se</th></tr></thead>\n",
       "<tbody>\n",
       "\t<tr><th scope=row>X1</th><td>1         </td><td>11521     </td><td>82.23514  </td><td>9.935423  </td><td>82        </td><td>82.05951  </td><td>10.3782   </td><td>49        </td><td>119.5     </td><td>70.5      </td><td>0.1773649 </td><td>0.01289526</td><td>0.09256382</td></tr>\n",
       "</tbody>\n",
       "</table>\n"
      ],
      "text/latex": [
       "\\begin{tabular}{r|lllllllllllll}\n",
       "  & vars & n & mean & sd & median & trimmed & mad & min & max & range & skew & kurtosis & se\\\\\n",
       "\\hline\n",
       "\tX1 & 1          & 11521      & 82.23514   & 9.935423   & 82         & 82.05951   & 10.3782    & 49         & 119.5      & 70.5       & 0.1773649  & 0.01289526 & 0.09256382\\\\\n",
       "\\end{tabular}\n"
      ],
      "text/markdown": [
       "\n",
       "| <!--/--> | vars | n | mean | sd | median | trimmed | mad | min | max | range | skew | kurtosis | se |\n",
       "|---|---|---|---|---|---|---|---|---|---|---|---|---|---|\n",
       "| X1 | 1          | 11521      | 82.23514   | 9.935423   | 82         | 82.05951   | 10.3782    | 49         | 119.5      | 70.5       | 0.1773649  | 0.01289526 | 0.09256382 |\n",
       "\n"
      ],
      "text/plain": [
       "   vars n     mean     sd       median trimmed  mad     min max   range\n",
       "X1 1    11521 82.23514 9.935423 82     82.05951 10.3782 49  119.5 70.5 \n",
       "   skew      kurtosis   se        \n",
       "X1 0.1773649 0.01289526 0.09256382"
      ]
     },
     "metadata": {},
     "output_type": "display_data"
    },
    {
     "data": {
      "text/plain": [
       "\n",
       "         0          1 \n",
       "0.92387814 0.07612186 "
      ]
     },
     "metadata": {},
     "output_type": "display_data"
    },
    {
     "data": {
      "text/plain": [
       "\n",
       "        0         1 \n",
       "0.5767728 0.4232272 "
      ]
     },
     "metadata": {},
     "output_type": "display_data"
    },
    {
     "data": {
      "text/plain": [
       "\n",
       "    FALSE      TRUE \n",
       "0.7199028 0.2800972 "
      ]
     },
     "metadata": {},
     "output_type": "display_data"
    },
    {
     "data": {
      "text/plain": [
       "\n",
       "         0          1 \n",
       "0.98437636 0.01562364 "
      ]
     },
     "metadata": {},
     "output_type": "display_data"
    },
    {
     "data": {
      "text/html": [
       "<table>\n",
       "<thead><tr><th></th><th scope=col>vars</th><th scope=col>n</th><th scope=col>mean</th><th scope=col>sd</th><th scope=col>median</th><th scope=col>trimmed</th><th scope=col>mad</th><th scope=col>min</th><th scope=col>max</th><th scope=col>range</th><th scope=col>skew</th><th scope=col>kurtosis</th><th scope=col>se</th></tr></thead>\n",
       "<tbody>\n",
       "\t<tr><th scope=row>X1</th><td>1         </td><td>11521     </td><td>27.86858  </td><td>4.902396  </td><td>27.2392   </td><td>27.48313  </td><td>4.374263  </td><td>15.2249   </td><td>60.327    </td><td>45.1021   </td><td>0.9277503 </td><td>1.622336  </td><td>0.04567339</td></tr>\n",
       "</tbody>\n",
       "</table>\n"
      ],
      "text/latex": [
       "\\begin{tabular}{r|lllllllllllll}\n",
       "  & vars & n & mean & sd & median & trimmed & mad & min & max & range & skew & kurtosis & se\\\\\n",
       "\\hline\n",
       "\tX1 & 1          & 11521      & 27.86858   & 4.902396   & 27.2392    & 27.48313   & 4.374263   & 15.2249    & 60.327     & 45.1021    & 0.9277503  & 1.622336   & 0.04567339\\\\\n",
       "\\end{tabular}\n"
      ],
      "text/markdown": [
       "\n",
       "| <!--/--> | vars | n | mean | sd | median | trimmed | mad | min | max | range | skew | kurtosis | se |\n",
       "|---|---|---|---|---|---|---|---|---|---|---|---|---|---|\n",
       "| X1 | 1          | 11521      | 27.86858   | 4.902396   | 27.2392    | 27.48313   | 4.374263   | 15.2249    | 60.327     | 45.1021    | 0.9277503  | 1.622336   | 0.04567339 |\n",
       "\n"
      ],
      "text/plain": [
       "   vars n     mean     sd       median  trimmed  mad      min     max   \n",
       "X1 1    11521 27.86858 4.902396 27.2392 27.48313 4.374263 15.2249 60.327\n",
       "   range   skew      kurtosis se        \n",
       "X1 45.1021 0.9277503 1.622336 0.04567339"
      ]
     },
     "metadata": {},
     "output_type": "display_data"
    },
    {
     "data": {
      "text/plain": [
       "\n",
       "        0         1 \n",
       "0.9737002 0.0262998 "
      ]
     },
     "metadata": {},
     "output_type": "display_data"
    },
    {
     "data": {
      "text/plain": [
       "\n",
       "       0        1 \n",
       "0.747765 0.252235 "
      ]
     },
     "metadata": {},
     "output_type": "display_data"
    },
    {
     "data": {
      "text/plain": [
       "\n",
       "        0         1 \n",
       "0.8377745 0.1622255 "
      ]
     },
     "metadata": {},
     "output_type": "display_data"
    },
    {
     "data": {
      "text/plain": [
       "\n",
       "         0          1 \n",
       "0.93142956 0.06857044 "
      ]
     },
     "metadata": {},
     "output_type": "display_data"
    }
   ],
   "source": [
    "char_neg=merge(COVinf, covidinf, by='eid', all.x=TRUE)\n",
    "char_neg=char_neg[char_neg$result.x==0,]\n",
    "char=char_neg\n",
    "table(char$result.x)/nrow(COVinf)\n",
    "describe(char$year_of_birth_34.0.0.x)\n",
    "table(char$sex_31.0.0.x)/nrow(char)\n",
    "describe(char$waist_circumference_48.0.0.x)\n",
    "describe(char$glycated_haemoglobin_hba1c_30750.0.0.x)\n",
    "describe(char$c.reactive_protein_30710.0.0)\n",
    "describe(char$glucose_30740.0.0.x)\n",
    "describe(char$hdl_cholesterol_30760.0.0.x)\n",
    "describe(char$triglycerides_30870.0.0)\n",
    "describe((rowMeans(cbind(char$systolic_blood_pressure_automated_reading_4080.0.0,\n",
    "                                      char$systolic_blood_pressure_automated_reading_4080.0.1))))\n",
    "describe(rowMeans(cbind(char$diastolic_blood_pressure_automated_reading_4079.0.0,\n",
    "                                       char$diastolic_blood_pressure_automated_reading_4079.0.1)))\n",
    "table(char$Diabetes.x)/nrow(char)\n",
    "table(char$Hypertension.x)/nrow(char) \n",
    "table(char$body_mass_index_bmi_21001.0.0.x>30)/nrow(char) \n",
    "table(char$metabolic_syndrome)/nrow(char) \n",
    "describe(char$body_mass_index_bmi_21001.0.0.x)\n",
    "table(char$liver_disease.x)/nrow(char) \n",
    "table(char$pulmonary_disease.x)/nrow(char) \n",
    "table(char$cardiovascular_disease.x)/nrow(char) \n",
    "table(char$kidney_disease.x)/nrow(char) "
   ]
  },
  {
   "cell_type": "code",
   "execution_count": 12,
   "metadata": {},
   "outputs": [
    {
     "data": {
      "text/plain": [
       "\n",
       "\tWelch Two Sample t-test\n",
       "\n",
       "data:  char_pos$waist_circumference_48.0.0.x and char_neg$waist_circumference_48.0.0.x\n",
       "t = 3.0545, df = 1364.3, p-value = 0.002298\n",
       "alternative hypothesis: true difference in means is not equal to 0\n",
       "95 percent confidence interval:\n",
       " 0.471069 2.162338\n",
       "sample estimates:\n",
       "mean of x mean of y \n",
       " 93.38489  92.06818 \n"
      ]
     },
     "metadata": {},
     "output_type": "display_data"
    },
    {
     "data": {
      "text/plain": [
       "\n",
       "\tWelch Two Sample t-test\n",
       "\n",
       "data:  char_pos$glycated_haemoglobin_hba1c_30750.0.0.x and char_neg$glycated_haemoglobin_hba1c_30750.0.0.x\n",
       "t = 0.47151, df = 1352.6, p-value = 0.6374\n",
       "alternative hypothesis: true difference in means is not equal to 0\n",
       "95 percent confidence interval:\n",
       " -0.2078938  0.3394515\n",
       "sample estimates:\n",
       "mean of x mean of y \n",
       " 35.82935  35.76357 \n"
      ]
     },
     "metadata": {},
     "output_type": "display_data"
    },
    {
     "data": {
      "text/plain": [
       "\n",
       "\tWelch Two Sample t-test\n",
       "\n",
       "data:  char_pos$c.reactive_protein_30710.0.0 and char_neg$c.reactive_protein_30710.0.0\n",
       "t = 1.0208, df = 1304.6, p-value = 0.3075\n",
       "alternative hypothesis: true difference in means is not equal to 0\n",
       "95 percent confidence interval:\n",
       " -0.1509954  0.4786166\n",
       "sample estimates:\n",
       "mean of x mean of y \n",
       " 3.000369  2.836558 \n"
      ]
     },
     "metadata": {},
     "output_type": "display_data"
    },
    {
     "data": {
      "text/plain": [
       "\n",
       "\tWelch Two Sample t-test\n",
       "\n",
       "data:  char_pos$glucose_30740.0.0.x and char_neg$glucose_30740.0.0.x\n",
       "t = -0.99934, df = 1365, p-value = 0.3178\n",
       "alternative hypothesis: true difference in means is not equal to 0\n",
       "95 percent confidence interval:\n",
       " -0.05855184  0.01902974\n",
       "sample estimates:\n",
       "mean of x mean of y \n",
       " 4.983326  5.003087 \n"
      ]
     },
     "metadata": {},
     "output_type": "display_data"
    },
    {
     "data": {
      "text/plain": [
       "\n",
       "\tWelch Two Sample t-test\n",
       "\n",
       "data:  char_pos$hdl_cholesterol_30760.0.0.x and char_neg$hdl_cholesterol_30760.0.0.x\n",
       "t = -6.5778, df = 1434.4, p-value = 6.67e-11\n",
       "alternative hypothesis: true difference in means is not equal to 0\n",
       "95 percent confidence interval:\n",
       " -0.09209247 -0.04978292\n",
       "sample estimates:\n",
       "mean of x mean of y \n",
       " 1.361864  1.432801 \n"
      ]
     },
     "metadata": {},
     "output_type": "display_data"
    },
    {
     "data": {
      "text/plain": [
       "\n",
       "\tWelch Two Sample t-test\n",
       "\n",
       "data:  char_pos$triglycerides_30870.0.0 and char_neg$triglycerides_30870.0.0\n",
       "t = 0.60567, df = 1360.3, p-value = 0.5448\n",
       "alternative hypothesis: true difference in means is not equal to 0\n",
       "95 percent confidence interval:\n",
       " -0.04373142  0.08279656\n",
       "sample estimates:\n",
       "mean of x mean of y \n",
       " 1.788083  1.768551 \n"
      ]
     },
     "metadata": {},
     "output_type": "display_data"
    },
    {
     "data": {
      "text/plain": [
       "\n",
       "\tWelch Two Sample t-test\n",
       "\n",
       "data:  char_pos$systolicBP.x and char_neg$systolicBP.x\n",
       "t = -2.3476, df = 1370.5, p-value = 0.01904\n",
       "alternative hypothesis: true difference in means is not equal to 0\n",
       "95 percent confidence interval:\n",
       " -0.13375621 -0.01197825\n",
       "sample estimates:\n",
       "    mean of x     mean of y \n",
       "-0.0730285201 -0.0001612903 \n"
      ]
     },
     "metadata": {},
     "output_type": "display_data"
    },
    {
     "data": {
      "text/plain": [
       "\n",
       "\tWelch Two Sample t-test\n",
       "\n",
       "data:  char_pos$diastolicBP.x and char_neg$diastolicBP.x\n",
       "t = 0.70085, df = 1356.5, p-value = 0.4835\n",
       "alternative hypothesis: true difference in means is not equal to 0\n",
       "95 percent confidence interval:\n",
       " -0.03978550  0.08401471\n",
       "sample estimates:\n",
       "  mean of x   mean of y \n",
       "0.026193455 0.004078849 \n"
      ]
     },
     "metadata": {},
     "output_type": "display_data"
    },
    {
     "data": {
      "text/plain": [
       "\n",
       "\tPearson's Chi-squared test with Yates' continuity correction\n",
       "\n",
       "data:  rbind(table(char_pos$sex_31.0.0.x), table(char_neg$sex_31.0.0.x))\n",
       "X-squared = 10.001, df = 1, p-value = 0.001565\n"
      ]
     },
     "metadata": {},
     "output_type": "display_data"
    },
    {
     "data": {
      "text/plain": [
       "\n",
       "\tPearson's Chi-squared test with Yates' continuity correction\n",
       "\n",
       "data:  rbind(table(char_pos$Diabetes.x), table(char_neg$Diabetes.x))\n",
       "X-squared = 3.5507, df = 1, p-value = 0.05952\n"
      ]
     },
     "metadata": {},
     "output_type": "display_data"
    },
    {
     "data": {
      "text/plain": [
       "\n",
       "\tPearson's Chi-squared test with Yates' continuity correction\n",
       "\n",
       "data:  rbind(table(char_pos$Hypertension.x), table(char_neg$Hypertension.x))\n",
       "X-squared = 0.16443, df = 1, p-value = 0.6851\n"
      ]
     },
     "metadata": {},
     "output_type": "display_data"
    },
    {
     "data": {
      "text/plain": [
       "\n",
       "\tPearson's Chi-squared test with Yates' continuity correction\n",
       "\n",
       "data:  rbind(table(char_pos$metabolic_syndrome), table(char_neg$metabolic_syndrome))\n",
       "X-squared = 1.8235e-29, df = 1, p-value = 1\n"
      ]
     },
     "metadata": {},
     "output_type": "display_data"
    },
    {
     "data": {
      "text/plain": [
       "\n",
       "\tWelch Two Sample t-test\n",
       "\n",
       "data:  char_pos$year_of_birth_34.0.0.x and char_neg$year_of_birth_34.0.0.x\n",
       "t = 8.1426, df = 1321.3, p-value = 8.864e-16\n",
       "alternative hypothesis: true difference in means is not equal to 0\n",
       "95 percent confidence interval:\n",
       " 1.736620 2.839002\n",
       "sample estimates:\n",
       "mean of x mean of y \n",
       " 1952.304  1950.016 \n"
      ]
     },
     "metadata": {},
     "output_type": "display_data"
    },
    {
     "data": {
      "text/plain": [
       "\n",
       "\tWelch Two Sample t-test\n",
       "\n",
       "data:  char_pos$body_mass_index_bmi_21001.0.0.x and char_neg$body_mass_index_bmi_21001.0.0.x\n",
       "t = 3.354, df = 1348.4, p-value = 0.0008186\n",
       "alternative hypothesis: true difference in means is not equal to 0\n",
       "95 percent confidence interval:\n",
       " 0.2219404 0.8473707\n",
       "sample estimates:\n",
       "mean of x mean of y \n",
       " 28.40323  27.86858 \n"
      ]
     },
     "metadata": {},
     "output_type": "display_data"
    },
    {
     "data": {
      "text/plain": [
       "\n",
       "\tPearson's Chi-squared test with Yates' continuity correction\n",
       "\n",
       "data:  rbind(table(char_pos$pulmonary_disease.x), table(char_neg$pulmonary_disease.x))\n",
       "X-squared = 0.00070267, df = 1, p-value = 0.9789\n"
      ]
     },
     "metadata": {},
     "output_type": "display_data"
    },
    {
     "data": {
      "text/plain": [
       "\n",
       "\tPearson's Chi-squared test with Yates' continuity correction\n",
       "\n",
       "data:  rbind(table(char_pos$cardiovascular_disease.x), table(char_neg$cardiovascular_disease.x))\n",
       "X-squared = 1.1705, df = 1, p-value = 0.2793\n"
      ]
     },
     "metadata": {},
     "output_type": "display_data"
    },
    {
     "data": {
      "text/plain": [
       "\n",
       "\tPearson's Chi-squared test with Yates' continuity correction\n",
       "\n",
       "data:  rbind(table(char_pos$kidney_disease.x), table(char_neg$kidney_disease.x))\n",
       "X-squared = 0.8788, df = 1, p-value = 0.3485\n"
      ]
     },
     "metadata": {},
     "output_type": "display_data"
    },
    {
     "data": {
      "text/plain": [
       "\n",
       "\tPearson's Chi-squared test with Yates' continuity correction\n",
       "\n",
       "data:  rbind(table(char_pos$liver_disease.x), table(char_neg$liver_disease.x))\n",
       "X-squared = 0.059793, df = 1, p-value = 0.8068\n"
      ]
     },
     "metadata": {},
     "output_type": "display_data"
    },
    {
     "data": {
      "text/plain": [
       "\n",
       "\tPearson's Chi-squared test with Yates' continuity correction\n",
       "\n",
       "data:  rbind(table(char_pos$body_mass_index_bmi_21001.0.0.x > 30), table(char_neg$body_mass_index_bmi_21001.0.0.x >     30))\n",
       "X-squared = 2.2185, df = 1, p-value = 0.1364\n"
      ]
     },
     "metadata": {},
     "output_type": "display_data"
    }
   ],
   "source": [
    "t.test(char_pos$waist_circumference_48.0.0.x,char_neg$waist_circumference_48.0.0.x)\n",
    "t.test(char_pos$glycated_haemoglobin_hba1c_30750.0.0.x,char_neg$glycated_haemoglobin_hba1c_30750.0.0.x)\n",
    "t.test(char_pos$c.reactive_protein_30710.0.0,char_neg$c.reactive_protein_30710.0.0)\n",
    "t.test(char_pos$glucose_30740.0.0.x,char_neg$glucose_30740.0.0.x)\n",
    "t.test(char_pos$hdl_cholesterol_30760.0.0.x,char_neg$hdl_cholesterol_30760.0.0.x)\n",
    "t.test(char_pos$triglycerides_30870.0.0,char_neg$triglycerides_30870.0.0)\n",
    "t.test(char_pos$systolicBP.x,char_neg$systolicBP.x)\n",
    "t.test(char_pos$diastolicBP.x,char_neg$diastolicBP.x)\n",
    "chisq.test(rbind(table(char_pos$sex_31.0.0.x),table(char_neg$sex_31.0.0.x)))\n",
    "chisq.test(rbind(table(char_pos$Diabetes.x),table(char_neg$Diabetes.x)))\n",
    "chisq.test(rbind(table(char_pos$Hypertension.x),table(char_neg$Hypertension.x)))\n",
    "chisq.test(rbind(table(char_pos$metabolic_syndrome),table(char_neg$metabolic_syndrome)))\n",
    "t.test(char_pos$year_of_birth_34.0.0.x,char_neg$year_of_birth_34.0.0.x)\n",
    "t.test(char_pos$body_mass_index_bmi_21001.0.0.x,char_neg$body_mass_index_bmi_21001.0.0.x)\n",
    "chisq.test(rbind(table(char_pos$pulmonary_disease.x),table(char_neg$pulmonary_disease.x)))\n",
    "chisq.test(rbind(table(char_pos$cardiovascular_disease.x),table(char_neg$cardiovascular_disease.x)))\n",
    "chisq.test(rbind(table(char_pos$kidney_disease.x),table(char_neg$kidney_disease.x)))\n",
    "chisq.test(rbind(table(char_pos$liver_disease.x),table(char_neg$liver_disease.x)))\n",
    "chisq.test(rbind(table(char_pos$body_mass_index_bmi_21001.0.0.x>30),table(char_neg$body_mass_index_bmi_21001.0.0.x>30)))\n"
   ]
  },
  {
   "cell_type": "markdown",
   "metadata": {},
   "source": [
    "## CFA"
   ]
  },
  {
   "cell_type": "code",
   "execution_count": 13,
   "metadata": {},
   "outputs": [
    {
     "name": "stdout",
     "output_type": "stream",
     "text": [
      "lavaan 0.6-7 ended normally after 47 iterations\n",
      "\n",
      "  Estimator                                         ML\n",
      "  Optimization method                           NLMINB\n",
      "  Number of free parameters                         23\n",
      "                                                      \n",
      "  Number of observations                         12659\n",
      "                                                      \n",
      "Model Test User Model:\n",
      "                                              Standard      Robust\n",
      "  Test Statistic                              1768.335    1664.406\n",
      "  Degrees of freedom                                32          32\n",
      "  P-value (Chi-square)                           0.000       0.000\n",
      "  Scaling correction factor                                  1.062\n",
      "       Satorra-Bentler correction                                 \n",
      "\n",
      "Model Test Baseline Model:\n",
      "\n",
      "  Test statistic                             25683.947   22785.971\n",
      "  Degrees of freedom                                45          45\n",
      "  P-value                                        0.000       0.000\n",
      "  Scaling correction factor                                  1.127\n",
      "\n",
      "User Model versus Baseline Model:\n",
      "\n",
      "  Comparative Fit Index (CFI)                    0.932       0.928\n",
      "  Tucker-Lewis Index (TLI)                       0.905       0.899\n",
      "                                                                  \n",
      "  Robust Comparative Fit Index (CFI)                         0.932\n",
      "  Robust Tucker-Lewis Index (TLI)                            0.905\n",
      "\n",
      "Loglikelihood and Information Criteria:\n",
      "\n",
      "  Loglikelihood user model (H0)            -140186.010 -140186.010\n",
      "  Loglikelihood unrestricted model (H1)    -139301.842 -139301.842\n",
      "                                                                  \n",
      "  Akaike (AIC)                              280418.020  280418.020\n",
      "  Bayesian (BIC)                            280589.281  280589.281\n",
      "  Sample-size adjusted Bayesian (BIC)       280516.189  280516.189\n",
      "\n",
      "Root Mean Square Error of Approximation:\n",
      "\n",
      "  RMSEA                                          0.065       0.063\n",
      "  90 Percent confidence interval - lower         0.063       0.061\n",
      "  90 Percent confidence interval - upper         0.068       0.066\n",
      "  P-value RMSEA <= 0.05                          0.000       0.000\n",
      "                                                                  \n",
      "  Robust RMSEA                                               0.065\n",
      "  90 Percent confidence interval - lower                     0.063\n",
      "  90 Percent confidence interval - upper                     0.068\n",
      "\n",
      "Standardized Root Mean Square Residual:\n",
      "\n",
      "  SRMR                                           0.040       0.040\n",
      "\n",
      "Parameter Estimates:\n",
      "\n",
      "  Standard errors                           Robust.sem\n",
      "  Information                                 Expected\n",
      "  Information saturated (h1) model          Structured\n",
      "\n",
      "Latent Variables:\n",
      "                        Estimate  Std.Err  z-value  P(>|z|)   Std.lv  Std.all\n",
      "  HypertensionLatent =~                                                      \n",
      "    diastolcBP             1.000                               0.411    0.415\n",
      "    systolicBP             1.202    0.027   43.784    0.000    0.494    0.495\n",
      "    Hypertensn             0.816    0.036   22.927    0.000    0.335    0.679\n",
      "  DiabetesLatent =~                                                          \n",
      "    HbA1c                  1.000                               0.680    0.706\n",
      "    glucose                0.502    0.021   23.411    0.000    0.342    0.352\n",
      "    Diabetes               0.224    0.008   28.475    0.000    0.153    0.570\n",
      "  DysL =~                                                                    \n",
      "    TG         (a)         1.000                               0.673    0.678\n",
      "    HDL        (a)         1.000                               0.673    0.690\n",
      "  MetS =~                                                                    \n",
      "    Waist                  1.000                               0.799    0.820\n",
      "    DysL                   0.622    0.014   45.173    0.000    0.738    0.738\n",
      "    HyprtnsnLt             0.269    0.012   22.587    0.000    0.522    0.522\n",
      "    DiabtsLtnt             0.414    0.013   31.548    0.000    0.486    0.486\n",
      "    CRP                    0.557    0.014   39.553    0.000    0.445    0.449\n",
      "\n",
      "Covariances:\n",
      "                   Estimate  Std.Err  z-value  P(>|z|)   Std.lv  Std.all\n",
      " .diastolicBP ~~                                                        \n",
      "   .systolicBP        0.463    0.012   39.181    0.000    0.463    0.594\n",
      "\n",
      "Variances:\n",
      "                   Estimate  Std.Err  z-value  P(>|z|)   Std.lv  Std.all\n",
      "   .diastolicBP       0.810    0.013   61.702    0.000    0.810    0.828\n",
      "   .systolicBP        0.751    0.015   51.032    0.000    0.751    0.755\n",
      "   .Hypertension      0.132    0.005   28.369    0.000    0.132    0.539\n",
      "   .HbA1c             0.467    0.015   30.327    0.000    0.467    0.502\n",
      "   .glucose           0.826    0.014   60.062    0.000    0.826    0.876\n",
      "   .Diabetes          0.048    0.001   37.061    0.000    0.048    0.675\n",
      "   .TG                0.532    0.010   55.520    0.000    0.532    0.540\n",
      "   .HDL               0.497    0.009   52.636    0.000    0.497    0.523\n",
      "   .Waist             0.312    0.012   25.027    0.000    0.312    0.328\n",
      "   .CRP               0.784    0.012   66.214    0.000    0.784    0.798\n",
      "   .HypertensnLtnt    0.123    0.008   15.940    0.000    0.727    0.727\n",
      "   .DiabetesLatent    0.354    0.016   22.754    0.000    0.764    0.764\n",
      "   .DysL              0.206    0.009   23.583    0.000    0.455    0.455\n",
      "    MetS              0.638    0.016   40.133    0.000    1.000    1.000\n",
      "\n"
     ]
    }
   ],
   "source": [
    "COVID_infection = '\n",
    "#Latent variables\n",
    "\n",
    "HypertensionLatent =~  diastolicBP + systolicBP  + Hypertension\n",
    "DiabetesLatent =~ HbA1c + glucose  + Diabetes\n",
    "DysL =~ a*TG + a*HDL\n",
    "\n",
    "MetS =~ Waist + DysL + HypertensionLatent + DiabetesLatent + CRP\n",
    "\n",
    "systolicBP ~~ diastolicBP\n",
    "'\n",
    "\n",
    "\n",
    "COVID_fitinf <- cfa(COVID_infection, data=COVinf, estimator='MLM')\n",
    "summary(COVID_fitinf, standardized=TRUE, fit.measures=T)\n",
    "#fitmeasures(WMHOB_fit) #fit indices"
   ]
  },
  {
   "cell_type": "markdown",
   "metadata": {},
   "source": [
    "## Logistic regression"
   ]
  },
  {
   "cell_type": "code",
   "execution_count": 14,
   "metadata": {
    "scrolled": true
   },
   "outputs": [
    {
     "data": {
      "text/plain": [
       "\n",
       "Call:\n",
       "glm(formula = result ~ townsend_deprivation_index_at_recruitment_189.0.0.x + \n",
       "    MetS + sex_31.0.0 + year_of_birth_34.0.0 + laboratory + spectype + \n",
       "    qualifications_6138.0.0 + smoking_status_20116.0.0 + ethnic_background_21000.0.0 + \n",
       "    average_total_household_income_before_tax_738.0.0 + pulmonary_disease + \n",
       "    kidney_disease + cardiovascular_disease + liver_disease, \n",
       "    family = binomial(link = \"logit\"), data = COVinf)\n",
       "\n",
       "Deviance Residuals: \n",
       "    Min       1Q   Median       3Q      Max  \n",
       "-1.2500  -0.4648  -0.3833  -0.3140   2.7415  \n",
       "\n",
       "Coefficients:\n",
       "                                                                                 Estimate\n",
       "(Intercept)                                                                    -7.387e+01\n",
       "townsend_deprivation_index_at_recruitment_189.0.0.x                             9.980e-02\n",
       "MetS                                                                            9.769e-02\n",
       "sex_31.0.0Male                                                                  2.159e-01\n",
       "year_of_birth_34.0.0                                                            3.662e-02\n",
       "laboratory                                                                      9.689e-03\n",
       "spectype                                                                        2.153e-02\n",
       "qualifications_6138.0.0College or University degree                            -6.816e-02\n",
       "qualifications_6138.0.0CSEs or equivalent                                       3.385e-01\n",
       "qualifications_6138.0.0None of the above                                        3.274e-01\n",
       "qualifications_6138.0.0NVQ or HND or HNC or equivalent                          2.305e-01\n",
       "qualifications_6138.0.0O levels/GCSEs or equivalent                            -2.566e-03\n",
       "qualifications_6138.0.0Other professional qualifications eg: nursing, teaching  1.955e-01\n",
       "qualifications_6138.0.0Prefer not to answer                                     1.668e-01\n",
       "smoking_status_20116.0.0Never                                                   1.322e-01\n",
       "smoking_status_20116.0.0Prefer not to answer                                    8.287e-01\n",
       "smoking_status_20116.0.0Previous                                                1.734e-01\n",
       "ethnic_background_21000.0.0Any other Asian background                          -2.684e-01\n",
       "ethnic_background_21000.0.0Any other Black background                           1.915e+00\n",
       "ethnic_background_21000.0.0Any other mixed background                          -3.851e-01\n",
       "ethnic_background_21000.0.0Any other white background                          -1.094e+00\n",
       "ethnic_background_21000.0.0Bangladeshi                                         -6.075e-01\n",
       "ethnic_background_21000.0.0Black or Black British                              -9.840e+00\n",
       "ethnic_background_21000.0.0British                                             -8.446e-01\n",
       "ethnic_background_21000.0.0Caribbean                                           -7.598e-02\n",
       "ethnic_background_21000.0.0Chinese                                              2.566e-01\n",
       "ethnic_background_21000.0.0Do not know                                         -7.250e-01\n",
       "ethnic_background_21000.0.0Indian                                              -5.965e-01\n",
       "ethnic_background_21000.0.0Irish                                               -9.849e-01\n",
       "ethnic_background_21000.0.0Other ethnic group                                  -1.713e-01\n",
       "ethnic_background_21000.0.0Pakistani                                            2.479e-02\n",
       "ethnic_background_21000.0.0Prefer not to answer                                -1.276e+00\n",
       "ethnic_background_21000.0.0White                                               -1.236e+00\n",
       "ethnic_background_21000.0.0White and Asian                                     -8.985e-01\n",
       "ethnic_background_21000.0.0White and Black African                             -8.208e-01\n",
       "ethnic_background_21000.0.0White and Black Caribbean                           -1.520e+00\n",
       "average_total_household_income_before_tax_738.0.031,000 to 51,999               6.987e-02\n",
       "average_total_household_income_before_tax_738.0.052,000 to 100,000             -1.516e-01\n",
       "average_total_household_income_before_tax_738.0.0Do not know                   -4.046e-02\n",
       "average_total_household_income_before_tax_738.0.0Greater than 100,000          -4.234e-01\n",
       "average_total_household_income_before_tax_738.0.0Less than 18,000               1.147e-01\n",
       "average_total_household_income_before_tax_738.0.0Prefer not to answer           6.012e-02\n",
       "pulmonary_disease                                                              -3.364e-03\n",
       "kidney_disease                                                                  1.947e-01\n",
       "cardiovascular_disease                                                         -1.075e-01\n",
       "liver_disease                                                                  -1.528e-01\n",
       "                                                                               Std. Error\n",
       "(Intercept)                                                                     8.484e+00\n",
       "townsend_deprivation_index_at_recruitment_189.0.0.x                             3.457e-02\n",
       "MetS                                                                            5.177e-02\n",
       "sex_31.0.0Male                                                                  7.020e-02\n",
       "year_of_birth_34.0.0                                                            4.331e-03\n",
       "laboratory                                                                      9.682e-04\n",
       "spectype                                                                        6.097e-03\n",
       "qualifications_6138.0.0College or University degree                             1.209e-01\n",
       "qualifications_6138.0.0CSEs or equivalent                                       1.551e-01\n",
       "qualifications_6138.0.0None of the above                                        1.280e-01\n",
       "qualifications_6138.0.0NVQ or HND or HNC or equivalent                          1.500e-01\n",
       "qualifications_6138.0.0O levels/GCSEs or equivalent                             1.254e-01\n",
       "qualifications_6138.0.0Other professional qualifications eg: nursing, teaching  1.652e-01\n",
       "qualifications_6138.0.0Prefer not to answer                                     2.906e-01\n",
       "smoking_status_20116.0.0Never                                                   1.032e-01\n",
       "smoking_status_20116.0.0Prefer not to answer                                    3.702e-01\n",
       "smoking_status_20116.0.0Previous                                                1.055e-01\n",
       "ethnic_background_21000.0.0Any other Asian background                           4.609e-01\n",
       "ethnic_background_21000.0.0Any other Black background                           1.448e+00\n",
       "ethnic_background_21000.0.0Any other mixed background                           6.080e-01\n",
       "ethnic_background_21000.0.0Any other white background                           3.235e-01\n",
       "ethnic_background_21000.0.0Bangladeshi                                          1.152e+00\n",
       "ethnic_background_21000.0.0Black or Black British                               1.970e+02\n",
       "ethnic_background_21000.0.0British                                              2.609e-01\n",
       "ethnic_background_21000.0.0Caribbean                                            3.408e-01\n",
       "ethnic_background_21000.0.0Chinese                                              5.929e-01\n",
       "ethnic_background_21000.0.0Do not know                                          1.112e+00\n",
       "ethnic_background_21000.0.0Indian                                               3.477e-01\n",
       "ethnic_background_21000.0.0Irish                                                3.213e-01\n",
       "ethnic_background_21000.0.0Other ethnic group                                   3.434e-01\n",
       "ethnic_background_21000.0.0Pakistani                                            4.498e-01\n",
       "ethnic_background_21000.0.0Prefer not to answer                                 6.599e-01\n",
       "ethnic_background_21000.0.0White                                                1.075e+00\n",
       "ethnic_background_21000.0.0White and Asian                                      7.952e-01\n",
       "ethnic_background_21000.0.0White and Black African                              8.068e-01\n",
       "ethnic_background_21000.0.0White and Black Caribbean                            1.084e+00\n",
       "average_total_household_income_before_tax_738.0.031,000 to 51,999               9.984e-02\n",
       "average_total_household_income_before_tax_738.0.052,000 to 100,000              1.159e-01\n",
       "average_total_household_income_before_tax_738.0.0Do not know                    1.649e-01\n",
       "average_total_household_income_before_tax_738.0.0Greater than 100,000           1.971e-01\n",
       "average_total_household_income_before_tax_738.0.0Less than 18,000               9.598e-02\n",
       "average_total_household_income_before_tax_738.0.0Prefer not to answer           1.231e-01\n",
       "pulmonary_disease                                                               7.689e-02\n",
       "kidney_disease                                                                  1.253e-01\n",
       "cardiovascular_disease                                                          9.486e-02\n",
       "liver_disease                                                                   2.053e-01\n",
       "                                                                               z value\n",
       "(Intercept)                                                                     -8.707\n",
       "townsend_deprivation_index_at_recruitment_189.0.0.x                              2.887\n",
       "MetS                                                                             1.887\n",
       "sex_31.0.0Male                                                                   3.076\n",
       "year_of_birth_34.0.0                                                             8.456\n",
       "laboratory                                                                      10.008\n",
       "spectype                                                                         3.532\n",
       "qualifications_6138.0.0College or University degree                             -0.564\n",
       "qualifications_6138.0.0CSEs or equivalent                                        2.182\n",
       "qualifications_6138.0.0None of the above                                         2.557\n",
       "qualifications_6138.0.0NVQ or HND or HNC or equivalent                           1.537\n",
       "qualifications_6138.0.0O levels/GCSEs or equivalent                             -0.020\n",
       "qualifications_6138.0.0Other professional qualifications eg: nursing, teaching   1.184\n",
       "qualifications_6138.0.0Prefer not to answer                                      0.574\n",
       "smoking_status_20116.0.0Never                                                    1.281\n",
       "smoking_status_20116.0.0Prefer not to answer                                     2.239\n",
       "smoking_status_20116.0.0Previous                                                 1.644\n",
       "ethnic_background_21000.0.0Any other Asian background                           -0.582\n",
       "ethnic_background_21000.0.0Any other Black background                            1.322\n",
       "ethnic_background_21000.0.0Any other mixed background                           -0.633\n",
       "ethnic_background_21000.0.0Any other white background                           -3.381\n",
       "ethnic_background_21000.0.0Bangladeshi                                          -0.527\n",
       "ethnic_background_21000.0.0Black or Black British                               -0.050\n",
       "ethnic_background_21000.0.0British                                              -3.238\n",
       "ethnic_background_21000.0.0Caribbean                                            -0.223\n",
       "ethnic_background_21000.0.0Chinese                                               0.433\n",
       "ethnic_background_21000.0.0Do not know                                          -0.652\n",
       "ethnic_background_21000.0.0Indian                                               -1.716\n",
       "ethnic_background_21000.0.0Irish                                                -3.065\n",
       "ethnic_background_21000.0.0Other ethnic group                                   -0.499\n",
       "ethnic_background_21000.0.0Pakistani                                             0.055\n",
       "ethnic_background_21000.0.0Prefer not to answer                                 -1.933\n",
       "ethnic_background_21000.0.0White                                                -1.149\n",
       "ethnic_background_21000.0.0White and Asian                                      -1.130\n",
       "ethnic_background_21000.0.0White and Black African                              -1.017\n",
       "ethnic_background_21000.0.0White and Black Caribbean                            -1.402\n",
       "average_total_household_income_before_tax_738.0.031,000 to 51,999                0.700\n",
       "average_total_household_income_before_tax_738.0.052,000 to 100,000              -1.308\n",
       "average_total_household_income_before_tax_738.0.0Do not know                    -0.245\n",
       "average_total_household_income_before_tax_738.0.0Greater than 100,000           -2.148\n",
       "average_total_household_income_before_tax_738.0.0Less than 18,000                1.195\n",
       "average_total_household_income_before_tax_738.0.0Prefer not to answer            0.489\n",
       "pulmonary_disease                                                               -0.044\n",
       "kidney_disease                                                                   1.554\n",
       "cardiovascular_disease                                                          -1.133\n",
       "liver_disease                                                                   -0.745\n",
       "                                                                               Pr(>|z|)\n",
       "(Intercept)                                                                     < 2e-16\n",
       "townsend_deprivation_index_at_recruitment_189.0.0.x                            0.003894\n",
       "MetS                                                                           0.059147\n",
       "sex_31.0.0Male                                                                 0.002096\n",
       "year_of_birth_34.0.0                                                            < 2e-16\n",
       "laboratory                                                                      < 2e-16\n",
       "spectype                                                                       0.000413\n",
       "qualifications_6138.0.0College or University degree                            0.572886\n",
       "qualifications_6138.0.0CSEs or equivalent                                      0.029117\n",
       "qualifications_6138.0.0None of the above                                       0.010559\n",
       "qualifications_6138.0.0NVQ or HND or HNC or equivalent                         0.124196\n",
       "qualifications_6138.0.0O levels/GCSEs or equivalent                            0.983668\n",
       "qualifications_6138.0.0Other professional qualifications eg: nursing, teaching 0.236542\n",
       "qualifications_6138.0.0Prefer not to answer                                    0.565950\n",
       "smoking_status_20116.0.0Never                                                  0.200252\n",
       "smoking_status_20116.0.0Prefer not to answer                                   0.025173\n",
       "smoking_status_20116.0.0Previous                                               0.100175\n",
       "ethnic_background_21000.0.0Any other Asian background                          0.560337\n",
       "ethnic_background_21000.0.0Any other Black background                          0.186040\n",
       "ethnic_background_21000.0.0Any other mixed background                          0.526554\n",
       "ethnic_background_21000.0.0Any other white background                          0.000723\n",
       "ethnic_background_21000.0.0Bangladeshi                                         0.597903\n",
       "ethnic_background_21000.0.0Black or Black British                              0.960155\n",
       "ethnic_background_21000.0.0British                                             0.001205\n",
       "ethnic_background_21000.0.0Caribbean                                           0.823566\n",
       "ethnic_background_21000.0.0Chinese                                             0.665207\n",
       "ethnic_background_21000.0.0Do not know                                         0.514390\n",
       "ethnic_background_21000.0.0Indian                                              0.086249\n",
       "ethnic_background_21000.0.0Irish                                               0.002174\n",
       "ethnic_background_21000.0.0Other ethnic group                                  0.617862\n",
       "ethnic_background_21000.0.0Pakistani                                           0.956046\n",
       "ethnic_background_21000.0.0Prefer not to answer                                0.053237\n",
       "ethnic_background_21000.0.0White                                               0.250556\n",
       "ethnic_background_21000.0.0White and Asian                                     0.258508\n",
       "ethnic_background_21000.0.0White and Black African                             0.308958\n",
       "ethnic_background_21000.0.0White and Black Caribbean                           0.160887\n",
       "average_total_household_income_before_tax_738.0.031,000 to 51,999              0.484028\n",
       "average_total_household_income_before_tax_738.0.052,000 to 100,000             0.190835\n",
       "average_total_household_income_before_tax_738.0.0Do not know                   0.806117\n",
       "average_total_household_income_before_tax_738.0.0Greater than 100,000          0.031675\n",
       "average_total_household_income_before_tax_738.0.0Less than 18,000              0.231913\n",
       "average_total_household_income_before_tax_738.0.0Prefer not to answer          0.625168\n",
       "pulmonary_disease                                                              0.965106\n",
       "kidney_disease                                                                 0.120213\n",
       "cardiovascular_disease                                                         0.257322\n",
       "liver_disease                                                                  0.456545\n",
       "                                                                                  \n",
       "(Intercept)                                                                    ***\n",
       "townsend_deprivation_index_at_recruitment_189.0.0.x                            ** \n",
       "MetS                                                                           .  \n",
       "sex_31.0.0Male                                                                 ** \n",
       "year_of_birth_34.0.0                                                           ***\n",
       "laboratory                                                                     ***\n",
       "spectype                                                                       ***\n",
       "qualifications_6138.0.0College or University degree                               \n",
       "qualifications_6138.0.0CSEs or equivalent                                      *  \n",
       "qualifications_6138.0.0None of the above                                       *  \n",
       "qualifications_6138.0.0NVQ or HND or HNC or equivalent                            \n",
       "qualifications_6138.0.0O levels/GCSEs or equivalent                               \n",
       "qualifications_6138.0.0Other professional qualifications eg: nursing, teaching    \n",
       "qualifications_6138.0.0Prefer not to answer                                       \n",
       "smoking_status_20116.0.0Never                                                     \n",
       "smoking_status_20116.0.0Prefer not to answer                                   *  \n",
       "smoking_status_20116.0.0Previous                                                  \n",
       "ethnic_background_21000.0.0Any other Asian background                             \n",
       "ethnic_background_21000.0.0Any other Black background                             \n",
       "ethnic_background_21000.0.0Any other mixed background                             \n",
       "ethnic_background_21000.0.0Any other white background                          ***\n",
       "ethnic_background_21000.0.0Bangladeshi                                            \n",
       "ethnic_background_21000.0.0Black or Black British                                 \n",
       "ethnic_background_21000.0.0British                                             ** \n",
       "ethnic_background_21000.0.0Caribbean                                              \n",
       "ethnic_background_21000.0.0Chinese                                                \n",
       "ethnic_background_21000.0.0Do not know                                            \n",
       "ethnic_background_21000.0.0Indian                                              .  \n",
       "ethnic_background_21000.0.0Irish                                               ** \n",
       "ethnic_background_21000.0.0Other ethnic group                                     \n",
       "ethnic_background_21000.0.0Pakistani                                              \n",
       "ethnic_background_21000.0.0Prefer not to answer                                .  \n",
       "ethnic_background_21000.0.0White                                                  \n",
       "ethnic_background_21000.0.0White and Asian                                        \n",
       "ethnic_background_21000.0.0White and Black African                                \n",
       "ethnic_background_21000.0.0White and Black Caribbean                              \n",
       "average_total_household_income_before_tax_738.0.031,000 to 51,999                 \n",
       "average_total_household_income_before_tax_738.0.052,000 to 100,000                \n",
       "average_total_household_income_before_tax_738.0.0Do not know                      \n",
       "average_total_household_income_before_tax_738.0.0Greater than 100,000          *  \n",
       "average_total_household_income_before_tax_738.0.0Less than 18,000                 \n",
       "average_total_household_income_before_tax_738.0.0Prefer not to answer             \n",
       "pulmonary_disease                                                                 \n",
       "kidney_disease                                                                    \n",
       "cardiovascular_disease                                                            \n",
       "liver_disease                                                                     \n",
       "---\n",
       "Signif. codes:  0 ‘***’ 0.001 ‘**’ 0.01 ‘*’ 0.05 ‘.’ 0.1 ‘ ’ 1\n",
       "\n",
       "(Dispersion parameter for binomial family taken to be 1)\n",
       "\n",
       "    Null deviance: 7653.6  on 12658  degrees of freedom\n",
       "Residual deviance: 7306.1  on 12613  degrees of freedom\n",
       "AIC: 7398.1\n",
       "\n",
       "Number of Fisher Scoring iterations: 10\n"
      ]
     },
     "metadata": {},
     "output_type": "display_data"
    }
   ],
   "source": [
    "### Get latent variable scores\n",
    "\n",
    "COVinf$MetS=(lavPredict(COVID_fitinf, newdata = NULL, type = \"lv\", method = \"regression\",\n",
    "           se = \"none\", acov = \"none\", label = TRUE, fsm = FALSE, \n",
    "           append.data = FALSE, assemble = FALSE,\n",
    "           level = 1L, optim.method = \"bfgs\", ETA = NULL))[,4]\n",
    "\n",
    "### Run logistic regression\n",
    "\n",
    "metsinf_logit=(glm(result ~ townsend_deprivation_index_at_recruitment_189.0.0.x + \n",
    "           MetS +\n",
    "           sex_31.0.0 +\n",
    "           year_of_birth_34.0.0 +\n",
    "           laboratory +\n",
    "           spectype +\n",
    "           qualifications_6138.0.0 + \n",
    "           smoking_status_20116.0.0 + \n",
    "           ethnic_background_21000.0.0 +\n",
    "           average_total_household_income_before_tax_738.0.0 +\n",
    "           pulmonary_disease +\n",
    "           kidney_disease + \n",
    "           cardiovascular_disease +\n",
    "           liver_disease, data=COVinf, family='binomial'(link=\"logit\")))\n",
    "\n",
    "summary(metsinf_logit)"
   ]
  },
  {
   "cell_type": "code",
   "execution_count": 15,
   "metadata": {},
   "outputs": [
    {
     "name": "stderr",
     "output_type": "stream",
     "text": [
      "Waiting for profiling to be done...\n"
     ]
    },
    {
     "data": {
      "text/html": [
       "<table>\n",
       "<thead><tr><th></th><th scope=col></th><th scope=col>2.5 %</th><th scope=col>97.5 %</th></tr></thead>\n",
       "<tbody>\n",
       "\t<tr><th scope=row>(Intercept)</th><td>8.303654e-33</td><td>5.017924e-40</td><td>1.400197e-25</td></tr>\n",
       "\t<tr><th scope=row>townsend_deprivation_index_at_recruitment_189.0.0.x</th><td>1.104948e+00</td><td>1.032271e+00</td><td>1.182116e+00</td></tr>\n",
       "\t<tr><th scope=row>MetS</th><td>1.102626e+00</td><td>9.959719e-01</td><td>1.220088e+00</td></tr>\n",
       "\t<tr><th scope=row>sex_31.0.0Male</th><td>1.241026e+00</td><td>1.081661e+00</td><td>1.424343e+00</td></tr>\n",
       "\t<tr><th scope=row>year_of_birth_34.0.0</th><td>1.037297e+00</td><td>1.028523e+00</td><td>1.046135e+00</td></tr>\n",
       "\t<tr><th scope=row>laboratory</th><td>1.009736e+00</td><td>1.007820e+00</td><td>1.011653e+00</td></tr>\n",
       "\t<tr><th scope=row>spectype</th><td>1.021766e+00</td><td>1.009486e+00</td><td>1.033913e+00</td></tr>\n",
       "\t<tr><th scope=row>qualifications_6138.0.0College or University degree</th><td>9.341118e-01</td><td>7.391403e-01</td><td>1.187729e+00</td></tr>\n",
       "\t<tr><th scope=row>qualifications_6138.0.0CSEs or equivalent</th><td>1.402866e+00</td><td>1.033600e+00</td><td>1.900124e+00</td></tr>\n",
       "\t<tr><th scope=row>qualifications_6138.0.0None of the above</th><td>1.387307e+00</td><td>1.082249e+00</td><td>1.788331e+00</td></tr>\n",
       "\t<tr><th scope=row>qualifications_6138.0.0NVQ or HND or HNC or equivalent</th><td>1.259292e+00</td><td>9.377232e-01</td><td>1.689145e+00</td></tr>\n",
       "\t<tr><th scope=row>qualifications_6138.0.0O levels/GCSEs or equivalent</th><td>9.974371e-01</td><td>7.818837e-01</td><td>1.278672e+00</td></tr>\n",
       "\t<tr><th scope=row>qualifications_6138.0.0Other professional qualifications eg: nursing, teaching</th><td>1.215921e+00</td><td>8.765958e-01</td><td>1.676481e+00</td></tr>\n",
       "\t<tr><th scope=row>qualifications_6138.0.0Prefer not to answer</th><td>1.181544e+00</td><td>6.493451e-01</td><td>2.040784e+00</td></tr>\n",
       "\t<tr><th scope=row>smoking_status_20116.0.0Never</th><td>1.141332e+00</td><td>9.348093e-01</td><td>1.401326e+00</td></tr>\n",
       "\t<tr><th scope=row>smoking_status_20116.0.0Prefer not to answer</th><td>2.290429e+00</td><td>1.051134e+00</td><td>4.548977e+00</td></tr>\n",
       "\t<tr><th scope=row>smoking_status_20116.0.0Previous</th><td>1.189400e+00</td><td>9.696079e-01</td><td>1.466628e+00</td></tr>\n",
       "\t<tr><th scope=row>ethnic_background_21000.0.0Any other Asian background</th><td>7.645872e-01</td><td>2.981883e-01</td><td>1.844516e+00</td></tr>\n",
       "\t<tr><th scope=row>ethnic_background_21000.0.0Any other Black background</th><td>6.786131e+00</td><td>2.567250e-01</td><td>1.794418e+02</td></tr>\n",
       "\t<tr><th scope=row>ethnic_background_21000.0.0Any other mixed background</th><td>6.804111e-01</td><td>1.807682e-01</td><td>2.069422e+00</td></tr>\n",
       "\t<tr><th scope=row>ethnic_background_21000.0.0Any other white background</th><td>3.350385e-01</td><td>1.779572e-01</td><td>6.357120e-01</td></tr>\n",
       "\t<tr><th scope=row>ethnic_background_21000.0.0Bangladeshi</th><td>5.447306e-01</td><td>2.682168e-02</td><td>3.908568e+00</td></tr>\n",
       "\t<tr><th scope=row>ethnic_background_21000.0.0Black or Black British</th><td>5.325926e-05</td><td>          NA</td><td>1.428130e+13</td></tr>\n",
       "\t<tr><th scope=row>ethnic_background_21000.0.0British</th><td>4.297222e-01</td><td>2.617815e-01</td><td>7.311127e-01</td></tr>\n",
       "\t<tr><th scope=row>ethnic_background_21000.0.0Caribbean</th><td>9.268316e-01</td><td>4.750317e-01</td><td>1.816167e+00</td></tr>\n",
       "\t<tr><th scope=row>ethnic_background_21000.0.0Chinese</th><td>1.292508e+00</td><td>3.710987e-01</td><td>3.936180e+00</td></tr>\n",
       "\t<tr><th scope=row>ethnic_background_21000.0.0Do not know</th><td>4.843143e-01</td><td>2.479142e-02</td><td>3.060494e+00</td></tr>\n",
       "\t<tr><th scope=row>ethnic_background_21000.0.0Indian</th><td>5.507522e-01</td><td>2.772386e-01</td><td>1.090106e+00</td></tr>\n",
       "\t<tr><th scope=row>ethnic_background_21000.0.0Irish</th><td>3.734605e-01</td><td>1.994362e-01</td><td>7.062969e-01</td></tr>\n",
       "\t<tr><th scope=row>ethnic_background_21000.0.0Other ethnic group</th><td>8.425671e-01</td><td>4.292548e-01</td><td>1.658098e+00</td></tr>\n",
       "\t<tr><th scope=row>ethnic_background_21000.0.0Pakistani</th><td>1.025100e+00</td><td>4.118620e-01</td><td>2.433625e+00</td></tr>\n",
       "\t<tr><th scope=row>ethnic_background_21000.0.0Prefer not to answer</th><td>2.792682e-01</td><td>6.211082e-02</td><td>8.977027e-01</td></tr>\n",
       "\t<tr><th scope=row>ethnic_background_21000.0.0White</th><td>2.906310e-01</td><td>1.541690e-02</td><td>1.627774e+00</td></tr>\n",
       "\t<tr><th scope=row>ethnic_background_21000.0.0White and Asian</th><td>4.071960e-01</td><td>6.082461e-02</td><td>1.605929e+00</td></tr>\n",
       "\t<tr><th scope=row>ethnic_background_21000.0.0White and Black African</th><td>4.400694e-01</td><td>6.482712e-02</td><td>1.796666e+00</td></tr>\n",
       "\t<tr><th scope=row>ethnic_background_21000.0.0White and Black Caribbean</th><td>2.186658e-01</td><td>1.149854e-02</td><td>1.259929e+00</td></tr>\n",
       "\t<tr><th scope=row>average_total_household_income_before_tax_738.0.031,000 to 51,999</th><td>1.072374e+00</td><td>8.817015e-01</td><td>1.304319e+00</td></tr>\n",
       "\t<tr><th scope=row>average_total_household_income_before_tax_738.0.052,000 to 100,000</th><td>8.593344e-01</td><td>6.837563e-01</td><td>1.077255e+00</td></tr>\n",
       "\t<tr><th scope=row>average_total_household_income_before_tax_738.0.0Do not know</th><td>9.603449e-01</td><td>6.895037e-01</td><td>1.317192e+00</td></tr>\n",
       "\t<tr><th scope=row>average_total_household_income_before_tax_738.0.0Greater than 100,000</th><td>6.548009e-01</td><td>4.386963e-01</td><td>9.518510e-01</td></tr>\n",
       "\t<tr><th scope=row>average_total_household_income_before_tax_738.0.0Less than 18,000</th><td>1.121576e+00</td><td>9.296400e-01</td><td>1.354490e+00</td></tr>\n",
       "\t<tr><th scope=row>average_total_household_income_before_tax_738.0.0Prefer not to answer</th><td>1.061963e+00</td><td>8.321613e-01</td><td>1.348583e+00</td></tr>\n",
       "\t<tr><th scope=row>pulmonary_disease</th><td>9.966419e-01</td><td>8.561083e-01</td><td>1.157354e+00</td></tr>\n",
       "\t<tr><th scope=row>kidney_disease</th><td>1.214946e+00</td><td>9.450769e-01</td><td>1.545276e+00</td></tr>\n",
       "\t<tr><th scope=row>cardiovascular_disease</th><td>8.981165e-01</td><td>7.438503e-01</td><td>1.079107e+00</td></tr>\n",
       "\t<tr><th scope=row>liver_disease</th><td>8.582670e-01</td><td>5.620863e-01</td><td>1.260487e+00</td></tr>\n",
       "</tbody>\n",
       "</table>\n"
      ],
      "text/latex": [
       "\\begin{tabular}{r|lll}\n",
       "  &  & 2.5 \\% & 97.5 \\%\\\\\n",
       "\\hline\n",
       "\t(Intercept) & 8.303654e-33 & 5.017924e-40 & 1.400197e-25\\\\\n",
       "\ttownsend\\_deprivation\\_index\\_at\\_recruitment\\_189.0.0.x & 1.104948e+00 & 1.032271e+00 & 1.182116e+00\\\\\n",
       "\tMetS & 1.102626e+00 & 9.959719e-01 & 1.220088e+00\\\\\n",
       "\tsex\\_31.0.0Male & 1.241026e+00 & 1.081661e+00 & 1.424343e+00\\\\\n",
       "\tyear\\_of\\_birth\\_34.0.0 & 1.037297e+00 & 1.028523e+00 & 1.046135e+00\\\\\n",
       "\tlaboratory & 1.009736e+00 & 1.007820e+00 & 1.011653e+00\\\\\n",
       "\tspectype & 1.021766e+00 & 1.009486e+00 & 1.033913e+00\\\\\n",
       "\tqualifications\\_6138.0.0College or University degree & 9.341118e-01 & 7.391403e-01 & 1.187729e+00\\\\\n",
       "\tqualifications\\_6138.0.0CSEs or equivalent & 1.402866e+00 & 1.033600e+00 & 1.900124e+00\\\\\n",
       "\tqualifications\\_6138.0.0None of the above & 1.387307e+00 & 1.082249e+00 & 1.788331e+00\\\\\n",
       "\tqualifications\\_6138.0.0NVQ or HND or HNC or equivalent & 1.259292e+00 & 9.377232e-01 & 1.689145e+00\\\\\n",
       "\tqualifications\\_6138.0.0O levels/GCSEs or equivalent & 9.974371e-01 & 7.818837e-01 & 1.278672e+00\\\\\n",
       "\tqualifications\\_6138.0.0Other professional qualifications eg: nursing, teaching & 1.215921e+00 & 8.765958e-01 & 1.676481e+00\\\\\n",
       "\tqualifications\\_6138.0.0Prefer not to answer & 1.181544e+00 & 6.493451e-01 & 2.040784e+00\\\\\n",
       "\tsmoking\\_status\\_20116.0.0Never & 1.141332e+00 & 9.348093e-01 & 1.401326e+00\\\\\n",
       "\tsmoking\\_status\\_20116.0.0Prefer not to answer & 2.290429e+00 & 1.051134e+00 & 4.548977e+00\\\\\n",
       "\tsmoking\\_status\\_20116.0.0Previous & 1.189400e+00 & 9.696079e-01 & 1.466628e+00\\\\\n",
       "\tethnic\\_background\\_21000.0.0Any other Asian background & 7.645872e-01 & 2.981883e-01 & 1.844516e+00\\\\\n",
       "\tethnic\\_background\\_21000.0.0Any other Black background & 6.786131e+00 & 2.567250e-01 & 1.794418e+02\\\\\n",
       "\tethnic\\_background\\_21000.0.0Any other mixed background & 6.804111e-01 & 1.807682e-01 & 2.069422e+00\\\\\n",
       "\tethnic\\_background\\_21000.0.0Any other white background & 3.350385e-01 & 1.779572e-01 & 6.357120e-01\\\\\n",
       "\tethnic\\_background\\_21000.0.0Bangladeshi & 5.447306e-01 & 2.682168e-02 & 3.908568e+00\\\\\n",
       "\tethnic\\_background\\_21000.0.0Black or Black British & 5.325926e-05 &           NA & 1.428130e+13\\\\\n",
       "\tethnic\\_background\\_21000.0.0British & 4.297222e-01 & 2.617815e-01 & 7.311127e-01\\\\\n",
       "\tethnic\\_background\\_21000.0.0Caribbean & 9.268316e-01 & 4.750317e-01 & 1.816167e+00\\\\\n",
       "\tethnic\\_background\\_21000.0.0Chinese & 1.292508e+00 & 3.710987e-01 & 3.936180e+00\\\\\n",
       "\tethnic\\_background\\_21000.0.0Do not know & 4.843143e-01 & 2.479142e-02 & 3.060494e+00\\\\\n",
       "\tethnic\\_background\\_21000.0.0Indian & 5.507522e-01 & 2.772386e-01 & 1.090106e+00\\\\\n",
       "\tethnic\\_background\\_21000.0.0Irish & 3.734605e-01 & 1.994362e-01 & 7.062969e-01\\\\\n",
       "\tethnic\\_background\\_21000.0.0Other ethnic group & 8.425671e-01 & 4.292548e-01 & 1.658098e+00\\\\\n",
       "\tethnic\\_background\\_21000.0.0Pakistani & 1.025100e+00 & 4.118620e-01 & 2.433625e+00\\\\\n",
       "\tethnic\\_background\\_21000.0.0Prefer not to answer & 2.792682e-01 & 6.211082e-02 & 8.977027e-01\\\\\n",
       "\tethnic\\_background\\_21000.0.0White & 2.906310e-01 & 1.541690e-02 & 1.627774e+00\\\\\n",
       "\tethnic\\_background\\_21000.0.0White and Asian & 4.071960e-01 & 6.082461e-02 & 1.605929e+00\\\\\n",
       "\tethnic\\_background\\_21000.0.0White and Black African & 4.400694e-01 & 6.482712e-02 & 1.796666e+00\\\\\n",
       "\tethnic\\_background\\_21000.0.0White and Black Caribbean & 2.186658e-01 & 1.149854e-02 & 1.259929e+00\\\\\n",
       "\taverage\\_total\\_household\\_income\\_before\\_tax\\_738.0.031,000 to 51,999 & 1.072374e+00 & 8.817015e-01 & 1.304319e+00\\\\\n",
       "\taverage\\_total\\_household\\_income\\_before\\_tax\\_738.0.052,000 to 100,000 & 8.593344e-01 & 6.837563e-01 & 1.077255e+00\\\\\n",
       "\taverage\\_total\\_household\\_income\\_before\\_tax\\_738.0.0Do not know & 9.603449e-01 & 6.895037e-01 & 1.317192e+00\\\\\n",
       "\taverage\\_total\\_household\\_income\\_before\\_tax\\_738.0.0Greater than 100,000 & 6.548009e-01 & 4.386963e-01 & 9.518510e-01\\\\\n",
       "\taverage\\_total\\_household\\_income\\_before\\_tax\\_738.0.0Less than 18,000 & 1.121576e+00 & 9.296400e-01 & 1.354490e+00\\\\\n",
       "\taverage\\_total\\_household\\_income\\_before\\_tax\\_738.0.0Prefer not to answer & 1.061963e+00 & 8.321613e-01 & 1.348583e+00\\\\\n",
       "\tpulmonary\\_disease & 9.966419e-01 & 8.561083e-01 & 1.157354e+00\\\\\n",
       "\tkidney\\_disease & 1.214946e+00 & 9.450769e-01 & 1.545276e+00\\\\\n",
       "\tcardiovascular\\_disease & 8.981165e-01 & 7.438503e-01 & 1.079107e+00\\\\\n",
       "\tliver\\_disease & 8.582670e-01 & 5.620863e-01 & 1.260487e+00\\\\\n",
       "\\end{tabular}\n"
      ],
      "text/markdown": [
       "\n",
       "| <!--/--> |  | 2.5 % | 97.5 % |\n",
       "|---|---|---|---|\n",
       "| (Intercept) | 8.303654e-33 | 5.017924e-40 | 1.400197e-25 |\n",
       "| townsend_deprivation_index_at_recruitment_189.0.0.x | 1.104948e+00 | 1.032271e+00 | 1.182116e+00 |\n",
       "| MetS | 1.102626e+00 | 9.959719e-01 | 1.220088e+00 |\n",
       "| sex_31.0.0Male | 1.241026e+00 | 1.081661e+00 | 1.424343e+00 |\n",
       "| year_of_birth_34.0.0 | 1.037297e+00 | 1.028523e+00 | 1.046135e+00 |\n",
       "| laboratory | 1.009736e+00 | 1.007820e+00 | 1.011653e+00 |\n",
       "| spectype | 1.021766e+00 | 1.009486e+00 | 1.033913e+00 |\n",
       "| qualifications_6138.0.0College or University degree | 9.341118e-01 | 7.391403e-01 | 1.187729e+00 |\n",
       "| qualifications_6138.0.0CSEs or equivalent | 1.402866e+00 | 1.033600e+00 | 1.900124e+00 |\n",
       "| qualifications_6138.0.0None of the above | 1.387307e+00 | 1.082249e+00 | 1.788331e+00 |\n",
       "| qualifications_6138.0.0NVQ or HND or HNC or equivalent | 1.259292e+00 | 9.377232e-01 | 1.689145e+00 |\n",
       "| qualifications_6138.0.0O levels/GCSEs or equivalent | 9.974371e-01 | 7.818837e-01 | 1.278672e+00 |\n",
       "| qualifications_6138.0.0Other professional qualifications eg: nursing, teaching | 1.215921e+00 | 8.765958e-01 | 1.676481e+00 |\n",
       "| qualifications_6138.0.0Prefer not to answer | 1.181544e+00 | 6.493451e-01 | 2.040784e+00 |\n",
       "| smoking_status_20116.0.0Never | 1.141332e+00 | 9.348093e-01 | 1.401326e+00 |\n",
       "| smoking_status_20116.0.0Prefer not to answer | 2.290429e+00 | 1.051134e+00 | 4.548977e+00 |\n",
       "| smoking_status_20116.0.0Previous | 1.189400e+00 | 9.696079e-01 | 1.466628e+00 |\n",
       "| ethnic_background_21000.0.0Any other Asian background | 7.645872e-01 | 2.981883e-01 | 1.844516e+00 |\n",
       "| ethnic_background_21000.0.0Any other Black background | 6.786131e+00 | 2.567250e-01 | 1.794418e+02 |\n",
       "| ethnic_background_21000.0.0Any other mixed background | 6.804111e-01 | 1.807682e-01 | 2.069422e+00 |\n",
       "| ethnic_background_21000.0.0Any other white background | 3.350385e-01 | 1.779572e-01 | 6.357120e-01 |\n",
       "| ethnic_background_21000.0.0Bangladeshi | 5.447306e-01 | 2.682168e-02 | 3.908568e+00 |\n",
       "| ethnic_background_21000.0.0Black or Black British | 5.325926e-05 |           NA | 1.428130e+13 |\n",
       "| ethnic_background_21000.0.0British | 4.297222e-01 | 2.617815e-01 | 7.311127e-01 |\n",
       "| ethnic_background_21000.0.0Caribbean | 9.268316e-01 | 4.750317e-01 | 1.816167e+00 |\n",
       "| ethnic_background_21000.0.0Chinese | 1.292508e+00 | 3.710987e-01 | 3.936180e+00 |\n",
       "| ethnic_background_21000.0.0Do not know | 4.843143e-01 | 2.479142e-02 | 3.060494e+00 |\n",
       "| ethnic_background_21000.0.0Indian | 5.507522e-01 | 2.772386e-01 | 1.090106e+00 |\n",
       "| ethnic_background_21000.0.0Irish | 3.734605e-01 | 1.994362e-01 | 7.062969e-01 |\n",
       "| ethnic_background_21000.0.0Other ethnic group | 8.425671e-01 | 4.292548e-01 | 1.658098e+00 |\n",
       "| ethnic_background_21000.0.0Pakistani | 1.025100e+00 | 4.118620e-01 | 2.433625e+00 |\n",
       "| ethnic_background_21000.0.0Prefer not to answer | 2.792682e-01 | 6.211082e-02 | 8.977027e-01 |\n",
       "| ethnic_background_21000.0.0White | 2.906310e-01 | 1.541690e-02 | 1.627774e+00 |\n",
       "| ethnic_background_21000.0.0White and Asian | 4.071960e-01 | 6.082461e-02 | 1.605929e+00 |\n",
       "| ethnic_background_21000.0.0White and Black African | 4.400694e-01 | 6.482712e-02 | 1.796666e+00 |\n",
       "| ethnic_background_21000.0.0White and Black Caribbean | 2.186658e-01 | 1.149854e-02 | 1.259929e+00 |\n",
       "| average_total_household_income_before_tax_738.0.031,000 to 51,999 | 1.072374e+00 | 8.817015e-01 | 1.304319e+00 |\n",
       "| average_total_household_income_before_tax_738.0.052,000 to 100,000 | 8.593344e-01 | 6.837563e-01 | 1.077255e+00 |\n",
       "| average_total_household_income_before_tax_738.0.0Do not know | 9.603449e-01 | 6.895037e-01 | 1.317192e+00 |\n",
       "| average_total_household_income_before_tax_738.0.0Greater than 100,000 | 6.548009e-01 | 4.386963e-01 | 9.518510e-01 |\n",
       "| average_total_household_income_before_tax_738.0.0Less than 18,000 | 1.121576e+00 | 9.296400e-01 | 1.354490e+00 |\n",
       "| average_total_household_income_before_tax_738.0.0Prefer not to answer | 1.061963e+00 | 8.321613e-01 | 1.348583e+00 |\n",
       "| pulmonary_disease | 9.966419e-01 | 8.561083e-01 | 1.157354e+00 |\n",
       "| kidney_disease | 1.214946e+00 | 9.450769e-01 | 1.545276e+00 |\n",
       "| cardiovascular_disease | 8.981165e-01 | 7.438503e-01 | 1.079107e+00 |\n",
       "| liver_disease | 8.582670e-01 | 5.620863e-01 | 1.260487e+00 |\n",
       "\n"
      ],
      "text/plain": [
       "                                                                                           \n",
       "(Intercept)                                                                    8.303654e-33\n",
       "townsend_deprivation_index_at_recruitment_189.0.0.x                            1.104948e+00\n",
       "MetS                                                                           1.102626e+00\n",
       "sex_31.0.0Male                                                                 1.241026e+00\n",
       "year_of_birth_34.0.0                                                           1.037297e+00\n",
       "laboratory                                                                     1.009736e+00\n",
       "spectype                                                                       1.021766e+00\n",
       "qualifications_6138.0.0College or University degree                            9.341118e-01\n",
       "qualifications_6138.0.0CSEs or equivalent                                      1.402866e+00\n",
       "qualifications_6138.0.0None of the above                                       1.387307e+00\n",
       "qualifications_6138.0.0NVQ or HND or HNC or equivalent                         1.259292e+00\n",
       "qualifications_6138.0.0O levels/GCSEs or equivalent                            9.974371e-01\n",
       "qualifications_6138.0.0Other professional qualifications eg: nursing, teaching 1.215921e+00\n",
       "qualifications_6138.0.0Prefer not to answer                                    1.181544e+00\n",
       "smoking_status_20116.0.0Never                                                  1.141332e+00\n",
       "smoking_status_20116.0.0Prefer not to answer                                   2.290429e+00\n",
       "smoking_status_20116.0.0Previous                                               1.189400e+00\n",
       "ethnic_background_21000.0.0Any other Asian background                          7.645872e-01\n",
       "ethnic_background_21000.0.0Any other Black background                          6.786131e+00\n",
       "ethnic_background_21000.0.0Any other mixed background                          6.804111e-01\n",
       "ethnic_background_21000.0.0Any other white background                          3.350385e-01\n",
       "ethnic_background_21000.0.0Bangladeshi                                         5.447306e-01\n",
       "ethnic_background_21000.0.0Black or Black British                              5.325926e-05\n",
       "ethnic_background_21000.0.0British                                             4.297222e-01\n",
       "ethnic_background_21000.0.0Caribbean                                           9.268316e-01\n",
       "ethnic_background_21000.0.0Chinese                                             1.292508e+00\n",
       "ethnic_background_21000.0.0Do not know                                         4.843143e-01\n",
       "ethnic_background_21000.0.0Indian                                              5.507522e-01\n",
       "ethnic_background_21000.0.0Irish                                               3.734605e-01\n",
       "ethnic_background_21000.0.0Other ethnic group                                  8.425671e-01\n",
       "ethnic_background_21000.0.0Pakistani                                           1.025100e+00\n",
       "ethnic_background_21000.0.0Prefer not to answer                                2.792682e-01\n",
       "ethnic_background_21000.0.0White                                               2.906310e-01\n",
       "ethnic_background_21000.0.0White and Asian                                     4.071960e-01\n",
       "ethnic_background_21000.0.0White and Black African                             4.400694e-01\n",
       "ethnic_background_21000.0.0White and Black Caribbean                           2.186658e-01\n",
       "average_total_household_income_before_tax_738.0.031,000 to 51,999              1.072374e+00\n",
       "average_total_household_income_before_tax_738.0.052,000 to 100,000             8.593344e-01\n",
       "average_total_household_income_before_tax_738.0.0Do not know                   9.603449e-01\n",
       "average_total_household_income_before_tax_738.0.0Greater than 100,000          6.548009e-01\n",
       "average_total_household_income_before_tax_738.0.0Less than 18,000              1.121576e+00\n",
       "average_total_household_income_before_tax_738.0.0Prefer not to answer          1.061963e+00\n",
       "pulmonary_disease                                                              9.966419e-01\n",
       "kidney_disease                                                                 1.214946e+00\n",
       "cardiovascular_disease                                                         8.981165e-01\n",
       "liver_disease                                                                  8.582670e-01\n",
       "                                                                               2.5 %       \n",
       "(Intercept)                                                                    5.017924e-40\n",
       "townsend_deprivation_index_at_recruitment_189.0.0.x                            1.032271e+00\n",
       "MetS                                                                           9.959719e-01\n",
       "sex_31.0.0Male                                                                 1.081661e+00\n",
       "year_of_birth_34.0.0                                                           1.028523e+00\n",
       "laboratory                                                                     1.007820e+00\n",
       "spectype                                                                       1.009486e+00\n",
       "qualifications_6138.0.0College or University degree                            7.391403e-01\n",
       "qualifications_6138.0.0CSEs or equivalent                                      1.033600e+00\n",
       "qualifications_6138.0.0None of the above                                       1.082249e+00\n",
       "qualifications_6138.0.0NVQ or HND or HNC or equivalent                         9.377232e-01\n",
       "qualifications_6138.0.0O levels/GCSEs or equivalent                            7.818837e-01\n",
       "qualifications_6138.0.0Other professional qualifications eg: nursing, teaching 8.765958e-01\n",
       "qualifications_6138.0.0Prefer not to answer                                    6.493451e-01\n",
       "smoking_status_20116.0.0Never                                                  9.348093e-01\n",
       "smoking_status_20116.0.0Prefer not to answer                                   1.051134e+00\n",
       "smoking_status_20116.0.0Previous                                               9.696079e-01\n",
       "ethnic_background_21000.0.0Any other Asian background                          2.981883e-01\n",
       "ethnic_background_21000.0.0Any other Black background                          2.567250e-01\n",
       "ethnic_background_21000.0.0Any other mixed background                          1.807682e-01\n",
       "ethnic_background_21000.0.0Any other white background                          1.779572e-01\n",
       "ethnic_background_21000.0.0Bangladeshi                                         2.682168e-02\n",
       "ethnic_background_21000.0.0Black or Black British                                        NA\n",
       "ethnic_background_21000.0.0British                                             2.617815e-01\n",
       "ethnic_background_21000.0.0Caribbean                                           4.750317e-01\n",
       "ethnic_background_21000.0.0Chinese                                             3.710987e-01\n",
       "ethnic_background_21000.0.0Do not know                                         2.479142e-02\n",
       "ethnic_background_21000.0.0Indian                                              2.772386e-01\n",
       "ethnic_background_21000.0.0Irish                                               1.994362e-01\n",
       "ethnic_background_21000.0.0Other ethnic group                                  4.292548e-01\n",
       "ethnic_background_21000.0.0Pakistani                                           4.118620e-01\n",
       "ethnic_background_21000.0.0Prefer not to answer                                6.211082e-02\n",
       "ethnic_background_21000.0.0White                                               1.541690e-02\n",
       "ethnic_background_21000.0.0White and Asian                                     6.082461e-02\n",
       "ethnic_background_21000.0.0White and Black African                             6.482712e-02\n",
       "ethnic_background_21000.0.0White and Black Caribbean                           1.149854e-02\n",
       "average_total_household_income_before_tax_738.0.031,000 to 51,999              8.817015e-01\n",
       "average_total_household_income_before_tax_738.0.052,000 to 100,000             6.837563e-01\n",
       "average_total_household_income_before_tax_738.0.0Do not know                   6.895037e-01\n",
       "average_total_household_income_before_tax_738.0.0Greater than 100,000          4.386963e-01\n",
       "average_total_household_income_before_tax_738.0.0Less than 18,000              9.296400e-01\n",
       "average_total_household_income_before_tax_738.0.0Prefer not to answer          8.321613e-01\n",
       "pulmonary_disease                                                              8.561083e-01\n",
       "kidney_disease                                                                 9.450769e-01\n",
       "cardiovascular_disease                                                         7.438503e-01\n",
       "liver_disease                                                                  5.620863e-01\n",
       "                                                                               97.5 %      \n",
       "(Intercept)                                                                    1.400197e-25\n",
       "townsend_deprivation_index_at_recruitment_189.0.0.x                            1.182116e+00\n",
       "MetS                                                                           1.220088e+00\n",
       "sex_31.0.0Male                                                                 1.424343e+00\n",
       "year_of_birth_34.0.0                                                           1.046135e+00\n",
       "laboratory                                                                     1.011653e+00\n",
       "spectype                                                                       1.033913e+00\n",
       "qualifications_6138.0.0College or University degree                            1.187729e+00\n",
       "qualifications_6138.0.0CSEs or equivalent                                      1.900124e+00\n",
       "qualifications_6138.0.0None of the above                                       1.788331e+00\n",
       "qualifications_6138.0.0NVQ or HND or HNC or equivalent                         1.689145e+00\n",
       "qualifications_6138.0.0O levels/GCSEs or equivalent                            1.278672e+00\n",
       "qualifications_6138.0.0Other professional qualifications eg: nursing, teaching 1.676481e+00\n",
       "qualifications_6138.0.0Prefer not to answer                                    2.040784e+00\n",
       "smoking_status_20116.0.0Never                                                  1.401326e+00\n",
       "smoking_status_20116.0.0Prefer not to answer                                   4.548977e+00\n",
       "smoking_status_20116.0.0Previous                                               1.466628e+00\n",
       "ethnic_background_21000.0.0Any other Asian background                          1.844516e+00\n",
       "ethnic_background_21000.0.0Any other Black background                          1.794418e+02\n",
       "ethnic_background_21000.0.0Any other mixed background                          2.069422e+00\n",
       "ethnic_background_21000.0.0Any other white background                          6.357120e-01\n",
       "ethnic_background_21000.0.0Bangladeshi                                         3.908568e+00\n",
       "ethnic_background_21000.0.0Black or Black British                              1.428130e+13\n",
       "ethnic_background_21000.0.0British                                             7.311127e-01\n",
       "ethnic_background_21000.0.0Caribbean                                           1.816167e+00\n",
       "ethnic_background_21000.0.0Chinese                                             3.936180e+00\n",
       "ethnic_background_21000.0.0Do not know                                         3.060494e+00\n",
       "ethnic_background_21000.0.0Indian                                              1.090106e+00\n",
       "ethnic_background_21000.0.0Irish                                               7.062969e-01\n",
       "ethnic_background_21000.0.0Other ethnic group                                  1.658098e+00\n",
       "ethnic_background_21000.0.0Pakistani                                           2.433625e+00\n",
       "ethnic_background_21000.0.0Prefer not to answer                                8.977027e-01\n",
       "ethnic_background_21000.0.0White                                               1.627774e+00\n",
       "ethnic_background_21000.0.0White and Asian                                     1.605929e+00\n",
       "ethnic_background_21000.0.0White and Black African                             1.796666e+00\n",
       "ethnic_background_21000.0.0White and Black Caribbean                           1.259929e+00\n",
       "average_total_household_income_before_tax_738.0.031,000 to 51,999              1.304319e+00\n",
       "average_total_household_income_before_tax_738.0.052,000 to 100,000             1.077255e+00\n",
       "average_total_household_income_before_tax_738.0.0Do not know                   1.317192e+00\n",
       "average_total_household_income_before_tax_738.0.0Greater than 100,000          9.518510e-01\n",
       "average_total_household_income_before_tax_738.0.0Less than 18,000              1.354490e+00\n",
       "average_total_household_income_before_tax_738.0.0Prefer not to answer          1.348583e+00\n",
       "pulmonary_disease                                                              1.157354e+00\n",
       "kidney_disease                                                                 1.545276e+00\n",
       "cardiovascular_disease                                                         1.079107e+00\n",
       "liver_disease                                                                  1.260487e+00"
      ]
     },
     "metadata": {},
     "output_type": "display_data"
    }
   ],
   "source": [
    "exp(cbind(coef(metsinf_logit), confint(metsinf_logit)))"
   ]
  },
  {
   "cell_type": "markdown",
   "metadata": {},
   "source": [
    "# MetS latent variable and OR - covid mortality\n",
    "\n",
    "## Create dataframes"
   ]
  },
  {
   "cell_type": "code",
   "execution_count": 16,
   "metadata": {},
   "outputs": [],
   "source": [
    "covidinf=cov_base\n",
    "covidinf=covidinf[!duplicated(covidinf$eid),]\n",
    "covidinf=merge(di, covidinf, by='eid')\n",
    "cov_pos=(covidinf[covidinf$result==1,]) # take only people who tested positive\n",
    "coviddeath=merge(cov_pos, death, by='eid',all.x=T) # merge with death records\n",
    "coviddeath$level[is.na(coviddeath$level)]=0 # recode"
   ]
  },
  {
   "cell_type": "code",
   "execution_count": 17,
   "metadata": {},
   "outputs": [
    {
     "data": {
      "text/html": [
       "1148"
      ],
      "text/latex": [
       "1148"
      ],
      "text/markdown": [
       "1148"
      ],
      "text/plain": [
       "[1] 1148"
      ]
     },
     "metadata": {},
     "output_type": "display_data"
    }
   ],
   "source": [
    "coviddeath$TG=scale(log(coviddeath$triglycerides_30870.0.0))\n",
    "coviddeath$HDL=scale(log(coviddeath$hdl_cholesterol_30760.0.0))\n",
    "coviddeath$Sex=as.factor(coviddeath$sex_31.0.0)\n",
    "coviddeath$Waist=scale(coviddeath$waist_circumference_48.0.0)\n",
    "coviddeath$HbA1c=scale(log(coviddeath$glycated_haemoglobin_hba1c_30750.0.0))\n",
    "coviddeath$systolicBP=scale(rowMeans(cbind(coviddeath$systolic_blood_pressure_automated_reading_4080.0.0,\n",
    "                                      coviddeath$systolic_blood_pressure_automated_reading_4080.0.1)))\n",
    "coviddeath$diastolicBP=scale(rowMeans(cbind(coviddeath$diastolic_blood_pressure_automated_reading_4079.0.0,\n",
    "                                       coviddeath$diastolic_blood_pressure_automated_reading_4079.0.1)))\n",
    "coviddeath$glucose=scale(log(coviddeath$glucose_30740.0.0))\n",
    "coviddeath$CRP=scale(log(coviddeath$c.reactive_protein_30710.0.0))\n",
    "\n",
    "\n",
    "COVinf=select(coviddeath, TG, HDL, Sex, Hypertension, Diabetes, result,\n",
    "          laboratory, origin, spectype, qualifications_6138.0.0, townsend_deprivation_index_at_recruitment_189.0.0,\n",
    "          Waist, year_of_birth_34.0.0, smoking_status_20116.0.0,\n",
    "          ethnic_background_21000.0.0, HbA1c, systolicBP, diastolicBP, glucose,\n",
    "             average_total_household_income_before_tax_738.0.0, sex_31.0.0, CRP, level, eid,\n",
    "              sex_31.0.0, year_of_birth_34.0.0, waist_circumference_48.0.0, hip_circumference_49.0.0,\n",
    "         glucose_30740.0.0,glycated_haemoglobin_hba1c_30750.0.0,\n",
    "            hdl_cholesterol_30760.0.0, body_mass_index_bmi_21001.0.0, pulmonary_disease,\n",
    "             liver_disease, kidney_disease, cardiovascular_disease)\n",
    "\n",
    "\n",
    "\n",
    "for (j in c(1, 2, 11, 12, 16, 17, 18, 19, 22)) { # \n",
    "    Q3=as.numeric(quantile(COVinf[j],0.75, na.rm=TRUE))\n",
    "    Q1=as.numeric(quantile(COVinf[j],0.25, na.rm=TRUE))\n",
    "    upper=Q3+(2.2*(Q3-Q1))\n",
    "    lower=Q1-(2.2*(Q3-Q1))\n",
    "    COVinf[j][COVinf[j]<lower]=NA\n",
    "    COVinf[j][COVinf[j]>upper]=NA\n",
    "    COVinf[j]=scale(COVinf[j])\n",
    "}\n",
    "\n",
    "\n",
    "COVinf$Hypertension=as.numeric(COVinf$Hypertension)\n",
    "COVinf$Diabetes=as.numeric(COVinf$Diabetes)\n",
    "\n",
    "COVinf=na.omit(COVinf)\n",
    "\n",
    "nrow(COVinf)\n",
    "\n",
    "COVinf=merge(COVinf,fasting, by=c('sex_31.0.0','year_of_birth_34.0.0', 'waist_circumference_48.0.0', \n",
    "                                  'hip_circumference_49.0.0','glucose_30740.0.0',\n",
    "                                 'hdl_cholesterol_30760.0.0','glycated_haemoglobin_hba1c_30750.0.0'), all.x=TRUE)\n",
    "\n",
    "COVinf$HDL=-1*COVinf$HDL\n",
    "\n",
    "COVinf$glucose=resid(lm(glucose ~ fasting_time_74.0.0, data=COVinf))\n",
    "\n"
   ]
  },
  {
   "cell_type": "code",
   "execution_count": 18,
   "metadata": {},
   "outputs": [
    {
     "data": {
      "text/html": [
       "178"
      ],
      "text/latex": [
       "178"
      ],
      "text/markdown": [
       "178"
      ],
      "text/plain": [
       "[1] 178"
      ]
     },
     "metadata": {},
     "output_type": "display_data"
    }
   ],
   "source": [
    "sum(COVinf$level)"
   ]
  },
  {
   "cell_type": "markdown",
   "metadata": {},
   "source": [
    "## Sample characteristics - values before transformations!"
   ]
  },
  {
   "cell_type": "markdown",
   "metadata": {},
   "source": [
    "### COVID survivors"
   ]
  },
  {
   "cell_type": "code",
   "execution_count": 19,
   "metadata": {
    "scrolled": false
   },
   "outputs": [
    {
     "data": {
      "text/plain": [
       "\n",
       "0 \n",
       "1 "
      ]
     },
     "metadata": {},
     "output_type": "display_data"
    },
    {
     "data": {
      "text/html": [
       "<table>\n",
       "<thead><tr><th></th><th scope=col>vars</th><th scope=col>n</th><th scope=col>mean</th><th scope=col>sd</th><th scope=col>median</th><th scope=col>trimmed</th><th scope=col>mad</th><th scope=col>min</th><th scope=col>max</th><th scope=col>range</th><th scope=col>skew</th><th scope=col>kurtosis</th><th scope=col>se</th></tr></thead>\n",
       "<tbody>\n",
       "\t<tr><th scope=row>X1</th><td>1          </td><td>970        </td><td>1953.46    </td><td>9.054071   </td><td>1954       </td><td>1953.481   </td><td>11.8608    </td><td>1937       </td><td>1969       </td><td>32         </td><td>-0.01278608</td><td>-1.356257  </td><td>0.2907087  </td></tr>\n",
       "</tbody>\n",
       "</table>\n"
      ],
      "text/latex": [
       "\\begin{tabular}{r|lllllllllllll}\n",
       "  & vars & n & mean & sd & median & trimmed & mad & min & max & range & skew & kurtosis & se\\\\\n",
       "\\hline\n",
       "\tX1 & 1           & 970         & 1953.46     & 9.054071    & 1954        & 1953.481    & 11.8608     & 1937        & 1969        & 32          & -0.01278608 & -1.356257   & 0.2907087  \\\\\n",
       "\\end{tabular}\n"
      ],
      "text/markdown": [
       "\n",
       "| <!--/--> | vars | n | mean | sd | median | trimmed | mad | min | max | range | skew | kurtosis | se |\n",
       "|---|---|---|---|---|---|---|---|---|---|---|---|---|---|\n",
       "| X1 | 1           | 970         | 1953.46     | 9.054071    | 1954        | 1953.481    | 11.8608     | 1937        | 1969        | 32          | -0.01278608 | -1.356257   | 0.2907087   |\n",
       "\n"
      ],
      "text/plain": [
       "   vars n   mean    sd       median trimmed  mad     min  max  range\n",
       "X1 1    970 1953.46 9.054071 1954   1953.481 11.8608 1937 1969 32   \n",
       "   skew        kurtosis  se       \n",
       "X1 -0.01278608 -1.356257 0.2907087"
      ]
     },
     "metadata": {},
     "output_type": "display_data"
    },
    {
     "data": {
      "text/plain": [
       "\n",
       "   Female      Male \n",
       "0.4907216 0.5092784 "
      ]
     },
     "metadata": {},
     "output_type": "display_data"
    },
    {
     "data": {
      "text/html": [
       "<table>\n",
       "<thead><tr><th></th><th scope=col>vars</th><th scope=col>n</th><th scope=col>mean</th><th scope=col>sd</th><th scope=col>median</th><th scope=col>trimmed</th><th scope=col>mad</th><th scope=col>min</th><th scope=col>max</th><th scope=col>range</th><th scope=col>skew</th><th scope=col>kurtosis</th><th scope=col>se</th></tr></thead>\n",
       "<tbody>\n",
       "\t<tr><th scope=row>X1</th><td>1         </td><td>970       </td><td>92.56093  </td><td>13.62917  </td><td>92.5      </td><td>92.14704  </td><td>12.6021   </td><td>62        </td><td>139       </td><td>77        </td><td>0.2993892 </td><td>0.06318436</td><td>0.4376063 </td></tr>\n",
       "</tbody>\n",
       "</table>\n"
      ],
      "text/latex": [
       "\\begin{tabular}{r|lllllllllllll}\n",
       "  & vars & n & mean & sd & median & trimmed & mad & min & max & range & skew & kurtosis & se\\\\\n",
       "\\hline\n",
       "\tX1 & 1          & 970        & 92.56093   & 13.62917   & 92.5       & 92.14704   & 12.6021    & 62         & 139        & 77         & 0.2993892  & 0.06318436 & 0.4376063 \\\\\n",
       "\\end{tabular}\n"
      ],
      "text/markdown": [
       "\n",
       "| <!--/--> | vars | n | mean | sd | median | trimmed | mad | min | max | range | skew | kurtosis | se |\n",
       "|---|---|---|---|---|---|---|---|---|---|---|---|---|---|\n",
       "| X1 | 1          | 970        | 92.56093   | 13.62917   | 92.5       | 92.14704   | 12.6021    | 62         | 139        | 77         | 0.2993892  | 0.06318436 | 0.4376063  |\n",
       "\n"
      ],
      "text/plain": [
       "   vars n   mean     sd       median trimmed  mad     min max range skew     \n",
       "X1 1    970 92.56093 13.62917 92.5   92.14704 12.6021 62  139 77    0.2993892\n",
       "   kurtosis   se       \n",
       "X1 0.06318436 0.4376063"
      ]
     },
     "metadata": {},
     "output_type": "display_data"
    },
    {
     "data": {
      "text/html": [
       "<table>\n",
       "<thead><tr><th></th><th scope=col>vars</th><th scope=col>n</th><th scope=col>mean</th><th scope=col>sd</th><th scope=col>median</th><th scope=col>trimmed</th><th scope=col>mad</th><th scope=col>min</th><th scope=col>max</th><th scope=col>range</th><th scope=col>skew</th><th scope=col>kurtosis</th><th scope=col>se</th></tr></thead>\n",
       "<tbody>\n",
       "\t<tr><th scope=row>X1</th><td>1        </td><td>970      </td><td>35.73206 </td><td>4.626655 </td><td>35.2     </td><td>35.43686 </td><td>3.85476  </td><td>24       </td><td>54.7     </td><td>30.7     </td><td>0.8107478</td><td>1.588849 </td><td>0.1485529</td></tr>\n",
       "</tbody>\n",
       "</table>\n"
      ],
      "text/latex": [
       "\\begin{tabular}{r|lllllllllllll}\n",
       "  & vars & n & mean & sd & median & trimmed & mad & min & max & range & skew & kurtosis & se\\\\\n",
       "\\hline\n",
       "\tX1 & 1         & 970       & 35.73206  & 4.626655  & 35.2      & 35.43686  & 3.85476   & 24        & 54.7      & 30.7      & 0.8107478 & 1.588849  & 0.1485529\\\\\n",
       "\\end{tabular}\n"
      ],
      "text/markdown": [
       "\n",
       "| <!--/--> | vars | n | mean | sd | median | trimmed | mad | min | max | range | skew | kurtosis | se |\n",
       "|---|---|---|---|---|---|---|---|---|---|---|---|---|---|\n",
       "| X1 | 1         | 970       | 35.73206  | 4.626655  | 35.2      | 35.43686  | 3.85476   | 24        | 54.7      | 30.7      | 0.8107478 | 1.588849  | 0.1485529 |\n",
       "\n"
      ],
      "text/plain": [
       "   vars n   mean     sd       median trimmed  mad     min max  range skew     \n",
       "X1 1    970 35.73206 4.626655 35.2   35.43686 3.85476 24  54.7 30.7  0.8107478\n",
       "   kurtosis se       \n",
       "X1 1.588849 0.1485529"
      ]
     },
     "metadata": {},
     "output_type": "display_data"
    },
    {
     "data": {
      "text/html": [
       "<table>\n",
       "<thead><tr><th></th><th scope=col>vars</th><th scope=col>n</th><th scope=col>mean</th><th scope=col>sd</th><th scope=col>median</th><th scope=col>trimmed</th><th scope=col>mad</th><th scope=col>min</th><th scope=col>max</th><th scope=col>range</th><th scope=col>skew</th><th scope=col>kurtosis</th><th scope=col>se</th></tr></thead>\n",
       "<tbody>\n",
       "\t<tr><th scope=row>X1</th><td>1        </td><td>970      </td><td>2.820299 </td><td>4.727931 </td><td>1.545    </td><td>1.890245 </td><td>1.438122 </td><td>0.09     </td><td>63.37    </td><td>63.28    </td><td>6.284563 </td><td>56.76046 </td><td>0.1518047</td></tr>\n",
       "</tbody>\n",
       "</table>\n"
      ],
      "text/latex": [
       "\\begin{tabular}{r|lllllllllllll}\n",
       "  & vars & n & mean & sd & median & trimmed & mad & min & max & range & skew & kurtosis & se\\\\\n",
       "\\hline\n",
       "\tX1 & 1         & 970       & 2.820299  & 4.727931  & 1.545     & 1.890245  & 1.438122  & 0.09      & 63.37     & 63.28     & 6.284563  & 56.76046  & 0.1518047\\\\\n",
       "\\end{tabular}\n"
      ],
      "text/markdown": [
       "\n",
       "| <!--/--> | vars | n | mean | sd | median | trimmed | mad | min | max | range | skew | kurtosis | se |\n",
       "|---|---|---|---|---|---|---|---|---|---|---|---|---|---|\n",
       "| X1 | 1         | 970       | 2.820299  | 4.727931  | 1.545     | 1.890245  | 1.438122  | 0.09      | 63.37     | 63.28     | 6.284563  | 56.76046  | 0.1518047 |\n",
       "\n"
      ],
      "text/plain": [
       "   vars n   mean     sd       median trimmed  mad      min  max   range\n",
       "X1 1    970 2.820299 4.727931 1.545  1.890245 1.438122 0.09 63.37 63.28\n",
       "   skew     kurtosis se       \n",
       "X1 6.284563 56.76046 0.1518047"
      ]
     },
     "metadata": {},
     "output_type": "display_data"
    },
    {
     "data": {
      "text/html": [
       "<table>\n",
       "<thead><tr><th></th><th scope=col>vars</th><th scope=col>n</th><th scope=col>mean</th><th scope=col>sd</th><th scope=col>median</th><th scope=col>trimmed</th><th scope=col>mad</th><th scope=col>min</th><th scope=col>max</th><th scope=col>range</th><th scope=col>skew</th><th scope=col>kurtosis</th><th scope=col>se</th></tr></thead>\n",
       "<tbody>\n",
       "\t<tr><th scope=row>X1</th><td>1         </td><td>970       </td><td>4.953344  </td><td>0.6282541 </td><td>4.881     </td><td>4.903487  </td><td>0.5240991 </td><td>3.269     </td><td>7.812     </td><td>4.543     </td><td>0.9511864 </td><td>1.964276  </td><td>0.02017202</td></tr>\n",
       "</tbody>\n",
       "</table>\n"
      ],
      "text/latex": [
       "\\begin{tabular}{r|lllllllllllll}\n",
       "  & vars & n & mean & sd & median & trimmed & mad & min & max & range & skew & kurtosis & se\\\\\n",
       "\\hline\n",
       "\tX1 & 1          & 970        & 4.953344   & 0.6282541  & 4.881      & 4.903487   & 0.5240991  & 3.269      & 7.812      & 4.543      & 0.9511864  & 1.964276   & 0.02017202\\\\\n",
       "\\end{tabular}\n"
      ],
      "text/markdown": [
       "\n",
       "| <!--/--> | vars | n | mean | sd | median | trimmed | mad | min | max | range | skew | kurtosis | se |\n",
       "|---|---|---|---|---|---|---|---|---|---|---|---|---|---|\n",
       "| X1 | 1          | 970        | 4.953344   | 0.6282541  | 4.881      | 4.903487   | 0.5240991  | 3.269      | 7.812      | 4.543      | 0.9511864  | 1.964276   | 0.02017202 |\n",
       "\n"
      ],
      "text/plain": [
       "   vars n   mean     sd        median trimmed  mad       min   max   range\n",
       "X1 1    970 4.953344 0.6282541 4.881  4.903487 0.5240991 3.269 7.812 4.543\n",
       "   skew      kurtosis se        \n",
       "X1 0.9511864 1.964276 0.02017202"
      ]
     },
     "metadata": {},
     "output_type": "display_data"
    },
    {
     "data": {
      "text/html": [
       "<table>\n",
       "<thead><tr><th></th><th scope=col>vars</th><th scope=col>n</th><th scope=col>mean</th><th scope=col>sd</th><th scope=col>median</th><th scope=col>trimmed</th><th scope=col>mad</th><th scope=col>min</th><th scope=col>max</th><th scope=col>range</th><th scope=col>skew</th><th scope=col>kurtosis</th><th scope=col>se</th></tr></thead>\n",
       "<tbody>\n",
       "\t<tr><th scope=row>X1</th><td>1         </td><td>970       </td><td>1.36487   </td><td>0.349142  </td><td>1.3215    </td><td>1.340704  </td><td>0.340998  </td><td>0.511     </td><td>2.954     </td><td>2.443     </td><td>0.6866855 </td><td>0.5685714 </td><td>0.01121028</td></tr>\n",
       "</tbody>\n",
       "</table>\n"
      ],
      "text/latex": [
       "\\begin{tabular}{r|lllllllllllll}\n",
       "  & vars & n & mean & sd & median & trimmed & mad & min & max & range & skew & kurtosis & se\\\\\n",
       "\\hline\n",
       "\tX1 & 1          & 970        & 1.36487    & 0.349142   & 1.3215     & 1.340704   & 0.340998   & 0.511      & 2.954      & 2.443      & 0.6866855  & 0.5685714  & 0.01121028\\\\\n",
       "\\end{tabular}\n"
      ],
      "text/markdown": [
       "\n",
       "| <!--/--> | vars | n | mean | sd | median | trimmed | mad | min | max | range | skew | kurtosis | se |\n",
       "|---|---|---|---|---|---|---|---|---|---|---|---|---|---|\n",
       "| X1 | 1          | 970        | 1.36487    | 0.349142   | 1.3215     | 1.340704   | 0.340998   | 0.511      | 2.954      | 2.443      | 0.6866855  | 0.5685714  | 0.01121028 |\n",
       "\n"
      ],
      "text/plain": [
       "   vars n   mean    sd       median trimmed  mad      min   max   range\n",
       "X1 1    970 1.36487 0.349142 1.3215 1.340704 0.340998 0.511 2.954 2.443\n",
       "   skew      kurtosis  se        \n",
       "X1 0.6866855 0.5685714 0.01121028"
      ]
     },
     "metadata": {},
     "output_type": "display_data"
    },
    {
     "data": {
      "text/html": [
       "<table>\n",
       "<thead><tr><th></th><th scope=col>vars</th><th scope=col>n</th><th scope=col>mean</th><th scope=col>sd</th><th scope=col>median</th><th scope=col>trimmed</th><th scope=col>mad</th><th scope=col>min</th><th scope=col>max</th><th scope=col>range</th><th scope=col>skew</th><th scope=col>kurtosis</th><th scope=col>se</th></tr></thead>\n",
       "<tbody>\n",
       "\t<tr><th scope=row>X1</th><td>1         </td><td>970       </td><td>1.776552  </td><td>1.047466  </td><td>1.5175    </td><td>1.625921  </td><td>0.8109822 </td><td>0.461     </td><td>10.856    </td><td>10.395    </td><td>2.095793  </td><td>8.672378  </td><td>0.03363212</td></tr>\n",
       "</tbody>\n",
       "</table>\n"
      ],
      "text/latex": [
       "\\begin{tabular}{r|lllllllllllll}\n",
       "  & vars & n & mean & sd & median & trimmed & mad & min & max & range & skew & kurtosis & se\\\\\n",
       "\\hline\n",
       "\tX1 & 1          & 970        & 1.776552   & 1.047466   & 1.5175     & 1.625921   & 0.8109822  & 0.461      & 10.856     & 10.395     & 2.095793   & 8.672378   & 0.03363212\\\\\n",
       "\\end{tabular}\n"
      ],
      "text/markdown": [
       "\n",
       "| <!--/--> | vars | n | mean | sd | median | trimmed | mad | min | max | range | skew | kurtosis | se |\n",
       "|---|---|---|---|---|---|---|---|---|---|---|---|---|---|\n",
       "| X1 | 1          | 970        | 1.776552   | 1.047466   | 1.5175     | 1.625921   | 0.8109822  | 0.461      | 10.856     | 10.395     | 2.095793   | 8.672378   | 0.03363212 |\n",
       "\n"
      ],
      "text/plain": [
       "   vars n   mean     sd       median trimmed  mad       min   max    range \n",
       "X1 1    970 1.776552 1.047466 1.5175 1.625921 0.8109822 0.461 10.856 10.395\n",
       "   skew     kurtosis se        \n",
       "X1 2.095793 8.672378 0.03363212"
      ]
     },
     "metadata": {},
     "output_type": "display_data"
    },
    {
     "data": {
      "text/html": [
       "<table>\n",
       "<thead><tr><th></th><th scope=col>vars</th><th scope=col>n</th><th scope=col>mean</th><th scope=col>sd</th><th scope=col>median</th><th scope=col>trimmed</th><th scope=col>mad</th><th scope=col>min</th><th scope=col>max</th><th scope=col>range</th><th scope=col>skew</th><th scope=col>kurtosis</th><th scope=col>se</th></tr></thead>\n",
       "<tbody>\n",
       "\t<tr><th scope=row>X1</th><td>1        </td><td>970      </td><td>135.6768 </td><td>18.15016 </td><td>133      </td><td>134.6579 </td><td>17.7912  </td><td>91.5     </td><td>204.5    </td><td>113      </td><td>0.5851949</td><td>0.3776066</td><td>0.5827664</td></tr>\n",
       "</tbody>\n",
       "</table>\n"
      ],
      "text/latex": [
       "\\begin{tabular}{r|lllllllllllll}\n",
       "  & vars & n & mean & sd & median & trimmed & mad & min & max & range & skew & kurtosis & se\\\\\n",
       "\\hline\n",
       "\tX1 & 1         & 970       & 135.6768  & 18.15016  & 133       & 134.6579  & 17.7912   & 91.5      & 204.5     & 113       & 0.5851949 & 0.3776066 & 0.5827664\\\\\n",
       "\\end{tabular}\n"
      ],
      "text/markdown": [
       "\n",
       "| <!--/--> | vars | n | mean | sd | median | trimmed | mad | min | max | range | skew | kurtosis | se |\n",
       "|---|---|---|---|---|---|---|---|---|---|---|---|---|---|\n",
       "| X1 | 1         | 970       | 135.6768  | 18.15016  | 133       | 134.6579  | 17.7912   | 91.5      | 204.5     | 113       | 0.5851949 | 0.3776066 | 0.5827664 |\n",
       "\n"
      ],
      "text/plain": [
       "   vars n   mean     sd       median trimmed  mad     min  max   range\n",
       "X1 1    970 135.6768 18.15016 133    134.6579 17.7912 91.5 204.5 113  \n",
       "   skew      kurtosis  se       \n",
       "X1 0.5851949 0.3776066 0.5827664"
      ]
     },
     "metadata": {},
     "output_type": "display_data"
    },
    {
     "data": {
      "text/html": [
       "<table>\n",
       "<thead><tr><th></th><th scope=col>vars</th><th scope=col>n</th><th scope=col>mean</th><th scope=col>sd</th><th scope=col>median</th><th scope=col>trimmed</th><th scope=col>mad</th><th scope=col>min</th><th scope=col>max</th><th scope=col>range</th><th scope=col>skew</th><th scope=col>kurtosis</th><th scope=col>se</th></tr></thead>\n",
       "<tbody>\n",
       "\t<tr><th scope=row>X1</th><td>1        </td><td>970      </td><td>82.19021 </td><td>10.30065 </td><td>81.5     </td><td>82.03351 </td><td>9.6369   </td><td>48       </td><td>118.5    </td><td>70.5     </td><td>0.2159258</td><td>0.2419122</td><td>0.3307339</td></tr>\n",
       "</tbody>\n",
       "</table>\n"
      ],
      "text/latex": [
       "\\begin{tabular}{r|lllllllllllll}\n",
       "  & vars & n & mean & sd & median & trimmed & mad & min & max & range & skew & kurtosis & se\\\\\n",
       "\\hline\n",
       "\tX1 & 1         & 970       & 82.19021  & 10.30065  & 81.5      & 82.03351  & 9.6369    & 48        & 118.5     & 70.5      & 0.2159258 & 0.2419122 & 0.3307339\\\\\n",
       "\\end{tabular}\n"
      ],
      "text/markdown": [
       "\n",
       "| <!--/--> | vars | n | mean | sd | median | trimmed | mad | min | max | range | skew | kurtosis | se |\n",
       "|---|---|---|---|---|---|---|---|---|---|---|---|---|---|\n",
       "| X1 | 1         | 970       | 82.19021  | 10.30065  | 81.5      | 82.03351  | 9.6369    | 48        | 118.5     | 70.5      | 0.2159258 | 0.2419122 | 0.3307339 |\n",
       "\n"
      ],
      "text/plain": [
       "   vars n   mean     sd       median trimmed  mad    min max   range skew     \n",
       "X1 1    970 82.19021 10.30065 81.5   82.03351 9.6369 48  118.5 70.5  0.2159258\n",
       "   kurtosis  se       \n",
       "X1 0.2419122 0.3307339"
      ]
     },
     "metadata": {},
     "output_type": "display_data"
    },
    {
     "data": {
      "text/plain": [
       "\n",
       "         0          1 \n",
       "0.91340206 0.08659794 "
      ]
     },
     "metadata": {},
     "output_type": "display_data"
    },
    {
     "data": {
      "text/plain": [
       "\n",
       "        0         1 \n",
       "0.6185567 0.3814433 "
      ]
     },
     "metadata": {},
     "output_type": "display_data"
    },
    {
     "data": {
      "text/plain": [
       "\n",
       "    FALSE      TRUE \n",
       "0.7061856 0.2938144 "
      ]
     },
     "metadata": {},
     "output_type": "display_data"
    },
    {
     "data": {
      "text/plain": [
       "\n",
       "         0          1 \n",
       "0.98762887 0.01237113 "
      ]
     },
     "metadata": {},
     "output_type": "display_data"
    },
    {
     "data": {
      "text/html": [
       "<table>\n",
       "<thead><tr><th></th><th scope=col>vars</th><th scope=col>n</th><th scope=col>mean</th><th scope=col>sd</th><th scope=col>median</th><th scope=col>trimmed</th><th scope=col>mad</th><th scope=col>min</th><th scope=col>max</th><th scope=col>range</th><th scope=col>skew</th><th scope=col>kurtosis</th><th scope=col>se</th></tr></thead>\n",
       "<tbody>\n",
       "\t<tr><th scope=row>X1</th><td>1        </td><td>970      </td><td>28.21987 </td><td>4.957904 </td><td>27.4442  </td><td>27.7976  </td><td>4.321557 </td><td>18.1955  </td><td>54.3863  </td><td>36.1908  </td><td>0.9426556</td><td>1.455206 </td><td>0.1591887</td></tr>\n",
       "</tbody>\n",
       "</table>\n"
      ],
      "text/latex": [
       "\\begin{tabular}{r|lllllllllllll}\n",
       "  & vars & n & mean & sd & median & trimmed & mad & min & max & range & skew & kurtosis & se\\\\\n",
       "\\hline\n",
       "\tX1 & 1         & 970       & 28.21987  & 4.957904  & 27.4442   & 27.7976   & 4.321557  & 18.1955   & 54.3863   & 36.1908   & 0.9426556 & 1.455206  & 0.1591887\\\\\n",
       "\\end{tabular}\n"
      ],
      "text/markdown": [
       "\n",
       "| <!--/--> | vars | n | mean | sd | median | trimmed | mad | min | max | range | skew | kurtosis | se |\n",
       "|---|---|---|---|---|---|---|---|---|---|---|---|---|---|\n",
       "| X1 | 1         | 970       | 28.21987  | 4.957904  | 27.4442   | 27.7976   | 4.321557  | 18.1955   | 54.3863   | 36.1908   | 0.9426556 | 1.455206  | 0.1591887 |\n",
       "\n"
      ],
      "text/plain": [
       "   vars n   mean     sd       median  trimmed mad      min     max     range  \n",
       "X1 1    970 28.21987 4.957904 27.4442 27.7976 4.321557 18.1955 54.3863 36.1908\n",
       "   skew      kurtosis se       \n",
       "X1 0.9426556 1.455206 0.1591887"
      ]
     },
     "metadata": {},
     "output_type": "display_data"
    },
    {
     "data": {
      "text/plain": [
       "\n",
       "         0          1 \n",
       "0.97319588 0.02680412 "
      ]
     },
     "metadata": {},
     "output_type": "display_data"
    },
    {
     "data": {
      "text/plain": [
       "\n",
       "        0         1 \n",
       "0.7515464 0.2484536 "
      ]
     },
     "metadata": {},
     "output_type": "display_data"
    },
    {
     "data": {
      "text/plain": [
       "\n",
       "        0         1 \n",
       "0.8659794 0.1340206 "
      ]
     },
     "metadata": {},
     "output_type": "display_data"
    },
    {
     "data": {
      "text/plain": [
       "\n",
       "         0          1 \n",
       "0.92886598 0.07113402 "
      ]
     },
     "metadata": {},
     "output_type": "display_data"
    }
   ],
   "source": [
    "char_neg=merge(COVinf, coviddeath, by='eid', all.x=TRUE)\n",
    "char_neg=char_neg[char_neg$level.x==0,]\n",
    "char=char_neg\n",
    "table(char$level.x)/nrow(char)\n",
    "describe(char$year_of_birth_34.0.0.x)\n",
    "table(char$sex_31.0.0.x)/nrow(char)\n",
    "describe(char$waist_circumference_48.0.0.x)\n",
    "describe(char$glycated_haemoglobin_hba1c_30750.0.0.x)\n",
    "describe(char$c.reactive_protein_30710.0.0)\n",
    "describe(char$glucose_30740.0.0.x)\n",
    "describe(char$hdl_cholesterol_30760.0.0.x)\n",
    "describe(char$triglycerides_30870.0.0)\n",
    "describe((rowMeans(cbind(char$systolic_blood_pressure_automated_reading_4080.0.0,\n",
    "                                      char$systolic_blood_pressure_automated_reading_4080.0.1))))\n",
    "describe(rowMeans(cbind(char$diastolic_blood_pressure_automated_reading_4079.0.0,\n",
    "                                       char$diastolic_blood_pressure_automated_reading_4079.0.1)))\n",
    "table(char$Diabetes.x)/nrow(char)\n",
    "table(char$Hypertension.x)/nrow(char)\n",
    "table(char$body_mass_index_bmi_21001.0.0.x>30)/nrow(char)\n",
    "table(char$metabolic_syndrome)/nrow(char)\n",
    "describe(char$body_mass_index_bmi_21001.0.0.x)\n",
    "table(char$liver_disease.x)/nrow(char)\n",
    "table(char$pulmonary_disease.x)/nrow(char)\n",
    "table(char$cardiovascular_disease.x)/nrow(char)\n",
    "table(char$kidney_disease.x)/nrow(char)"
   ]
  },
  {
   "cell_type": "markdown",
   "metadata": {},
   "source": [
    "## COVID mortality group"
   ]
  },
  {
   "cell_type": "code",
   "execution_count": 20,
   "metadata": {
    "scrolled": false
   },
   "outputs": [
    {
     "data": {
      "text/plain": [
       "\n",
       "1 \n",
       "1 "
      ]
     },
     "metadata": {},
     "output_type": "display_data"
    },
    {
     "data": {
      "text/html": [
       "<table>\n",
       "<thead><tr><th></th><th scope=col>vars</th><th scope=col>n</th><th scope=col>mean</th><th scope=col>sd</th><th scope=col>median</th><th scope=col>trimmed</th><th scope=col>mad</th><th scope=col>min</th><th scope=col>max</th><th scope=col>range</th><th scope=col>skew</th><th scope=col>kurtosis</th><th scope=col>se</th></tr></thead>\n",
       "<tbody>\n",
       "\t<tr><th scope=row>X1</th><td>1        </td><td>178      </td><td>1945.713 </td><td>6.271804 </td><td>1944     </td><td>1944.861 </td><td>4.4478   </td><td>1938     </td><td>1966     </td><td>28       </td><td>1.165013 </td><td>0.7943956</td><td>0.4700916</td></tr>\n",
       "</tbody>\n",
       "</table>\n"
      ],
      "text/latex": [
       "\\begin{tabular}{r|lllllllllllll}\n",
       "  & vars & n & mean & sd & median & trimmed & mad & min & max & range & skew & kurtosis & se\\\\\n",
       "\\hline\n",
       "\tX1 & 1         & 178       & 1945.713  & 6.271804  & 1944      & 1944.861  & 4.4478    & 1938      & 1966      & 28        & 1.165013  & 0.7943956 & 0.4700916\\\\\n",
       "\\end{tabular}\n"
      ],
      "text/markdown": [
       "\n",
       "| <!--/--> | vars | n | mean | sd | median | trimmed | mad | min | max | range | skew | kurtosis | se |\n",
       "|---|---|---|---|---|---|---|---|---|---|---|---|---|---|\n",
       "| X1 | 1         | 178       | 1945.713  | 6.271804  | 1944      | 1944.861  | 4.4478    | 1938      | 1966      | 28        | 1.165013  | 0.7943956 | 0.4700916 |\n",
       "\n"
      ],
      "text/plain": [
       "   vars n   mean     sd       median trimmed  mad    min  max  range skew    \n",
       "X1 1    178 1945.713 6.271804 1944   1944.861 4.4478 1938 1966 28    1.165013\n",
       "   kurtosis  se       \n",
       "X1 0.7943956 0.4700916"
      ]
     },
     "metadata": {},
     "output_type": "display_data"
    },
    {
     "data": {
      "text/plain": [
       "\n",
       "   Female      Male \n",
       "0.3651685 0.6348315 "
      ]
     },
     "metadata": {},
     "output_type": "display_data"
    },
    {
     "data": {
      "text/html": [
       "<table>\n",
       "<thead><tr><th></th><th scope=col>vars</th><th scope=col>n</th><th scope=col>mean</th><th scope=col>sd</th><th scope=col>median</th><th scope=col>trimmed</th><th scope=col>mad</th><th scope=col>min</th><th scope=col>max</th><th scope=col>range</th><th scope=col>skew</th><th scope=col>kurtosis</th><th scope=col>se</th></tr></thead>\n",
       "<tbody>\n",
       "\t<tr><th scope=row>X1</th><td>1        </td><td>178      </td><td>98.49382 </td><td>14.31479 </td><td>97       </td><td>98.08542 </td><td>13.3434  </td><td>68       </td><td>142      </td><td>74       </td><td>0.3634926</td><td>0.1341182</td><td>1.072939 </td></tr>\n",
       "</tbody>\n",
       "</table>\n"
      ],
      "text/latex": [
       "\\begin{tabular}{r|lllllllllllll}\n",
       "  & vars & n & mean & sd & median & trimmed & mad & min & max & range & skew & kurtosis & se\\\\\n",
       "\\hline\n",
       "\tX1 & 1         & 178       & 98.49382  & 14.31479  & 97        & 98.08542  & 13.3434   & 68        & 142       & 74        & 0.3634926 & 0.1341182 & 1.072939 \\\\\n",
       "\\end{tabular}\n"
      ],
      "text/markdown": [
       "\n",
       "| <!--/--> | vars | n | mean | sd | median | trimmed | mad | min | max | range | skew | kurtosis | se |\n",
       "|---|---|---|---|---|---|---|---|---|---|---|---|---|---|\n",
       "| X1 | 1         | 178       | 98.49382  | 14.31479  | 97        | 98.08542  | 13.3434   | 68        | 142       | 74        | 0.3634926 | 0.1341182 | 1.072939  |\n",
       "\n"
      ],
      "text/plain": [
       "   vars n   mean     sd       median trimmed  mad     min max range skew     \n",
       "X1 1    178 98.49382 14.31479 97     98.08542 13.3434 68  142 74    0.3634926\n",
       "   kurtosis  se      \n",
       "X1 0.1341182 1.072939"
      ]
     },
     "metadata": {},
     "output_type": "display_data"
    },
    {
     "data": {
      "text/html": [
       "<table>\n",
       "<thead><tr><th></th><th scope=col>vars</th><th scope=col>n</th><th scope=col>mean</th><th scope=col>sd</th><th scope=col>median</th><th scope=col>trimmed</th><th scope=col>mad</th><th scope=col>min</th><th scope=col>max</th><th scope=col>range</th><th scope=col>skew</th><th scope=col>kurtosis</th><th scope=col>se</th></tr></thead>\n",
       "<tbody>\n",
       "\t<tr><th scope=row>X1</th><td>1        </td><td>178      </td><td>36.9382  </td><td>5.186053 </td><td>36.15    </td><td>36.59722 </td><td>4.22541  </td><td>23.2     </td><td>55.8     </td><td>32.6     </td><td>0.8262966</td><td>1.692996 </td><td>0.3887111</td></tr>\n",
       "</tbody>\n",
       "</table>\n"
      ],
      "text/latex": [
       "\\begin{tabular}{r|lllllllllllll}\n",
       "  & vars & n & mean & sd & median & trimmed & mad & min & max & range & skew & kurtosis & se\\\\\n",
       "\\hline\n",
       "\tX1 & 1         & 178       & 36.9382   & 5.186053  & 36.15     & 36.59722  & 4.22541   & 23.2      & 55.8      & 32.6      & 0.8262966 & 1.692996  & 0.3887111\\\\\n",
       "\\end{tabular}\n"
      ],
      "text/markdown": [
       "\n",
       "| <!--/--> | vars | n | mean | sd | median | trimmed | mad | min | max | range | skew | kurtosis | se |\n",
       "|---|---|---|---|---|---|---|---|---|---|---|---|---|---|\n",
       "| X1 | 1         | 178       | 36.9382   | 5.186053  | 36.15     | 36.59722  | 4.22541   | 23.2      | 55.8      | 32.6      | 0.8262966 | 1.692996  | 0.3887111 |\n",
       "\n"
      ],
      "text/plain": [
       "   vars n   mean    sd       median trimmed  mad     min  max  range skew     \n",
       "X1 1    178 36.9382 5.186053 36.15  36.59722 4.22541 23.2 55.8 32.6  0.8262966\n",
       "   kurtosis se       \n",
       "X1 1.692996 0.3887111"
      ]
     },
     "metadata": {},
     "output_type": "display_data"
    },
    {
     "data": {
      "text/html": [
       "<table>\n",
       "<thead><tr><th></th><th scope=col>vars</th><th scope=col>n</th><th scope=col>mean</th><th scope=col>sd</th><th scope=col>median</th><th scope=col>trimmed</th><th scope=col>mad</th><th scope=col>min</th><th scope=col>max</th><th scope=col>range</th><th scope=col>skew</th><th scope=col>kurtosis</th><th scope=col>se</th></tr></thead>\n",
       "<tbody>\n",
       "\t<tr><th scope=row>X1</th><td>1        </td><td>178      </td><td>4.009888 </td><td>7.256367 </td><td>2.1      </td><td>2.611736 </td><td>2.090466 </td><td>0.1      </td><td>63.93    </td><td>63.83    </td><td>5.48888  </td><td>36.28048 </td><td>0.5438877</td></tr>\n",
       "</tbody>\n",
       "</table>\n"
      ],
      "text/latex": [
       "\\begin{tabular}{r|lllllllllllll}\n",
       "  & vars & n & mean & sd & median & trimmed & mad & min & max & range & skew & kurtosis & se\\\\\n",
       "\\hline\n",
       "\tX1 & 1         & 178       & 4.009888  & 7.256367  & 2.1       & 2.611736  & 2.090466  & 0.1       & 63.93     & 63.83     & 5.48888   & 36.28048  & 0.5438877\\\\\n",
       "\\end{tabular}\n"
      ],
      "text/markdown": [
       "\n",
       "| <!--/--> | vars | n | mean | sd | median | trimmed | mad | min | max | range | skew | kurtosis | se |\n",
       "|---|---|---|---|---|---|---|---|---|---|---|---|---|---|\n",
       "| X1 | 1         | 178       | 4.009888  | 7.256367  | 2.1       | 2.611736  | 2.090466  | 0.1       | 63.93     | 63.83     | 5.48888   | 36.28048  | 0.5438877 |\n",
       "\n"
      ],
      "text/plain": [
       "   vars n   mean     sd       median trimmed  mad      min max   range skew   \n",
       "X1 1    178 4.009888 7.256367 2.1    2.611736 2.090466 0.1 63.93 63.83 5.48888\n",
       "   kurtosis se       \n",
       "X1 36.28048 0.5438877"
      ]
     },
     "metadata": {},
     "output_type": "display_data"
    },
    {
     "data": {
      "text/html": [
       "<table>\n",
       "<thead><tr><th></th><th scope=col>vars</th><th scope=col>n</th><th scope=col>mean</th><th scope=col>sd</th><th scope=col>median</th><th scope=col>trimmed</th><th scope=col>mad</th><th scope=col>min</th><th scope=col>max</th><th scope=col>range</th><th scope=col>skew</th><th scope=col>kurtosis</th><th scope=col>se</th></tr></thead>\n",
       "<tbody>\n",
       "\t<tr><th scope=row>X1</th><td>1         </td><td>178       </td><td>5.201433  </td><td>0.7431392 </td><td>5.134     </td><td>5.169382  </td><td>0.6642048 </td><td>3.431     </td><td>7.498     </td><td>4.067     </td><td>0.4387478 </td><td>0.2639085 </td><td>0.05570064</td></tr>\n",
       "</tbody>\n",
       "</table>\n"
      ],
      "text/latex": [
       "\\begin{tabular}{r|lllllllllllll}\n",
       "  & vars & n & mean & sd & median & trimmed & mad & min & max & range & skew & kurtosis & se\\\\\n",
       "\\hline\n",
       "\tX1 & 1          & 178        & 5.201433   & 0.7431392  & 5.134      & 5.169382   & 0.6642048  & 3.431      & 7.498      & 4.067      & 0.4387478  & 0.2639085  & 0.05570064\\\\\n",
       "\\end{tabular}\n"
      ],
      "text/markdown": [
       "\n",
       "| <!--/--> | vars | n | mean | sd | median | trimmed | mad | min | max | range | skew | kurtosis | se |\n",
       "|---|---|---|---|---|---|---|---|---|---|---|---|---|---|\n",
       "| X1 | 1          | 178        | 5.201433   | 0.7431392  | 5.134      | 5.169382   | 0.6642048  | 3.431      | 7.498      | 4.067      | 0.4387478  | 0.2639085  | 0.05570064 |\n",
       "\n"
      ],
      "text/plain": [
       "   vars n   mean     sd        median trimmed  mad       min   max   range\n",
       "X1 1    178 5.201433 0.7431392 5.134  5.169382 0.6642048 3.431 7.498 4.067\n",
       "   skew      kurtosis  se        \n",
       "X1 0.4387478 0.2639085 0.05570064"
      ]
     },
     "metadata": {},
     "output_type": "display_data"
    },
    {
     "data": {
      "text/html": [
       "<table>\n",
       "<thead><tr><th></th><th scope=col>vars</th><th scope=col>n</th><th scope=col>mean</th><th scope=col>sd</th><th scope=col>median</th><th scope=col>trimmed</th><th scope=col>mad</th><th scope=col>min</th><th scope=col>max</th><th scope=col>range</th><th scope=col>skew</th><th scope=col>kurtosis</th><th scope=col>se</th></tr></thead>\n",
       "<tbody>\n",
       "\t<tr><th scope=row>X1</th><td>1        </td><td>178      </td><td>1.341579 </td><td>0.3086621</td><td>1.2995   </td><td>1.321139 </td><td>0.2883657</td><td>0.723    </td><td>2.41     </td><td>1.687    </td><td>0.7339677</td><td>0.72603  </td><td>0.0231352</td></tr>\n",
       "</tbody>\n",
       "</table>\n"
      ],
      "text/latex": [
       "\\begin{tabular}{r|lllllllllllll}\n",
       "  & vars & n & mean & sd & median & trimmed & mad & min & max & range & skew & kurtosis & se\\\\\n",
       "\\hline\n",
       "\tX1 & 1         & 178       & 1.341579  & 0.3086621 & 1.2995    & 1.321139  & 0.2883657 & 0.723     & 2.41      & 1.687     & 0.7339677 & 0.72603   & 0.0231352\\\\\n",
       "\\end{tabular}\n"
      ],
      "text/markdown": [
       "\n",
       "| <!--/--> | vars | n | mean | sd | median | trimmed | mad | min | max | range | skew | kurtosis | se |\n",
       "|---|---|---|---|---|---|---|---|---|---|---|---|---|---|\n",
       "| X1 | 1         | 178       | 1.341579  | 0.3086621 | 1.2995    | 1.321139  | 0.2883657 | 0.723     | 2.41      | 1.687     | 0.7339677 | 0.72603   | 0.0231352 |\n",
       "\n"
      ],
      "text/plain": [
       "   vars n   mean     sd        median trimmed  mad       min   max  range\n",
       "X1 1    178 1.341579 0.3086621 1.2995 1.321139 0.2883657 0.723 2.41 1.687\n",
       "   skew      kurtosis se       \n",
       "X1 0.7339677 0.72603  0.0231352"
      ]
     },
     "metadata": {},
     "output_type": "display_data"
    },
    {
     "data": {
      "text/html": [
       "<table>\n",
       "<thead><tr><th></th><th scope=col>vars</th><th scope=col>n</th><th scope=col>mean</th><th scope=col>sd</th><th scope=col>median</th><th scope=col>trimmed</th><th scope=col>mad</th><th scope=col>min</th><th scope=col>max</th><th scope=col>range</th><th scope=col>skew</th><th scope=col>kurtosis</th><th scope=col>se</th></tr></thead>\n",
       "<tbody>\n",
       "\t<tr><th scope=row>X1</th><td>1         </td><td>178       </td><td>1.881326  </td><td>1.008673  </td><td>1.628     </td><td>1.747535  </td><td>0.8072757 </td><td>0.495     </td><td>5.284     </td><td>4.789     </td><td>1.178204  </td><td>0.8874791 </td><td>0.07560321</td></tr>\n",
       "</tbody>\n",
       "</table>\n"
      ],
      "text/latex": [
       "\\begin{tabular}{r|lllllllllllll}\n",
       "  & vars & n & mean & sd & median & trimmed & mad & min & max & range & skew & kurtosis & se\\\\\n",
       "\\hline\n",
       "\tX1 & 1          & 178        & 1.881326   & 1.008673   & 1.628      & 1.747535   & 0.8072757  & 0.495      & 5.284      & 4.789      & 1.178204   & 0.8874791  & 0.07560321\\\\\n",
       "\\end{tabular}\n"
      ],
      "text/markdown": [
       "\n",
       "| <!--/--> | vars | n | mean | sd | median | trimmed | mad | min | max | range | skew | kurtosis | se |\n",
       "|---|---|---|---|---|---|---|---|---|---|---|---|---|---|\n",
       "| X1 | 1          | 178        | 1.881326   | 1.008673   | 1.628      | 1.747535   | 0.8072757  | 0.495      | 5.284      | 4.789      | 1.178204   | 0.8874791  | 0.07560321 |\n",
       "\n"
      ],
      "text/plain": [
       "   vars n   mean     sd       median trimmed  mad       min   max   range\n",
       "X1 1    178 1.881326 1.008673 1.628  1.747535 0.8072757 0.495 5.284 4.789\n",
       "   skew     kurtosis  se        \n",
       "X1 1.178204 0.8874791 0.07560321"
      ]
     },
     "metadata": {},
     "output_type": "display_data"
    },
    {
     "data": {
      "text/html": [
       "<table>\n",
       "<thead><tr><th></th><th scope=col>vars</th><th scope=col>n</th><th scope=col>mean</th><th scope=col>sd</th><th scope=col>median</th><th scope=col>trimmed</th><th scope=col>mad</th><th scope=col>min</th><th scope=col>max</th><th scope=col>range</th><th scope=col>skew</th><th scope=col>kurtosis</th><th scope=col>se</th></tr></thead>\n",
       "<tbody>\n",
       "\t<tr><th scope=row>X1</th><td>1          </td><td>178        </td><td>145.736    </td><td>18.42868   </td><td>146.75     </td><td>145.1181   </td><td>18.16185   </td><td>104        </td><td>202.5      </td><td>98.5       </td><td>0.2734459  </td><td>-0.01325026</td><td>1.381288   </td></tr>\n",
       "</tbody>\n",
       "</table>\n"
      ],
      "text/latex": [
       "\\begin{tabular}{r|lllllllllllll}\n",
       "  & vars & n & mean & sd & median & trimmed & mad & min & max & range & skew & kurtosis & se\\\\\n",
       "\\hline\n",
       "\tX1 & 1           & 178         & 145.736     & 18.42868    & 146.75      & 145.1181    & 18.16185    & 104         & 202.5       & 98.5        & 0.2734459   & -0.01325026 & 1.381288   \\\\\n",
       "\\end{tabular}\n"
      ],
      "text/markdown": [
       "\n",
       "| <!--/--> | vars | n | mean | sd | median | trimmed | mad | min | max | range | skew | kurtosis | se |\n",
       "|---|---|---|---|---|---|---|---|---|---|---|---|---|---|\n",
       "| X1 | 1           | 178         | 145.736     | 18.42868    | 146.75      | 145.1181    | 18.16185    | 104         | 202.5       | 98.5        | 0.2734459   | -0.01325026 | 1.381288    |\n",
       "\n"
      ],
      "text/plain": [
       "   vars n   mean    sd       median trimmed  mad      min max   range skew     \n",
       "X1 1    178 145.736 18.42868 146.75 145.1181 18.16185 104 202.5 98.5  0.2734459\n",
       "   kurtosis    se      \n",
       "X1 -0.01325026 1.381288"
      ]
     },
     "metadata": {},
     "output_type": "display_data"
    },
    {
     "data": {
      "text/html": [
       "<table>\n",
       "<thead><tr><th></th><th scope=col>vars</th><th scope=col>n</th><th scope=col>mean</th><th scope=col>sd</th><th scope=col>median</th><th scope=col>trimmed</th><th scope=col>mad</th><th scope=col>min</th><th scope=col>max</th><th scope=col>range</th><th scope=col>skew</th><th scope=col>kurtosis</th><th scope=col>se</th></tr></thead>\n",
       "<tbody>\n",
       "\t<tr><th scope=row>X1</th><td>1         </td><td>178       </td><td>83.98876  </td><td>10.0649   </td><td>84.25     </td><td>83.76736  </td><td>9.6369    </td><td>58.5      </td><td>110.5     </td><td>52        </td><td>0.186352  </td><td>0.08562666</td><td>0.7543959 </td></tr>\n",
       "</tbody>\n",
       "</table>\n"
      ],
      "text/latex": [
       "\\begin{tabular}{r|lllllllllllll}\n",
       "  & vars & n & mean & sd & median & trimmed & mad & min & max & range & skew & kurtosis & se\\\\\n",
       "\\hline\n",
       "\tX1 & 1          & 178        & 83.98876   & 10.0649    & 84.25      & 83.76736   & 9.6369     & 58.5       & 110.5      & 52         & 0.186352   & 0.08562666 & 0.7543959 \\\\\n",
       "\\end{tabular}\n"
      ],
      "text/markdown": [
       "\n",
       "| <!--/--> | vars | n | mean | sd | median | trimmed | mad | min | max | range | skew | kurtosis | se |\n",
       "|---|---|---|---|---|---|---|---|---|---|---|---|---|---|\n",
       "| X1 | 1          | 178        | 83.98876   | 10.0649    | 84.25      | 83.76736   | 9.6369     | 58.5       | 110.5      | 52         | 0.186352   | 0.08562666 | 0.7543959  |\n",
       "\n"
      ],
      "text/plain": [
       "   vars n   mean     sd      median trimmed  mad    min  max   range skew    \n",
       "X1 1    178 83.98876 10.0649 84.25  83.76736 9.6369 58.5 110.5 52    0.186352\n",
       "   kurtosis   se       \n",
       "X1 0.08562666 0.7543959"
      ]
     },
     "metadata": {},
     "output_type": "display_data"
    },
    {
     "data": {
      "text/plain": [
       "\n",
       "        0         1 \n",
       "0.8483146 0.1516854 "
      ]
     },
     "metadata": {},
     "output_type": "display_data"
    },
    {
     "data": {
      "text/plain": [
       "\n",
       "        0         1 \n",
       "0.3764045 0.6235955 "
      ]
     },
     "metadata": {},
     "output_type": "display_data"
    },
    {
     "data": {
      "text/plain": [
       "\n",
       "    FALSE      TRUE \n",
       "0.6404494 0.3595506 "
      ]
     },
     "metadata": {},
     "output_type": "display_data"
    },
    {
     "data": {
      "text/plain": [
       "\n",
       "         0          1 \n",
       "0.95505618 0.04494382 "
      ]
     },
     "metadata": {},
     "output_type": "display_data"
    },
    {
     "data": {
      "text/html": [
       "<table>\n",
       "<thead><tr><th></th><th scope=col>vars</th><th scope=col>n</th><th scope=col>mean</th><th scope=col>sd</th><th scope=col>median</th><th scope=col>trimmed</th><th scope=col>mad</th><th scope=col>min</th><th scope=col>max</th><th scope=col>range</th><th scope=col>skew</th><th scope=col>kurtosis</th><th scope=col>se</th></tr></thead>\n",
       "<tbody>\n",
       "\t<tr><th scope=row>X1</th><td>1        </td><td>178      </td><td>29.56625 </td><td>6.058656 </td><td>28.4333  </td><td>28.97581 </td><td>4.944026 </td><td>16.2785  </td><td>56.263   </td><td>39.9845  </td><td>1.090487 </td><td>1.736722 </td><td>0.4541154</td></tr>\n",
       "</tbody>\n",
       "</table>\n"
      ],
      "text/latex": [
       "\\begin{tabular}{r|lllllllllllll}\n",
       "  & vars & n & mean & sd & median & trimmed & mad & min & max & range & skew & kurtosis & se\\\\\n",
       "\\hline\n",
       "\tX1 & 1         & 178       & 29.56625  & 6.058656  & 28.4333   & 28.97581  & 4.944026  & 16.2785   & 56.263    & 39.9845   & 1.090487  & 1.736722  & 0.4541154\\\\\n",
       "\\end{tabular}\n"
      ],
      "text/markdown": [
       "\n",
       "| <!--/--> | vars | n | mean | sd | median | trimmed | mad | min | max | range | skew | kurtosis | se |\n",
       "|---|---|---|---|---|---|---|---|---|---|---|---|---|---|\n",
       "| X1 | 1         | 178       | 29.56625  | 6.058656  | 28.4333   | 28.97581  | 4.944026  | 16.2785   | 56.263    | 39.9845   | 1.090487  | 1.736722  | 0.4541154 |\n",
       "\n"
      ],
      "text/plain": [
       "   vars n   mean     sd       median  trimmed  mad      min     max    range  \n",
       "X1 1    178 29.56625 6.058656 28.4333 28.97581 4.944026 16.2785 56.263 39.9845\n",
       "   skew     kurtosis se       \n",
       "X1 1.090487 1.736722 0.4541154"
      ]
     },
     "metadata": {},
     "output_type": "display_data"
    },
    {
     "data": {
      "text/plain": [
       "\n",
       "         0          1 \n",
       "0.98314607 0.01685393 "
      ]
     },
     "metadata": {},
     "output_type": "display_data"
    },
    {
     "data": {
      "text/plain": [
       "\n",
       "        0         1 \n",
       "0.7078652 0.2921348 "
      ]
     },
     "metadata": {},
     "output_type": "display_data"
    },
    {
     "data": {
      "text/plain": [
       "\n",
       "       0        1 \n",
       "0.747191 0.252809 "
      ]
     },
     "metadata": {},
     "output_type": "display_data"
    },
    {
     "data": {
      "text/plain": [
       "\n",
       "        0         1 \n",
       "0.8932584 0.1067416 "
      ]
     },
     "metadata": {},
     "output_type": "display_data"
    }
   ],
   "source": [
    "char_pos=merge(COVinf, coviddeath, by='eid', all.x=TRUE)\n",
    "char_pos=char_pos[char_pos$level.x==1,]\n",
    "char=char_pos\n",
    "table(char$level.x)/nrow(char)\n",
    "describe(char$year_of_birth_34.0.0.x)\n",
    "table(char$sex_31.0.0.x)/nrow(char)\n",
    "describe(char$waist_circumference_48.0.0.x)\n",
    "describe(char$glycated_haemoglobin_hba1c_30750.0.0.x)\n",
    "describe(char$c.reactive_protein_30710.0.0)\n",
    "describe(char$glucose_30740.0.0.x)\n",
    "describe(char$hdl_cholesterol_30760.0.0.x)\n",
    "describe(char$triglycerides_30870.0.0)\n",
    "describe((rowMeans(cbind(char$systolic_blood_pressure_automated_reading_4080.0.0,\n",
    "                                      char$systolic_blood_pressure_automated_reading_4080.0.1))))\n",
    "describe(rowMeans(cbind(char$diastolic_blood_pressure_automated_reading_4079.0.0,\n",
    "                                       char$diastolic_blood_pressure_automated_reading_4079.0.1)))\n",
    "table(char$Diabetes.x)/nrow(char)\n",
    "table(char$Hypertension.x)/nrow(char)\n",
    "table(char$body_mass_index_bmi_21001.0.0.x>30)/nrow(char)\n",
    "table(char$metabolic_syndrome)/nrow(char)\n",
    "describe(char$body_mass_index_bmi_21001.0.0.x)\n",
    "table(char$liver_disease.x)/nrow(char)\n",
    "table(char$pulmonary_disease.x)/nrow(char)\n",
    "table(char$cardiovascular_disease.x)/nrow(char)\n",
    "table(char$kidney_disease.x)/nrow(char)"
   ]
  },
  {
   "cell_type": "code",
   "execution_count": 21,
   "metadata": {},
   "outputs": [
    {
     "data": {
      "text/plain": [
       "\n",
       "\tWelch Two Sample t-test\n",
       "\n",
       "data:  char_pos$waist_circumference_48.0.0.x and char_neg$waist_circumference_48.0.0.x\n",
       "t = 5.1201, df = 239.57, p-value = 6.274e-07\n",
       "alternative hypothesis: true difference in means is not equal to 0\n",
       "95 percent confidence interval:\n",
       " 3.650257 8.215528\n",
       "sample estimates:\n",
       "mean of x mean of y \n",
       " 98.49382  92.56093 \n"
      ]
     },
     "metadata": {},
     "output_type": "display_data"
    },
    {
     "data": {
      "text/plain": [
       "\n",
       "\tWelch Two Sample t-test\n",
       "\n",
       "data:  char_pos$glycated_haemoglobin_hba1c_30750.0.0.x and char_neg$glycated_haemoglobin_hba1c_30750.0.0.x\n",
       "t = 2.8985, df = 231.58, p-value = 0.00411\n",
       "alternative hypothesis: true difference in means is not equal to 0\n",
       "95 percent confidence interval:\n",
       " 0.3862555 2.0260253\n",
       "sample estimates:\n",
       "mean of x mean of y \n",
       " 36.93820  35.73206 \n"
      ]
     },
     "metadata": {},
     "output_type": "display_data"
    },
    {
     "data": {
      "text/plain": [
       "\n",
       "\tWelch Two Sample t-test\n",
       "\n",
       "data:  char_pos$c.reactive_protein_30710.0.0 and char_neg$c.reactive_protein_30710.0.0\n",
       "t = 2.1067, df = 205.42, p-value = 0.03636\n",
       "alternative hypothesis: true difference in means is not equal to 0\n",
       "95 percent confidence interval:\n",
       " 0.07628592 2.30289142\n",
       "sample estimates:\n",
       "mean of x mean of y \n",
       " 4.009888  2.820299 \n"
      ]
     },
     "metadata": {},
     "output_type": "display_data"
    },
    {
     "data": {
      "text/plain": [
       "\n",
       "\tWelch Two Sample t-test\n",
       "\n",
       "data:  char_pos$glucose_30740.0.0.x and char_neg$glucose_30740.0.0.x\n",
       "t = 4.1878, df = 225.76, p-value = 4.04e-05\n",
       "alternative hypothesis: true difference in means is not equal to 0\n",
       "95 percent confidence interval:\n",
       " 0.1313527 0.3648239\n",
       "sample estimates:\n",
       "mean of x mean of y \n",
       " 5.201433  4.953344 \n"
      ]
     },
     "metadata": {},
     "output_type": "display_data"
    },
    {
     "data": {
      "text/plain": [
       "\n",
       "\tWelch Two Sample t-test\n",
       "\n",
       "data:  char_pos$hdl_cholesterol_30760.0.0.x and char_neg$hdl_cholesterol_30760.0.0.x\n",
       "t = -0.906, df = 267.18, p-value = 0.3658\n",
       "alternative hypothesis: true difference in means is not equal to 0\n",
       "95 percent confidence interval:\n",
       " -0.07390773  0.02732483\n",
       "sample estimates:\n",
       "mean of x mean of y \n",
       " 1.341579  1.364870 \n"
      ]
     },
     "metadata": {},
     "output_type": "display_data"
    },
    {
     "data": {
      "text/plain": [
       "\n",
       "\tWelch Two Sample t-test\n",
       "\n",
       "data:  char_pos$triglycerides_30870.0.0 and char_neg$triglycerides_30870.0.0\n",
       "t = 1.2662, df = 252.18, p-value = 0.2066\n",
       "alternative hypothesis: true difference in means is not equal to 0\n",
       "95 percent confidence interval:\n",
       " -0.05818773  0.26773632\n",
       "sample estimates:\n",
       "mean of x mean of y \n",
       " 1.881326  1.776552 \n"
      ]
     },
     "metadata": {},
     "output_type": "display_data"
    },
    {
     "data": {
      "text/plain": [
       "\n",
       "\tWelch Two Sample t-test\n",
       "\n",
       "data:  char_pos$systolicBP.x and char_neg$systolicBP.x\n",
       "t = 6.7097, df = 244.21, p-value = 1.349e-10\n",
       "alternative hypothesis: true difference in means is not equal to 0\n",
       "95 percent confidence interval:\n",
       " 0.381435 0.698449\n",
       "sample estimates:\n",
       " mean of x  mean of y \n",
       " 0.4216009 -0.1183410 \n"
      ]
     },
     "metadata": {},
     "output_type": "display_data"
    },
    {
     "data": {
      "text/plain": [
       "\n",
       "\tWelch Two Sample t-test\n",
       "\n",
       "data:  char_pos$diastolicBP.x and char_neg$diastolicBP.x\n",
       "t = 2.1835, df = 249.89, p-value = 0.02993\n",
       "alternative hypothesis: true difference in means is not equal to 0\n",
       "95 percent confidence interval:\n",
       " 0.01713785 0.33261341\n",
       "sample estimates:\n",
       " mean of x  mean of y \n",
       " 0.1451191 -0.0297565 \n"
      ]
     },
     "metadata": {},
     "output_type": "display_data"
    },
    {
     "data": {
      "text/plain": [
       "\n",
       "\tPearson's Chi-squared test with Yates' continuity correction\n",
       "\n",
       "data:  rbind(table(char_pos$sex_31.0.0.x), table(char_neg$sex_31.0.0.x))\n",
       "X-squared = 9.0177, df = 1, p-value = 0.002674\n"
      ]
     },
     "metadata": {},
     "output_type": "display_data"
    },
    {
     "data": {
      "text/plain": [
       "\n",
       "\tPearson's Chi-squared test with Yates' continuity correction\n",
       "\n",
       "data:  rbind(table(char_pos$Diabetes.x), table(char_neg$Diabetes.x))\n",
       "X-squared = 6.5688, df = 1, p-value = 0.01038\n"
      ]
     },
     "metadata": {},
     "output_type": "display_data"
    },
    {
     "data": {
      "text/plain": [
       "\n",
       "\tPearson's Chi-squared test with Yates' continuity correction\n",
       "\n",
       "data:  rbind(table(char_pos$Hypertension.x), table(char_neg$Hypertension.x))\n",
       "X-squared = 35.24, df = 1, p-value = 2.915e-09\n"
      ]
     },
     "metadata": {},
     "output_type": "display_data"
    },
    {
     "data": {
      "text/plain": [
       "\n",
       "\tPearson's Chi-squared test with Yates' continuity correction\n",
       "\n",
       "data:  rbind(table(char_pos$metabolic_syndrome), table(char_neg$metabolic_syndrome))\n",
       "X-squared = 7.5161, df = 1, p-value = 0.006115\n"
      ]
     },
     "metadata": {},
     "output_type": "display_data"
    },
    {
     "data": {
      "text/plain": [
       "\n",
       "\tWelch Two Sample t-test\n",
       "\n",
       "data:  char_pos$year_of_birth_34.0.0.x and char_neg$year_of_birth_34.0.0.x\n",
       "t = -14.015, df = 329.46, p-value < 2.2e-16\n",
       "alternative hypothesis: true difference in means is not equal to 0\n",
       "95 percent confidence interval:\n",
       " -8.833613 -6.659008\n",
       "sample estimates:\n",
       "mean of x mean of y \n",
       " 1945.713  1953.460 \n"
      ]
     },
     "metadata": {},
     "output_type": "display_data"
    },
    {
     "data": {
      "text/plain": [
       "\n",
       "\tWelch Two Sample t-test\n",
       "\n",
       "data:  char_pos$body_mass_index_bmi_21001.0.0.x and char_neg$body_mass_index_bmi_21001.0.0.x\n",
       "t = 2.7979, df = 222.56, p-value = 0.005594\n",
       "alternative hypothesis: true difference in means is not equal to 0\n",
       "95 percent confidence interval:\n",
       " 0.3980709 2.2946882\n",
       "sample estimates:\n",
       "mean of x mean of y \n",
       " 29.56625  28.21987 \n"
      ]
     },
     "metadata": {},
     "output_type": "display_data"
    },
    {
     "data": {
      "text/plain": [
       "\n",
       "\tPearson's Chi-squared test with Yates' continuity correction\n",
       "\n",
       "data:  rbind(table(char_pos$pulmonary_disease.x), table(char_neg$pulmonary_disease.x))\n",
       "X-squared = 1.2886, df = 1, p-value = 0.2563\n"
      ]
     },
     "metadata": {},
     "output_type": "display_data"
    },
    {
     "data": {
      "text/plain": [
       "\n",
       "\tPearson's Chi-squared test with Yates' continuity correction\n",
       "\n",
       "data:  rbind(table(char_pos$cardiovascular_disease.x), table(char_neg$cardiovascular_disease.x))\n",
       "X-squared = 15.519, df = 1, p-value = 8.166e-05\n"
      ]
     },
     "metadata": {},
     "output_type": "display_data"
    },
    {
     "data": {
      "text/plain": [
       "\n",
       "\tPearson's Chi-squared test with Yates' continuity correction\n",
       "\n",
       "data:  rbind(table(char_pos$kidney_disease.x), table(char_neg$kidney_disease.x))\n",
       "X-squared = 2.2146, df = 1, p-value = 0.1367\n"
      ]
     },
     "metadata": {},
     "output_type": "display_data"
    },
    {
     "data": {
      "text/plain": [
       "\n",
       "\tPearson's Chi-squared test with Yates' continuity correction\n",
       "\n",
       "data:  rbind(table(char_pos$liver_disease.x), table(char_neg$liver_disease.x))\n",
       "X-squared = 0.26815, df = 1, p-value = 0.6046\n"
      ]
     },
     "metadata": {},
     "output_type": "display_data"
    },
    {
     "data": {
      "text/plain": [
       "\n",
       "\tPearson's Chi-squared test with Yates' continuity correction\n",
       "\n",
       "data:  rbind(table(char_pos$body_mass_index_bmi_21001.0.0.x > 30), table(char_neg$body_mass_index_bmi_21001.0.0.x >     30))\n",
       "X-squared = 2.7688, df = 1, p-value = 0.09612\n"
      ]
     },
     "metadata": {},
     "output_type": "display_data"
    }
   ],
   "source": [
    "t.test(char_pos$waist_circumference_48.0.0.x,char_neg$waist_circumference_48.0.0.x)\n",
    "t.test(char_pos$glycated_haemoglobin_hba1c_30750.0.0.x,char_neg$glycated_haemoglobin_hba1c_30750.0.0.x)\n",
    "t.test(char_pos$c.reactive_protein_30710.0.0,char_neg$c.reactive_protein_30710.0.0)\n",
    "t.test(char_pos$glucose_30740.0.0.x,char_neg$glucose_30740.0.0.x)\n",
    "t.test(char_pos$hdl_cholesterol_30760.0.0.x,char_neg$hdl_cholesterol_30760.0.0.x)\n",
    "t.test(char_pos$triglycerides_30870.0.0,char_neg$triglycerides_30870.0.0)\n",
    "t.test(char_pos$systolicBP.x,char_neg$systolicBP.x)\n",
    "t.test(char_pos$diastolicBP.x,char_neg$diastolicBP.x)\n",
    "chisq.test(rbind(table(char_pos$sex_31.0.0.x),table(char_neg$sex_31.0.0.x)))\n",
    "chisq.test(rbind(table(char_pos$Diabetes.x),table(char_neg$Diabetes.x)))\n",
    "chisq.test(rbind(table(char_pos$Hypertension.x),table(char_neg$Hypertension.x)))\n",
    "chisq.test(rbind(table(char_pos$metabolic_syndrome),table(char_neg$metabolic_syndrome)))\n",
    "t.test(char_pos$year_of_birth_34.0.0.x,char_neg$year_of_birth_34.0.0.x)\n",
    "t.test(char_pos$body_mass_index_bmi_21001.0.0.x,char_neg$body_mass_index_bmi_21001.0.0.x)\n",
    "chisq.test(rbind(table(char_pos$pulmonary_disease.x),table(char_neg$pulmonary_disease.x)))\n",
    "chisq.test(rbind(table(char_pos$cardiovascular_disease.x),table(char_neg$cardiovascular_disease.x)))\n",
    "chisq.test(rbind(table(char_pos$kidney_disease.x),table(char_neg$kidney_disease.x)))\n",
    "chisq.test(rbind(table(char_pos$liver_disease.x),table(char_neg$liver_disease.x)))\n",
    "chisq.test(rbind(table(char_pos$body_mass_index_bmi_21001.0.0.x>30),table(char_neg$body_mass_index_bmi_21001.0.0.x>30)))\n"
   ]
  },
  {
   "cell_type": "markdown",
   "metadata": {},
   "source": [
    "## CFA"
   ]
  },
  {
   "cell_type": "code",
   "execution_count": 22,
   "metadata": {
    "scrolled": true
   },
   "outputs": [
    {
     "name": "stdout",
     "output_type": "stream",
     "text": [
      "lavaan 0.6-7 ended normally after 44 iterations\n",
      "\n",
      "  Estimator                                         ML\n",
      "  Optimization method                           NLMINB\n",
      "  Number of free parameters                         24\n",
      "                                                      \n",
      "  Number of observations                          1148\n",
      "                                                      \n",
      "Model Test User Model:\n",
      "                                              Standard      Robust\n",
      "  Test Statistic                               213.921     194.974\n",
      "  Degrees of freedom                                31          31\n",
      "  P-value (Chi-square)                           0.000       0.000\n",
      "  Scaling correction factor                                  1.097\n",
      "       Satorra-Bentler correction                                 \n",
      "\n",
      "Model Test Baseline Model:\n",
      "\n",
      "  Test statistic                              2371.116    2076.373\n",
      "  Degrees of freedom                                45          45\n",
      "  P-value                                        0.000       0.000\n",
      "  Scaling correction factor                                  1.142\n",
      "\n",
      "User Model versus Baseline Model:\n",
      "\n",
      "  Comparative Fit Index (CFI)                    0.921       0.919\n",
      "  Tucker-Lewis Index (TLI)                       0.886       0.883\n",
      "                                                                  \n",
      "  Robust Comparative Fit Index (CFI)                         0.922\n",
      "  Robust Tucker-Lewis Index (TLI)                            0.887\n",
      "\n",
      "Loglikelihood and Information Criteria:\n",
      "\n",
      "  Loglikelihood user model (H0)             -12799.941  -12799.941\n",
      "  Loglikelihood unrestricted model (H1)     -12692.981  -12692.981\n",
      "                                                                  \n",
      "  Akaike (AIC)                               25647.883   25647.883\n",
      "  Bayesian (BIC)                             25768.981   25768.981\n",
      "  Sample-size adjusted Bayesian (BIC)        25692.750   25692.750\n",
      "\n",
      "Root Mean Square Error of Approximation:\n",
      "\n",
      "  RMSEA                                          0.072       0.068\n",
      "  90 Percent confidence interval - lower         0.063       0.059\n",
      "  90 Percent confidence interval - upper         0.081       0.077\n",
      "  P-value RMSEA <= 0.05                          0.000       0.000\n",
      "                                                                  \n",
      "  Robust RMSEA                                               0.071\n",
      "  90 Percent confidence interval - lower                     0.062\n",
      "  90 Percent confidence interval - upper                     0.081\n",
      "\n",
      "Standardized Root Mean Square Residual:\n",
      "\n",
      "  SRMR                                           0.049       0.049\n",
      "\n",
      "Parameter Estimates:\n",
      "\n",
      "  Standard errors                           Robust.sem\n",
      "  Information                                 Expected\n",
      "  Information saturated (h1) model          Structured\n",
      "\n",
      "Latent Variables:\n",
      "                        Estimate  Std.Err  z-value  P(>|z|)   Std.lv  Std.all\n",
      "  HypertensionLatent =~                                                      \n",
      "    diastolcBP             1.000                               0.385    0.386\n",
      "    systolicBP             1.266    0.100   12.700    0.000    0.488    0.490\n",
      "    Hypertensn             0.917    0.142    6.453    0.000    0.353    0.716\n",
      "  DiabetesLatent =~                                                          \n",
      "    HbA1c                  1.000                               0.707    0.746\n",
      "    glucose                0.461    0.068    6.732    0.000    0.326    0.339\n",
      "    Diabetes               0.251    0.027    9.228    0.000    0.178    0.602\n",
      "  DysL =~                                                                    \n",
      "    TG         (a)         1.000                               0.628    0.643\n",
      "    HDL        (a)         1.000                               0.628    0.637\n",
      "  MetS =~                                                                    \n",
      "    Waist                  1.000                               0.804    0.824\n",
      "    DysL                   0.542    0.044   12.280    0.000    0.694    0.694\n",
      "    HyprtnsnLt             0.244    0.039    6.192    0.000    0.510    0.510\n",
      "    DiabtsLtnt             0.483    0.045   10.684    0.000    0.549    0.549\n",
      "    CRP                    0.550    0.045   12.196    0.000    0.442    0.447\n",
      "\n",
      "Covariances:\n",
      "                   Estimate  Std.Err  z-value  P(>|z|)   Std.lv  Std.all\n",
      " .diastolicBP ~~                                                        \n",
      "   .systolicBP        0.487    0.038   12.716    0.000    0.487    0.609\n",
      " .HbA1c ~~                                                              \n",
      "   .glucose           0.000    0.035    0.009    0.993    0.000    0.001\n",
      "\n",
      "Variances:\n",
      "                   Estimate  Std.Err  z-value  P(>|z|)   Std.lv  Std.all\n",
      "   .diastolicBP       0.850    0.042   20.076    0.000    0.850    0.851\n",
      "   .systolicBP        0.752    0.048   15.548    0.000    0.752    0.760\n",
      "   .Hypertension      0.119    0.017    6.858    0.000    0.119    0.488\n",
      "   .HbA1c             0.398    0.055    7.265    0.000    0.398    0.443\n",
      "   .glucose           0.816    0.049   16.781    0.000    0.816    0.885\n",
      "   .Diabetes          0.056    0.004   12.662    0.000    0.056    0.638\n",
      "   .TG                0.559    0.033   16.734    0.000    0.559    0.587\n",
      "   .HDL               0.577    0.033   17.368    0.000    0.577    0.594\n",
      "   .Waist             0.306    0.041    7.426    0.000    0.306    0.321\n",
      "   .CRP               0.782    0.040   19.620    0.000    0.782    0.800\n",
      "   .HypertensnLtnt    0.110    0.024    4.534    0.000    0.740    0.740\n",
      "   .DiabetesLatent    0.349    0.055    6.377    0.000    0.699    0.699\n",
      "   .DysL              0.204    0.029    6.954    0.000    0.519    0.519\n",
      "    MetS              0.646    0.054   11.917    0.000    1.000    1.000\n",
      "\n"
     ]
    }
   ],
   "source": [
    "COVID_infection = '\n",
    "#Latent variables\n",
    "\n",
    "HypertensionLatent =~  diastolicBP + systolicBP  + Hypertension\n",
    "DiabetesLatent =~ HbA1c + glucose  + Diabetes\n",
    "DysL =~ a*TG + a*HDL\n",
    "\n",
    "MetS =~ Waist + DysL + HypertensionLatent + DiabetesLatent + CRP\n",
    "\n",
    "diastolicBP~~systolicBP\n",
    "HbA1c ~~ glucose\n",
    "\n",
    "'\n",
    "\n",
    "COVID_fitinf <- cfa(COVID_infection, data=COVinf, estimator='MLM')\n",
    "summary(COVID_fitinf, standardized=TRUE, fit.measures=T)\n",
    "#fitmeasures(WMHOB_fit) #fit indices"
   ]
  },
  {
   "cell_type": "markdown",
   "metadata": {},
   "source": [
    "### Get latent variable scores"
   ]
  },
  {
   "cell_type": "code",
   "execution_count": 23,
   "metadata": {},
   "outputs": [],
   "source": [
    "COVinf$MetS=(lavPredict(COVID_fitinf, newdata = NULL, type = \"lv\", method = \"regression\",\n",
    "           se = \"none\", acov = \"none\", label = TRUE, fsm = FALSE, \n",
    "           append.data = FALSE, assemble = FALSE,\n",
    "           level = 1L, optim.method = \"bfgs\", ETA = NULL))[,4]"
   ]
  },
  {
   "cell_type": "markdown",
   "metadata": {},
   "source": [
    "### Run logistic regression"
   ]
  },
  {
   "cell_type": "code",
   "execution_count": 24,
   "metadata": {
    "scrolled": true
   },
   "outputs": [
    {
     "data": {
      "text/plain": [
       "\n",
       "Call:\n",
       "glm(formula = level ~ townsend_deprivation_index_at_recruitment_189.0.0.x + \n",
       "    MetS + sex_31.0.0 + year_of_birth_34.0.0 + laboratory + spectype + \n",
       "    qualifications_6138.0.0 + smoking_status_20116.0.0 + ethnic_background_21000.0.0 + \n",
       "    average_total_household_income_before_tax_738.0.0 + pulmonary_disease + \n",
       "    kidney_disease + cardiovascular_disease + liver_disease, \n",
       "    family = binomial(link = \"logit\"), data = COVinf)\n",
       "\n",
       "Deviance Residuals: \n",
       "    Min       1Q   Median       3Q      Max  \n",
       "-1.5266  -0.5950  -0.3052  -0.1434   2.9017  \n",
       "\n",
       "Coefficients:\n",
       "                                                                                 Estimate\n",
       "(Intercept)                                                                     2.434e+02\n",
       "townsend_deprivation_index_at_recruitment_189.0.0.x                             1.294e-01\n",
       "MetS                                                                            5.612e-01\n",
       "sex_31.0.0Male                                                                  3.685e-02\n",
       "year_of_birth_34.0.0                                                           -1.253e-01\n",
       "laboratory                                                                     -1.375e-02\n",
       "spectype                                                                       -2.126e-03\n",
       "qualifications_6138.0.0College or University degree                             2.161e-01\n",
       "qualifications_6138.0.0CSEs or equivalent                                       2.359e-01\n",
       "qualifications_6138.0.0None of the above                                        3.957e-01\n",
       "qualifications_6138.0.0NVQ or HND or HNC or equivalent                         -1.199e-01\n",
       "qualifications_6138.0.0O levels/GCSEs or equivalent                             2.208e-01\n",
       "qualifications_6138.0.0Other professional qualifications eg: nursing, teaching  1.157e+00\n",
       "qualifications_6138.0.0Prefer not to answer                                     6.141e-01\n",
       "smoking_status_20116.0.0Never                                                  -4.424e-03\n",
       "smoking_status_20116.0.0Prefer not to answer                                    4.365e-01\n",
       "smoking_status_20116.0.0Previous                                               -2.688e-02\n",
       "ethnic_background_21000.0.0Any other Asian background                          -5.238e-01\n",
       "ethnic_background_21000.0.0Any other Black background                           1.741e+01\n",
       "ethnic_background_21000.0.0Any other mixed background                          -1.539e+01\n",
       "ethnic_background_21000.0.0Any other white background                          -1.513e-01\n",
       "ethnic_background_21000.0.0Bangladeshi                                         -1.388e+01\n",
       "ethnic_background_21000.0.0British                                             -1.089e+00\n",
       "ethnic_background_21000.0.0Caribbean                                           -3.562e-01\n",
       "ethnic_background_21000.0.0Chinese                                             -1.622e+01\n",
       "ethnic_background_21000.0.0Do not know                                         -1.363e+01\n",
       "ethnic_background_21000.0.0Indian                                              -7.521e-01\n",
       "ethnic_background_21000.0.0Irish                                               -3.020e+00\n",
       "ethnic_background_21000.0.0Other ethnic group                                  -2.191e+00\n",
       "ethnic_background_21000.0.0Pakistani                                           -1.535e+01\n",
       "ethnic_background_21000.0.0Prefer not to answer                                -1.599e+01\n",
       "ethnic_background_21000.0.0White                                                1.742e+01\n",
       "ethnic_background_21000.0.0White and Asian                                     -1.253e+01\n",
       "ethnic_background_21000.0.0White and Black African                              7.912e-01\n",
       "ethnic_background_21000.0.0White and Black Caribbean                           -1.482e+01\n",
       "average_total_household_income_before_tax_738.0.031,000 to 51,999               8.777e-01\n",
       "average_total_household_income_before_tax_738.0.052,000 to 100,000              1.142e+00\n",
       "average_total_household_income_before_tax_738.0.0Do not know                    2.234e-01\n",
       "average_total_household_income_before_tax_738.0.0Greater than 100,000           3.746e-01\n",
       "average_total_household_income_before_tax_738.0.0Less than 18,000               3.637e-01\n",
       "average_total_household_income_before_tax_738.0.0Prefer not to answer           5.901e-01\n",
       "pulmonary_disease                                                              -1.507e-01\n",
       "kidney_disease                                                                 -5.725e-01\n",
       "cardiovascular_disease                                                          1.288e-01\n",
       "liver_disease                                                                  -5.838e-01\n",
       "                                                                               Std. Error\n",
       "(Intercept)                                                                     3.122e+01\n",
       "townsend_deprivation_index_at_recruitment_189.0.0.x                             1.033e-01\n",
       "MetS                                                                            1.520e-01\n",
       "sex_31.0.0Male                                                                  2.070e-01\n",
       "year_of_birth_34.0.0                                                            1.596e-02\n",
       "laboratory                                                                      3.175e-03\n",
       "spectype                                                                        1.952e-02\n",
       "qualifications_6138.0.0College or University degree                             3.971e-01\n",
       "qualifications_6138.0.0CSEs or equivalent                                       6.222e-01\n",
       "qualifications_6138.0.0None of the above                                        4.037e-01\n",
       "qualifications_6138.0.0NVQ or HND or HNC or equivalent                          5.043e-01\n",
       "qualifications_6138.0.0O levels/GCSEs or equivalent                             4.168e-01\n",
       "qualifications_6138.0.0Other professional qualifications eg: nursing, teaching  4.808e-01\n",
       "qualifications_6138.0.0Prefer not to answer                                     7.217e-01\n",
       "smoking_status_20116.0.0Never                                                   3.060e-01\n",
       "smoking_status_20116.0.0Prefer not to answer                                    9.044e-01\n",
       "smoking_status_20116.0.0Previous                                                3.039e-01\n",
       "ethnic_background_21000.0.0Any other Asian background                           1.312e+00\n",
       "ethnic_background_21000.0.0Any other Black background                           2.400e+03\n",
       "ethnic_background_21000.0.0Any other mixed background                           1.089e+03\n",
       "ethnic_background_21000.0.0Any other white background                           8.329e-01\n",
       "ethnic_background_21000.0.0Bangladeshi                                          2.400e+03\n",
       "ethnic_background_21000.0.0British                                              6.632e-01\n",
       "ethnic_background_21000.0.0Caribbean                                            8.348e-01\n",
       "ethnic_background_21000.0.0Chinese                                              1.021e+03\n",
       "ethnic_background_21000.0.0Do not know                                          2.400e+03\n",
       "ethnic_background_21000.0.0Indian                                               8.886e-01\n",
       "ethnic_background_21000.0.0Irish                                                1.240e+00\n",
       "ethnic_background_21000.0.0Other ethnic group                                   1.252e+00\n",
       "ethnic_background_21000.0.0Pakistani                                            7.097e+02\n",
       "ethnic_background_21000.0.0Prefer not to answer                                 1.212e+03\n",
       "ethnic_background_21000.0.0White                                                2.400e+03\n",
       "ethnic_background_21000.0.0White and Asian                                      1.669e+03\n",
       "ethnic_background_21000.0.0White and Black African                              1.845e+00\n",
       "ethnic_background_21000.0.0White and Black Caribbean                            2.400e+03\n",
       "average_total_household_income_before_tax_738.0.031,000 to 51,999               3.319e-01\n",
       "average_total_household_income_before_tax_738.0.052,000 to 100,000              3.797e-01\n",
       "average_total_household_income_before_tax_738.0.0Do not know                    4.604e-01\n",
       "average_total_household_income_before_tax_738.0.0Greater than 100,000           8.222e-01\n",
       "average_total_household_income_before_tax_738.0.0Less than 18,000               2.911e-01\n",
       "average_total_household_income_before_tax_738.0.0Prefer not to answer           3.475e-01\n",
       "pulmonary_disease                                                               2.123e-01\n",
       "kidney_disease                                                                  3.278e-01\n",
       "cardiovascular_disease                                                          2.351e-01\n",
       "liver_disease                                                                   6.735e-01\n",
       "                                                                               z value\n",
       "(Intercept)                                                                      7.796\n",
       "townsend_deprivation_index_at_recruitment_189.0.0.x                              1.252\n",
       "MetS                                                                             3.692\n",
       "sex_31.0.0Male                                                                   0.178\n",
       "year_of_birth_34.0.0                                                            -7.854\n",
       "laboratory                                                                      -4.331\n",
       "spectype                                                                        -0.109\n",
       "qualifications_6138.0.0College or University degree                              0.544\n",
       "qualifications_6138.0.0CSEs or equivalent                                        0.379\n",
       "qualifications_6138.0.0None of the above                                         0.980\n",
       "qualifications_6138.0.0NVQ or HND or HNC or equivalent                          -0.238\n",
       "qualifications_6138.0.0O levels/GCSEs or equivalent                              0.530\n",
       "qualifications_6138.0.0Other professional qualifications eg: nursing, teaching   2.407\n",
       "qualifications_6138.0.0Prefer not to answer                                      0.851\n",
       "smoking_status_20116.0.0Never                                                   -0.014\n",
       "smoking_status_20116.0.0Prefer not to answer                                     0.483\n",
       "smoking_status_20116.0.0Previous                                                -0.088\n",
       "ethnic_background_21000.0.0Any other Asian background                           -0.399\n",
       "ethnic_background_21000.0.0Any other Black background                            0.007\n",
       "ethnic_background_21000.0.0Any other mixed background                           -0.014\n",
       "ethnic_background_21000.0.0Any other white background                           -0.182\n",
       "ethnic_background_21000.0.0Bangladeshi                                          -0.006\n",
       "ethnic_background_21000.0.0British                                              -1.643\n",
       "ethnic_background_21000.0.0Caribbean                                            -0.427\n",
       "ethnic_background_21000.0.0Chinese                                              -0.016\n",
       "ethnic_background_21000.0.0Do not know                                          -0.006\n",
       "ethnic_background_21000.0.0Indian                                               -0.846\n",
       "ethnic_background_21000.0.0Irish                                                -2.436\n",
       "ethnic_background_21000.0.0Other ethnic group                                   -1.750\n",
       "ethnic_background_21000.0.0Pakistani                                            -0.022\n",
       "ethnic_background_21000.0.0Prefer not to answer                                 -0.013\n",
       "ethnic_background_21000.0.0White                                                 0.007\n",
       "ethnic_background_21000.0.0White and Asian                                      -0.008\n",
       "ethnic_background_21000.0.0White and Black African                               0.429\n",
       "ethnic_background_21000.0.0White and Black Caribbean                            -0.006\n",
       "average_total_household_income_before_tax_738.0.031,000 to 51,999                2.644\n",
       "average_total_household_income_before_tax_738.0.052,000 to 100,000               3.007\n",
       "average_total_household_income_before_tax_738.0.0Do not know                     0.485\n",
       "average_total_household_income_before_tax_738.0.0Greater than 100,000            0.456\n",
       "average_total_household_income_before_tax_738.0.0Less than 18,000                1.249\n",
       "average_total_household_income_before_tax_738.0.0Prefer not to answer            1.698\n",
       "pulmonary_disease                                                               -0.710\n",
       "kidney_disease                                                                  -1.746\n",
       "cardiovascular_disease                                                           0.548\n",
       "liver_disease                                                                   -0.867\n",
       "                                                                               Pr(>|z|)\n",
       "(Intercept)                                                                    6.39e-15\n",
       "townsend_deprivation_index_at_recruitment_189.0.0.x                            0.210420\n",
       "MetS                                                                           0.000222\n",
       "sex_31.0.0Male                                                                 0.858700\n",
       "year_of_birth_34.0.0                                                           4.03e-15\n",
       "laboratory                                                                     1.49e-05\n",
       "spectype                                                                       0.913305\n",
       "qualifications_6138.0.0College or University degree                            0.586214\n",
       "qualifications_6138.0.0CSEs or equivalent                                      0.704558\n",
       "qualifications_6138.0.0None of the above                                       0.327024\n",
       "qualifications_6138.0.0NVQ or HND or HNC or equivalent                         0.812096\n",
       "qualifications_6138.0.0O levels/GCSEs or equivalent                            0.596252\n",
       "qualifications_6138.0.0Other professional qualifications eg: nursing, teaching 0.016105\n",
       "qualifications_6138.0.0Prefer not to answer                                    0.394815\n",
       "smoking_status_20116.0.0Never                                                  0.988465\n",
       "smoking_status_20116.0.0Prefer not to answer                                   0.629388\n",
       "smoking_status_20116.0.0Previous                                               0.929528\n",
       "ethnic_background_21000.0.0Any other Asian background                          0.689629\n",
       "ethnic_background_21000.0.0Any other Black background                          0.994212\n",
       "ethnic_background_21000.0.0Any other mixed background                          0.988729\n",
       "ethnic_background_21000.0.0Any other white background                          0.855870\n",
       "ethnic_background_21000.0.0Bangladeshi                                         0.995385\n",
       "ethnic_background_21000.0.0British                                             0.100420\n",
       "ethnic_background_21000.0.0Caribbean                                           0.669580\n",
       "ethnic_background_21000.0.0Chinese                                             0.987326\n",
       "ethnic_background_21000.0.0Do not know                                         0.995468\n",
       "ethnic_background_21000.0.0Indian                                              0.397321\n",
       "ethnic_background_21000.0.0Irish                                               0.014851\n",
       "ethnic_background_21000.0.0Other ethnic group                                  0.080145\n",
       "ethnic_background_21000.0.0Pakistani                                           0.982745\n",
       "ethnic_background_21000.0.0Prefer not to answer                                0.989479\n",
       "ethnic_background_21000.0.0White                                               0.994206\n",
       "ethnic_background_21000.0.0White and Asian                                     0.994013\n",
       "ethnic_background_21000.0.0White and Black African                             0.668091\n",
       "ethnic_background_21000.0.0White and Black Caribbean                           0.995072\n",
       "average_total_household_income_before_tax_738.0.031,000 to 51,999              0.008183\n",
       "average_total_household_income_before_tax_738.0.052,000 to 100,000             0.002639\n",
       "average_total_household_income_before_tax_738.0.0Do not know                   0.627526\n",
       "average_total_household_income_before_tax_738.0.0Greater than 100,000          0.648702\n",
       "average_total_household_income_before_tax_738.0.0Less than 18,000              0.211545\n",
       "average_total_household_income_before_tax_738.0.0Prefer not to answer          0.089452\n",
       "pulmonary_disease                                                              0.477705\n",
       "kidney_disease                                                                 0.080743\n",
       "cardiovascular_disease                                                         0.583846\n",
       "liver_disease                                                                  0.386046\n",
       "                                                                                  \n",
       "(Intercept)                                                                    ***\n",
       "townsend_deprivation_index_at_recruitment_189.0.0.x                               \n",
       "MetS                                                                           ***\n",
       "sex_31.0.0Male                                                                    \n",
       "year_of_birth_34.0.0                                                           ***\n",
       "laboratory                                                                     ***\n",
       "spectype                                                                          \n",
       "qualifications_6138.0.0College or University degree                               \n",
       "qualifications_6138.0.0CSEs or equivalent                                         \n",
       "qualifications_6138.0.0None of the above                                          \n",
       "qualifications_6138.0.0NVQ or HND or HNC or equivalent                            \n",
       "qualifications_6138.0.0O levels/GCSEs or equivalent                               \n",
       "qualifications_6138.0.0Other professional qualifications eg: nursing, teaching *  \n",
       "qualifications_6138.0.0Prefer not to answer                                       \n",
       "smoking_status_20116.0.0Never                                                     \n",
       "smoking_status_20116.0.0Prefer not to answer                                      \n",
       "smoking_status_20116.0.0Previous                                                  \n",
       "ethnic_background_21000.0.0Any other Asian background                             \n",
       "ethnic_background_21000.0.0Any other Black background                             \n",
       "ethnic_background_21000.0.0Any other mixed background                             \n",
       "ethnic_background_21000.0.0Any other white background                             \n",
       "ethnic_background_21000.0.0Bangladeshi                                            \n",
       "ethnic_background_21000.0.0British                                                \n",
       "ethnic_background_21000.0.0Caribbean                                              \n",
       "ethnic_background_21000.0.0Chinese                                                \n",
       "ethnic_background_21000.0.0Do not know                                            \n",
       "ethnic_background_21000.0.0Indian                                                 \n",
       "ethnic_background_21000.0.0Irish                                               *  \n",
       "ethnic_background_21000.0.0Other ethnic group                                  .  \n",
       "ethnic_background_21000.0.0Pakistani                                              \n",
       "ethnic_background_21000.0.0Prefer not to answer                                   \n",
       "ethnic_background_21000.0.0White                                                  \n",
       "ethnic_background_21000.0.0White and Asian                                        \n",
       "ethnic_background_21000.0.0White and Black African                                \n",
       "ethnic_background_21000.0.0White and Black Caribbean                              \n",
       "average_total_household_income_before_tax_738.0.031,000 to 51,999              ** \n",
       "average_total_household_income_before_tax_738.0.052,000 to 100,000             ** \n",
       "average_total_household_income_before_tax_738.0.0Do not know                      \n",
       "average_total_household_income_before_tax_738.0.0Greater than 100,000             \n",
       "average_total_household_income_before_tax_738.0.0Less than 18,000                 \n",
       "average_total_household_income_before_tax_738.0.0Prefer not to answer          .  \n",
       "pulmonary_disease                                                                 \n",
       "kidney_disease                                                                 .  \n",
       "cardiovascular_disease                                                            \n",
       "liver_disease                                                                     \n",
       "---\n",
       "Signif. codes:  0 ‘***’ 0.001 ‘**’ 0.01 ‘*’ 0.05 ‘.’ 0.1 ‘ ’ 1\n",
       "\n",
       "(Dispersion parameter for binomial family taken to be 1)\n",
       "\n",
       "    Null deviance: 990.43  on 1147  degrees of freedom\n",
       "Residual deviance: 776.45  on 1103  degrees of freedom\n",
       "AIC: 866.45\n",
       "\n",
       "Number of Fisher Scoring iterations: 15\n"
      ]
     },
     "metadata": {},
     "output_type": "display_data"
    }
   ],
   "source": [
    "metsinf_logit=(glm(level ~ townsend_deprivation_index_at_recruitment_189.0.0.x + \n",
    "           MetS +\n",
    "           sex_31.0.0 +\n",
    "           year_of_birth_34.0.0 +\n",
    "           laboratory +\n",
    "           spectype +\n",
    "           qualifications_6138.0.0 + \n",
    "           smoking_status_20116.0.0 + \n",
    "           ethnic_background_21000.0.0 +\n",
    "           average_total_household_income_before_tax_738.0.0 +\n",
    "           pulmonary_disease +\n",
    "           kidney_disease + \n",
    "           cardiovascular_disease +\n",
    "           liver_disease, data=COVinf, family='binomial'(link=\"logit\")))\n",
    "\n",
    "summary(metsinf_logit)"
   ]
  },
  {
   "cell_type": "code",
   "execution_count": 25,
   "metadata": {
    "scrolled": true
   },
   "outputs": [
    {
     "data": {
      "text/plain": [
       "\n",
       "Call:\n",
       "glm(formula = level ~ townsend_deprivation_index_at_recruitment_189.0.0.x + \n",
       "    systolicBP + diastolicBP + Hypertension + glucose + HbA1c + \n",
       "    Diabetes + HDL + TG + CRP + Waist + sex_31.0.0 + year_of_birth_34.0.0 + \n",
       "    laboratory + spectype + qualifications_6138.0.0 + smoking_status_20116.0.0 + \n",
       "    ethnic_background_21000.0.0 + average_total_household_income_before_tax_738.0.0 + \n",
       "    pulmonary_disease + kidney_disease + cardiovascular_disease + \n",
       "    liver_disease, family = binomial(link = \"logit\"), data = COVinf)\n",
       "\n",
       "Deviance Residuals: \n",
       "    Min       1Q   Median       3Q      Max  \n",
       "-1.5314  -0.5767  -0.2983  -0.1338   2.8857  \n",
       "\n",
       "Coefficients:\n",
       "                                                                                 Estimate\n",
       "(Intercept)                                                                     2.264e+02\n",
       "townsend_deprivation_index_at_recruitment_189.0.0.x                             1.709e-01\n",
       "systolicBP                                                                      2.748e-01\n",
       "diastolicBP                                                                    -4.251e-02\n",
       "Hypertension                                                                    1.552e-01\n",
       "glucose                                                                         2.373e-01\n",
       "HbA1c                                                                          -1.437e-01\n",
       "Diabetes                                                                       -4.153e-02\n",
       "HDL                                                                             4.167e-02\n",
       "TG                                                                             -6.514e-02\n",
       "CRP                                                                             1.756e-01\n",
       "Waist                                                                           2.961e-01\n",
       "sex_31.0.0Male                                                                  7.356e-02\n",
       "year_of_birth_34.0.0                                                           -1.167e-01\n",
       "laboratory                                                                     -1.384e-02\n",
       "spectype                                                                        4.681e-04\n",
       "qualifications_6138.0.0College or University degree                             2.884e-01\n",
       "qualifications_6138.0.0CSEs or equivalent                                       1.978e-01\n",
       "qualifications_6138.0.0None of the above                                        4.301e-01\n",
       "qualifications_6138.0.0NVQ or HND or HNC or equivalent                         -1.244e-01\n",
       "qualifications_6138.0.0O levels/GCSEs or equivalent                             2.426e-01\n",
       "qualifications_6138.0.0Other professional qualifications eg: nursing, teaching  1.150e+00\n",
       "qualifications_6138.0.0Prefer not to answer                                     3.792e-01\n",
       "smoking_status_20116.0.0Never                                                  -1.234e-01\n",
       "smoking_status_20116.0.0Prefer not to answer                                    5.400e-01\n",
       "smoking_status_20116.0.0Previous                                               -1.461e-01\n",
       "ethnic_background_21000.0.0Any other Asian background                          -2.236e-01\n",
       "ethnic_background_21000.0.0Any other Black background                           1.816e+01\n",
       "ethnic_background_21000.0.0Any other mixed background                          -1.534e+01\n",
       "ethnic_background_21000.0.0Any other white background                          -1.673e-01\n",
       "ethnic_background_21000.0.0Bangladeshi                                         -1.329e+01\n",
       "ethnic_background_21000.0.0British                                             -9.838e-01\n",
       "ethnic_background_21000.0.0Caribbean                                           -3.338e-01\n",
       "ethnic_background_21000.0.0Chinese                                             -1.604e+01\n",
       "ethnic_background_21000.0.0Do not know                                         -1.313e+01\n",
       "ethnic_background_21000.0.0Indian                                              -8.614e-01\n",
       "ethnic_background_21000.0.0Irish                                               -3.069e+00\n",
       "ethnic_background_21000.0.0Other ethnic group                                  -1.929e+00\n",
       "ethnic_background_21000.0.0Pakistani                                           -1.508e+01\n",
       "ethnic_background_21000.0.0Prefer not to answer                                -1.592e+01\n",
       "ethnic_background_21000.0.0White                                                1.716e+01\n",
       "ethnic_background_21000.0.0White and Asian                                     -1.238e+01\n",
       "ethnic_background_21000.0.0White and Black African                              1.366e+00\n",
       "ethnic_background_21000.0.0White and Black Caribbean                           -1.450e+01\n",
       "average_total_household_income_before_tax_738.0.031,000 to 51,999               7.998e-01\n",
       "average_total_household_income_before_tax_738.0.052,000 to 100,000              1.193e+00\n",
       "average_total_household_income_before_tax_738.0.0Do not know                    1.024e-01\n",
       "average_total_household_income_before_tax_738.0.0Greater than 100,000           3.832e-01\n",
       "average_total_household_income_before_tax_738.0.0Less than 18,000               2.622e-01\n",
       "average_total_household_income_before_tax_738.0.0Prefer not to answer           4.491e-01\n",
       "pulmonary_disease                                                              -1.455e-01\n",
       "kidney_disease                                                                 -6.103e-01\n",
       "cardiovascular_disease                                                          1.704e-01\n",
       "liver_disease                                                                  -5.220e-01\n",
       "                                                                               Std. Error\n",
       "(Intercept)                                                                     3.344e+01\n",
       "townsend_deprivation_index_at_recruitment_189.0.0.x                             1.059e-01\n",
       "systolicBP                                                                      1.300e-01\n",
       "diastolicBP                                                                     1.272e-01\n",
       "Hypertension                                                                    2.162e-01\n",
       "glucose                                                                         1.016e-01\n",
       "HbA1c                                                                           1.211e-01\n",
       "Diabetes                                                                        3.384e-01\n",
       "HDL                                                                             1.195e-01\n",
       "TG                                                                              1.158e-01\n",
       "CRP                                                                             1.083e-01\n",
       "Waist                                                                           1.261e-01\n",
       "sex_31.0.0Male                                                                  2.319e-01\n",
       "year_of_birth_34.0.0                                                            1.707e-02\n",
       "laboratory                                                                      3.227e-03\n",
       "spectype                                                                        1.995e-02\n",
       "qualifications_6138.0.0College or University degree                             4.124e-01\n",
       "qualifications_6138.0.0CSEs or equivalent                                       6.368e-01\n",
       "qualifications_6138.0.0None of the above                                        4.181e-01\n",
       "qualifications_6138.0.0NVQ or HND or HNC or equivalent                          5.205e-01\n",
       "qualifications_6138.0.0O levels/GCSEs or equivalent                             4.284e-01\n",
       "qualifications_6138.0.0Other professional qualifications eg: nursing, teaching  4.959e-01\n",
       "qualifications_6138.0.0Prefer not to answer                                     7.394e-01\n",
       "smoking_status_20116.0.0Never                                                   3.165e-01\n",
       "smoking_status_20116.0.0Prefer not to answer                                    8.961e-01\n",
       "smoking_status_20116.0.0Previous                                                3.127e-01\n",
       "ethnic_background_21000.0.0Any other Asian background                           1.318e+00\n",
       "ethnic_background_21000.0.0Any other Black background                           2.400e+03\n",
       "ethnic_background_21000.0.0Any other mixed background                           1.064e+03\n",
       "ethnic_background_21000.0.0Any other white background                           8.696e-01\n",
       "ethnic_background_21000.0.0Bangladeshi                                          2.400e+03\n",
       "ethnic_background_21000.0.0British                                              6.990e-01\n",
       "ethnic_background_21000.0.0Caribbean                                            8.598e-01\n",
       "ethnic_background_21000.0.0Chinese                                              9.831e+02\n",
       "ethnic_background_21000.0.0Do not know                                          2.400e+03\n",
       "ethnic_background_21000.0.0Indian                                               9.291e-01\n",
       "ethnic_background_21000.0.0Irish                                                1.271e+00\n",
       "ethnic_background_21000.0.0Other ethnic group                                   1.276e+00\n",
       "ethnic_background_21000.0.0Pakistani                                            7.176e+02\n",
       "ethnic_background_21000.0.0Prefer not to answer                                 1.193e+03\n",
       "ethnic_background_21000.0.0White                                                2.400e+03\n",
       "ethnic_background_21000.0.0White and Asian                                      1.669e+03\n",
       "ethnic_background_21000.0.0White and Black African                              1.823e+00\n",
       "ethnic_background_21000.0.0White and Black Caribbean                            2.400e+03\n",
       "average_total_household_income_before_tax_738.0.031,000 to 51,999               3.395e-01\n",
       "average_total_household_income_before_tax_738.0.052,000 to 100,000              3.847e-01\n",
       "average_total_household_income_before_tax_738.0.0Do not know                    4.633e-01\n",
       "average_total_household_income_before_tax_738.0.0Greater than 100,000           8.383e-01\n",
       "average_total_household_income_before_tax_738.0.0Less than 18,000               2.981e-01\n",
       "average_total_household_income_before_tax_738.0.0Prefer not to answer           3.549e-01\n",
       "pulmonary_disease                                                               2.198e-01\n",
       "kidney_disease                                                                  3.336e-01\n",
       "cardiovascular_disease                                                          2.474e-01\n",
       "liver_disease                                                                   6.817e-01\n",
       "                                                                               z value\n",
       "(Intercept)                                                                      6.771\n",
       "townsend_deprivation_index_at_recruitment_189.0.0.x                              1.614\n",
       "systolicBP                                                                       2.114\n",
       "diastolicBP                                                                     -0.334\n",
       "Hypertension                                                                     0.718\n",
       "glucose                                                                          2.335\n",
       "HbA1c                                                                           -1.186\n",
       "Diabetes                                                                        -0.123\n",
       "HDL                                                                              0.349\n",
       "TG                                                                              -0.563\n",
       "CRP                                                                              1.621\n",
       "Waist                                                                            2.348\n",
       "sex_31.0.0Male                                                                   0.317\n",
       "year_of_birth_34.0.0                                                            -6.835\n",
       "laboratory                                                                      -4.289\n",
       "spectype                                                                         0.023\n",
       "qualifications_6138.0.0College or University degree                              0.699\n",
       "qualifications_6138.0.0CSEs or equivalent                                        0.311\n",
       "qualifications_6138.0.0None of the above                                         1.029\n",
       "qualifications_6138.0.0NVQ or HND or HNC or equivalent                          -0.239\n",
       "qualifications_6138.0.0O levels/GCSEs or equivalent                              0.566\n",
       "qualifications_6138.0.0Other professional qualifications eg: nursing, teaching   2.320\n",
       "qualifications_6138.0.0Prefer not to answer                                      0.513\n",
       "smoking_status_20116.0.0Never                                                   -0.390\n",
       "smoking_status_20116.0.0Prefer not to answer                                     0.603\n",
       "smoking_status_20116.0.0Previous                                                -0.467\n",
       "ethnic_background_21000.0.0Any other Asian background                           -0.170\n",
       "ethnic_background_21000.0.0Any other Black background                            0.008\n",
       "ethnic_background_21000.0.0Any other mixed background                           -0.014\n",
       "ethnic_background_21000.0.0Any other white background                           -0.192\n",
       "ethnic_background_21000.0.0Bangladeshi                                          -0.006\n",
       "ethnic_background_21000.0.0British                                              -1.407\n",
       "ethnic_background_21000.0.0Caribbean                                            -0.388\n",
       "ethnic_background_21000.0.0Chinese                                              -0.016\n",
       "ethnic_background_21000.0.0Do not know                                          -0.005\n",
       "ethnic_background_21000.0.0Indian                                               -0.927\n",
       "ethnic_background_21000.0.0Irish                                                -2.415\n",
       "ethnic_background_21000.0.0Other ethnic group                                   -1.511\n",
       "ethnic_background_21000.0.0Pakistani                                            -0.021\n",
       "ethnic_background_21000.0.0Prefer not to answer                                 -0.013\n",
       "ethnic_background_21000.0.0White                                                 0.007\n",
       "ethnic_background_21000.0.0White and Asian                                      -0.007\n",
       "ethnic_background_21000.0.0White and Black African                               0.749\n",
       "ethnic_background_21000.0.0White and Black Caribbean                            -0.006\n",
       "average_total_household_income_before_tax_738.0.031,000 to 51,999                2.356\n",
       "average_total_household_income_before_tax_738.0.052,000 to 100,000               3.101\n",
       "average_total_household_income_before_tax_738.0.0Do not know                     0.221\n",
       "average_total_household_income_before_tax_738.0.0Greater than 100,000            0.457\n",
       "average_total_household_income_before_tax_738.0.0Less than 18,000                0.879\n",
       "average_total_household_income_before_tax_738.0.0Prefer not to answer            1.265\n",
       "pulmonary_disease                                                               -0.662\n",
       "kidney_disease                                                                  -1.829\n",
       "cardiovascular_disease                                                           0.689\n",
       "liver_disease                                                                   -0.766\n",
       "                                                                               Pr(>|z|)\n",
       "(Intercept)                                                                    1.28e-11\n",
       "townsend_deprivation_index_at_recruitment_189.0.0.x                             0.10663\n",
       "systolicBP                                                                      0.03450\n",
       "diastolicBP                                                                     0.73830\n",
       "Hypertension                                                                    0.47277\n",
       "glucose                                                                         0.01955\n",
       "HbA1c                                                                           0.23543\n",
       "Diabetes                                                                        0.90232\n",
       "HDL                                                                             0.72726\n",
       "TG                                                                              0.57364\n",
       "CRP                                                                             0.10505\n",
       "Waist                                                                           0.01889\n",
       "sex_31.0.0Male                                                                  0.75104\n",
       "year_of_birth_34.0.0                                                           8.22e-12\n",
       "laboratory                                                                     1.79e-05\n",
       "spectype                                                                        0.98128\n",
       "qualifications_6138.0.0College or University degree                             0.48434\n",
       "qualifications_6138.0.0CSEs or equivalent                                       0.75610\n",
       "qualifications_6138.0.0None of the above                                        0.30356\n",
       "qualifications_6138.0.0NVQ or HND or HNC or equivalent                          0.81114\n",
       "qualifications_6138.0.0O levels/GCSEs or equivalent                             0.57121\n",
       "qualifications_6138.0.0Other professional qualifications eg: nursing, teaching  0.02036\n",
       "qualifications_6138.0.0Prefer not to answer                                     0.60805\n",
       "smoking_status_20116.0.0Never                                                   0.69674\n",
       "smoking_status_20116.0.0Prefer not to answer                                    0.54679\n",
       "smoking_status_20116.0.0Previous                                                0.64042\n",
       "ethnic_background_21000.0.0Any other Asian background                           0.86528\n",
       "ethnic_background_21000.0.0Any other Black background                           0.99396\n",
       "ethnic_background_21000.0.0Any other mixed background                           0.98849\n",
       "ethnic_background_21000.0.0Any other white background                           0.84744\n",
       "ethnic_background_21000.0.0Bangladeshi                                          0.99558\n",
       "ethnic_background_21000.0.0British                                              0.15931\n",
       "ethnic_background_21000.0.0Caribbean                                            0.69788\n",
       "ethnic_background_21000.0.0Chinese                                              0.98698\n",
       "ethnic_background_21000.0.0Do not know                                          0.99564\n",
       "ethnic_background_21000.0.0Indian                                               0.35386\n",
       "ethnic_background_21000.0.0Irish                                                0.01573\n",
       "ethnic_background_21000.0.0Other ethnic group                                   0.13076\n",
       "ethnic_background_21000.0.0Pakistani                                            0.98324\n",
       "ethnic_background_21000.0.0Prefer not to answer                                 0.98935\n",
       "ethnic_background_21000.0.0White                                                0.99430\n",
       "ethnic_background_21000.0.0White and Asian                                      0.99408\n",
       "ethnic_background_21000.0.0White and Black African                              0.45369\n",
       "ethnic_background_21000.0.0White and Black Caribbean                            0.99518\n",
       "average_total_household_income_before_tax_738.0.031,000 to 51,999               0.01849\n",
       "average_total_household_income_before_tax_738.0.052,000 to 100,000              0.00193\n",
       "average_total_household_income_before_tax_738.0.0Do not know                    0.82505\n",
       "average_total_household_income_before_tax_738.0.0Greater than 100,000           0.64761\n",
       "average_total_household_income_before_tax_738.0.0Less than 18,000               0.37923\n",
       "average_total_household_income_before_tax_738.0.0Prefer not to answer           0.20572\n",
       "pulmonary_disease                                                               0.50807\n",
       "kidney_disease                                                                  0.06737\n",
       "cardiovascular_disease                                                          0.49089\n",
       "liver_disease                                                                   0.44381\n",
       "                                                                                  \n",
       "(Intercept)                                                                    ***\n",
       "townsend_deprivation_index_at_recruitment_189.0.0.x                               \n",
       "systolicBP                                                                     *  \n",
       "diastolicBP                                                                       \n",
       "Hypertension                                                                      \n",
       "glucose                                                                        *  \n",
       "HbA1c                                                                             \n",
       "Diabetes                                                                          \n",
       "HDL                                                                               \n",
       "TG                                                                                \n",
       "CRP                                                                               \n",
       "Waist                                                                          *  \n",
       "sex_31.0.0Male                                                                    \n",
       "year_of_birth_34.0.0                                                           ***\n",
       "laboratory                                                                     ***\n",
       "spectype                                                                          \n",
       "qualifications_6138.0.0College or University degree                               \n",
       "qualifications_6138.0.0CSEs or equivalent                                         \n",
       "qualifications_6138.0.0None of the above                                          \n",
       "qualifications_6138.0.0NVQ or HND or HNC or equivalent                            \n",
       "qualifications_6138.0.0O levels/GCSEs or equivalent                               \n",
       "qualifications_6138.0.0Other professional qualifications eg: nursing, teaching *  \n",
       "qualifications_6138.0.0Prefer not to answer                                       \n",
       "smoking_status_20116.0.0Never                                                     \n",
       "smoking_status_20116.0.0Prefer not to answer                                      \n",
       "smoking_status_20116.0.0Previous                                                  \n",
       "ethnic_background_21000.0.0Any other Asian background                             \n",
       "ethnic_background_21000.0.0Any other Black background                             \n",
       "ethnic_background_21000.0.0Any other mixed background                             \n",
       "ethnic_background_21000.0.0Any other white background                             \n",
       "ethnic_background_21000.0.0Bangladeshi                                            \n",
       "ethnic_background_21000.0.0British                                                \n",
       "ethnic_background_21000.0.0Caribbean                                              \n",
       "ethnic_background_21000.0.0Chinese                                                \n",
       "ethnic_background_21000.0.0Do not know                                            \n",
       "ethnic_background_21000.0.0Indian                                                 \n",
       "ethnic_background_21000.0.0Irish                                               *  \n",
       "ethnic_background_21000.0.0Other ethnic group                                     \n",
       "ethnic_background_21000.0.0Pakistani                                              \n",
       "ethnic_background_21000.0.0Prefer not to answer                                   \n",
       "ethnic_background_21000.0.0White                                                  \n",
       "ethnic_background_21000.0.0White and Asian                                        \n",
       "ethnic_background_21000.0.0White and Black African                                \n",
       "ethnic_background_21000.0.0White and Black Caribbean                              \n",
       "average_total_household_income_before_tax_738.0.031,000 to 51,999              *  \n",
       "average_total_household_income_before_tax_738.0.052,000 to 100,000             ** \n",
       "average_total_household_income_before_tax_738.0.0Do not know                      \n",
       "average_total_household_income_before_tax_738.0.0Greater than 100,000             \n",
       "average_total_household_income_before_tax_738.0.0Less than 18,000                 \n",
       "average_total_household_income_before_tax_738.0.0Prefer not to answer             \n",
       "pulmonary_disease                                                                 \n",
       "kidney_disease                                                                 .  \n",
       "cardiovascular_disease                                                            \n",
       "liver_disease                                                                     \n",
       "---\n",
       "Signif. codes:  0 ‘***’ 0.001 ‘**’ 0.01 ‘*’ 0.05 ‘.’ 0.1 ‘ ’ 1\n",
       "\n",
       "(Dispersion parameter for binomial family taken to be 1)\n",
       "\n",
       "    Null deviance: 990.43  on 1147  degrees of freedom\n",
       "Residual deviance: 760.20  on 1094  degrees of freedom\n",
       "AIC: 868.2\n",
       "\n",
       "Number of Fisher Scoring iterations: 15\n"
      ]
     },
     "metadata": {},
     "output_type": "display_data"
    }
   ],
   "source": [
    "metsinf_logit_specfactors=(glm(level ~ townsend_deprivation_index_at_recruitment_189.0.0.x + \n",
    "           systolicBP + diastolicBP + Hypertension +\n",
    "           glucose + HbA1c + Diabetes +\n",
    "           HDL + TG +\n",
    "           CRP +\n",
    "           Waist +\n",
    "           sex_31.0.0 +\n",
    "           year_of_birth_34.0.0 +\n",
    "           laboratory +\n",
    "           spectype +\n",
    "           qualifications_6138.0.0 + \n",
    "           smoking_status_20116.0.0 + \n",
    "           ethnic_background_21000.0.0 +\n",
    "           average_total_household_income_before_tax_738.0.0 +\n",
    "           pulmonary_disease +\n",
    "           kidney_disease + \n",
    "           cardiovascular_disease +\n",
    "           liver_disease, data=COVinf, family='binomial'(link=\"logit\")))\n",
    "\n",
    "summary(metsinf_logit_specfactors)"
   ]
  },
  {
   "cell_type": "markdown",
   "metadata": {},
   "source": [
    "### Get odds ratio with CIs"
   ]
  },
  {
   "cell_type": "code",
   "execution_count": 26,
   "metadata": {
    "scrolled": true
   },
   "outputs": [
    {
     "name": "stderr",
     "output_type": "stream",
     "text": [
      "Waiting for profiling to be done...\n"
     ]
    },
    {
     "data": {
      "text/html": [
       "<table>\n",
       "<thead><tr><th></th><th scope=col></th><th scope=col>2.5 %</th><th scope=col>97.5 %</th></tr></thead>\n",
       "<tbody>\n",
       "\t<tr><th scope=row>(Intercept)</th><td>5.162489e+105</td><td> 8.132662e+79</td><td>1.423436e+133</td></tr>\n",
       "\t<tr><th scope=row>townsend_deprivation_index_at_recruitment_189.0.0.x</th><td> 1.138126e+00</td><td> 9.282000e-01</td><td> 1.392505e+00</td></tr>\n",
       "\t<tr><th scope=row>MetS</th><td> 1.752756e+00</td><td> 1.302741e+00</td><td> 2.365838e+00</td></tr>\n",
       "\t<tr><th scope=row>sex_31.0.0Male</th><td> 1.037536e+00</td><td> 6.920487e-01</td><td> 1.559686e+00</td></tr>\n",
       "\t<tr><th scope=row>year_of_birth_34.0.0</th><td> 8.822117e-01</td><td> 8.541744e-01</td><td> 9.094047e-01</td></tr>\n",
       "\t<tr><th scope=row>laboratory</th><td> 9.863446e-01</td><td> 9.801501e-01</td><td> 9.924435e-01</td></tr>\n",
       "\t<tr><th scope=row>spectype</th><td> 9.978767e-01</td><td> 9.598823e-01</td><td> 1.036356e+00</td></tr>\n",
       "\t<tr><th scope=row>qualifications_6138.0.0College or University degree</th><td> 1.241273e+00</td><td> 5.828869e-01</td><td> 2.790704e+00</td></tr>\n",
       "\t<tr><th scope=row>qualifications_6138.0.0CSEs or equivalent</th><td> 1.266080e+00</td><td> 3.471692e-01</td><td> 4.135394e+00</td></tr>\n",
       "\t<tr><th scope=row>qualifications_6138.0.0None of the above</th><td> 1.485455e+00</td><td> 6.896808e-01</td><td> 3.386388e+00</td></tr>\n",
       "\t<tr><th scope=row>qualifications_6138.0.0NVQ or HND or HNC or equivalent</th><td> 8.870313e-01</td><td> 3.253454e-01</td><td> 2.387856e+00</td></tr>\n",
       "\t<tr><th scope=row>qualifications_6138.0.0O levels/GCSEs or equivalent</th><td> 1.247102e+00</td><td> 5.608246e-01</td><td> 2.901600e+00</td></tr>\n",
       "\t<tr><th scope=row>qualifications_6138.0.0Other professional qualifications eg: nursing, teaching</th><td> 3.180808e+00</td><td> 1.251924e+00</td><td> 8.325497e+00</td></tr>\n",
       "\t<tr><th scope=row>qualifications_6138.0.0Prefer not to answer</th><td> 1.847957e+00</td><td> 4.119504e-01</td><td> 7.331242e+00</td></tr>\n",
       "\t<tr><th scope=row>smoking_status_20116.0.0Never</th><td> 9.955859e-01</td><td> 5.535978e-01</td><td> 1.844929e+00</td></tr>\n",
       "\t<tr><th scope=row>smoking_status_20116.0.0Prefer not to answer</th><td> 1.547243e+00</td><td> 2.010434e-01</td><td> 8.166402e+00</td></tr>\n",
       "\t<tr><th scope=row>smoking_status_20116.0.0Previous</th><td> 9.734785e-01</td><td> 5.430328e-01</td><td> 1.795547e+00</td></tr>\n",
       "\t<tr><th scope=row>ethnic_background_21000.0.0Any other Asian background</th><td> 5.922641e-01</td><td> 2.429953e-02</td><td> 6.250940e+00</td></tr>\n",
       "\t<tr><th scope=row>ethnic_background_21000.0.0Any other Black background</th><td> 3.627955e+07</td><td>4.240284e-205</td><td>           NA</td></tr>\n",
       "\t<tr><th scope=row>ethnic_background_21000.0.0Any other mixed background</th><td> 2.069262e-07</td><td>           NA</td><td> 5.961031e+36</td></tr>\n",
       "\t<tr><th scope=row>ethnic_background_21000.0.0Any other white background</th><td> 8.596090e-01</td><td> 1.706436e-01</td><td> 4.660382e+00</td></tr>\n",
       "\t<tr><th scope=row>ethnic_background_21000.0.0Bangladeshi</th><td> 9.385569e-07</td><td>           NA</td><td>6.476021e+205</td></tr>\n",
       "\t<tr><th scope=row>ethnic_background_21000.0.0British</th><td> 3.364036e-01</td><td> 9.756860e-02</td><td> 1.381269e+00</td></tr>\n",
       "\t<tr><th scope=row>ethnic_background_21000.0.0Caribbean</th><td> 7.003038e-01</td><td> 1.374949e-01</td><td> 3.799239e+00</td></tr>\n",
       "\t<tr><th scope=row>ethnic_background_21000.0.0Chinese</th><td> 9.051844e-08</td><td>           NA</td><td> 7.641678e+44</td></tr>\n",
       "\t<tr><th scope=row>ethnic_background_21000.0.0Do not know</th><td> 1.202791e-06</td><td>           NA</td><td>9.166852e+205</td></tr>\n",
       "\t<tr><th scope=row>ethnic_background_21000.0.0Indian</th><td> 4.713617e-01</td><td> 8.004579e-02</td><td> 2.770939e+00</td></tr>\n",
       "\t<tr><th scope=row>ethnic_background_21000.0.0Irish</th><td> 4.881334e-02</td><td> 2.180672e-03</td><td> 4.373278e-01</td></tr>\n",
       "\t<tr><th scope=row>ethnic_background_21000.0.0Other ethnic group</th><td> 1.117828e-01</td><td> 4.906032e-03</td><td> 1.020566e+00</td></tr>\n",
       "\t<tr><th scope=row>ethnic_background_21000.0.0Pakistani</th><td> 2.157738e-07</td><td>           NA</td><td> 8.206031e+14</td></tr>\n",
       "\t<tr><th scope=row>ethnic_background_21000.0.0Prefer not to answer</th><td> 1.140081e-07</td><td>           NA</td><td> 6.502409e+60</td></tr>\n",
       "\t<tr><th scope=row>ethnic_background_21000.0.0White</th><td> 3.694416e+07</td><td>4.446543e-205</td><td>           NA</td></tr>\n",
       "\t<tr><th scope=row>ethnic_background_21000.0.0White and Asian</th><td> 3.633339e-06</td><td>           NA</td><td>1.953484e+107</td></tr>\n",
       "\t<tr><th scope=row>ethnic_background_21000.0.0White and Black African</th><td> 2.206029e+00</td><td> 4.964057e-02</td><td> 1.007946e+02</td></tr>\n",
       "\t<tr><th scope=row>ethnic_background_21000.0.0White and Black Caribbean</th><td> 3.662703e-07</td><td>           NA</td><td>3.031973e+205</td></tr>\n",
       "\t<tr><th scope=row>average_total_household_income_before_tax_738.0.031,000 to 51,999</th><td> 2.405280e+00</td><td> 1.260166e+00</td><td> 4.647568e+00</td></tr>\n",
       "\t<tr><th scope=row>average_total_household_income_before_tax_738.0.052,000 to 100,000</th><td> 3.132102e+00</td><td> 1.484909e+00</td><td> 6.614299e+00</td></tr>\n",
       "\t<tr><th scope=row>average_total_household_income_before_tax_738.0.0Do not know</th><td> 1.250291e+00</td><td> 4.935738e-01</td><td> 3.030986e+00</td></tr>\n",
       "\t<tr><th scope=row>average_total_household_income_before_tax_738.0.0Greater than 100,000</th><td> 1.454360e+00</td><td> 2.096669e-01</td><td> 6.138498e+00</td></tr>\n",
       "\t<tr><th scope=row>average_total_household_income_before_tax_738.0.0Less than 18,000</th><td> 1.438689e+00</td><td> 8.198819e-01</td><td> 2.575514e+00</td></tr>\n",
       "\t<tr><th scope=row>average_total_household_income_before_tax_738.0.0Prefer not to answer</th><td> 1.804228e+00</td><td> 9.102816e-01</td><td> 3.571909e+00</td></tr>\n",
       "\t<tr><th scope=row>pulmonary_disease</th><td> 8.600626e-01</td><td> 5.637148e-01</td><td> 1.297361e+00</td></tr>\n",
       "\t<tr><th scope=row>kidney_disease</th><td> 5.641256e-01</td><td> 2.904012e-01</td><td> 1.054296e+00</td></tr>\n",
       "\t<tr><th scope=row>cardiovascular_disease</th><td> 1.137436e+00</td><td> 7.127168e-01</td><td> 1.794019e+00</td></tr>\n",
       "\t<tr><th scope=row>liver_disease</th><td> 5.577706e-01</td><td> 1.213430e-01</td><td> 1.844683e+00</td></tr>\n",
       "</tbody>\n",
       "</table>\n"
      ],
      "text/latex": [
       "\\begin{tabular}{r|lll}\n",
       "  &  & 2.5 \\% & 97.5 \\%\\\\\n",
       "\\hline\n",
       "\t(Intercept) & 5.162489e+105 &  8.132662e+79 & 1.423436e+133\\\\\n",
       "\ttownsend\\_deprivation\\_index\\_at\\_recruitment\\_189.0.0.x &  1.138126e+00 &  9.282000e-01 &  1.392505e+00\\\\\n",
       "\tMetS &  1.752756e+00 &  1.302741e+00 &  2.365838e+00\\\\\n",
       "\tsex\\_31.0.0Male &  1.037536e+00 &  6.920487e-01 &  1.559686e+00\\\\\n",
       "\tyear\\_of\\_birth\\_34.0.0 &  8.822117e-01 &  8.541744e-01 &  9.094047e-01\\\\\n",
       "\tlaboratory &  9.863446e-01 &  9.801501e-01 &  9.924435e-01\\\\\n",
       "\tspectype &  9.978767e-01 &  9.598823e-01 &  1.036356e+00\\\\\n",
       "\tqualifications\\_6138.0.0College or University degree &  1.241273e+00 &  5.828869e-01 &  2.790704e+00\\\\\n",
       "\tqualifications\\_6138.0.0CSEs or equivalent &  1.266080e+00 &  3.471692e-01 &  4.135394e+00\\\\\n",
       "\tqualifications\\_6138.0.0None of the above &  1.485455e+00 &  6.896808e-01 &  3.386388e+00\\\\\n",
       "\tqualifications\\_6138.0.0NVQ or HND or HNC or equivalent &  8.870313e-01 &  3.253454e-01 &  2.387856e+00\\\\\n",
       "\tqualifications\\_6138.0.0O levels/GCSEs or equivalent &  1.247102e+00 &  5.608246e-01 &  2.901600e+00\\\\\n",
       "\tqualifications\\_6138.0.0Other professional qualifications eg: nursing, teaching &  3.180808e+00 &  1.251924e+00 &  8.325497e+00\\\\\n",
       "\tqualifications\\_6138.0.0Prefer not to answer &  1.847957e+00 &  4.119504e-01 &  7.331242e+00\\\\\n",
       "\tsmoking\\_status\\_20116.0.0Never &  9.955859e-01 &  5.535978e-01 &  1.844929e+00\\\\\n",
       "\tsmoking\\_status\\_20116.0.0Prefer not to answer &  1.547243e+00 &  2.010434e-01 &  8.166402e+00\\\\\n",
       "\tsmoking\\_status\\_20116.0.0Previous &  9.734785e-01 &  5.430328e-01 &  1.795547e+00\\\\\n",
       "\tethnic\\_background\\_21000.0.0Any other Asian background &  5.922641e-01 &  2.429953e-02 &  6.250940e+00\\\\\n",
       "\tethnic\\_background\\_21000.0.0Any other Black background &  3.627955e+07 & 4.240284e-205 &            NA\\\\\n",
       "\tethnic\\_background\\_21000.0.0Any other mixed background &  2.069262e-07 &            NA &  5.961031e+36\\\\\n",
       "\tethnic\\_background\\_21000.0.0Any other white background &  8.596090e-01 &  1.706436e-01 &  4.660382e+00\\\\\n",
       "\tethnic\\_background\\_21000.0.0Bangladeshi &  9.385569e-07 &            NA & 6.476021e+205\\\\\n",
       "\tethnic\\_background\\_21000.0.0British &  3.364036e-01 &  9.756860e-02 &  1.381269e+00\\\\\n",
       "\tethnic\\_background\\_21000.0.0Caribbean &  7.003038e-01 &  1.374949e-01 &  3.799239e+00\\\\\n",
       "\tethnic\\_background\\_21000.0.0Chinese &  9.051844e-08 &            NA &  7.641678e+44\\\\\n",
       "\tethnic\\_background\\_21000.0.0Do not know &  1.202791e-06 &            NA & 9.166852e+205\\\\\n",
       "\tethnic\\_background\\_21000.0.0Indian &  4.713617e-01 &  8.004579e-02 &  2.770939e+00\\\\\n",
       "\tethnic\\_background\\_21000.0.0Irish &  4.881334e-02 &  2.180672e-03 &  4.373278e-01\\\\\n",
       "\tethnic\\_background\\_21000.0.0Other ethnic group &  1.117828e-01 &  4.906032e-03 &  1.020566e+00\\\\\n",
       "\tethnic\\_background\\_21000.0.0Pakistani &  2.157738e-07 &            NA &  8.206031e+14\\\\\n",
       "\tethnic\\_background\\_21000.0.0Prefer not to answer &  1.140081e-07 &            NA &  6.502409e+60\\\\\n",
       "\tethnic\\_background\\_21000.0.0White &  3.694416e+07 & 4.446543e-205 &            NA\\\\\n",
       "\tethnic\\_background\\_21000.0.0White and Asian &  3.633339e-06 &            NA & 1.953484e+107\\\\\n",
       "\tethnic\\_background\\_21000.0.0White and Black African &  2.206029e+00 &  4.964057e-02 &  1.007946e+02\\\\\n",
       "\tethnic\\_background\\_21000.0.0White and Black Caribbean &  3.662703e-07 &            NA & 3.031973e+205\\\\\n",
       "\taverage\\_total\\_household\\_income\\_before\\_tax\\_738.0.031,000 to 51,999 &  2.405280e+00 &  1.260166e+00 &  4.647568e+00\\\\\n",
       "\taverage\\_total\\_household\\_income\\_before\\_tax\\_738.0.052,000 to 100,000 &  3.132102e+00 &  1.484909e+00 &  6.614299e+00\\\\\n",
       "\taverage\\_total\\_household\\_income\\_before\\_tax\\_738.0.0Do not know &  1.250291e+00 &  4.935738e-01 &  3.030986e+00\\\\\n",
       "\taverage\\_total\\_household\\_income\\_before\\_tax\\_738.0.0Greater than 100,000 &  1.454360e+00 &  2.096669e-01 &  6.138498e+00\\\\\n",
       "\taverage\\_total\\_household\\_income\\_before\\_tax\\_738.0.0Less than 18,000 &  1.438689e+00 &  8.198819e-01 &  2.575514e+00\\\\\n",
       "\taverage\\_total\\_household\\_income\\_before\\_tax\\_738.0.0Prefer not to answer &  1.804228e+00 &  9.102816e-01 &  3.571909e+00\\\\\n",
       "\tpulmonary\\_disease &  8.600626e-01 &  5.637148e-01 &  1.297361e+00\\\\\n",
       "\tkidney\\_disease &  5.641256e-01 &  2.904012e-01 &  1.054296e+00\\\\\n",
       "\tcardiovascular\\_disease &  1.137436e+00 &  7.127168e-01 &  1.794019e+00\\\\\n",
       "\tliver\\_disease &  5.577706e-01 &  1.213430e-01 &  1.844683e+00\\\\\n",
       "\\end{tabular}\n"
      ],
      "text/markdown": [
       "\n",
       "| <!--/--> |  | 2.5 % | 97.5 % |\n",
       "|---|---|---|---|\n",
       "| (Intercept) | 5.162489e+105 |  8.132662e+79 | 1.423436e+133 |\n",
       "| townsend_deprivation_index_at_recruitment_189.0.0.x |  1.138126e+00 |  9.282000e-01 |  1.392505e+00 |\n",
       "| MetS |  1.752756e+00 |  1.302741e+00 |  2.365838e+00 |\n",
       "| sex_31.0.0Male |  1.037536e+00 |  6.920487e-01 |  1.559686e+00 |\n",
       "| year_of_birth_34.0.0 |  8.822117e-01 |  8.541744e-01 |  9.094047e-01 |\n",
       "| laboratory |  9.863446e-01 |  9.801501e-01 |  9.924435e-01 |\n",
       "| spectype |  9.978767e-01 |  9.598823e-01 |  1.036356e+00 |\n",
       "| qualifications_6138.0.0College or University degree |  1.241273e+00 |  5.828869e-01 |  2.790704e+00 |\n",
       "| qualifications_6138.0.0CSEs or equivalent |  1.266080e+00 |  3.471692e-01 |  4.135394e+00 |\n",
       "| qualifications_6138.0.0None of the above |  1.485455e+00 |  6.896808e-01 |  3.386388e+00 |\n",
       "| qualifications_6138.0.0NVQ or HND or HNC or equivalent |  8.870313e-01 |  3.253454e-01 |  2.387856e+00 |\n",
       "| qualifications_6138.0.0O levels/GCSEs or equivalent |  1.247102e+00 |  5.608246e-01 |  2.901600e+00 |\n",
       "| qualifications_6138.0.0Other professional qualifications eg: nursing, teaching |  3.180808e+00 |  1.251924e+00 |  8.325497e+00 |\n",
       "| qualifications_6138.0.0Prefer not to answer |  1.847957e+00 |  4.119504e-01 |  7.331242e+00 |\n",
       "| smoking_status_20116.0.0Never |  9.955859e-01 |  5.535978e-01 |  1.844929e+00 |\n",
       "| smoking_status_20116.0.0Prefer not to answer |  1.547243e+00 |  2.010434e-01 |  8.166402e+00 |\n",
       "| smoking_status_20116.0.0Previous |  9.734785e-01 |  5.430328e-01 |  1.795547e+00 |\n",
       "| ethnic_background_21000.0.0Any other Asian background |  5.922641e-01 |  2.429953e-02 |  6.250940e+00 |\n",
       "| ethnic_background_21000.0.0Any other Black background |  3.627955e+07 | 4.240284e-205 |            NA |\n",
       "| ethnic_background_21000.0.0Any other mixed background |  2.069262e-07 |            NA |  5.961031e+36 |\n",
       "| ethnic_background_21000.0.0Any other white background |  8.596090e-01 |  1.706436e-01 |  4.660382e+00 |\n",
       "| ethnic_background_21000.0.0Bangladeshi |  9.385569e-07 |            NA | 6.476021e+205 |\n",
       "| ethnic_background_21000.0.0British |  3.364036e-01 |  9.756860e-02 |  1.381269e+00 |\n",
       "| ethnic_background_21000.0.0Caribbean |  7.003038e-01 |  1.374949e-01 |  3.799239e+00 |\n",
       "| ethnic_background_21000.0.0Chinese |  9.051844e-08 |            NA |  7.641678e+44 |\n",
       "| ethnic_background_21000.0.0Do not know |  1.202791e-06 |            NA | 9.166852e+205 |\n",
       "| ethnic_background_21000.0.0Indian |  4.713617e-01 |  8.004579e-02 |  2.770939e+00 |\n",
       "| ethnic_background_21000.0.0Irish |  4.881334e-02 |  2.180672e-03 |  4.373278e-01 |\n",
       "| ethnic_background_21000.0.0Other ethnic group |  1.117828e-01 |  4.906032e-03 |  1.020566e+00 |\n",
       "| ethnic_background_21000.0.0Pakistani |  2.157738e-07 |            NA |  8.206031e+14 |\n",
       "| ethnic_background_21000.0.0Prefer not to answer |  1.140081e-07 |            NA |  6.502409e+60 |\n",
       "| ethnic_background_21000.0.0White |  3.694416e+07 | 4.446543e-205 |            NA |\n",
       "| ethnic_background_21000.0.0White and Asian |  3.633339e-06 |            NA | 1.953484e+107 |\n",
       "| ethnic_background_21000.0.0White and Black African |  2.206029e+00 |  4.964057e-02 |  1.007946e+02 |\n",
       "| ethnic_background_21000.0.0White and Black Caribbean |  3.662703e-07 |            NA | 3.031973e+205 |\n",
       "| average_total_household_income_before_tax_738.0.031,000 to 51,999 |  2.405280e+00 |  1.260166e+00 |  4.647568e+00 |\n",
       "| average_total_household_income_before_tax_738.0.052,000 to 100,000 |  3.132102e+00 |  1.484909e+00 |  6.614299e+00 |\n",
       "| average_total_household_income_before_tax_738.0.0Do not know |  1.250291e+00 |  4.935738e-01 |  3.030986e+00 |\n",
       "| average_total_household_income_before_tax_738.0.0Greater than 100,000 |  1.454360e+00 |  2.096669e-01 |  6.138498e+00 |\n",
       "| average_total_household_income_before_tax_738.0.0Less than 18,000 |  1.438689e+00 |  8.198819e-01 |  2.575514e+00 |\n",
       "| average_total_household_income_before_tax_738.0.0Prefer not to answer |  1.804228e+00 |  9.102816e-01 |  3.571909e+00 |\n",
       "| pulmonary_disease |  8.600626e-01 |  5.637148e-01 |  1.297361e+00 |\n",
       "| kidney_disease |  5.641256e-01 |  2.904012e-01 |  1.054296e+00 |\n",
       "| cardiovascular_disease |  1.137436e+00 |  7.127168e-01 |  1.794019e+00 |\n",
       "| liver_disease |  5.577706e-01 |  1.213430e-01 |  1.844683e+00 |\n",
       "\n"
      ],
      "text/plain": [
       "                                                                                            \n",
       "(Intercept)                                                                    5.162489e+105\n",
       "townsend_deprivation_index_at_recruitment_189.0.0.x                             1.138126e+00\n",
       "MetS                                                                            1.752756e+00\n",
       "sex_31.0.0Male                                                                  1.037536e+00\n",
       "year_of_birth_34.0.0                                                            8.822117e-01\n",
       "laboratory                                                                      9.863446e-01\n",
       "spectype                                                                        9.978767e-01\n",
       "qualifications_6138.0.0College or University degree                             1.241273e+00\n",
       "qualifications_6138.0.0CSEs or equivalent                                       1.266080e+00\n",
       "qualifications_6138.0.0None of the above                                        1.485455e+00\n",
       "qualifications_6138.0.0NVQ or HND or HNC or equivalent                          8.870313e-01\n",
       "qualifications_6138.0.0O levels/GCSEs or equivalent                             1.247102e+00\n",
       "qualifications_6138.0.0Other professional qualifications eg: nursing, teaching  3.180808e+00\n",
       "qualifications_6138.0.0Prefer not to answer                                     1.847957e+00\n",
       "smoking_status_20116.0.0Never                                                   9.955859e-01\n",
       "smoking_status_20116.0.0Prefer not to answer                                    1.547243e+00\n",
       "smoking_status_20116.0.0Previous                                                9.734785e-01\n",
       "ethnic_background_21000.0.0Any other Asian background                           5.922641e-01\n",
       "ethnic_background_21000.0.0Any other Black background                           3.627955e+07\n",
       "ethnic_background_21000.0.0Any other mixed background                           2.069262e-07\n",
       "ethnic_background_21000.0.0Any other white background                           8.596090e-01\n",
       "ethnic_background_21000.0.0Bangladeshi                                          9.385569e-07\n",
       "ethnic_background_21000.0.0British                                              3.364036e-01\n",
       "ethnic_background_21000.0.0Caribbean                                            7.003038e-01\n",
       "ethnic_background_21000.0.0Chinese                                              9.051844e-08\n",
       "ethnic_background_21000.0.0Do not know                                          1.202791e-06\n",
       "ethnic_background_21000.0.0Indian                                               4.713617e-01\n",
       "ethnic_background_21000.0.0Irish                                                4.881334e-02\n",
       "ethnic_background_21000.0.0Other ethnic group                                   1.117828e-01\n",
       "ethnic_background_21000.0.0Pakistani                                            2.157738e-07\n",
       "ethnic_background_21000.0.0Prefer not to answer                                 1.140081e-07\n",
       "ethnic_background_21000.0.0White                                                3.694416e+07\n",
       "ethnic_background_21000.0.0White and Asian                                      3.633339e-06\n",
       "ethnic_background_21000.0.0White and Black African                              2.206029e+00\n",
       "ethnic_background_21000.0.0White and Black Caribbean                            3.662703e-07\n",
       "average_total_household_income_before_tax_738.0.031,000 to 51,999               2.405280e+00\n",
       "average_total_household_income_before_tax_738.0.052,000 to 100,000              3.132102e+00\n",
       "average_total_household_income_before_tax_738.0.0Do not know                    1.250291e+00\n",
       "average_total_household_income_before_tax_738.0.0Greater than 100,000           1.454360e+00\n",
       "average_total_household_income_before_tax_738.0.0Less than 18,000               1.438689e+00\n",
       "average_total_household_income_before_tax_738.0.0Prefer not to answer           1.804228e+00\n",
       "pulmonary_disease                                                               8.600626e-01\n",
       "kidney_disease                                                                  5.641256e-01\n",
       "cardiovascular_disease                                                          1.137436e+00\n",
       "liver_disease                                                                   5.577706e-01\n",
       "                                                                               2.5 %        \n",
       "(Intercept)                                                                     8.132662e+79\n",
       "townsend_deprivation_index_at_recruitment_189.0.0.x                             9.282000e-01\n",
       "MetS                                                                            1.302741e+00\n",
       "sex_31.0.0Male                                                                  6.920487e-01\n",
       "year_of_birth_34.0.0                                                            8.541744e-01\n",
       "laboratory                                                                      9.801501e-01\n",
       "spectype                                                                        9.598823e-01\n",
       "qualifications_6138.0.0College or University degree                             5.828869e-01\n",
       "qualifications_6138.0.0CSEs or equivalent                                       3.471692e-01\n",
       "qualifications_6138.0.0None of the above                                        6.896808e-01\n",
       "qualifications_6138.0.0NVQ or HND or HNC or equivalent                          3.253454e-01\n",
       "qualifications_6138.0.0O levels/GCSEs or equivalent                             5.608246e-01\n",
       "qualifications_6138.0.0Other professional qualifications eg: nursing, teaching  1.251924e+00\n",
       "qualifications_6138.0.0Prefer not to answer                                     4.119504e-01\n",
       "smoking_status_20116.0.0Never                                                   5.535978e-01\n",
       "smoking_status_20116.0.0Prefer not to answer                                    2.010434e-01\n",
       "smoking_status_20116.0.0Previous                                                5.430328e-01\n",
       "ethnic_background_21000.0.0Any other Asian background                           2.429953e-02\n",
       "ethnic_background_21000.0.0Any other Black background                          4.240284e-205\n",
       "ethnic_background_21000.0.0Any other mixed background                                     NA\n",
       "ethnic_background_21000.0.0Any other white background                           1.706436e-01\n",
       "ethnic_background_21000.0.0Bangladeshi                                                    NA\n",
       "ethnic_background_21000.0.0British                                              9.756860e-02\n",
       "ethnic_background_21000.0.0Caribbean                                            1.374949e-01\n",
       "ethnic_background_21000.0.0Chinese                                                        NA\n",
       "ethnic_background_21000.0.0Do not know                                                    NA\n",
       "ethnic_background_21000.0.0Indian                                               8.004579e-02\n",
       "ethnic_background_21000.0.0Irish                                                2.180672e-03\n",
       "ethnic_background_21000.0.0Other ethnic group                                   4.906032e-03\n",
       "ethnic_background_21000.0.0Pakistani                                                      NA\n",
       "ethnic_background_21000.0.0Prefer not to answer                                           NA\n",
       "ethnic_background_21000.0.0White                                               4.446543e-205\n",
       "ethnic_background_21000.0.0White and Asian                                                NA\n",
       "ethnic_background_21000.0.0White and Black African                              4.964057e-02\n",
       "ethnic_background_21000.0.0White and Black Caribbean                                      NA\n",
       "average_total_household_income_before_tax_738.0.031,000 to 51,999               1.260166e+00\n",
       "average_total_household_income_before_tax_738.0.052,000 to 100,000              1.484909e+00\n",
       "average_total_household_income_before_tax_738.0.0Do not know                    4.935738e-01\n",
       "average_total_household_income_before_tax_738.0.0Greater than 100,000           2.096669e-01\n",
       "average_total_household_income_before_tax_738.0.0Less than 18,000               8.198819e-01\n",
       "average_total_household_income_before_tax_738.0.0Prefer not to answer           9.102816e-01\n",
       "pulmonary_disease                                                               5.637148e-01\n",
       "kidney_disease                                                                  2.904012e-01\n",
       "cardiovascular_disease                                                          7.127168e-01\n",
       "liver_disease                                                                   1.213430e-01\n",
       "                                                                               97.5 %       \n",
       "(Intercept)                                                                    1.423436e+133\n",
       "townsend_deprivation_index_at_recruitment_189.0.0.x                             1.392505e+00\n",
       "MetS                                                                            2.365838e+00\n",
       "sex_31.0.0Male                                                                  1.559686e+00\n",
       "year_of_birth_34.0.0                                                            9.094047e-01\n",
       "laboratory                                                                      9.924435e-01\n",
       "spectype                                                                        1.036356e+00\n",
       "qualifications_6138.0.0College or University degree                             2.790704e+00\n",
       "qualifications_6138.0.0CSEs or equivalent                                       4.135394e+00\n",
       "qualifications_6138.0.0None of the above                                        3.386388e+00\n",
       "qualifications_6138.0.0NVQ or HND or HNC or equivalent                          2.387856e+00\n",
       "qualifications_6138.0.0O levels/GCSEs or equivalent                             2.901600e+00\n",
       "qualifications_6138.0.0Other professional qualifications eg: nursing, teaching  8.325497e+00\n",
       "qualifications_6138.0.0Prefer not to answer                                     7.331242e+00\n",
       "smoking_status_20116.0.0Never                                                   1.844929e+00\n",
       "smoking_status_20116.0.0Prefer not to answer                                    8.166402e+00\n",
       "smoking_status_20116.0.0Previous                                                1.795547e+00\n",
       "ethnic_background_21000.0.0Any other Asian background                           6.250940e+00\n",
       "ethnic_background_21000.0.0Any other Black background                                     NA\n",
       "ethnic_background_21000.0.0Any other mixed background                           5.961031e+36\n",
       "ethnic_background_21000.0.0Any other white background                           4.660382e+00\n",
       "ethnic_background_21000.0.0Bangladeshi                                         6.476021e+205\n",
       "ethnic_background_21000.0.0British                                              1.381269e+00\n",
       "ethnic_background_21000.0.0Caribbean                                            3.799239e+00\n",
       "ethnic_background_21000.0.0Chinese                                              7.641678e+44\n",
       "ethnic_background_21000.0.0Do not know                                         9.166852e+205\n",
       "ethnic_background_21000.0.0Indian                                               2.770939e+00\n",
       "ethnic_background_21000.0.0Irish                                                4.373278e-01\n",
       "ethnic_background_21000.0.0Other ethnic group                                   1.020566e+00\n",
       "ethnic_background_21000.0.0Pakistani                                            8.206031e+14\n",
       "ethnic_background_21000.0.0Prefer not to answer                                 6.502409e+60\n",
       "ethnic_background_21000.0.0White                                                          NA\n",
       "ethnic_background_21000.0.0White and Asian                                     1.953484e+107\n",
       "ethnic_background_21000.0.0White and Black African                              1.007946e+02\n",
       "ethnic_background_21000.0.0White and Black Caribbean                           3.031973e+205\n",
       "average_total_household_income_before_tax_738.0.031,000 to 51,999               4.647568e+00\n",
       "average_total_household_income_before_tax_738.0.052,000 to 100,000              6.614299e+00\n",
       "average_total_household_income_before_tax_738.0.0Do not know                    3.030986e+00\n",
       "average_total_household_income_before_tax_738.0.0Greater than 100,000           6.138498e+00\n",
       "average_total_household_income_before_tax_738.0.0Less than 18,000               2.575514e+00\n",
       "average_total_household_income_before_tax_738.0.0Prefer not to answer           3.571909e+00\n",
       "pulmonary_disease                                                               1.297361e+00\n",
       "kidney_disease                                                                  1.054296e+00\n",
       "cardiovascular_disease                                                          1.794019e+00\n",
       "liver_disease                                                                   1.844683e+00"
      ]
     },
     "metadata": {},
     "output_type": "display_data"
    }
   ],
   "source": [
    "(ORs_MetS=exp(cbind(coef(metsinf_logit), confint(metsinf_logit)))  )"
   ]
  },
  {
   "cell_type": "code",
   "execution_count": 27,
   "metadata": {
    "scrolled": true
   },
   "outputs": [
    {
     "name": "stderr",
     "output_type": "stream",
     "text": [
      "Waiting for profiling to be done...\n"
     ]
    },
    {
     "data": {
      "text/html": [
       "<table>\n",
       "<thead><tr><th></th><th scope=col></th><th scope=col>2.5 %</th><th scope=col>97.5 %</th></tr></thead>\n",
       "<tbody>\n",
       "\t<tr><th scope=row>(Intercept)</th><td>2.139012e+98 </td><td> 4.011570e+70</td><td>4.230267e+127</td></tr>\n",
       "\t<tr><th scope=row>townsend_deprivation_index_at_recruitment_189.0.0.x</th><td>1.186419e+00 </td><td> 9.628076e-01</td><td> 1.459462e+00</td></tr>\n",
       "\t<tr><th scope=row>systolicBP</th><td>1.316249e+00 </td><td> 1.020801e+00</td><td> 1.700637e+00</td></tr>\n",
       "\t<tr><th scope=row>diastolicBP</th><td>9.583817e-01 </td><td> 7.461671e-01</td><td> 1.229698e+00</td></tr>\n",
       "\t<tr><th scope=row>Hypertension</th><td>1.167884e+00 </td><td> 7.639748e-01</td><td> 1.784772e+00</td></tr>\n",
       "\t<tr><th scope=row>glucose</th><td>1.267762e+00 </td><td> 1.040219e+00</td><td> 1.549932e+00</td></tr>\n",
       "\t<tr><th scope=row>HbA1c</th><td>8.661323e-01 </td><td> 6.827958e-01</td><td> 1.098485e+00</td></tr>\n",
       "\t<tr><th scope=row>Diabetes</th><td>9.593196e-01 </td><td> 4.887716e-01</td><td> 1.846370e+00</td></tr>\n",
       "\t<tr><th scope=row>HDL</th><td>1.042551e+00 </td><td> 8.247975e-01</td><td> 1.318359e+00</td></tr>\n",
       "\t<tr><th scope=row>TG</th><td>9.369364e-01 </td><td> 7.456339e-01</td><td> 1.174555e+00</td></tr>\n",
       "\t<tr><th scope=row>CRP</th><td>1.191973e+00 </td><td> 9.635382e-01</td><td> 1.474529e+00</td></tr>\n",
       "\t<tr><th scope=row>Waist</th><td>1.344547e+00 </td><td> 1.050042e+00</td><td> 1.722905e+00</td></tr>\n",
       "\t<tr><th scope=row>sex_31.0.0Male</th><td>1.076336e+00 </td><td> 6.836412e-01</td><td> 1.698924e+00</td></tr>\n",
       "\t<tr><th scope=row>year_of_birth_34.0.0</th><td>8.898944e-01 </td><td> 8.597679e-01</td><td> 9.193646e-01</td></tr>\n",
       "\t<tr><th scope=row>laboratory</th><td>9.862556e-01 </td><td> 9.799597e-01</td><td> 9.924528e-01</td></tr>\n",
       "\t<tr><th scope=row>spectype</th><td>1.000468e+00 </td><td> 9.615963e-01</td><td> 1.039944e+00</td></tr>\n",
       "\t<tr><th scope=row>qualifications_6138.0.0College or University degree</th><td>1.334325e+00 </td><td> 6.085731e-01</td><td> 3.092327e+00</td></tr>\n",
       "\t<tr><th scope=row>qualifications_6138.0.0CSEs or equivalent</th><td>1.218714e+00 </td><td> 3.259220e-01</td><td> 4.104181e+00</td></tr>\n",
       "\t<tr><th scope=row>qualifications_6138.0.0None of the above</th><td>1.537481e+00 </td><td> 6.941382e-01</td><td> 3.603705e+00</td></tr>\n",
       "\t<tr><th scope=row>qualifications_6138.0.0NVQ or HND or HNC or equivalent</th><td>8.830433e-01 </td><td> 3.143716e-01</td><td> 2.457046e+00</td></tr>\n",
       "\t<tr><th scope=row>qualifications_6138.0.0O levels/GCSEs or equivalent</th><td>1.274533e+00 </td><td> 5.606353e-01</td><td> 3.033824e+00</td></tr>\n",
       "\t<tr><th scope=row>qualifications_6138.0.0Other professional qualifications eg: nursing, teaching</th><td>3.159178e+00 </td><td> 1.208048e+00</td><td> 8.517875e+00</td></tr>\n",
       "\t<tr><th scope=row>qualifications_6138.0.0Prefer not to answer</th><td>1.461115e+00 </td><td> 3.155262e-01</td><td> 6.000403e+00</td></tr>\n",
       "\t<tr><th scope=row>smoking_status_20116.0.0Never</th><td>8.839485e-01 </td><td> 4.807968e-01</td><td> 1.669784e+00</td></tr>\n",
       "\t<tr><th scope=row>smoking_status_20116.0.0Prefer not to answer</th><td>1.715982e+00 </td><td> 2.253995e-01</td><td> 8.880428e+00</td></tr>\n",
       "\t<tr><th scope=row>smoking_status_20116.0.0Previous</th><td>8.640826e-01 </td><td> 4.731183e-01</td><td> 1.619298e+00</td></tr>\n",
       "\t<tr><th scope=row>ethnic_background_21000.0.0Any other Asian background</th><td>7.995950e-01 </td><td> 3.254336e-02</td><td> 8.596059e+00</td></tr>\n",
       "\t<tr><th scope=row>ethnic_background_21000.0.0Any other Black background</th><td>7.681150e+07 </td><td>1.391012e-204</td><td>           NA</td></tr>\n",
       "\t<tr><th scope=row>ethnic_background_21000.0.0Any other mixed background</th><td>2.175958e-07 </td><td>           NA</td><td> 4.922616e+35</td></tr>\n",
       "\t<tr><th scope=row>ethnic_background_21000.0.0Any other white background</th><td>8.459492e-01 </td><td> 1.559819e-01</td><td> 4.906120e+00</td></tr>\n",
       "\t<tr><th scope=row>ethnic_background_21000.0.0Bangladeshi</th><td>1.686502e-06 </td><td>           NA</td><td>7.439124e+205</td></tr>\n",
       "\t<tr><th scope=row>ethnic_background_21000.0.0British</th><td>3.738863e-01 </td><td> 1.010125e-01</td><td> 1.638085e+00</td></tr>\n",
       "\t<tr><th scope=row>ethnic_background_21000.0.0Caribbean</th><td>7.162312e-01 </td><td> 1.341552e-01</td><td> 4.081027e+00</td></tr>\n",
       "\t<tr><th scope=row>ethnic_background_21000.0.0Chinese</th><td>1.080504e-07 </td><td>           NA</td><td> 6.323791e+42</td></tr>\n",
       "\t<tr><th scope=row>ethnic_background_21000.0.0Do not know</th><td>1.992403e-06 </td><td>           NA</td><td>1.307208e+206</td></tr>\n",
       "\t<tr><th scope=row>ethnic_background_21000.0.0Indian</th><td>4.225546e-01 </td><td> 6.616994e-02</td><td> 2.678955e+00</td></tr>\n",
       "\t<tr><th scope=row>ethnic_background_21000.0.0Irish</th><td>4.648011e-02 </td><td> 2.002576e-03</td><td> 4.474539e-01</td></tr>\n",
       "\t<tr><th scope=row>ethnic_background_21000.0.0Other ethnic group</th><td>1.453468e-01 </td><td> 6.189079e-03</td><td> 1.397688e+00</td></tr>\n",
       "\t<tr><th scope=row>ethnic_background_21000.0.0Pakistani</th><td>2.829218e-07 </td><td>           NA</td><td> 1.222066e+19</td></tr>\n",
       "\t<tr><th scope=row>ethnic_background_21000.0.0Prefer not to answer</th><td>1.217924e-07 </td><td>           NA</td><td> 4.112239e+59</td></tr>\n",
       "\t<tr><th scope=row>ethnic_background_21000.0.0White</th><td>2.823757e+07 </td><td>3.873108e-205</td><td>           NA</td></tr>\n",
       "\t<tr><th scope=row>ethnic_background_21000.0.0White and Asian</th><td>4.188791e-06 </td><td>           NA</td><td>1.361878e+107</td></tr>\n",
       "\t<tr><th scope=row>ethnic_background_21000.0.0White and Black African</th><td>3.919704e+00 </td><td> 8.906084e-02</td><td> 1.762259e+02</td></tr>\n",
       "\t<tr><th scope=row>ethnic_background_21000.0.0White and Black Caribbean</th><td>5.036213e-07 </td><td>           NA</td><td>3.644674e+205</td></tr>\n",
       "\t<tr><th scope=row>average_total_household_income_before_tax_738.0.031,000 to 51,999</th><td>2.225102e+00 </td><td> 1.147919e+00</td><td> 4.362412e+00</td></tr>\n",
       "\t<tr><th scope=row>average_total_household_income_before_tax_738.0.052,000 to 100,000</th><td>3.296417e+00 </td><td> 1.548459e+00</td><td> 7.033031e+00</td></tr>\n",
       "\t<tr><th scope=row>average_total_household_income_before_tax_738.0.0Do not know</th><td>1.107831e+00 </td><td> 4.354425e-01</td><td> 2.703551e+00</td></tr>\n",
       "\t<tr><th scope=row>average_total_household_income_before_tax_738.0.0Greater than 100,000</th><td>1.466956e+00 </td><td> 2.058960e-01</td><td> 6.384527e+00</td></tr>\n",
       "\t<tr><th scope=row>average_total_household_income_before_tax_738.0.0Less than 18,000</th><td>1.299728e+00 </td><td> 7.298843e-01</td><td> 2.356516e+00</td></tr>\n",
       "\t<tr><th scope=row>average_total_household_income_before_tax_738.0.0Prefer not to answer</th><td>1.566918e+00 </td><td> 7.785998e-01</td><td> 3.145061e+00</td></tr>\n",
       "\t<tr><th scope=row>pulmonary_disease</th><td>8.646078e-01 </td><td> 5.585090e-01</td><td> 1.323706e+00</td></tr>\n",
       "\t<tr><th scope=row>kidney_disease</th><td>5.431979e-01 </td><td> 2.765094e-01</td><td> 1.027146e+00</td></tr>\n",
       "\t<tr><th scope=row>cardiovascular_disease</th><td>1.185812e+00 </td><td> 7.256843e-01</td><td> 1.917146e+00</td></tr>\n",
       "\t<tr><th scope=row>liver_disease</th><td>5.933321e-01 </td><td> 1.272660e-01</td><td> 1.994969e+00</td></tr>\n",
       "</tbody>\n",
       "</table>\n"
      ],
      "text/latex": [
       "\\begin{tabular}{r|lll}\n",
       "  &  & 2.5 \\% & 97.5 \\%\\\\\n",
       "\\hline\n",
       "\t(Intercept) & 2.139012e+98  &  4.011570e+70 & 4.230267e+127\\\\\n",
       "\ttownsend\\_deprivation\\_index\\_at\\_recruitment\\_189.0.0.x & 1.186419e+00  &  9.628076e-01 &  1.459462e+00\\\\\n",
       "\tsystolicBP & 1.316249e+00  &  1.020801e+00 &  1.700637e+00\\\\\n",
       "\tdiastolicBP & 9.583817e-01  &  7.461671e-01 &  1.229698e+00\\\\\n",
       "\tHypertension & 1.167884e+00  &  7.639748e-01 &  1.784772e+00\\\\\n",
       "\tglucose & 1.267762e+00  &  1.040219e+00 &  1.549932e+00\\\\\n",
       "\tHbA1c & 8.661323e-01  &  6.827958e-01 &  1.098485e+00\\\\\n",
       "\tDiabetes & 9.593196e-01  &  4.887716e-01 &  1.846370e+00\\\\\n",
       "\tHDL & 1.042551e+00  &  8.247975e-01 &  1.318359e+00\\\\\n",
       "\tTG & 9.369364e-01  &  7.456339e-01 &  1.174555e+00\\\\\n",
       "\tCRP & 1.191973e+00  &  9.635382e-01 &  1.474529e+00\\\\\n",
       "\tWaist & 1.344547e+00  &  1.050042e+00 &  1.722905e+00\\\\\n",
       "\tsex\\_31.0.0Male & 1.076336e+00  &  6.836412e-01 &  1.698924e+00\\\\\n",
       "\tyear\\_of\\_birth\\_34.0.0 & 8.898944e-01  &  8.597679e-01 &  9.193646e-01\\\\\n",
       "\tlaboratory & 9.862556e-01  &  9.799597e-01 &  9.924528e-01\\\\\n",
       "\tspectype & 1.000468e+00  &  9.615963e-01 &  1.039944e+00\\\\\n",
       "\tqualifications\\_6138.0.0College or University degree & 1.334325e+00  &  6.085731e-01 &  3.092327e+00\\\\\n",
       "\tqualifications\\_6138.0.0CSEs or equivalent & 1.218714e+00  &  3.259220e-01 &  4.104181e+00\\\\\n",
       "\tqualifications\\_6138.0.0None of the above & 1.537481e+00  &  6.941382e-01 &  3.603705e+00\\\\\n",
       "\tqualifications\\_6138.0.0NVQ or HND or HNC or equivalent & 8.830433e-01  &  3.143716e-01 &  2.457046e+00\\\\\n",
       "\tqualifications\\_6138.0.0O levels/GCSEs or equivalent & 1.274533e+00  &  5.606353e-01 &  3.033824e+00\\\\\n",
       "\tqualifications\\_6138.0.0Other professional qualifications eg: nursing, teaching & 3.159178e+00  &  1.208048e+00 &  8.517875e+00\\\\\n",
       "\tqualifications\\_6138.0.0Prefer not to answer & 1.461115e+00  &  3.155262e-01 &  6.000403e+00\\\\\n",
       "\tsmoking\\_status\\_20116.0.0Never & 8.839485e-01  &  4.807968e-01 &  1.669784e+00\\\\\n",
       "\tsmoking\\_status\\_20116.0.0Prefer not to answer & 1.715982e+00  &  2.253995e-01 &  8.880428e+00\\\\\n",
       "\tsmoking\\_status\\_20116.0.0Previous & 8.640826e-01  &  4.731183e-01 &  1.619298e+00\\\\\n",
       "\tethnic\\_background\\_21000.0.0Any other Asian background & 7.995950e-01  &  3.254336e-02 &  8.596059e+00\\\\\n",
       "\tethnic\\_background\\_21000.0.0Any other Black background & 7.681150e+07  & 1.391012e-204 &            NA\\\\\n",
       "\tethnic\\_background\\_21000.0.0Any other mixed background & 2.175958e-07  &            NA &  4.922616e+35\\\\\n",
       "\tethnic\\_background\\_21000.0.0Any other white background & 8.459492e-01  &  1.559819e-01 &  4.906120e+00\\\\\n",
       "\tethnic\\_background\\_21000.0.0Bangladeshi & 1.686502e-06  &            NA & 7.439124e+205\\\\\n",
       "\tethnic\\_background\\_21000.0.0British & 3.738863e-01  &  1.010125e-01 &  1.638085e+00\\\\\n",
       "\tethnic\\_background\\_21000.0.0Caribbean & 7.162312e-01  &  1.341552e-01 &  4.081027e+00\\\\\n",
       "\tethnic\\_background\\_21000.0.0Chinese & 1.080504e-07  &            NA &  6.323791e+42\\\\\n",
       "\tethnic\\_background\\_21000.0.0Do not know & 1.992403e-06  &            NA & 1.307208e+206\\\\\n",
       "\tethnic\\_background\\_21000.0.0Indian & 4.225546e-01  &  6.616994e-02 &  2.678955e+00\\\\\n",
       "\tethnic\\_background\\_21000.0.0Irish & 4.648011e-02  &  2.002576e-03 &  4.474539e-01\\\\\n",
       "\tethnic\\_background\\_21000.0.0Other ethnic group & 1.453468e-01  &  6.189079e-03 &  1.397688e+00\\\\\n",
       "\tethnic\\_background\\_21000.0.0Pakistani & 2.829218e-07  &            NA &  1.222066e+19\\\\\n",
       "\tethnic\\_background\\_21000.0.0Prefer not to answer & 1.217924e-07  &            NA &  4.112239e+59\\\\\n",
       "\tethnic\\_background\\_21000.0.0White & 2.823757e+07  & 3.873108e-205 &            NA\\\\\n",
       "\tethnic\\_background\\_21000.0.0White and Asian & 4.188791e-06  &            NA & 1.361878e+107\\\\\n",
       "\tethnic\\_background\\_21000.0.0White and Black African & 3.919704e+00  &  8.906084e-02 &  1.762259e+02\\\\\n",
       "\tethnic\\_background\\_21000.0.0White and Black Caribbean & 5.036213e-07  &            NA & 3.644674e+205\\\\\n",
       "\taverage\\_total\\_household\\_income\\_before\\_tax\\_738.0.031,000 to 51,999 & 2.225102e+00  &  1.147919e+00 &  4.362412e+00\\\\\n",
       "\taverage\\_total\\_household\\_income\\_before\\_tax\\_738.0.052,000 to 100,000 & 3.296417e+00  &  1.548459e+00 &  7.033031e+00\\\\\n",
       "\taverage\\_total\\_household\\_income\\_before\\_tax\\_738.0.0Do not know & 1.107831e+00  &  4.354425e-01 &  2.703551e+00\\\\\n",
       "\taverage\\_total\\_household\\_income\\_before\\_tax\\_738.0.0Greater than 100,000 & 1.466956e+00  &  2.058960e-01 &  6.384527e+00\\\\\n",
       "\taverage\\_total\\_household\\_income\\_before\\_tax\\_738.0.0Less than 18,000 & 1.299728e+00  &  7.298843e-01 &  2.356516e+00\\\\\n",
       "\taverage\\_total\\_household\\_income\\_before\\_tax\\_738.0.0Prefer not to answer & 1.566918e+00  &  7.785998e-01 &  3.145061e+00\\\\\n",
       "\tpulmonary\\_disease & 8.646078e-01  &  5.585090e-01 &  1.323706e+00\\\\\n",
       "\tkidney\\_disease & 5.431979e-01  &  2.765094e-01 &  1.027146e+00\\\\\n",
       "\tcardiovascular\\_disease & 1.185812e+00  &  7.256843e-01 &  1.917146e+00\\\\\n",
       "\tliver\\_disease & 5.933321e-01  &  1.272660e-01 &  1.994969e+00\\\\\n",
       "\\end{tabular}\n"
      ],
      "text/markdown": [
       "\n",
       "| <!--/--> |  | 2.5 % | 97.5 % |\n",
       "|---|---|---|---|\n",
       "| (Intercept) | 2.139012e+98  |  4.011570e+70 | 4.230267e+127 |\n",
       "| townsend_deprivation_index_at_recruitment_189.0.0.x | 1.186419e+00  |  9.628076e-01 |  1.459462e+00 |\n",
       "| systolicBP | 1.316249e+00  |  1.020801e+00 |  1.700637e+00 |\n",
       "| diastolicBP | 9.583817e-01  |  7.461671e-01 |  1.229698e+00 |\n",
       "| Hypertension | 1.167884e+00  |  7.639748e-01 |  1.784772e+00 |\n",
       "| glucose | 1.267762e+00  |  1.040219e+00 |  1.549932e+00 |\n",
       "| HbA1c | 8.661323e-01  |  6.827958e-01 |  1.098485e+00 |\n",
       "| Diabetes | 9.593196e-01  |  4.887716e-01 |  1.846370e+00 |\n",
       "| HDL | 1.042551e+00  |  8.247975e-01 |  1.318359e+00 |\n",
       "| TG | 9.369364e-01  |  7.456339e-01 |  1.174555e+00 |\n",
       "| CRP | 1.191973e+00  |  9.635382e-01 |  1.474529e+00 |\n",
       "| Waist | 1.344547e+00  |  1.050042e+00 |  1.722905e+00 |\n",
       "| sex_31.0.0Male | 1.076336e+00  |  6.836412e-01 |  1.698924e+00 |\n",
       "| year_of_birth_34.0.0 | 8.898944e-01  |  8.597679e-01 |  9.193646e-01 |\n",
       "| laboratory | 9.862556e-01  |  9.799597e-01 |  9.924528e-01 |\n",
       "| spectype | 1.000468e+00  |  9.615963e-01 |  1.039944e+00 |\n",
       "| qualifications_6138.0.0College or University degree | 1.334325e+00  |  6.085731e-01 |  3.092327e+00 |\n",
       "| qualifications_6138.0.0CSEs or equivalent | 1.218714e+00  |  3.259220e-01 |  4.104181e+00 |\n",
       "| qualifications_6138.0.0None of the above | 1.537481e+00  |  6.941382e-01 |  3.603705e+00 |\n",
       "| qualifications_6138.0.0NVQ or HND or HNC or equivalent | 8.830433e-01  |  3.143716e-01 |  2.457046e+00 |\n",
       "| qualifications_6138.0.0O levels/GCSEs or equivalent | 1.274533e+00  |  5.606353e-01 |  3.033824e+00 |\n",
       "| qualifications_6138.0.0Other professional qualifications eg: nursing, teaching | 3.159178e+00  |  1.208048e+00 |  8.517875e+00 |\n",
       "| qualifications_6138.0.0Prefer not to answer | 1.461115e+00  |  3.155262e-01 |  6.000403e+00 |\n",
       "| smoking_status_20116.0.0Never | 8.839485e-01  |  4.807968e-01 |  1.669784e+00 |\n",
       "| smoking_status_20116.0.0Prefer not to answer | 1.715982e+00  |  2.253995e-01 |  8.880428e+00 |\n",
       "| smoking_status_20116.0.0Previous | 8.640826e-01  |  4.731183e-01 |  1.619298e+00 |\n",
       "| ethnic_background_21000.0.0Any other Asian background | 7.995950e-01  |  3.254336e-02 |  8.596059e+00 |\n",
       "| ethnic_background_21000.0.0Any other Black background | 7.681150e+07  | 1.391012e-204 |            NA |\n",
       "| ethnic_background_21000.0.0Any other mixed background | 2.175958e-07  |            NA |  4.922616e+35 |\n",
       "| ethnic_background_21000.0.0Any other white background | 8.459492e-01  |  1.559819e-01 |  4.906120e+00 |\n",
       "| ethnic_background_21000.0.0Bangladeshi | 1.686502e-06  |            NA | 7.439124e+205 |\n",
       "| ethnic_background_21000.0.0British | 3.738863e-01  |  1.010125e-01 |  1.638085e+00 |\n",
       "| ethnic_background_21000.0.0Caribbean | 7.162312e-01  |  1.341552e-01 |  4.081027e+00 |\n",
       "| ethnic_background_21000.0.0Chinese | 1.080504e-07  |            NA |  6.323791e+42 |\n",
       "| ethnic_background_21000.0.0Do not know | 1.992403e-06  |            NA | 1.307208e+206 |\n",
       "| ethnic_background_21000.0.0Indian | 4.225546e-01  |  6.616994e-02 |  2.678955e+00 |\n",
       "| ethnic_background_21000.0.0Irish | 4.648011e-02  |  2.002576e-03 |  4.474539e-01 |\n",
       "| ethnic_background_21000.0.0Other ethnic group | 1.453468e-01  |  6.189079e-03 |  1.397688e+00 |\n",
       "| ethnic_background_21000.0.0Pakistani | 2.829218e-07  |            NA |  1.222066e+19 |\n",
       "| ethnic_background_21000.0.0Prefer not to answer | 1.217924e-07  |            NA |  4.112239e+59 |\n",
       "| ethnic_background_21000.0.0White | 2.823757e+07  | 3.873108e-205 |            NA |\n",
       "| ethnic_background_21000.0.0White and Asian | 4.188791e-06  |            NA | 1.361878e+107 |\n",
       "| ethnic_background_21000.0.0White and Black African | 3.919704e+00  |  8.906084e-02 |  1.762259e+02 |\n",
       "| ethnic_background_21000.0.0White and Black Caribbean | 5.036213e-07  |            NA | 3.644674e+205 |\n",
       "| average_total_household_income_before_tax_738.0.031,000 to 51,999 | 2.225102e+00  |  1.147919e+00 |  4.362412e+00 |\n",
       "| average_total_household_income_before_tax_738.0.052,000 to 100,000 | 3.296417e+00  |  1.548459e+00 |  7.033031e+00 |\n",
       "| average_total_household_income_before_tax_738.0.0Do not know | 1.107831e+00  |  4.354425e-01 |  2.703551e+00 |\n",
       "| average_total_household_income_before_tax_738.0.0Greater than 100,000 | 1.466956e+00  |  2.058960e-01 |  6.384527e+00 |\n",
       "| average_total_household_income_before_tax_738.0.0Less than 18,000 | 1.299728e+00  |  7.298843e-01 |  2.356516e+00 |\n",
       "| average_total_household_income_before_tax_738.0.0Prefer not to answer | 1.566918e+00  |  7.785998e-01 |  3.145061e+00 |\n",
       "| pulmonary_disease | 8.646078e-01  |  5.585090e-01 |  1.323706e+00 |\n",
       "| kidney_disease | 5.431979e-01  |  2.765094e-01 |  1.027146e+00 |\n",
       "| cardiovascular_disease | 1.185812e+00  |  7.256843e-01 |  1.917146e+00 |\n",
       "| liver_disease | 5.933321e-01  |  1.272660e-01 |  1.994969e+00 |\n",
       "\n"
      ],
      "text/plain": [
       "                                                                                           \n",
       "(Intercept)                                                                    2.139012e+98\n",
       "townsend_deprivation_index_at_recruitment_189.0.0.x                            1.186419e+00\n",
       "systolicBP                                                                     1.316249e+00\n",
       "diastolicBP                                                                    9.583817e-01\n",
       "Hypertension                                                                   1.167884e+00\n",
       "glucose                                                                        1.267762e+00\n",
       "HbA1c                                                                          8.661323e-01\n",
       "Diabetes                                                                       9.593196e-01\n",
       "HDL                                                                            1.042551e+00\n",
       "TG                                                                             9.369364e-01\n",
       "CRP                                                                            1.191973e+00\n",
       "Waist                                                                          1.344547e+00\n",
       "sex_31.0.0Male                                                                 1.076336e+00\n",
       "year_of_birth_34.0.0                                                           8.898944e-01\n",
       "laboratory                                                                     9.862556e-01\n",
       "spectype                                                                       1.000468e+00\n",
       "qualifications_6138.0.0College or University degree                            1.334325e+00\n",
       "qualifications_6138.0.0CSEs or equivalent                                      1.218714e+00\n",
       "qualifications_6138.0.0None of the above                                       1.537481e+00\n",
       "qualifications_6138.0.0NVQ or HND or HNC or equivalent                         8.830433e-01\n",
       "qualifications_6138.0.0O levels/GCSEs or equivalent                            1.274533e+00\n",
       "qualifications_6138.0.0Other professional qualifications eg: nursing, teaching 3.159178e+00\n",
       "qualifications_6138.0.0Prefer not to answer                                    1.461115e+00\n",
       "smoking_status_20116.0.0Never                                                  8.839485e-01\n",
       "smoking_status_20116.0.0Prefer not to answer                                   1.715982e+00\n",
       "smoking_status_20116.0.0Previous                                               8.640826e-01\n",
       "ethnic_background_21000.0.0Any other Asian background                          7.995950e-01\n",
       "ethnic_background_21000.0.0Any other Black background                          7.681150e+07\n",
       "ethnic_background_21000.0.0Any other mixed background                          2.175958e-07\n",
       "ethnic_background_21000.0.0Any other white background                          8.459492e-01\n",
       "ethnic_background_21000.0.0Bangladeshi                                         1.686502e-06\n",
       "ethnic_background_21000.0.0British                                             3.738863e-01\n",
       "ethnic_background_21000.0.0Caribbean                                           7.162312e-01\n",
       "ethnic_background_21000.0.0Chinese                                             1.080504e-07\n",
       "ethnic_background_21000.0.0Do not know                                         1.992403e-06\n",
       "ethnic_background_21000.0.0Indian                                              4.225546e-01\n",
       "ethnic_background_21000.0.0Irish                                               4.648011e-02\n",
       "ethnic_background_21000.0.0Other ethnic group                                  1.453468e-01\n",
       "ethnic_background_21000.0.0Pakistani                                           2.829218e-07\n",
       "ethnic_background_21000.0.0Prefer not to answer                                1.217924e-07\n",
       "ethnic_background_21000.0.0White                                               2.823757e+07\n",
       "ethnic_background_21000.0.0White and Asian                                     4.188791e-06\n",
       "ethnic_background_21000.0.0White and Black African                             3.919704e+00\n",
       "ethnic_background_21000.0.0White and Black Caribbean                           5.036213e-07\n",
       "average_total_household_income_before_tax_738.0.031,000 to 51,999              2.225102e+00\n",
       "average_total_household_income_before_tax_738.0.052,000 to 100,000             3.296417e+00\n",
       "average_total_household_income_before_tax_738.0.0Do not know                   1.107831e+00\n",
       "average_total_household_income_before_tax_738.0.0Greater than 100,000          1.466956e+00\n",
       "average_total_household_income_before_tax_738.0.0Less than 18,000              1.299728e+00\n",
       "average_total_household_income_before_tax_738.0.0Prefer not to answer          1.566918e+00\n",
       "pulmonary_disease                                                              8.646078e-01\n",
       "kidney_disease                                                                 5.431979e-01\n",
       "cardiovascular_disease                                                         1.185812e+00\n",
       "liver_disease                                                                  5.933321e-01\n",
       "                                                                               2.5 %        \n",
       "(Intercept)                                                                     4.011570e+70\n",
       "townsend_deprivation_index_at_recruitment_189.0.0.x                             9.628076e-01\n",
       "systolicBP                                                                      1.020801e+00\n",
       "diastolicBP                                                                     7.461671e-01\n",
       "Hypertension                                                                    7.639748e-01\n",
       "glucose                                                                         1.040219e+00\n",
       "HbA1c                                                                           6.827958e-01\n",
       "Diabetes                                                                        4.887716e-01\n",
       "HDL                                                                             8.247975e-01\n",
       "TG                                                                              7.456339e-01\n",
       "CRP                                                                             9.635382e-01\n",
       "Waist                                                                           1.050042e+00\n",
       "sex_31.0.0Male                                                                  6.836412e-01\n",
       "year_of_birth_34.0.0                                                            8.597679e-01\n",
       "laboratory                                                                      9.799597e-01\n",
       "spectype                                                                        9.615963e-01\n",
       "qualifications_6138.0.0College or University degree                             6.085731e-01\n",
       "qualifications_6138.0.0CSEs or equivalent                                       3.259220e-01\n",
       "qualifications_6138.0.0None of the above                                        6.941382e-01\n",
       "qualifications_6138.0.0NVQ or HND or HNC or equivalent                          3.143716e-01\n",
       "qualifications_6138.0.0O levels/GCSEs or equivalent                             5.606353e-01\n",
       "qualifications_6138.0.0Other professional qualifications eg: nursing, teaching  1.208048e+00\n",
       "qualifications_6138.0.0Prefer not to answer                                     3.155262e-01\n",
       "smoking_status_20116.0.0Never                                                   4.807968e-01\n",
       "smoking_status_20116.0.0Prefer not to answer                                    2.253995e-01\n",
       "smoking_status_20116.0.0Previous                                                4.731183e-01\n",
       "ethnic_background_21000.0.0Any other Asian background                           3.254336e-02\n",
       "ethnic_background_21000.0.0Any other Black background                          1.391012e-204\n",
       "ethnic_background_21000.0.0Any other mixed background                                     NA\n",
       "ethnic_background_21000.0.0Any other white background                           1.559819e-01\n",
       "ethnic_background_21000.0.0Bangladeshi                                                    NA\n",
       "ethnic_background_21000.0.0British                                              1.010125e-01\n",
       "ethnic_background_21000.0.0Caribbean                                            1.341552e-01\n",
       "ethnic_background_21000.0.0Chinese                                                        NA\n",
       "ethnic_background_21000.0.0Do not know                                                    NA\n",
       "ethnic_background_21000.0.0Indian                                               6.616994e-02\n",
       "ethnic_background_21000.0.0Irish                                                2.002576e-03\n",
       "ethnic_background_21000.0.0Other ethnic group                                   6.189079e-03\n",
       "ethnic_background_21000.0.0Pakistani                                                      NA\n",
       "ethnic_background_21000.0.0Prefer not to answer                                           NA\n",
       "ethnic_background_21000.0.0White                                               3.873108e-205\n",
       "ethnic_background_21000.0.0White and Asian                                                NA\n",
       "ethnic_background_21000.0.0White and Black African                              8.906084e-02\n",
       "ethnic_background_21000.0.0White and Black Caribbean                                      NA\n",
       "average_total_household_income_before_tax_738.0.031,000 to 51,999               1.147919e+00\n",
       "average_total_household_income_before_tax_738.0.052,000 to 100,000              1.548459e+00\n",
       "average_total_household_income_before_tax_738.0.0Do not know                    4.354425e-01\n",
       "average_total_household_income_before_tax_738.0.0Greater than 100,000           2.058960e-01\n",
       "average_total_household_income_before_tax_738.0.0Less than 18,000               7.298843e-01\n",
       "average_total_household_income_before_tax_738.0.0Prefer not to answer           7.785998e-01\n",
       "pulmonary_disease                                                               5.585090e-01\n",
       "kidney_disease                                                                  2.765094e-01\n",
       "cardiovascular_disease                                                          7.256843e-01\n",
       "liver_disease                                                                   1.272660e-01\n",
       "                                                                               97.5 %       \n",
       "(Intercept)                                                                    4.230267e+127\n",
       "townsend_deprivation_index_at_recruitment_189.0.0.x                             1.459462e+00\n",
       "systolicBP                                                                      1.700637e+00\n",
       "diastolicBP                                                                     1.229698e+00\n",
       "Hypertension                                                                    1.784772e+00\n",
       "glucose                                                                         1.549932e+00\n",
       "HbA1c                                                                           1.098485e+00\n",
       "Diabetes                                                                        1.846370e+00\n",
       "HDL                                                                             1.318359e+00\n",
       "TG                                                                              1.174555e+00\n",
       "CRP                                                                             1.474529e+00\n",
       "Waist                                                                           1.722905e+00\n",
       "sex_31.0.0Male                                                                  1.698924e+00\n",
       "year_of_birth_34.0.0                                                            9.193646e-01\n",
       "laboratory                                                                      9.924528e-01\n",
       "spectype                                                                        1.039944e+00\n",
       "qualifications_6138.0.0College or University degree                             3.092327e+00\n",
       "qualifications_6138.0.0CSEs or equivalent                                       4.104181e+00\n",
       "qualifications_6138.0.0None of the above                                        3.603705e+00\n",
       "qualifications_6138.0.0NVQ or HND or HNC or equivalent                          2.457046e+00\n",
       "qualifications_6138.0.0O levels/GCSEs or equivalent                             3.033824e+00\n",
       "qualifications_6138.0.0Other professional qualifications eg: nursing, teaching  8.517875e+00\n",
       "qualifications_6138.0.0Prefer not to answer                                     6.000403e+00\n",
       "smoking_status_20116.0.0Never                                                   1.669784e+00\n",
       "smoking_status_20116.0.0Prefer not to answer                                    8.880428e+00\n",
       "smoking_status_20116.0.0Previous                                                1.619298e+00\n",
       "ethnic_background_21000.0.0Any other Asian background                           8.596059e+00\n",
       "ethnic_background_21000.0.0Any other Black background                                     NA\n",
       "ethnic_background_21000.0.0Any other mixed background                           4.922616e+35\n",
       "ethnic_background_21000.0.0Any other white background                           4.906120e+00\n",
       "ethnic_background_21000.0.0Bangladeshi                                         7.439124e+205\n",
       "ethnic_background_21000.0.0British                                              1.638085e+00\n",
       "ethnic_background_21000.0.0Caribbean                                            4.081027e+00\n",
       "ethnic_background_21000.0.0Chinese                                              6.323791e+42\n",
       "ethnic_background_21000.0.0Do not know                                         1.307208e+206\n",
       "ethnic_background_21000.0.0Indian                                               2.678955e+00\n",
       "ethnic_background_21000.0.0Irish                                                4.474539e-01\n",
       "ethnic_background_21000.0.0Other ethnic group                                   1.397688e+00\n",
       "ethnic_background_21000.0.0Pakistani                                            1.222066e+19\n",
       "ethnic_background_21000.0.0Prefer not to answer                                 4.112239e+59\n",
       "ethnic_background_21000.0.0White                                                          NA\n",
       "ethnic_background_21000.0.0White and Asian                                     1.361878e+107\n",
       "ethnic_background_21000.0.0White and Black African                              1.762259e+02\n",
       "ethnic_background_21000.0.0White and Black Caribbean                           3.644674e+205\n",
       "average_total_household_income_before_tax_738.0.031,000 to 51,999               4.362412e+00\n",
       "average_total_household_income_before_tax_738.0.052,000 to 100,000              7.033031e+00\n",
       "average_total_household_income_before_tax_738.0.0Do not know                    2.703551e+00\n",
       "average_total_household_income_before_tax_738.0.0Greater than 100,000           6.384527e+00\n",
       "average_total_household_income_before_tax_738.0.0Less than 18,000               2.356516e+00\n",
       "average_total_household_income_before_tax_738.0.0Prefer not to answer           3.145061e+00\n",
       "pulmonary_disease                                                               1.323706e+00\n",
       "kidney_disease                                                                  1.027146e+00\n",
       "cardiovascular_disease                                                          1.917146e+00\n",
       "liver_disease                                                                   1.994969e+00"
      ]
     },
     "metadata": {},
     "output_type": "display_data"
    }
   ],
   "source": [
    "(ORs_mortality=exp(cbind(coef(metsinf_logit_specfactors), confint(metsinf_logit_specfactors)))  )"
   ]
  },
  {
   "cell_type": "markdown",
   "metadata": {},
   "source": [
    "## What does 1 unit change on latent variable MetS mean?"
   ]
  },
  {
   "cell_type": "code",
   "execution_count": 28,
   "metadata": {},
   "outputs": [],
   "source": [
    "interpretation=merge(COVinf, coviddeath, by='eid', all.x=TRUE)\n",
    "interpretation$SBP=rowMeans(cbind(interpretation$systolic_blood_pressure_automated_reading_4080.0.0,\n",
    "                               interpretation$systolic_blood_pressure_automated_reading_4080.0.1))\n",
    "interpretation$DBP=rowMeans(cbind(interpretation$diastolic_blood_pressure_automated_reading_4079.0.0,\n",
    "                               interpretation$diastolic_blood_pressure_automated_reading_4079.0.1))"
   ]
  },
  {
   "cell_type": "code",
   "execution_count": 29,
   "metadata": {},
   "outputs": [
    {
     "data": {
      "text/plain": [
       "\n",
       "Call:\n",
       "lm(formula = glucose_30740.0.0.x ~ MetS, data = interpretation)\n",
       "\n",
       "Residuals:\n",
       "     Min       1Q   Median       3Q      Max \n",
       "-1.81634 -0.41893 -0.06117  0.33622  2.69997 \n",
       "\n",
       "Coefficients:\n",
       "            Estimate Std. Error t value Pr(>|t|)    \n",
       "(Intercept)  4.99181    0.01881 265.382  < 2e-16 ***\n",
       "MetS         0.20628    0.02684   7.686 3.25e-14 ***\n",
       "---\n",
       "Signif. codes:  0 ‘***’ 0.001 ‘**’ 0.01 ‘*’ 0.05 ‘.’ 0.1 ‘ ’ 1\n",
       "\n",
       "Residual standard error: 0.6373 on 1146 degrees of freedom\n",
       "Multiple R-squared:  0.04902,\tAdjusted R-squared:  0.04819 \n",
       "F-statistic: 59.08 on 1 and 1146 DF,  p-value: 3.248e-14\n"
      ]
     },
     "metadata": {},
     "output_type": "display_data"
    },
    {
     "data": {
      "text/plain": [
       "\n",
       "Call:\n",
       "lm(formula = SBP ~ MetS, data = interpretation)\n",
       "\n",
       "Residuals:\n",
       "    Min      1Q  Median      3Q     Max \n",
       "-40.622 -12.565  -2.085  11.208  71.112 \n",
       "\n",
       "Coefficients:\n",
       "            Estimate Std. Error t value Pr(>|t|)    \n",
       "(Intercept) 137.2365     0.5271 260.357   <2e-16 ***\n",
       "MetS          7.1728     0.7521   9.537   <2e-16 ***\n",
       "---\n",
       "Signif. codes:  0 ‘***’ 0.001 ‘**’ 0.01 ‘*’ 0.05 ‘.’ 0.1 ‘ ’ 1\n",
       "\n",
       "Residual standard error: 17.86 on 1146 degrees of freedom\n",
       "Multiple R-squared:  0.07354,\tAdjusted R-squared:  0.07273 \n",
       "F-statistic: 90.96 on 1 and 1146 DF,  p-value: < 2.2e-16\n"
      ]
     },
     "metadata": {},
     "output_type": "display_data"
    },
    {
     "data": {
      "text/plain": [
       "\n",
       "Call:\n",
       "lm(formula = DBP ~ MetS, data = interpretation)\n",
       "\n",
       "Residuals:\n",
       "    Min      1Q  Median      3Q     Max \n",
       "-30.897  -6.441  -0.383   6.345  32.955 \n",
       "\n",
       "Coefficients:\n",
       "            Estimate Std. Error t value Pr(>|t|)    \n",
       "(Intercept)  82.4691     0.2904  284.00   <2e-16 ***\n",
       "MetS          4.2728     0.4143   10.31   <2e-16 ***\n",
       "---\n",
       "Signif. codes:  0 ‘***’ 0.001 ‘**’ 0.01 ‘*’ 0.05 ‘.’ 0.1 ‘ ’ 1\n",
       "\n",
       "Residual standard error: 9.839 on 1146 degrees of freedom\n",
       "Multiple R-squared:  0.08492,\tAdjusted R-squared:  0.08412 \n",
       "F-statistic: 106.4 on 1 and 1146 DF,  p-value: < 2.2e-16\n"
      ]
     },
     "metadata": {},
     "output_type": "display_data"
    },
    {
     "data": {
      "text/plain": [
       "\n",
       "Call:\n",
       "lm(formula = glycated_haemoglobin_hba1c_30750.0.0.x ~ MetS, data = interpretation)\n",
       "\n",
       "Residuals:\n",
       "     Min       1Q   Median       3Q      Max \n",
       "-13.3659  -2.5742  -0.3077   2.3448  17.5528 \n",
       "\n",
       "Coefficients:\n",
       "            Estimate Std. Error t value Pr(>|t|)    \n",
       "(Intercept)  35.9191     0.1230   292.0   <2e-16 ***\n",
       "MetS          3.2123     0.1755    18.3   <2e-16 ***\n",
       "---\n",
       "Signif. codes:  0 ‘***’ 0.001 ‘**’ 0.01 ‘*’ 0.05 ‘.’ 0.1 ‘ ’ 1\n",
       "\n",
       "Residual standard error: 4.167 on 1146 degrees of freedom\n",
       "Multiple R-squared:  0.2262,\tAdjusted R-squared:  0.2256 \n",
       "F-statistic: 335.1 on 1 and 1146 DF,  p-value: < 2.2e-16\n"
      ]
     },
     "metadata": {},
     "output_type": "display_data"
    },
    {
     "data": {
      "text/plain": [
       "\n",
       "Call:\n",
       "lm(formula = c.reactive_protein_30710.0.0 ~ MetS, data = interpretation)\n",
       "\n",
       "Residuals:\n",
       "   Min     1Q Median     3Q    Max \n",
       "-5.770 -2.010 -0.895  0.353 60.380 \n",
       "\n",
       "Coefficients:\n",
       "            Estimate Std. Error t value Pr(>|t|)    \n",
       "(Intercept)   3.0047     0.1472   20.41   <2e-16 ***\n",
       "MetS          2.1767     0.2101   10.36   <2e-16 ***\n",
       "---\n",
       "Signif. codes:  0 ‘***’ 0.001 ‘**’ 0.01 ‘*’ 0.05 ‘.’ 0.1 ‘ ’ 1\n",
       "\n",
       "Residual standard error: 4.989 on 1146 degrees of freedom\n",
       "Multiple R-squared:  0.08566,\tAdjusted R-squared:  0.08486 \n",
       "F-statistic: 107.4 on 1 and 1146 DF,  p-value: < 2.2e-16\n"
      ]
     },
     "metadata": {},
     "output_type": "display_data"
    },
    {
     "data": {
      "text/plain": [
       "\n",
       "Call:\n",
       "lm(formula = triglycerides_30870.0.0 ~ MetS, data = interpretation)\n",
       "\n",
       "Residuals:\n",
       "    Min      1Q  Median      3Q     Max \n",
       "-2.0570 -0.5663 -0.1715  0.3238  8.4962 \n",
       "\n",
       "Coefficients:\n",
       "            Estimate Std. Error t value Pr(>|t|)    \n",
       "(Intercept)  1.79280    0.02742   65.38   <2e-16 ***\n",
       "MetS         0.67347    0.03912   17.21   <2e-16 ***\n",
       "---\n",
       "Signif. codes:  0 ‘***’ 0.001 ‘**’ 0.01 ‘*’ 0.05 ‘.’ 0.1 ‘ ’ 1\n",
       "\n",
       "Residual standard error: 0.929 on 1146 degrees of freedom\n",
       "Multiple R-squared:  0.2055,\tAdjusted R-squared:  0.2048 \n",
       "F-statistic: 296.3 on 1 and 1146 DF,  p-value: < 2.2e-16\n"
      ]
     },
     "metadata": {},
     "output_type": "display_data"
    },
    {
     "data": {
      "text/plain": [
       "\n",
       "Call:\n",
       "lm(formula = hdl_cholesterol_30760.0.0.x ~ MetS, data = interpretation)\n",
       "\n",
       "Residuals:\n",
       "     Min       1Q   Median       3Q      Max \n",
       "-0.72127 -0.21359 -0.03906  0.16938  1.35551 \n",
       "\n",
       "Coefficients:\n",
       "             Estimate Std. Error t value Pr(>|t|)    \n",
       "(Intercept)  1.361259   0.008781  155.03   <2e-16 ***\n",
       "MetS        -0.244210   0.012528  -19.49   <2e-16 ***\n",
       "---\n",
       "Signif. codes:  0 ‘***’ 0.001 ‘**’ 0.01 ‘*’ 0.05 ‘.’ 0.1 ‘ ’ 1\n",
       "\n",
       "Residual standard error: 0.2975 on 1146 degrees of freedom\n",
       "Multiple R-squared:  0.249,\tAdjusted R-squared:  0.2483 \n",
       "F-statistic:   380 on 1 and 1146 DF,  p-value: < 2.2e-16\n"
      ]
     },
     "metadata": {},
     "output_type": "display_data"
    },
    {
     "data": {
      "text/plain": [
       "\n",
       "Call:\n",
       "lm(formula = waist_circumference_48.0.0.x ~ MetS, data = interpretation)\n",
       "\n",
       "Residuals:\n",
       "     Min       1Q   Median       3Q      Max \n",
       "-14.5265  -3.0215   0.0546   3.2348  15.4325 \n",
       "\n",
       "Coefficients:\n",
       "            Estimate Std. Error t value Pr(>|t|)    \n",
       "(Intercept)  93.4808     0.1347  694.05   <2e-16 ***\n",
       "MetS         18.7234     0.1922   97.43   <2e-16 ***\n",
       "---\n",
       "Signif. codes:  0 ‘***’ 0.001 ‘**’ 0.01 ‘*’ 0.05 ‘.’ 0.1 ‘ ’ 1\n",
       "\n",
       "Residual standard error: 4.564 on 1146 degrees of freedom\n",
       "Multiple R-squared:  0.8923,\tAdjusted R-squared:  0.8922 \n",
       "F-statistic:  9492 on 1 and 1146 DF,  p-value: < 2.2e-16\n"
      ]
     },
     "metadata": {},
     "output_type": "display_data"
    }
   ],
   "source": [
    "summary(lm(glucose_30740.0.0.x~MetS, data=interpretation))\n",
    "summary(lm(SBP~MetS, data=interpretation))\n",
    "summary(lm(DBP~MetS, data=interpretation))\n",
    "summary(lm(glycated_haemoglobin_hba1c_30750.0.0.x~MetS, data=interpretation))\n",
    "summary(lm(c.reactive_protein_30710.0.0~MetS, data=interpretation))\n",
    "summary(lm(triglycerides_30870.0.0~MetS, data=interpretation))\n",
    "summary(lm(hdl_cholesterol_30760.0.0.x~MetS, data=interpretation))\n",
    "summary(lm(waist_circumference_48.0.0.x~MetS, data=interpretation))"
   ]
  },
  {
   "cell_type": "markdown",
   "metadata": {},
   "source": [
    "## Plot ORs for mortality"
   ]
  },
  {
   "cell_type": "code",
   "execution_count": 30,
   "metadata": {},
   "outputs": [],
   "source": [
    "library(wesanderson)\n",
    "library(ggplot2)\n",
    "\n",
    "ORs_mortality=data.frame(ORs_mortality)\n",
    "ORs_mortality$names <- rownames(ORs_mortality)\n",
    "ORs_mortality=ORs_mortality[3:12,]\n",
    "ORs_mortality$names=factor(ORs_mortality$names, ordered=T)\n",
    "ORs_mortality$names=c('Systolic BP','Diastolic BP','Hypertension diagnosis','Serum glucose','HbA1c',\n",
    "                     'Diabetes diagnosis', 'HDL','TG','CRP','Waist circumference')\n",
    "\n",
    "\n",
    "ORs_mortality$Symptomsgroup=c('Hypertension','Hypertension','Hypertension','Diabetes',\n",
    "                      'Diabetes','Diabetes','Dyslipidemia','Dyslipidemia','Inflammation','Waist circumference')"
   ]
  },
  {
   "cell_type": "code",
   "execution_count": 31,
   "metadata": {},
   "outputs": [],
   "source": [
    "ORs_MetS=data.frame(ORs_MetS)\n",
    "ORs_MetS$names <- rownames(ORs_MetS)\n",
    "ORs_MetS$names=factor(ORs_MetS$names, ordered=T)\n",
    "ORs_MetS=ORs_MetS[3,]\n",
    "ORs_MetS$names=c('Metabolic health')\n",
    "ORs_MetS$Symptomsgroup=c('Metabolic health')\n",
    "\n",
    "ORs_mortality=rbind(ORs_mortality, ORs_MetS)"
   ]
  },
  {
   "cell_type": "code",
   "execution_count": 32,
   "metadata": {},
   "outputs": [
    {
     "data": {
      "image/png": "[encoded data removed]",
      "text/plain": [
       "plot without title"
      ]
     },
     "metadata": {},
     "output_type": "display_data"
    }
   ],
   "source": [
    "(p_death <- ggplot(ORs_mortality, aes(x = (V1), y = reorder(names, -V1))) + \n",
    "    geom_vline(aes(xintercept = 1), size = .25, linetype = \"dashed\") + \n",
    "    geom_errorbarh(aes(xmax = X97.5.., xmin = X2.5..), size = 0.2, height = 0.2, color = \"gray50\") +\n",
    "    geom_point(size = 3, aes(color = Symptomsgroup)) +\n",
    "    scale_x_continuous(breaks = c(0,0.5,1,1.5,2),\n",
    "                       limits = c(0,2.5)) +\n",
    "    theme_minimal() +\n",
    "    theme(panel.grid.minor = element_blank()) +\n",
    "    ylab(\"\") +\n",
    "    xlab(\"Adjusted odds ratio: mortality\") + \n",
    "    #ggtitle(\"B\") +\n",
    "    scale_color_brewer(palette=\"RdYlBu\", name='Symptoms group') +\n",
    "    geom_hline(aes(yintercept = 1.5), size = .25, color='red', linetype='dashed') \n",
    " )\n",
    "\n",
    "ggsave('/dagher/dagher11/filip/COVID/COVID_mortality.tiff',\n",
    "  plot = p_death,\n",
    "  device = 'tiff',\n",
    "  scale = 1,\n",
    "  width = 15,\n",
    "  height = 10,\n",
    "  units = 'cm',\n",
    "  dpi = 300\n",
    ")"
   ]
  }
 ],
 "metadata": {
  "kernelspec": {
   "display_name": "R",
   "language": "R",
   "name": "ir"
  },
  "language_info": {
   "codemirror_mode": "r",
   "file_extension": ".r",
   "mimetype": "text/x-r-source",
   "name": "R",
   "pygments_lexer": "r",
   "version": "3.6.1"
  }
 },
 "nbformat": 4,
 "nbformat_minor": 2
}
