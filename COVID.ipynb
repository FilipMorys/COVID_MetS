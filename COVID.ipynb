{
 "cells": [
  {
   "cell_type": "code",
   "execution_count": 2,
   "metadata": {},
   "outputs": [],
   "source": [
    "library(ppcor)\n",
    "#install.packages('lmPerm')\n",
    "library(lmPerm)\n",
    "library(psych)\n",
    "library(car)\n",
    "library(ggplot2)\n",
    "library(lme4)\n",
    "library(mediation)\n",
    "library(caret)\n",
    "library(gbm)\n",
    "library(party)\n",
    "library(Metrics)\n",
    "#install.packages(\"wesanderson\")\n",
    "library(wesanderson)\n",
    "library(gtools)\n",
    "library(interactions)\n",
    "#install.packages('ggstance')\n",
    "library(ggstance)\n",
    "#install.packages('elasticnet')\n",
    "library(elasticnet)\n",
    "#install.packages('kernlab')\n",
    "library(kernlab)\n",
    "#install.packages('e1071')\n",
    "library(e1071)\n",
    "#install.packages('MatchIt')\n",
    "library(MatchIt)\n",
    "library(dplyr)\n",
    "library(ukbtools)\n",
    "library(mediation)\n",
    "library(lavaan)\n",
    "library(lavaanPlot)\n",
    "library(plotly)\n",
    "library(MVN)\n",
    "#install.packages('MissMech')\n",
    "library(semTools)\n",
    "library(MissMech)\n",
    "#install.packages('aod')\n",
    "library(aod)\n",
    "options(warn=-1)"
   ]
  },
  {
   "cell_type": "markdown",
   "metadata": {},
   "source": [
    "# Read in the data "
   ]
  },
  {
   "cell_type": "code",
   "execution_count": 3,
   "metadata": {},
   "outputs": [],
   "source": [
    "di=read.table('/dagher/dagher11/filip/PRSOB/data/brain_data.csv', header=TRUE, na.strings = \"\", sep=',', quote = \"\\\"\")\n",
    "cov19=read.table('/dagher/dagher11/filip/COVID/data/covid19_result.txt', header=TRUE, na.strings = \"\", sep='\\t', quote = \"\\\"\")\n",
    "cov19= cov19[order(cov19$result, decreasing=TRUE),] \n",
    "\n",
    "covidinf=cov19\n",
    "covidinf=covidinf[!duplicated(covidinf$eid),]\n",
    "cov_base=covidinf\n",
    "\n",
    "death=read.table('/dagher/dagher11/filip/COVID/data/death_cause.txt', header=TRUE, na.strings = \"\", sep='\\t', quote = \"\\\"\")\n",
    "death=(death[death$level==1 & death$cause_icd10=='U071',]) # take only individuals whose primary cause of death was COVID"
   ]
  },
  {
   "cell_type": "markdown",
   "metadata": {},
   "source": [
    "## Add hypertension and diabetes diagnosis"
   ]
  },
  {
   "cell_type": "code",
   "execution_count": 4,
   "metadata": {},
   "outputs": [],
   "source": [
    "di$hypertension <- 0\n",
    "for (i in as.numeric(grep('vascularheart_problems_diagnosed_by_doctor', colnames(di)))) { \n",
    "    di$hypertension[di[i] == 'High blood pressure'] <- 1 # Hypertension\n",
    "}\n",
    "\n",
    "# Mark participants who have diabetes - self-reported\n",
    "di$diabetes <- 0\n",
    "for (i in as.numeric(grep('diabetes_diagnosed_by_doctor', colnames(di)))) { \n",
    "    di$diabetes[di[i] ==\"Yes\"] <- 1\n",
    "}\n",
    "\n",
    "# Mark participants with hypertension - diagnosed\n",
    "di$hypertension2 <- 0\n",
    "for (i in as.numeric(grep('icd10', colnames(di)))) { \n",
    "    di$hypertension2[di[i] == 'I10 Essential (primary) hypertension'] <- 1 # Hypertension\n",
    "    }\n",
    "\n",
    "# Mark participants who have diabetes - diagnoses\n",
    "exclusions_diabetes=c('^E10','^E11','^E12','^E13','^E14')\n",
    "di$diabetes2 <- NA\n",
    "for (i in as.numeric(grep('icd10', colnames(di)))) {\n",
    "    for (d in 1:length(exclusions_diabetes)) {\n",
    "        di$diabetes2[grepl(exclusions_diabetes[d], di[[i]])] = 1\n",
    "    }\n",
    "}\n",
    "\n",
    "di$Hypertension=0\n",
    "di$Hypertension[di$hypertension=='1' | di$hypertension2=='1']=1\n",
    "di$Diabetes=0\n",
    "di$Diabetes[di$diabetes=='1' | di$diabetes2=='1']=1"
   ]
  },
  {
   "cell_type": "code",
   "execution_count": 5,
   "metadata": {},
   "outputs": [],
   "source": [
    "fasting=read.table('/dagher/dagher11/filip/COVID/data/glucose.csv',sep=',', header=T)\n",
    "fasting=select(fasting,-c(eid))"
   ]
  },
  {
   "cell_type": "markdown",
   "metadata": {},
   "source": [
    "# MetS latent variable and OR - covid infection\n",
    "\n",
    "## Create dataframes"
   ]
  },
  {
   "cell_type": "code",
   "execution_count": 7,
   "metadata": {},
   "outputs": [
    {
     "data": {
      "text/html": [
       "12659"
      ],
      "text/latex": [
       "12659"
      ],
      "text/markdown": [
       "12659"
      ],
      "text/plain": [
       "[1] 12659"
      ]
     },
     "metadata": {},
     "output_type": "display_data"
    }
   ],
   "source": [
    "covidinf=merge(di, covidinf, by='eid')\n",
    "\n",
    "covidinf$TG=(log(covidinf$triglycerides_30870.0.0))\n",
    "covidinf$HDL=(log(covidinf$hdl_cholesterol_30760.0.0))\n",
    "covidinf$Sex=as.factor(covidinf$sex_31.0.0)\n",
    "covidinf$Waist=(covidinf$waist_circumference_48.0.0)\n",
    "covidinf$HbA1c=(log(covidinf$glycated_haemoglobin_hba1c_30750.0.0))\n",
    "covidinf$systolicBP=(rowMeans(cbind(covidinf$systolic_blood_pressure_automated_reading_4080.0.0,\n",
    "                                      covidinf$systolic_blood_pressure_automated_reading_4080.0.1)))\n",
    "covidinf$diastolicBP=(rowMeans(cbind(covidinf$diastolic_blood_pressure_automated_reading_4079.0.0,\n",
    "                                       covidinf$diastolic_blood_pressure_automated_reading_4079.0.1)))\n",
    "covidinf$glucose=(log(covidinf$glucose_30740.0.0))\n",
    "covidinf$CRP=(log(covidinf$c.reactive_protein_30710.0.0))\n",
    "\n",
    "\n",
    "COVinf=select(covidinf, TG, HDL, Sex, Hypertension, Diabetes, result,\n",
    "          laboratory, origin, spectype, qualifications_6138.0.0, townsend_deprivation_index_at_recruitment_189.0.0,\n",
    "          Waist, year_of_birth_34.0.0, smoking_status_20116.0.0,\n",
    "          ethnic_background_21000.0.0, HbA1c, systolicBP, diastolicBP, glucose,\n",
    "             average_total_household_income_before_tax_738.0.0, sex_31.0.0, CRP, eid,\n",
    "             sex_31.0.0, year_of_birth_34.0.0, waist_circumference_48.0.0, hip_circumference_49.0.0,\n",
    "              body_mass_index_bmi_21001.0.0, glucose_30740.0.0,glycated_haemoglobin_hba1c_30750.0.0,\n",
    "              hdl_cholesterol_30760.0.0)\n",
    "\n",
    "\n",
    "\n",
    "for (j in c(1, 2, 11, 12, 16, 17, 18, 19, 22)) { # \n",
    "    Q3=as.numeric(quantile(COVinf[j],0.75, na.rm=TRUE))\n",
    "    Q1=as.numeric(quantile(COVinf[j],0.25, na.rm=TRUE))\n",
    "    upper=Q3+(2.2*(Q3-Q1))\n",
    "    lower=Q1-(2.2*(Q3-Q1))\n",
    "    COVinf[j][COVinf[j]<lower]=NA\n",
    "    COVinf[j][COVinf[j]>upper]=NA\n",
    "    COVinf[j]=scale(COVinf[j])\n",
    "}\n",
    "\n",
    "COVinf=na.omit(COVinf)\n",
    "\n",
    "COVinf$Hypertension=as.numeric(COVinf$Hypertension)\n",
    "COVinf$Diabetes=as.numeric(COVinf$Diabetes)\n",
    "\n",
    "nrow(COVinf)\n",
    "\n",
    "COVinf=merge(COVinf,fasting, by=c('sex_31.0.0','year_of_birth_34.0.0', 'waist_circumference_48.0.0', \n",
    "                                  'hip_circumference_49.0.0','glucose_30740.0.0',\n",
    "                                 'glycated_haemoglobin_hba1c_30750.0.0', 'hdl_cholesterol_30760.0.0'), all.x=TRUE)\n",
    "\n",
    "\n",
    "COVinf$HDL=-1*COVinf$HDL\n",
    "\n",
    "COVinf$glucose=resid(lm(glucose ~ fasting_time_74.0.0, data=COVinf))"
   ]
  },
  {
   "cell_type": "code",
   "execution_count": 13,
   "metadata": {},
   "outputs": [
    {
     "data": {
      "text/html": [
       "1138"
      ],
      "text/latex": [
       "1138"
      ],
      "text/markdown": [
       "1138"
      ],
      "text/plain": [
       "[1] 1138"
      ]
     },
     "metadata": {},
     "output_type": "display_data"
    }
   ],
   "source": [
    "char=merge(COVinf, covidinf, by='eid', all.x=TRUE)\n",
    "\n",
    "sum(char$result.x)"
   ]
  },
  {
   "cell_type": "markdown",
   "metadata": {},
   "source": [
    "# Values before log-transformation"
   ]
  },
  {
   "cell_type": "markdown",
   "metadata": {},
   "source": [
    "### SARS-CoV-2 positive"
   ]
  },
  {
   "cell_type": "code",
   "execution_count": 14,
   "metadata": {},
   "outputs": [
    {
     "data": {
      "text/plain": [
       "\n",
       "         1 \n",
       "0.08989652 "
      ]
     },
     "metadata": {},
     "output_type": "display_data"
    },
    {
     "data": {
      "text/html": [
       "<table>\n",
       "<thead><tr><th></th><th scope=col>vars</th><th scope=col>n</th><th scope=col>mean</th><th scope=col>sd</th><th scope=col>median</th><th scope=col>trimmed</th><th scope=col>mad</th><th scope=col>min</th><th scope=col>max</th><th scope=col>range</th><th scope=col>skew</th><th scope=col>kurtosis</th><th scope=col>se</th></tr></thead>\n",
       "<tbody>\n",
       "\t<tr><th scope=row>X1</th><td>1        </td><td>1138     </td><td>1952.304 </td><td>9.127495 </td><td>1951.5   </td><td>1952.109 </td><td>12.6021  </td><td>1937     </td><td>1969     </td><td>32       </td><td>0.1585154</td><td>-1.344796</td><td>0.2705705</td></tr>\n",
       "</tbody>\n",
       "</table>\n"
      ],
      "text/latex": [
       "\\begin{tabular}{r|lllllllllllll}\n",
       "  & vars & n & mean & sd & median & trimmed & mad & min & max & range & skew & kurtosis & se\\\\\n",
       "\\hline\n",
       "\tX1 & 1         & 1138      & 1952.304  & 9.127495  & 1951.5    & 1952.109  & 12.6021   & 1937      & 1969      & 32        & 0.1585154 & -1.344796 & 0.2705705\\\\\n",
       "\\end{tabular}\n"
      ],
      "text/markdown": [
       "\n",
       "| <!--/--> | vars | n | mean | sd | median | trimmed | mad | min | max | range | skew | kurtosis | se |\n",
       "|---|---|---|---|---|---|---|---|---|---|---|---|---|---|\n",
       "| X1 | 1         | 1138      | 1952.304  | 9.127495  | 1951.5    | 1952.109  | 12.6021   | 1937      | 1969      | 32        | 0.1585154 | -1.344796 | 0.2705705 |\n",
       "\n"
      ],
      "text/plain": [
       "   vars n    mean     sd       median trimmed  mad     min  max  range\n",
       "X1 1    1138 1952.304 9.127495 1951.5 1952.109 12.6021 1937 1969 32   \n",
       "   skew      kurtosis  se       \n",
       "X1 0.1585154 -1.344796 0.2705705"
      ]
     },
     "metadata": {},
     "output_type": "display_data"
    },
    {
     "data": {
      "text/plain": [
       "\n",
       "  Female     Male \n",
       "0.473638 0.526362 "
      ]
     },
     "metadata": {},
     "output_type": "display_data"
    },
    {
     "data": {
      "text/html": [
       "<table>\n",
       "<thead><tr><th></th><th scope=col>vars</th><th scope=col>n</th><th scope=col>mean</th><th scope=col>sd</th><th scope=col>median</th><th scope=col>trimmed</th><th scope=col>mad</th><th scope=col>min</th><th scope=col>max</th><th scope=col>range</th><th scope=col>skew</th><th scope=col>kurtosis</th><th scope=col>se</th></tr></thead>\n",
       "<tbody>\n",
       "\t<tr><th scope=row>X1</th><td>1        </td><td>1138     </td><td>93.38489 </td><td>13.8909  </td><td>93       </td><td>92.93136 </td><td>13.3434  </td><td>62       </td><td>142      </td><td>80       </td><td>0.3321258</td><td>0.1348789</td><td>0.4117745</td></tr>\n",
       "</tbody>\n",
       "</table>\n"
      ],
      "text/latex": [
       "\\begin{tabular}{r|lllllllllllll}\n",
       "  & vars & n & mean & sd & median & trimmed & mad & min & max & range & skew & kurtosis & se\\\\\n",
       "\\hline\n",
       "\tX1 & 1         & 1138      & 93.38489  & 13.8909   & 93        & 92.93136  & 13.3434   & 62        & 142       & 80        & 0.3321258 & 0.1348789 & 0.4117745\\\\\n",
       "\\end{tabular}\n"
      ],
      "text/markdown": [
       "\n",
       "| <!--/--> | vars | n | mean | sd | median | trimmed | mad | min | max | range | skew | kurtosis | se |\n",
       "|---|---|---|---|---|---|---|---|---|---|---|---|---|---|\n",
       "| X1 | 1         | 1138      | 93.38489  | 13.8909   | 93        | 92.93136  | 13.3434   | 62        | 142       | 80        | 0.3321258 | 0.1348789 | 0.4117745 |\n",
       "\n"
      ],
      "text/plain": [
       "   vars n    mean     sd      median trimmed  mad     min max range skew     \n",
       "X1 1    1138 93.38489 13.8909 93     92.93136 13.3434 62  142 80    0.3321258\n",
       "   kurtosis  se       \n",
       "X1 0.1348789 0.4117745"
      ]
     },
     "metadata": {},
     "output_type": "display_data"
    },
    {
     "data": {
      "text/html": [
       "<table>\n",
       "<thead><tr><th></th><th scope=col>vars</th><th scope=col>n</th><th scope=col>mean</th><th scope=col>sd</th><th scope=col>median</th><th scope=col>trimmed</th><th scope=col>mad</th><th scope=col>min</th><th scope=col>max</th><th scope=col>range</th><th scope=col>skew</th><th scope=col>kurtosis</th><th scope=col>se</th></tr></thead>\n",
       "<tbody>\n",
       "\t<tr><th scope=row>X1</th><td>1        </td><td>1138     </td><td>35.82935 </td><td>4.505349 </td><td>35.3     </td><td>35.5716  </td><td>3.85476  </td><td>24       </td><td>53.2     </td><td>29.2     </td><td>0.662114 </td><td>1.039397 </td><td>0.1335541</td></tr>\n",
       "</tbody>\n",
       "</table>\n"
      ],
      "text/latex": [
       "\\begin{tabular}{r|lllllllllllll}\n",
       "  & vars & n & mean & sd & median & trimmed & mad & min & max & range & skew & kurtosis & se\\\\\n",
       "\\hline\n",
       "\tX1 & 1         & 1138      & 35.82935  & 4.505349  & 35.3      & 35.5716   & 3.85476   & 24        & 53.2      & 29.2      & 0.662114  & 1.039397  & 0.1335541\\\\\n",
       "\\end{tabular}\n"
      ],
      "text/markdown": [
       "\n",
       "| <!--/--> | vars | n | mean | sd | median | trimmed | mad | min | max | range | skew | kurtosis | se |\n",
       "|---|---|---|---|---|---|---|---|---|---|---|---|---|---|\n",
       "| X1 | 1         | 1138      | 35.82935  | 4.505349  | 35.3      | 35.5716   | 3.85476   | 24        | 53.2      | 29.2      | 0.662114  | 1.039397  | 0.1335541 |\n",
       "\n"
      ],
      "text/plain": [
       "   vars n    mean     sd       median trimmed mad     min max  range skew    \n",
       "X1 1    1138 35.82935 4.505349 35.3   35.5716 3.85476 24  53.2 29.2  0.662114\n",
       "   kurtosis se       \n",
       "X1 1.039397 0.1335541"
      ]
     },
     "metadata": {},
     "output_type": "display_data"
    },
    {
     "data": {
      "text/html": [
       "<table>\n",
       "<thead><tr><th></th><th scope=col>vars</th><th scope=col>n</th><th scope=col>mean</th><th scope=col>sd</th><th scope=col>median</th><th scope=col>trimmed</th><th scope=col>mad</th><th scope=col>min</th><th scope=col>max</th><th scope=col>range</th><th scope=col>skew</th><th scope=col>kurtosis</th><th scope=col>se</th></tr></thead>\n",
       "<tbody>\n",
       "\t<tr><th scope=row>X1</th><td>1        </td><td>1138     </td><td>3.000369 </td><td>5.229767 </td><td>1.59     </td><td>1.991031 </td><td>1.497426 </td><td>0.09     </td><td>63.93    </td><td>63.84    </td><td>6.35055  </td><td>55.08959 </td><td>0.1550284</td></tr>\n",
       "</tbody>\n",
       "</table>\n"
      ],
      "text/latex": [
       "\\begin{tabular}{r|lllllllllllll}\n",
       "  & vars & n & mean & sd & median & trimmed & mad & min & max & range & skew & kurtosis & se\\\\\n",
       "\\hline\n",
       "\tX1 & 1         & 1138      & 3.000369  & 5.229767  & 1.59      & 1.991031  & 1.497426  & 0.09      & 63.93     & 63.84     & 6.35055   & 55.08959  & 0.1550284\\\\\n",
       "\\end{tabular}\n"
      ],
      "text/markdown": [
       "\n",
       "| <!--/--> | vars | n | mean | sd | median | trimmed | mad | min | max | range | skew | kurtosis | se |\n",
       "|---|---|---|---|---|---|---|---|---|---|---|---|---|---|\n",
       "| X1 | 1         | 1138      | 3.000369  | 5.229767  | 1.59      | 1.991031  | 1.497426  | 0.09      | 63.93     | 63.84     | 6.35055   | 55.08959  | 0.1550284 |\n",
       "\n"
      ],
      "text/plain": [
       "   vars n    mean     sd       median trimmed  mad      min  max   range\n",
       "X1 1    1138 3.000369 5.229767 1.59   1.991031 1.497426 0.09 63.93 63.84\n",
       "   skew    kurtosis se       \n",
       "X1 6.35055 55.08959 0.1550284"
      ]
     },
     "metadata": {},
     "output_type": "display_data"
    },
    {
     "data": {
      "text/html": [
       "<table>\n",
       "<thead><tr><th></th><th scope=col>vars</th><th scope=col>n</th><th scope=col>mean</th><th scope=col>sd</th><th scope=col>median</th><th scope=col>trimmed</th><th scope=col>mad</th><th scope=col>min</th><th scope=col>max</th><th scope=col>range</th><th scope=col>skew</th><th scope=col>kurtosis</th><th scope=col>se</th></tr></thead>\n",
       "<tbody>\n",
       "\t<tr><th scope=row>X1</th><td>1         </td><td>1138      </td><td>4.983326  </td><td>0.6371266 </td><td>4.916     </td><td>4.936264  </td><td>0.5404077 </td><td>3.338     </td><td>7.572     </td><td>4.234     </td><td>0.8172972 </td><td>1.335378  </td><td>0.01888664</td></tr>\n",
       "</tbody>\n",
       "</table>\n"
      ],
      "text/latex": [
       "\\begin{tabular}{r|lllllllllllll}\n",
       "  & vars & n & mean & sd & median & trimmed & mad & min & max & range & skew & kurtosis & se\\\\\n",
       "\\hline\n",
       "\tX1 & 1          & 1138       & 4.983326   & 0.6371266  & 4.916      & 4.936264   & 0.5404077  & 3.338      & 7.572      & 4.234      & 0.8172972  & 1.335378   & 0.01888664\\\\\n",
       "\\end{tabular}\n"
      ],
      "text/markdown": [
       "\n",
       "| <!--/--> | vars | n | mean | sd | median | trimmed | mad | min | max | range | skew | kurtosis | se |\n",
       "|---|---|---|---|---|---|---|---|---|---|---|---|---|---|\n",
       "| X1 | 1          | 1138       | 4.983326   | 0.6371266  | 4.916      | 4.936264   | 0.5404077  | 3.338      | 7.572      | 4.234      | 0.8172972  | 1.335378   | 0.01888664 |\n",
       "\n"
      ],
      "text/plain": [
       "   vars n    mean     sd        median trimmed  mad       min   max   range\n",
       "X1 1    1138 4.983326 0.6371266 4.916  4.936264 0.5404077 3.338 7.572 4.234\n",
       "   skew      kurtosis se        \n",
       "X1 0.8172972 1.335378 0.01888664"
      ]
     },
     "metadata": {},
     "output_type": "display_data"
    },
    {
     "data": {
      "text/html": [
       "<table>\n",
       "<thead><tr><th></th><th scope=col>vars</th><th scope=col>n</th><th scope=col>mean</th><th scope=col>sd</th><th scope=col>median</th><th scope=col>trimmed</th><th scope=col>mad</th><th scope=col>min</th><th scope=col>max</th><th scope=col>range</th><th scope=col>skew</th><th scope=col>kurtosis</th><th scope=col>se</th></tr></thead>\n",
       "<tbody>\n",
       "\t<tr><th scope=row>X1</th><td>1         </td><td>1138      </td><td>1.361864  </td><td>0.3431419 </td><td>1.3185    </td><td>1.337944  </td><td>0.3328437 </td><td>0.511     </td><td>2.954     </td><td>2.443     </td><td>0.70471   </td><td>0.6325755 </td><td>0.01017191</td></tr>\n",
       "</tbody>\n",
       "</table>\n"
      ],
      "text/latex": [
       "\\begin{tabular}{r|lllllllllllll}\n",
       "  & vars & n & mean & sd & median & trimmed & mad & min & max & range & skew & kurtosis & se\\\\\n",
       "\\hline\n",
       "\tX1 & 1          & 1138       & 1.361864   & 0.3431419  & 1.3185     & 1.337944   & 0.3328437  & 0.511      & 2.954      & 2.443      & 0.70471    & 0.6325755  & 0.01017191\\\\\n",
       "\\end{tabular}\n"
      ],
      "text/markdown": [
       "\n",
       "| <!--/--> | vars | n | mean | sd | median | trimmed | mad | min | max | range | skew | kurtosis | se |\n",
       "|---|---|---|---|---|---|---|---|---|---|---|---|---|---|\n",
       "| X1 | 1          | 1138       | 1.361864   | 0.3431419  | 1.3185     | 1.337944   | 0.3328437  | 0.511      | 2.954      | 2.443      | 0.70471    | 0.6325755  | 0.01017191 |\n",
       "\n"
      ],
      "text/plain": [
       "   vars n    mean     sd        median trimmed  mad       min   max   range\n",
       "X1 1    1138 1.361864 0.3431419 1.3185 1.337944 0.3328437 0.511 2.954 2.443\n",
       "   skew    kurtosis  se        \n",
       "X1 0.70471 0.6325755 0.01017191"
      ]
     },
     "metadata": {},
     "output_type": "display_data"
    },
    {
     "data": {
      "text/html": [
       "<table>\n",
       "<thead><tr><th></th><th scope=col>vars</th><th scope=col>n</th><th scope=col>mean</th><th scope=col>sd</th><th scope=col>median</th><th scope=col>trimmed</th><th scope=col>mad</th><th scope=col>min</th><th scope=col>max</th><th scope=col>range</th><th scope=col>skew</th><th scope=col>kurtosis</th><th scope=col>se</th></tr></thead>\n",
       "<tbody>\n",
       "\t<tr><th scope=row>X1</th><td>1         </td><td>1138      </td><td>1.788083  </td><td>1.039995  </td><td>1.521     </td><td>1.640004  </td><td>0.8087583 </td><td>0.461     </td><td>10.856    </td><td>10.395    </td><td>1.977366  </td><td>7.691448  </td><td>0.03082906</td></tr>\n",
       "</tbody>\n",
       "</table>\n"
      ],
      "text/latex": [
       "\\begin{tabular}{r|lllllllllllll}\n",
       "  & vars & n & mean & sd & median & trimmed & mad & min & max & range & skew & kurtosis & se\\\\\n",
       "\\hline\n",
       "\tX1 & 1          & 1138       & 1.788083   & 1.039995   & 1.521      & 1.640004   & 0.8087583  & 0.461      & 10.856     & 10.395     & 1.977366   & 7.691448   & 0.03082906\\\\\n",
       "\\end{tabular}\n"
      ],
      "text/markdown": [
       "\n",
       "| <!--/--> | vars | n | mean | sd | median | trimmed | mad | min | max | range | skew | kurtosis | se |\n",
       "|---|---|---|---|---|---|---|---|---|---|---|---|---|---|\n",
       "| X1 | 1          | 1138       | 1.788083   | 1.039995   | 1.521      | 1.640004   | 0.8087583  | 0.461      | 10.856     | 10.395     | 1.977366   | 7.691448   | 0.03082906 |\n",
       "\n"
      ],
      "text/plain": [
       "   vars n    mean     sd       median trimmed  mad       min   max    range \n",
       "X1 1    1138 1.788083 1.039995 1.521  1.640004 0.8087583 0.461 10.856 10.395\n",
       "   skew     kurtosis se        \n",
       "X1 1.977366 7.691448 0.03082906"
      ]
     },
     "metadata": {},
     "output_type": "display_data"
    },
    {
     "data": {
      "text/html": [
       "<table>\n",
       "<thead><tr><th></th><th scope=col>vars</th><th scope=col>n</th><th scope=col>mean</th><th scope=col>sd</th><th scope=col>median</th><th scope=col>trimmed</th><th scope=col>mad</th><th scope=col>min</th><th scope=col>max</th><th scope=col>range</th><th scope=col>skew</th><th scope=col>kurtosis</th><th scope=col>se</th></tr></thead>\n",
       "<tbody>\n",
       "\t<tr><th scope=row>X1</th><td>1        </td><td>1138     </td><td>137.1977 </td><td>18.58658 </td><td>134.5    </td><td>136.2522 </td><td>18.5325  </td><td>91.5     </td><td>204.5    </td><td>113      </td><td>0.5311468</td><td>0.220753 </td><td>0.5509704</td></tr>\n",
       "</tbody>\n",
       "</table>\n"
      ],
      "text/latex": [
       "\\begin{tabular}{r|lllllllllllll}\n",
       "  & vars & n & mean & sd & median & trimmed & mad & min & max & range & skew & kurtosis & se\\\\\n",
       "\\hline\n",
       "\tX1 & 1         & 1138      & 137.1977  & 18.58658  & 134.5     & 136.2522  & 18.5325   & 91.5      & 204.5     & 113       & 0.5311468 & 0.220753  & 0.5509704\\\\\n",
       "\\end{tabular}\n"
      ],
      "text/markdown": [
       "\n",
       "| <!--/--> | vars | n | mean | sd | median | trimmed | mad | min | max | range | skew | kurtosis | se |\n",
       "|---|---|---|---|---|---|---|---|---|---|---|---|---|---|\n",
       "| X1 | 1         | 1138      | 137.1977  | 18.58658  | 134.5     | 136.2522  | 18.5325   | 91.5      | 204.5     | 113       | 0.5311468 | 0.220753  | 0.5509704 |\n",
       "\n"
      ],
      "text/plain": [
       "   vars n    mean     sd       median trimmed  mad     min  max   range\n",
       "X1 1    1138 137.1977 18.58658 134.5  136.2522 18.5325 91.5 204.5 113  \n",
       "   skew      kurtosis se       \n",
       "X1 0.5311468 0.220753 0.5509704"
      ]
     },
     "metadata": {},
     "output_type": "display_data"
    },
    {
     "data": {
      "text/html": [
       "<table>\n",
       "<thead><tr><th></th><th scope=col>vars</th><th scope=col>n</th><th scope=col>mean</th><th scope=col>sd</th><th scope=col>median</th><th scope=col>trimmed</th><th scope=col>mad</th><th scope=col>min</th><th scope=col>max</th><th scope=col>range</th><th scope=col>skew</th><th scope=col>kurtosis</th><th scope=col>se</th></tr></thead>\n",
       "<tbody>\n",
       "\t<tr><th scope=row>X1</th><td>1        </td><td>1138     </td><td>82.45782 </td><td>10.25369 </td><td>82       </td><td>82.30263 </td><td>9.6369   </td><td>48       </td><td>118.5    </td><td>70.5     </td><td>0.2016658</td><td>0.2175487</td><td>0.3039547</td></tr>\n",
       "</tbody>\n",
       "</table>\n"
      ],
      "text/latex": [
       "\\begin{tabular}{r|lllllllllllll}\n",
       "  & vars & n & mean & sd & median & trimmed & mad & min & max & range & skew & kurtosis & se\\\\\n",
       "\\hline\n",
       "\tX1 & 1         & 1138      & 82.45782  & 10.25369  & 82        & 82.30263  & 9.6369    & 48        & 118.5     & 70.5      & 0.2016658 & 0.2175487 & 0.3039547\\\\\n",
       "\\end{tabular}\n"
      ],
      "text/markdown": [
       "\n",
       "| <!--/--> | vars | n | mean | sd | median | trimmed | mad | min | max | range | skew | kurtosis | se |\n",
       "|---|---|---|---|---|---|---|---|---|---|---|---|---|---|\n",
       "| X1 | 1         | 1138      | 82.45782  | 10.25369  | 82        | 82.30263  | 9.6369    | 48        | 118.5     | 70.5      | 0.2016658 | 0.2175487 | 0.3039547 |\n",
       "\n"
      ],
      "text/plain": [
       "   vars n    mean     sd       median trimmed  mad    min max   range skew     \n",
       "X1 1    1138 82.45782 10.25369 82     82.30263 9.6369 48  118.5 70.5  0.2016658\n",
       "   kurtosis  se       \n",
       "X1 0.2175487 0.3039547"
      ]
     },
     "metadata": {},
     "output_type": "display_data"
    },
    {
     "data": {
      "text/plain": [
       "\n",
       "         0          1 \n",
       "0.90509666 0.09490334 "
      ]
     },
     "metadata": {},
     "output_type": "display_data"
    },
    {
     "data": {
      "text/plain": [
       "\n",
       "        0         1 \n",
       "0.5834798 0.4165202 "
      ]
     },
     "metadata": {},
     "output_type": "display_data"
    }
   ],
   "source": [
    "char=merge(COVinf, covidinf, by='eid', all.x=TRUE)\n",
    "char=char[char$result.x==1,]\n",
    "table(char$result.x)/nrow(COVinf)\n",
    "describe(char$year_of_birth_34.0.0.x)\n",
    "table(char$sex_31.0.0.x)/nrow(char)\n",
    "describe(char$waist_circumference_48.0.0.x)\n",
    "describe(char$glycated_haemoglobin_hba1c_30750.0.0.x)\n",
    "describe(char$c.reactive_protein_30710.0.0)\n",
    "describe(char$glucose_30740.0.0.x)\n",
    "describe(char$hdl_cholesterol_30760.0.0.x)\n",
    "describe(char$triglycerides_30870.0.0)\n",
    "describe((rowMeans(cbind(char$systolic_blood_pressure_automated_reading_4080.0.0,\n",
    "                                      char$systolic_blood_pressure_automated_reading_4080.0.1))))\n",
    "describe(rowMeans(cbind(char$diastolic_blood_pressure_automated_reading_4079.0.0,\n",
    "                                       char$diastolic_blood_pressure_automated_reading_4079.0.1)))\n",
    "table(char$Diabetes.x)/nrow(char)\n",
    "table(char$Hypertension.x)/nrow(char) "
   ]
  },
  {
   "cell_type": "markdown",
   "metadata": {},
   "source": [
    "### SARS-CoV-2 negative"
   ]
  },
  {
   "cell_type": "code",
   "execution_count": 15,
   "metadata": {},
   "outputs": [
    {
     "data": {
      "text/plain": [
       "\n",
       "        0 \n",
       "0.9101035 "
      ]
     },
     "metadata": {},
     "output_type": "display_data"
    },
    {
     "data": {
      "text/html": [
       "<table>\n",
       "<thead><tr><th></th><th scope=col>vars</th><th scope=col>n</th><th scope=col>mean</th><th scope=col>sd</th><th scope=col>median</th><th scope=col>trimmed</th><th scope=col>mad</th><th scope=col>min</th><th scope=col>max</th><th scope=col>range</th><th scope=col>skew</th><th scope=col>kurtosis</th><th scope=col>se</th></tr></thead>\n",
       "<tbody>\n",
       "\t<tr><th scope=row>X1</th><td>1         </td><td>11521     </td><td>1950.016  </td><td>8.128044  </td><td>1948      </td><td>1949.422  </td><td>8.8956    </td><td>1937      </td><td>1970      </td><td>33        </td><td>0.5581258 </td><td>-0.7645892</td><td>0.07572529</td></tr>\n",
       "</tbody>\n",
       "</table>\n"
      ],
      "text/latex": [
       "\\begin{tabular}{r|lllllllllllll}\n",
       "  & vars & n & mean & sd & median & trimmed & mad & min & max & range & skew & kurtosis & se\\\\\n",
       "\\hline\n",
       "\tX1 & 1          & 11521      & 1950.016   & 8.128044   & 1948       & 1949.422   & 8.8956     & 1937       & 1970       & 33         & 0.5581258  & -0.7645892 & 0.07572529\\\\\n",
       "\\end{tabular}\n"
      ],
      "text/markdown": [
       "\n",
       "| <!--/--> | vars | n | mean | sd | median | trimmed | mad | min | max | range | skew | kurtosis | se |\n",
       "|---|---|---|---|---|---|---|---|---|---|---|---|---|---|\n",
       "| X1 | 1          | 11521      | 1950.016   | 8.128044   | 1948       | 1949.422   | 8.8956     | 1937       | 1970       | 33         | 0.5581258  | -0.7645892 | 0.07572529 |\n",
       "\n"
      ],
      "text/plain": [
       "   vars n     mean     sd       median trimmed  mad    min  max  range\n",
       "X1 1    11521 1950.016 8.128044 1948   1949.422 8.8956 1937 1970 33   \n",
       "   skew      kurtosis   se        \n",
       "X1 0.5581258 -0.7645892 0.07572529"
      ]
     },
     "metadata": {},
     "output_type": "display_data"
    },
    {
     "data": {
      "text/plain": [
       "\n",
       "   Female      Male \n",
       "0.5232185 0.4767815 "
      ]
     },
     "metadata": {},
     "output_type": "display_data"
    },
    {
     "data": {
      "text/html": [
       "<table>\n",
       "<thead><tr><th></th><th scope=col>vars</th><th scope=col>n</th><th scope=col>mean</th><th scope=col>sd</th><th scope=col>median</th><th scope=col>trimmed</th><th scope=col>mad</th><th scope=col>min</th><th scope=col>max</th><th scope=col>range</th><th scope=col>skew</th><th scope=col>kurtosis</th><th scope=col>se</th></tr></thead>\n",
       "<tbody>\n",
       "\t<tr><th scope=row>X1</th><td>1          </td><td>11521      </td><td>92.06818   </td><td>13.68869   </td><td>92         </td><td>91.63175   </td><td>13.3434    </td><td>57         </td><td>143        </td><td>86         </td><td>0.3247418  </td><td>-0.03190711</td><td>0.1275313  </td></tr>\n",
       "</tbody>\n",
       "</table>\n"
      ],
      "text/latex": [
       "\\begin{tabular}{r|lllllllllllll}\n",
       "  & vars & n & mean & sd & median & trimmed & mad & min & max & range & skew & kurtosis & se\\\\\n",
       "\\hline\n",
       "\tX1 & 1           & 11521       & 92.06818    & 13.68869    & 92          & 91.63175    & 13.3434     & 57          & 143         & 86          & 0.3247418   & -0.03190711 & 0.1275313  \\\\\n",
       "\\end{tabular}\n"
      ],
      "text/markdown": [
       "\n",
       "| <!--/--> | vars | n | mean | sd | median | trimmed | mad | min | max | range | skew | kurtosis | se |\n",
       "|---|---|---|---|---|---|---|---|---|---|---|---|---|---|\n",
       "| X1 | 1           | 11521       | 92.06818    | 13.68869    | 92          | 91.63175    | 13.3434     | 57          | 143         | 86          | 0.3247418   | -0.03190711 | 0.1275313   |\n",
       "\n"
      ],
      "text/plain": [
       "   vars n     mean     sd       median trimmed  mad     min max range skew     \n",
       "X1 1    11521 92.06818 13.68869 92     91.63175 13.3434 57  143 86    0.3247418\n",
       "   kurtosis    se       \n",
       "X1 -0.03190711 0.1275313"
      ]
     },
     "metadata": {},
     "output_type": "display_data"
    },
    {
     "data": {
      "text/html": [
       "<table>\n",
       "<thead><tr><th></th><th scope=col>vars</th><th scope=col>n</th><th scope=col>mean</th><th scope=col>sd</th><th scope=col>median</th><th scope=col>trimmed</th><th scope=col>mad</th><th scope=col>min</th><th scope=col>max</th><th scope=col>range</th><th scope=col>skew</th><th scope=col>kurtosis</th><th scope=col>se</th></tr></thead>\n",
       "<tbody>\n",
       "\t<tr><th scope=row>X1</th><td>1        </td><td>11521    </td><td>35.76357 </td><td>4.327334 </td><td>35.5     </td><td>35.55213 </td><td>3.7065   </td><td>23.9     </td><td>53.7     </td><td>29.8     </td><td>0.6563347</td><td>1.475758 </td><td>0.0403158</td></tr>\n",
       "</tbody>\n",
       "</table>\n"
      ],
      "text/latex": [
       "\\begin{tabular}{r|lllllllllllll}\n",
       "  & vars & n & mean & sd & median & trimmed & mad & min & max & range & skew & kurtosis & se\\\\\n",
       "\\hline\n",
       "\tX1 & 1         & 11521     & 35.76357  & 4.327334  & 35.5      & 35.55213  & 3.7065    & 23.9      & 53.7      & 29.8      & 0.6563347 & 1.475758  & 0.0403158\\\\\n",
       "\\end{tabular}\n"
      ],
      "text/markdown": [
       "\n",
       "| <!--/--> | vars | n | mean | sd | median | trimmed | mad | min | max | range | skew | kurtosis | se |\n",
       "|---|---|---|---|---|---|---|---|---|---|---|---|---|---|\n",
       "| X1 | 1         | 11521     | 35.76357  | 4.327334  | 35.5      | 35.55213  | 3.7065    | 23.9      | 53.7      | 29.8      | 0.6563347 | 1.475758  | 0.0403158 |\n",
       "\n"
      ],
      "text/plain": [
       "   vars n     mean     sd       median trimmed  mad    min  max  range\n",
       "X1 1    11521 35.76357 4.327334 35.5   35.55213 3.7065 23.9 53.7 29.8 \n",
       "   skew      kurtosis se       \n",
       "X1 0.6563347 1.475758 0.0403158"
      ]
     },
     "metadata": {},
     "output_type": "display_data"
    },
    {
     "data": {
      "text/html": [
       "<table>\n",
       "<thead><tr><th></th><th scope=col>vars</th><th scope=col>n</th><th scope=col>mean</th><th scope=col>sd</th><th scope=col>median</th><th scope=col>trimmed</th><th scope=col>mad</th><th scope=col>min</th><th scope=col>max</th><th scope=col>range</th><th scope=col>skew</th><th scope=col>kurtosis</th><th scope=col>se</th></tr></thead>\n",
       "<tbody>\n",
       "\t<tr><th scope=row>X1</th><td>1         </td><td>11521     </td><td>2.836558  </td><td>4.447098  </td><td>1.49      </td><td>1.92271   </td><td>1.378818  </td><td>0.08      </td><td>71.31     </td><td>71.23     </td><td>5.364848  </td><td>43.26239  </td><td>0.04143159</td></tr>\n",
       "</tbody>\n",
       "</table>\n"
      ],
      "text/latex": [
       "\\begin{tabular}{r|lllllllllllll}\n",
       "  & vars & n & mean & sd & median & trimmed & mad & min & max & range & skew & kurtosis & se\\\\\n",
       "\\hline\n",
       "\tX1 & 1          & 11521      & 2.836558   & 4.447098   & 1.49       & 1.92271    & 1.378818   & 0.08       & 71.31      & 71.23      & 5.364848   & 43.26239   & 0.04143159\\\\\n",
       "\\end{tabular}\n"
      ],
      "text/markdown": [
       "\n",
       "| <!--/--> | vars | n | mean | sd | median | trimmed | mad | min | max | range | skew | kurtosis | se |\n",
       "|---|---|---|---|---|---|---|---|---|---|---|---|---|---|\n",
       "| X1 | 1          | 11521      | 2.836558   | 4.447098   | 1.49       | 1.92271    | 1.378818   | 0.08       | 71.31      | 71.23      | 5.364848   | 43.26239   | 0.04143159 |\n",
       "\n"
      ],
      "text/plain": [
       "   vars n     mean     sd       median trimmed mad      min  max   range\n",
       "X1 1    11521 2.836558 4.447098 1.49   1.92271 1.378818 0.08 71.31 71.23\n",
       "   skew     kurtosis se        \n",
       "X1 5.364848 43.26239 0.04143159"
      ]
     },
     "metadata": {},
     "output_type": "display_data"
    },
    {
     "data": {
      "text/html": [
       "<table>\n",
       "<thead><tr><th></th><th scope=col>vars</th><th scope=col>n</th><th scope=col>mean</th><th scope=col>sd</th><th scope=col>median</th><th scope=col>trimmed</th><th scope=col>mad</th><th scope=col>min</th><th scope=col>max</th><th scope=col>range</th><th scope=col>skew</th><th scope=col>kurtosis</th><th scope=col>se</th></tr></thead>\n",
       "<tbody>\n",
       "\t<tr><th scope=row>X1</th><td>1          </td><td>11521      </td><td>5.003087   </td><td>0.6286926  </td><td>4.937      </td><td>4.960785   </td><td>0.5070492  </td><td>3.292      </td><td>7.568      </td><td>4.276      </td><td>0.8219338  </td><td>1.662386   </td><td>0.005857243</td></tr>\n",
       "</tbody>\n",
       "</table>\n"
      ],
      "text/latex": [
       "\\begin{tabular}{r|lllllllllllll}\n",
       "  & vars & n & mean & sd & median & trimmed & mad & min & max & range & skew & kurtosis & se\\\\\n",
       "\\hline\n",
       "\tX1 & 1           & 11521       & 5.003087    & 0.6286926   & 4.937       & 4.960785    & 0.5070492   & 3.292       & 7.568       & 4.276       & 0.8219338   & 1.662386    & 0.005857243\\\\\n",
       "\\end{tabular}\n"
      ],
      "text/markdown": [
       "\n",
       "| <!--/--> | vars | n | mean | sd | median | trimmed | mad | min | max | range | skew | kurtosis | se |\n",
       "|---|---|---|---|---|---|---|---|---|---|---|---|---|---|\n",
       "| X1 | 1           | 11521       | 5.003087    | 0.6286926   | 4.937       | 4.960785    | 0.5070492   | 3.292       | 7.568       | 4.276       | 0.8219338   | 1.662386    | 0.005857243 |\n",
       "\n"
      ],
      "text/plain": [
       "   vars n     mean     sd        median trimmed  mad       min   max   range\n",
       "X1 1    11521 5.003087 0.6286926 4.937  4.960785 0.5070492 3.292 7.568 4.276\n",
       "   skew      kurtosis se         \n",
       "X1 0.8219338 1.662386 0.005857243"
      ]
     },
     "metadata": {},
     "output_type": "display_data"
    },
    {
     "data": {
      "text/html": [
       "<table>\n",
       "<thead><tr><th></th><th scope=col>vars</th><th scope=col>n</th><th scope=col>mean</th><th scope=col>sd</th><th scope=col>median</th><th scope=col>trimmed</th><th scope=col>mad</th><th scope=col>min</th><th scope=col>max</th><th scope=col>range</th><th scope=col>skew</th><th scope=col>kurtosis</th><th scope=col>se</th></tr></thead>\n",
       "<tbody>\n",
       "\t<tr><th scope=row>X1</th><td>1          </td><td>11521      </td><td>1.432801   </td><td>0.3845299  </td><td>1.381      </td><td>1.40333    </td><td>0.3647196  </td><td>0.53       </td><td>3.524      </td><td>2.994      </td><td>0.841408   </td><td>1.099048   </td><td>0.003582491</td></tr>\n",
       "</tbody>\n",
       "</table>\n"
      ],
      "text/latex": [
       "\\begin{tabular}{r|lllllllllllll}\n",
       "  & vars & n & mean & sd & median & trimmed & mad & min & max & range & skew & kurtosis & se\\\\\n",
       "\\hline\n",
       "\tX1 & 1           & 11521       & 1.432801    & 0.3845299   & 1.381       & 1.40333     & 0.3647196   & 0.53        & 3.524       & 2.994       & 0.841408    & 1.099048    & 0.003582491\\\\\n",
       "\\end{tabular}\n"
      ],
      "text/markdown": [
       "\n",
       "| <!--/--> | vars | n | mean | sd | median | trimmed | mad | min | max | range | skew | kurtosis | se |\n",
       "|---|---|---|---|---|---|---|---|---|---|---|---|---|---|\n",
       "| X1 | 1           | 11521       | 1.432801    | 0.3845299   | 1.381       | 1.40333     | 0.3647196   | 0.53        | 3.524       | 2.994       | 0.841408    | 1.099048    | 0.003582491 |\n",
       "\n"
      ],
      "text/plain": [
       "   vars n     mean     sd        median trimmed mad       min  max   range\n",
       "X1 1    11521 1.432801 0.3845299 1.381  1.40333 0.3647196 0.53 3.524 2.994\n",
       "   skew     kurtosis se         \n",
       "X1 0.841408 1.099048 0.003582491"
      ]
     },
     "metadata": {},
     "output_type": "display_data"
    },
    {
     "data": {
      "text/html": [
       "<table>\n",
       "<thead><tr><th></th><th scope=col>vars</th><th scope=col>n</th><th scope=col>mean</th><th scope=col>sd</th><th scope=col>median</th><th scope=col>trimmed</th><th scope=col>mad</th><th scope=col>min</th><th scope=col>max</th><th scope=col>range</th><th scope=col>skew</th><th scope=col>kurtosis</th><th scope=col>se</th></tr></thead>\n",
       "<tbody>\n",
       "\t<tr><th scope=row>X1</th><td>1          </td><td>11521      </td><td>1.768551   </td><td>1.015978   </td><td>1.522      </td><td>1.620799   </td><td>0.7768824  </td><td>0.272      </td><td>10.664     </td><td>10.392     </td><td>1.982265   </td><td>6.745047   </td><td>0.009465405</td></tr>\n",
       "</tbody>\n",
       "</table>\n"
      ],
      "text/latex": [
       "\\begin{tabular}{r|lllllllllllll}\n",
       "  & vars & n & mean & sd & median & trimmed & mad & min & max & range & skew & kurtosis & se\\\\\n",
       "\\hline\n",
       "\tX1 & 1           & 11521       & 1.768551    & 1.015978    & 1.522       & 1.620799    & 0.7768824   & 0.272       & 10.664      & 10.392      & 1.982265    & 6.745047    & 0.009465405\\\\\n",
       "\\end{tabular}\n"
      ],
      "text/markdown": [
       "\n",
       "| <!--/--> | vars | n | mean | sd | median | trimmed | mad | min | max | range | skew | kurtosis | se |\n",
       "|---|---|---|---|---|---|---|---|---|---|---|---|---|---|\n",
       "| X1 | 1           | 11521       | 1.768551    | 1.015978    | 1.522       | 1.620799    | 0.7768824   | 0.272       | 10.664      | 10.392      | 1.982265    | 6.745047    | 0.009465405 |\n",
       "\n"
      ],
      "text/plain": [
       "   vars n     mean     sd       median trimmed  mad       min   max    range \n",
       "X1 1    11521 1.768551 1.015978 1.522  1.620799 0.7768824 0.272 10.664 10.392\n",
       "   skew     kurtosis se         \n",
       "X1 1.982265 6.745047 0.009465405"
      ]
     },
     "metadata": {},
     "output_type": "display_data"
    },
    {
     "data": {
      "text/html": [
       "<table>\n",
       "<thead><tr><th></th><th scope=col>vars</th><th scope=col>n</th><th scope=col>mean</th><th scope=col>sd</th><th scope=col>median</th><th scope=col>trimmed</th><th scope=col>mad</th><th scope=col>min</th><th scope=col>max</th><th scope=col>range</th><th scope=col>skew</th><th scope=col>kurtosis</th><th scope=col>se</th></tr></thead>\n",
       "<tbody>\n",
       "\t<tr><th scope=row>X1</th><td>1         </td><td>11521     </td><td>138.5533  </td><td>18.55339  </td><td>137       </td><td>137.7761  </td><td>18.5325   </td><td>87        </td><td>205       </td><td>118       </td><td>0.4141962 </td><td>0.05438034</td><td>0.1728535 </td></tr>\n",
       "</tbody>\n",
       "</table>\n"
      ],
      "text/latex": [
       "\\begin{tabular}{r|lllllllllllll}\n",
       "  & vars & n & mean & sd & median & trimmed & mad & min & max & range & skew & kurtosis & se\\\\\n",
       "\\hline\n",
       "\tX1 & 1          & 11521      & 138.5533   & 18.55339   & 137        & 137.7761   & 18.5325    & 87         & 205        & 118        & 0.4141962  & 0.05438034 & 0.1728535 \\\\\n",
       "\\end{tabular}\n"
      ],
      "text/markdown": [
       "\n",
       "| <!--/--> | vars | n | mean | sd | median | trimmed | mad | min | max | range | skew | kurtosis | se |\n",
       "|---|---|---|---|---|---|---|---|---|---|---|---|---|---|\n",
       "| X1 | 1          | 11521      | 138.5533   | 18.55339   | 137        | 137.7761   | 18.5325    | 87         | 205        | 118        | 0.4141962  | 0.05438034 | 0.1728535  |\n",
       "\n"
      ],
      "text/plain": [
       "   vars n     mean     sd       median trimmed  mad     min max range skew     \n",
       "X1 1    11521 138.5533 18.55339 137    137.7761 18.5325 87  205 118   0.4141962\n",
       "   kurtosis   se       \n",
       "X1 0.05438034 0.1728535"
      ]
     },
     "metadata": {},
     "output_type": "display_data"
    },
    {
     "data": {
      "text/html": [
       "<table>\n",
       "<thead><tr><th></th><th scope=col>vars</th><th scope=col>n</th><th scope=col>mean</th><th scope=col>sd</th><th scope=col>median</th><th scope=col>trimmed</th><th scope=col>mad</th><th scope=col>min</th><th scope=col>max</th><th scope=col>range</th><th scope=col>skew</th><th scope=col>kurtosis</th><th scope=col>se</th></tr></thead>\n",
       "<tbody>\n",
       "\t<tr><th scope=row>X1</th><td>1         </td><td>11521     </td><td>82.23514  </td><td>9.935423  </td><td>82        </td><td>82.05951  </td><td>10.3782   </td><td>49        </td><td>119.5     </td><td>70.5      </td><td>0.1773649 </td><td>0.01289526</td><td>0.09256382</td></tr>\n",
       "</tbody>\n",
       "</table>\n"
      ],
      "text/latex": [
       "\\begin{tabular}{r|lllllllllllll}\n",
       "  & vars & n & mean & sd & median & trimmed & mad & min & max & range & skew & kurtosis & se\\\\\n",
       "\\hline\n",
       "\tX1 & 1          & 11521      & 82.23514   & 9.935423   & 82         & 82.05951   & 10.3782    & 49         & 119.5      & 70.5       & 0.1773649  & 0.01289526 & 0.09256382\\\\\n",
       "\\end{tabular}\n"
      ],
      "text/markdown": [
       "\n",
       "| <!--/--> | vars | n | mean | sd | median | trimmed | mad | min | max | range | skew | kurtosis | se |\n",
       "|---|---|---|---|---|---|---|---|---|---|---|---|---|---|\n",
       "| X1 | 1          | 11521      | 82.23514   | 9.935423   | 82         | 82.05951   | 10.3782    | 49         | 119.5      | 70.5       | 0.1773649  | 0.01289526 | 0.09256382 |\n",
       "\n"
      ],
      "text/plain": [
       "   vars n     mean     sd       median trimmed  mad     min max   range\n",
       "X1 1    11521 82.23514 9.935423 82     82.05951 10.3782 49  119.5 70.5 \n",
       "   skew      kurtosis   se        \n",
       "X1 0.1773649 0.01289526 0.09256382"
      ]
     },
     "metadata": {},
     "output_type": "display_data"
    },
    {
     "data": {
      "text/plain": [
       "\n",
       "         0          1 \n",
       "0.92170819 0.07829181 "
      ]
     },
     "metadata": {},
     "output_type": "display_data"
    },
    {
     "data": {
      "text/plain": [
       "\n",
       "        0         1 \n",
       "0.5767728 0.4232272 "
      ]
     },
     "metadata": {},
     "output_type": "display_data"
    }
   ],
   "source": [
    "char=merge(COVinf, covidinf, by='eid', all.x=TRUE)\n",
    "char=char[char$result.x==0,]\n",
    "table(char$result.x)/nrow(COVinf)\n",
    "describe(char$year_of_birth_34.0.0.x)\n",
    "table(char$sex_31.0.0.x)/nrow(char)\n",
    "describe(char$waist_circumference_48.0.0.x)\n",
    "describe(char$glycated_haemoglobin_hba1c_30750.0.0.x)\n",
    "describe(char$c.reactive_protein_30710.0.0)\n",
    "describe(char$glucose_30740.0.0.x)\n",
    "describe(char$hdl_cholesterol_30760.0.0.x)\n",
    "describe(char$triglycerides_30870.0.0)\n",
    "describe((rowMeans(cbind(char$systolic_blood_pressure_automated_reading_4080.0.0,\n",
    "                                      char$systolic_blood_pressure_automated_reading_4080.0.1))))\n",
    "describe(rowMeans(cbind(char$diastolic_blood_pressure_automated_reading_4079.0.0,\n",
    "                                       char$diastolic_blood_pressure_automated_reading_4079.0.1)))\n",
    "table(char$Diabetes.x)/nrow(char)\n",
    "table(char$Hypertension.x)/nrow(char) "
   ]
  },
  {
   "cell_type": "markdown",
   "metadata": {},
   "source": [
    "## CFA"
   ]
  },
  {
   "cell_type": "code",
   "execution_count": 29,
   "metadata": {},
   "outputs": [
    {
     "name": "stdout",
     "output_type": "stream",
     "text": [
      "lavaan 0.6-7 ended normally after 47 iterations\n",
      "\n",
      "  Estimator                                         ML\n",
      "  Optimization method                           NLMINB\n",
      "  Number of free parameters                         23\n",
      "                                                      \n",
      "  Number of observations                         12659\n",
      "                                                      \n",
      "Model Test User Model:\n",
      "                                              Standard      Robust\n",
      "  Test Statistic                              1770.690    1668.342\n",
      "  Degrees of freedom                                32          32\n",
      "  P-value (Chi-square)                           0.000       0.000\n",
      "  Scaling correction factor                                  1.061\n",
      "       Satorra-Bentler correction                                 \n",
      "\n",
      "Model Test Baseline Model:\n",
      "\n",
      "  Test statistic                             25699.513   22836.916\n",
      "  Degrees of freedom                                45          45\n",
      "  P-value                                        0.000       0.000\n",
      "  Scaling correction factor                                  1.125\n",
      "\n",
      "User Model versus Baseline Model:\n",
      "\n",
      "  Comparative Fit Index (CFI)                    0.932       0.928\n",
      "  Tucker-Lewis Index (TLI)                       0.905       0.899\n",
      "                                                                  \n",
      "  Robust Comparative Fit Index (CFI)                         0.932\n",
      "  Robust Tucker-Lewis Index (TLI)                            0.905\n",
      "\n",
      "Loglikelihood and Information Criteria:\n",
      "\n",
      "  Loglikelihood user model (H0)            -140342.158 -140342.158\n",
      "  Loglikelihood unrestricted model (H1)    -139456.813 -139456.813\n",
      "                                                                  \n",
      "  Akaike (AIC)                              280730.317  280730.317\n",
      "  Bayesian (BIC)                            280901.578  280901.578\n",
      "  Sample-size adjusted Bayesian (BIC)       280828.486  280828.486\n",
      "\n",
      "Root Mean Square Error of Approximation:\n",
      "\n",
      "  RMSEA                                          0.066       0.064\n",
      "  90 Percent confidence interval - lower         0.063       0.061\n",
      "  90 Percent confidence interval - upper         0.068       0.066\n",
      "  P-value RMSEA <= 0.05                          0.000       0.000\n",
      "                                                                  \n",
      "  Robust RMSEA                                               0.065\n",
      "  90 Percent confidence interval - lower                     0.063\n",
      "  90 Percent confidence interval - upper                     0.068\n",
      "\n",
      "Standardized Root Mean Square Residual:\n",
      "\n",
      "  SRMR                                           0.040       0.040\n",
      "\n",
      "Parameter Estimates:\n",
      "\n",
      "  Standard errors                           Robust.sem\n",
      "  Information                                 Expected\n",
      "  Information saturated (h1) model          Structured\n",
      "\n",
      "Latent Variables:\n",
      "                        Estimate  Std.Err  z-value  P(>|z|)   Std.lv  Std.all\n",
      "  HypertensionLatent =~                                                      \n",
      "    diastolcBP             1.000                               0.411    0.415\n",
      "    systolicBP             1.202    0.027   43.772    0.000    0.493    0.495\n",
      "    Hypertensn             0.817    0.036   22.916    0.000    0.335    0.679\n",
      "  DiabetesLatent =~                                                          \n",
      "    HbA1c                  1.000                               0.683    0.708\n",
      "    glucose                0.497    0.021   23.292    0.000    0.339    0.349\n",
      "    Diabetes               0.226    0.008   28.572    0.000    0.155    0.570\n",
      "  DysL =~                                                                    \n",
      "    TG         (a)         1.000                               0.673    0.678\n",
      "    HDL        (a)         1.000                               0.673    0.690\n",
      "  MetS =~                                                                    \n",
      "    Waist                  1.000                               0.798    0.819\n",
      "    DysL                   0.623    0.014   45.245    0.000    0.738    0.738\n",
      "    HyprtnsnLt             0.269    0.012   22.583    0.000    0.522    0.522\n",
      "    DiabtsLtnt             0.416    0.013   31.628    0.000    0.486    0.486\n",
      "    CRP                    0.558    0.014   39.610    0.000    0.446    0.450\n",
      "\n",
      "Covariances:\n",
      "                   Estimate  Std.Err  z-value  P(>|z|)   Std.lv  Std.all\n",
      " .diastolicBP ~~                                                        \n",
      "   .systolicBP        0.464    0.012   39.205    0.000    0.464    0.594\n",
      "\n",
      "Variances:\n",
      "                   Estimate  Std.Err  z-value  P(>|z|)   Std.lv  Std.all\n",
      "   .diastolicBP       0.811    0.013   61.733    0.000    0.811    0.828\n",
      "   .systolicBP        0.752    0.015   51.047    0.000    0.752    0.755\n",
      "   .Hypertension      0.131    0.005   28.311    0.000    0.131    0.539\n",
      "   .HbA1c             0.463    0.015   30.004    0.000    0.463    0.498\n",
      "   .glucose           0.827    0.014   60.170    0.000    0.827    0.878\n",
      "   .Diabetes          0.050    0.001   37.234    0.000    0.050    0.675\n",
      "   .TG                0.532    0.010   55.518    0.000    0.532    0.540\n",
      "   .HDL               0.498    0.009   52.638    0.000    0.498    0.523\n",
      "   .Waist             0.313    0.012   25.162    0.000    0.313    0.329\n",
      "   .CRP               0.784    0.012   66.186    0.000    0.784    0.798\n",
      "   .HypertensnLtnt    0.123    0.008   15.936    0.000    0.727    0.727\n",
      "   .DiabetesLatent    0.356    0.016   22.807    0.000    0.763    0.763\n",
      "   .DysL              0.206    0.009   23.564    0.000    0.455    0.455\n",
      "    MetS              0.637    0.016   40.167    0.000    1.000    1.000\n",
      "\n"
     ]
    }
   ],
   "source": [
    "COVID_infection = '\n",
    "#Latent variables\n",
    "\n",
    "HypertensionLatent =~  diastolicBP + systolicBP  + Hypertension\n",
    "DiabetesLatent =~ HbA1c + glucose  + Diabetes\n",
    "DysL =~ a*TG + a*HDL\n",
    "\n",
    "MetS =~ Waist + DysL + HypertensionLatent + DiabetesLatent + CRP\n",
    "\n",
    "systolicBP ~~ diastolicBP\n",
    "'\n",
    "\n",
    "\n",
    "COVID_fitinf <- cfa(COVID_infection, data=COVinf, estimator='MLM')\n",
    "summary(COVID_fitinf, standardized=TRUE, fit.measures=T)\n",
    "#fitmeasures(WMHOB_fit) #fit indices"
   ]
  },
  {
   "cell_type": "markdown",
   "metadata": {},
   "source": [
    "## Logistic regression"
   ]
  },
  {
   "cell_type": "code",
   "execution_count": 30,
   "metadata": {
    "scrolled": false
   },
   "outputs": [
    {
     "data": {
      "text/plain": [
       "\n",
       "Call:\n",
       "glm(formula = result ~ townsend_deprivation_index_at_recruitment_189.0.0.x + \n",
       "    MetS + sex_31.0.0 + year_of_birth_34.0.0 + laboratory + spectype + \n",
       "    qualifications_6138.0.0 + smoking_status_20116.0.0 + ethnic_background_21000.0.0 + \n",
       "    average_total_household_income_before_tax_738.0.0, family = binomial(link = \"logit\"), \n",
       "    data = COVinf)\n",
       "\n",
       "Deviance Residuals: \n",
       "    Min       1Q   Median       3Q      Max  \n",
       "-1.2477  -0.4652  -0.3839  -0.3150   2.7148  \n",
       "\n",
       "Coefficients:\n",
       "                                                                                 Estimate\n",
       "(Intercept)                                                                    -7.428e+01\n",
       "townsend_deprivation_index_at_recruitment_189.0.0.x                             9.829e-02\n",
       "MetS                                                                            9.608e-02\n",
       "sex_31.0.0Male                                                                  2.117e-01\n",
       "year_of_birth_34.0.0                                                            3.683e-02\n",
       "laboratory                                                                      9.655e-03\n",
       "spectype                                                                        2.165e-02\n",
       "qualifications_6138.0.0College or University degree                            -6.667e-02\n",
       "qualifications_6138.0.0CSEs or equivalent                                       3.379e-01\n",
       "qualifications_6138.0.0None of the above                                        3.249e-01\n",
       "qualifications_6138.0.0NVQ or HND or HNC or equivalent                          2.322e-01\n",
       "qualifications_6138.0.0O levels/GCSEs or equivalent                            -2.010e-03\n",
       "qualifications_6138.0.0Other professional qualifications eg: nursing, teaching  1.989e-01\n",
       "qualifications_6138.0.0Prefer not to answer                                     1.613e-01\n",
       "smoking_status_20116.0.0Never                                                   1.364e-01\n",
       "smoking_status_20116.0.0Prefer not to answer                                    8.316e-01\n",
       "smoking_status_20116.0.0Previous                                                1.742e-01\n",
       "ethnic_background_21000.0.0Any other Asian background                          -2.571e-01\n",
       "ethnic_background_21000.0.0Any other Black background                           1.857e+00\n",
       "ethnic_background_21000.0.0Any other mixed background                          -3.939e-01\n",
       "ethnic_background_21000.0.0Any other white background                          -1.096e+00\n",
       "ethnic_background_21000.0.0Bangladeshi                                         -6.166e-01\n",
       "ethnic_background_21000.0.0Black or Black British                              -9.951e+00\n",
       "ethnic_background_21000.0.0British                                             -8.513e-01\n",
       "ethnic_background_21000.0.0Caribbean                                           -7.671e-02\n",
       "ethnic_background_21000.0.0Chinese                                              2.616e-01\n",
       "ethnic_background_21000.0.0Do not know                                         -7.473e-01\n",
       "ethnic_background_21000.0.0Indian                                              -6.088e-01\n",
       "ethnic_background_21000.0.0Irish                                               -9.936e-01\n",
       "ethnic_background_21000.0.0Other ethnic group                                  -1.812e-01\n",
       "ethnic_background_21000.0.0Pakistani                                            2.667e-03\n",
       "ethnic_background_21000.0.0Prefer not to answer                                -1.286e+00\n",
       "ethnic_background_21000.0.0White                                               -1.244e+00\n",
       "ethnic_background_21000.0.0White and Asian                                     -8.952e-01\n",
       "ethnic_background_21000.0.0White and Black African                             -8.147e-01\n",
       "ethnic_background_21000.0.0White and Black Caribbean                           -1.522e+00\n",
       "average_total_household_income_before_tax_738.0.031,000 to 51,999               7.072e-02\n",
       "average_total_household_income_before_tax_738.0.052,000 to 100,000             -1.505e-01\n",
       "average_total_household_income_before_tax_738.0.0Do not know                   -3.915e-02\n",
       "average_total_household_income_before_tax_738.0.0Greater than 100,000          -4.252e-01\n",
       "average_total_household_income_before_tax_738.0.0Less than 18,000               1.153e-01\n",
       "average_total_household_income_before_tax_738.0.0Prefer not to answer           5.970e-02\n",
       "                                                                               Std. Error\n",
       "(Intercept)                                                                     8.385e+00\n",
       "townsend_deprivation_index_at_recruitment_189.0.0.x                             3.449e-02\n",
       "MetS                                                                            5.108e-02\n",
       "sex_31.0.0Male                                                                  6.998e-02\n",
       "year_of_birth_34.0.0                                                            4.281e-03\n",
       "laboratory                                                                      9.676e-04\n",
       "spectype                                                                        6.093e-03\n",
       "qualifications_6138.0.0College or University degree                             1.208e-01\n",
       "qualifications_6138.0.0CSEs or equivalent                                       1.551e-01\n",
       "qualifications_6138.0.0None of the above                                        1.279e-01\n",
       "qualifications_6138.0.0NVQ or HND or HNC or equivalent                          1.499e-01\n",
       "qualifications_6138.0.0O levels/GCSEs or equivalent                             1.253e-01\n",
       "qualifications_6138.0.0Other professional qualifications eg: nursing, teaching  1.651e-01\n",
       "qualifications_6138.0.0Prefer not to answer                                     2.905e-01\n",
       "smoking_status_20116.0.0Never                                                   1.030e-01\n",
       "smoking_status_20116.0.0Prefer not to answer                                    3.701e-01\n",
       "smoking_status_20116.0.0Previous                                                1.055e-01\n",
       "ethnic_background_21000.0.0Any other Asian background                           4.607e-01\n",
       "ethnic_background_21000.0.0Any other Black background                           1.452e+00\n",
       "ethnic_background_21000.0.0Any other mixed background                           6.083e-01\n",
       "ethnic_background_21000.0.0Any other white background                           3.234e-01\n",
       "ethnic_background_21000.0.0Bangladeshi                                          1.150e+00\n",
       "ethnic_background_21000.0.0Black or Black British                               1.970e+02\n",
       "ethnic_background_21000.0.0British                                              2.607e-01\n",
       "ethnic_background_21000.0.0Caribbean                                            3.407e-01\n",
       "ethnic_background_21000.0.0Chinese                                              5.913e-01\n",
       "ethnic_background_21000.0.0Do not know                                          1.112e+00\n",
       "ethnic_background_21000.0.0Indian                                               3.475e-01\n",
       "ethnic_background_21000.0.0Irish                                                3.211e-01\n",
       "ethnic_background_21000.0.0Other ethnic group                                   3.431e-01\n",
       "ethnic_background_21000.0.0Pakistani                                            4.486e-01\n",
       "ethnic_background_21000.0.0Prefer not to answer                                 6.595e-01\n",
       "ethnic_background_21000.0.0White                                                1.075e+00\n",
       "ethnic_background_21000.0.0White and Asian                                      7.943e-01\n",
       "ethnic_background_21000.0.0White and Black African                              8.063e-01\n",
       "ethnic_background_21000.0.0White and Black Caribbean                            1.084e+00\n",
       "average_total_household_income_before_tax_738.0.031,000 to 51,999               9.981e-02\n",
       "average_total_household_income_before_tax_738.0.052,000 to 100,000              1.158e-01\n",
       "average_total_household_income_before_tax_738.0.0Do not know                    1.649e-01\n",
       "average_total_household_income_before_tax_738.0.0Greater than 100,000           1.970e-01\n",
       "average_total_household_income_before_tax_738.0.0Less than 18,000               9.585e-02\n",
       "average_total_household_income_before_tax_738.0.0Prefer not to answer           1.230e-01\n",
       "                                                                               z value\n",
       "(Intercept)                                                                     -8.859\n",
       "townsend_deprivation_index_at_recruitment_189.0.0.x                              2.850\n",
       "MetS                                                                             1.881\n",
       "sex_31.0.0Male                                                                   3.025\n",
       "year_of_birth_34.0.0                                                             8.603\n",
       "laboratory                                                                       9.979\n",
       "spectype                                                                         3.554\n",
       "qualifications_6138.0.0College or University degree                             -0.552\n",
       "qualifications_6138.0.0CSEs or equivalent                                        2.179\n",
       "qualifications_6138.0.0None of the above                                         2.540\n",
       "qualifications_6138.0.0NVQ or HND or HNC or equivalent                           1.549\n",
       "qualifications_6138.0.0O levels/GCSEs or equivalent                             -0.016\n",
       "qualifications_6138.0.0Other professional qualifications eg: nursing, teaching   1.204\n",
       "qualifications_6138.0.0Prefer not to answer                                      0.555\n",
       "smoking_status_20116.0.0Never                                                    1.323\n",
       "smoking_status_20116.0.0Prefer not to answer                                     2.247\n",
       "smoking_status_20116.0.0Previous                                                 1.652\n",
       "ethnic_background_21000.0.0Any other Asian background                           -0.558\n",
       "ethnic_background_21000.0.0Any other Black background                            1.279\n",
       "ethnic_background_21000.0.0Any other mixed background                           -0.648\n",
       "ethnic_background_21000.0.0Any other white background                           -3.390\n",
       "ethnic_background_21000.0.0Bangladeshi                                          -0.536\n",
       "ethnic_background_21000.0.0Black or Black British                               -0.051\n",
       "ethnic_background_21000.0.0British                                              -3.265\n",
       "ethnic_background_21000.0.0Caribbean                                            -0.225\n",
       "ethnic_background_21000.0.0Chinese                                               0.442\n",
       "ethnic_background_21000.0.0Do not know                                          -0.672\n",
       "ethnic_background_21000.0.0Indian                                               -1.752\n",
       "ethnic_background_21000.0.0Irish                                                -3.094\n",
       "ethnic_background_21000.0.0Other ethnic group                                   -0.528\n",
       "ethnic_background_21000.0.0Pakistani                                             0.006\n",
       "ethnic_background_21000.0.0Prefer not to answer                                 -1.950\n",
       "ethnic_background_21000.0.0White                                                -1.157\n",
       "ethnic_background_21000.0.0White and Asian                                      -1.127\n",
       "ethnic_background_21000.0.0White and Black African                              -1.010\n",
       "ethnic_background_21000.0.0White and Black Caribbean                            -1.404\n",
       "average_total_household_income_before_tax_738.0.031,000 to 51,999                0.709\n",
       "average_total_household_income_before_tax_738.0.052,000 to 100,000              -1.299\n",
       "average_total_household_income_before_tax_738.0.0Do not know                    -0.237\n",
       "average_total_household_income_before_tax_738.0.0Greater than 100,000           -2.159\n",
       "average_total_household_income_before_tax_738.0.0Less than 18,000                1.203\n",
       "average_total_household_income_before_tax_738.0.0Prefer not to answer            0.485\n",
       "                                                                               Pr(>|z|)\n",
       "(Intercept)                                                                     < 2e-16\n",
       "townsend_deprivation_index_at_recruitment_189.0.0.x                            0.004378\n",
       "MetS                                                                           0.060006\n",
       "sex_31.0.0Male                                                                 0.002487\n",
       "year_of_birth_34.0.0                                                            < 2e-16\n",
       "laboratory                                                                      < 2e-16\n",
       "spectype                                                                       0.000380\n",
       "qualifications_6138.0.0College or University degree                            0.581136\n",
       "qualifications_6138.0.0CSEs or equivalent                                      0.029341\n",
       "qualifications_6138.0.0None of the above                                       0.011096\n",
       "qualifications_6138.0.0NVQ or HND or HNC or equivalent                         0.121370\n",
       "qualifications_6138.0.0O levels/GCSEs or equivalent                            0.987202\n",
       "qualifications_6138.0.0Other professional qualifications eg: nursing, teaching 0.228429\n",
       "qualifications_6138.0.0Prefer not to answer                                    0.578631\n",
       "smoking_status_20116.0.0Never                                                  0.185697\n",
       "smoking_status_20116.0.0Prefer not to answer                                   0.024651\n",
       "smoking_status_20116.0.0Previous                                               0.098583\n",
       "ethnic_background_21000.0.0Any other Asian background                          0.576714\n",
       "ethnic_background_21000.0.0Any other Black background                          0.200823\n",
       "ethnic_background_21000.0.0Any other mixed background                          0.517306\n",
       "ethnic_background_21000.0.0Any other white background                          0.000699\n",
       "ethnic_background_21000.0.0Bangladeshi                                         0.591892\n",
       "ethnic_background_21000.0.0Black or Black British                              0.959706\n",
       "ethnic_background_21000.0.0British                                             0.001094\n",
       "ethnic_background_21000.0.0Caribbean                                           0.821852\n",
       "ethnic_background_21000.0.0Chinese                                             0.658209\n",
       "ethnic_background_21000.0.0Do not know                                         0.501498\n",
       "ethnic_background_21000.0.0Indian                                              0.079798\n",
       "ethnic_background_21000.0.0Irish                                               0.001974\n",
       "ethnic_background_21000.0.0Other ethnic group                                  0.597373\n",
       "ethnic_background_21000.0.0Pakistani                                           0.995257\n",
       "ethnic_background_21000.0.0Prefer not to answer                                0.051165\n",
       "ethnic_background_21000.0.0White                                               0.247300\n",
       "ethnic_background_21000.0.0White and Asian                                     0.259732\n",
       "ethnic_background_21000.0.0White and Black African                             0.312304\n",
       "ethnic_background_21000.0.0White and Black Caribbean                           0.160343\n",
       "average_total_household_income_before_tax_738.0.031,000 to 51,999              0.478600\n",
       "average_total_household_income_before_tax_738.0.052,000 to 100,000             0.193895\n",
       "average_total_household_income_before_tax_738.0.0Do not know                   0.812336\n",
       "average_total_household_income_before_tax_738.0.0Greater than 100,000          0.030882\n",
       "average_total_household_income_before_tax_738.0.0Less than 18,000              0.228906\n",
       "average_total_household_income_before_tax_738.0.0Prefer not to answer          0.627449\n",
       "                                                                                  \n",
       "(Intercept)                                                                    ***\n",
       "townsend_deprivation_index_at_recruitment_189.0.0.x                            ** \n",
       "MetS                                                                           .  \n",
       "sex_31.0.0Male                                                                 ** \n",
       "year_of_birth_34.0.0                                                           ***\n",
       "laboratory                                                                     ***\n",
       "spectype                                                                       ***\n",
       "qualifications_6138.0.0College or University degree                               \n",
       "qualifications_6138.0.0CSEs or equivalent                                      *  \n",
       "qualifications_6138.0.0None of the above                                       *  \n",
       "qualifications_6138.0.0NVQ or HND or HNC or equivalent                            \n",
       "qualifications_6138.0.0O levels/GCSEs or equivalent                               \n",
       "qualifications_6138.0.0Other professional qualifications eg: nursing, teaching    \n",
       "qualifications_6138.0.0Prefer not to answer                                       \n",
       "smoking_status_20116.0.0Never                                                     \n",
       "smoking_status_20116.0.0Prefer not to answer                                   *  \n",
       "smoking_status_20116.0.0Previous                                               .  \n",
       "ethnic_background_21000.0.0Any other Asian background                             \n",
       "ethnic_background_21000.0.0Any other Black background                             \n",
       "ethnic_background_21000.0.0Any other mixed background                             \n",
       "ethnic_background_21000.0.0Any other white background                          ***\n",
       "ethnic_background_21000.0.0Bangladeshi                                            \n",
       "ethnic_background_21000.0.0Black or Black British                                 \n",
       "ethnic_background_21000.0.0British                                             ** \n",
       "ethnic_background_21000.0.0Caribbean                                              \n",
       "ethnic_background_21000.0.0Chinese                                                \n",
       "ethnic_background_21000.0.0Do not know                                            \n",
       "ethnic_background_21000.0.0Indian                                              .  \n",
       "ethnic_background_21000.0.0Irish                                               ** \n",
       "ethnic_background_21000.0.0Other ethnic group                                     \n",
       "ethnic_background_21000.0.0Pakistani                                              \n",
       "ethnic_background_21000.0.0Prefer not to answer                                .  \n",
       "ethnic_background_21000.0.0White                                                  \n",
       "ethnic_background_21000.0.0White and Asian                                        \n",
       "ethnic_background_21000.0.0White and Black African                                \n",
       "ethnic_background_21000.0.0White and Black Caribbean                              \n",
       "average_total_household_income_before_tax_738.0.031,000 to 51,999                 \n",
       "average_total_household_income_before_tax_738.0.052,000 to 100,000                \n",
       "average_total_household_income_before_tax_738.0.0Do not know                      \n",
       "average_total_household_income_before_tax_738.0.0Greater than 100,000          *  \n",
       "average_total_household_income_before_tax_738.0.0Less than 18,000                 \n",
       "average_total_household_income_before_tax_738.0.0Prefer not to answer             \n",
       "---\n",
       "Signif. codes:  0 ‘***’ 0.001 ‘**’ 0.01 ‘*’ 0.05 ‘.’ 0.1 ‘ ’ 1\n",
       "\n",
       "(Dispersion parameter for binomial family taken to be 1)\n",
       "\n",
       "    Null deviance: 7653.6  on 12658  degrees of freedom\n",
       "Residual deviance: 7309.8  on 12617  degrees of freedom\n",
       "AIC: 7393.8\n",
       "\n",
       "Number of Fisher Scoring iterations: 10\n"
      ]
     },
     "metadata": {},
     "output_type": "display_data"
    }
   ],
   "source": [
    "### Get latent variable scores\n",
    "\n",
    "COVinf$MetS=(lavPredict(COVID_fitinf, newdata = NULL, type = \"lv\", method = \"regression\",\n",
    "           se = \"none\", acov = \"none\", label = TRUE, fsm = FALSE, \n",
    "           append.data = FALSE, assemble = FALSE,\n",
    "           level = 1L, optim.method = \"bfgs\", ETA = NULL))[,4]\n",
    "\n",
    "### Run logistic regression\n",
    "\n",
    "metsinf_logit=(glm(result ~ townsend_deprivation_index_at_recruitment_189.0.0.x + \n",
    "           MetS +\n",
    "           sex_31.0.0 +\n",
    "           year_of_birth_34.0.0 +\n",
    "           laboratory +\n",
    "           spectype +\n",
    "           qualifications_6138.0.0 + \n",
    "           smoking_status_20116.0.0 + \n",
    "           ethnic_background_21000.0.0 +\n",
    "           average_total_household_income_before_tax_738.0.0, data=COVinf, family='binomial'(link=\"logit\")))\n",
    "\n",
    "summary(metsinf_logit)"
   ]
  },
  {
   "cell_type": "code",
   "execution_count": 31,
   "metadata": {},
   "outputs": [
    {
     "name": "stderr",
     "output_type": "stream",
     "text": [
      "Waiting for profiling to be done...\n"
     ]
    },
    {
     "data": {
      "text/html": [
       "<table>\n",
       "<thead><tr><th></th><th scope=col></th><th scope=col>2.5 %</th><th scope=col>97.5 %</th></tr></thead>\n",
       "<tbody>\n",
       "\t<tr><th scope=row>(Intercept)</th><td>5.488267e-33</td><td>4.027161e-40</td><td>7.625129e-26</td></tr>\n",
       "\t<tr><th scope=row>townsend_deprivation_index_at_recruitment_189.0.0.x</th><td>1.103281e+00</td><td>1.030873e+00</td><td>1.180144e+00</td></tr>\n",
       "\t<tr><th scope=row>MetS</th><td>1.100842e+00</td><td>9.956848e-01</td><td>1.216459e+00</td></tr>\n",
       "\t<tr><th scope=row>sex_31.0.0Male</th><td>1.235771e+00</td><td>1.077531e+00</td><td>1.417729e+00</td></tr>\n",
       "\t<tr><th scope=row>year_of_birth_34.0.0</th><td>1.037517e+00</td><td>1.028841e+00</td><td>1.046254e+00</td></tr>\n",
       "\t<tr><th scope=row>laboratory</th><td>1.009702e+00</td><td>1.007787e+00</td><td>1.011617e+00</td></tr>\n",
       "\t<tr><th scope=row>spectype</th><td>1.021889e+00</td><td>1.009615e+00</td><td>1.034030e+00</td></tr>\n",
       "\t<tr><th scope=row>qualifications_6138.0.0College or University degree</th><td>9.355011e-01</td><td>7.403087e-01</td><td>1.189388e+00</td></tr>\n",
       "\t<tr><th scope=row>qualifications_6138.0.0CSEs or equivalent</th><td>1.401957e+00</td><td>1.033097e+00</td><td>1.898594e+00</td></tr>\n",
       "\t<tr><th scope=row>qualifications_6138.0.0None of the above</th><td>1.383834e+00</td><td>1.079786e+00</td><td>1.783456e+00</td></tr>\n",
       "\t<tr><th scope=row>qualifications_6138.0.0NVQ or HND or HNC or equivalent</th><td>1.261376e+00</td><td>9.393860e-01</td><td>1.691741e+00</td></tr>\n",
       "\t<tr><th scope=row>qualifications_6138.0.0O levels/GCSEs or equivalent</th><td>9.979916e-01</td><td>7.823683e-01</td><td>1.279304e+00</td></tr>\n",
       "\t<tr><th scope=row>qualifications_6138.0.0Other professional qualifications eg: nursing, teaching</th><td>1.220030e+00</td><td>8.796310e-01</td><td>1.682001e+00</td></tr>\n",
       "\t<tr><th scope=row>qualifications_6138.0.0Prefer not to answer</th><td>1.175088e+00</td><td>6.459257e-01</td><td>2.029147e+00</td></tr>\n",
       "\t<tr><th scope=row>smoking_status_20116.0.0Never</th><td>1.146106e+00</td><td>9.390343e-01</td><td>1.406741e+00</td></tr>\n",
       "\t<tr><th scope=row>smoking_status_20116.0.0Prefer not to answer</th><td>2.296998e+00</td><td>1.054242e+00</td><td>4.561315e+00</td></tr>\n",
       "\t<tr><th scope=row>smoking_status_20116.0.0Previous</th><td>1.190301e+00</td><td>9.704163e-01</td><td>1.467637e+00</td></tr>\n",
       "\t<tr><th scope=row>ethnic_background_21000.0.0Any other Asian background</th><td>7.732571e-01</td><td>3.017063e-01</td><td>1.864433e+00</td></tr>\n",
       "\t<tr><th scope=row>ethnic_background_21000.0.0Any other Black background</th><td>6.405056e+00</td><td>2.411843e-01</td><td>1.702202e+02</td></tr>\n",
       "\t<tr><th scope=row>ethnic_background_21000.0.0Any other mixed background</th><td>6.744350e-01</td><td>1.791157e-01</td><td>2.052607e+00</td></tr>\n",
       "\t<tr><th scope=row>ethnic_background_21000.0.0Any other white background</th><td>3.341050e-01</td><td>1.774809e-01</td><td>6.338648e-01</td></tr>\n",
       "\t<tr><th scope=row>ethnic_background_21000.0.0Bangladeshi</th><td>5.397801e-01</td><td>2.662031e-02</td><td>3.855096e+00</td></tr>\n",
       "\t<tr><th scope=row>ethnic_background_21000.0.0Black or Black British</th><td>4.766964e-05</td><td>          NA</td><td>1.280047e+13</td></tr>\n",
       "\t<tr><th scope=row>ethnic_background_21000.0.0British</th><td>4.268651e-01</td><td>2.601126e-01</td><td>7.260577e-01</td></tr>\n",
       "\t<tr><th scope=row>ethnic_background_21000.0.0Caribbean</th><td>9.261545e-01</td><td>4.747601e-01</td><td>1.814513e+00</td></tr>\n",
       "\t<tr><th scope=row>ethnic_background_21000.0.0Chinese</th><td>1.298982e+00</td><td>3.740665e-01</td><td>3.943627e+00</td></tr>\n",
       "\t<tr><th scope=row>ethnic_background_21000.0.0Do not know</th><td>4.736520e-01</td><td>2.425118e-02</td><td>2.993060e+00</td></tr>\n",
       "\t<tr><th scope=row>ethnic_background_21000.0.0Indian</th><td>5.440110e-01</td><td>2.739387e-01</td><td>1.076373e+00</td></tr>\n",
       "\t<tr><th scope=row>ethnic_background_21000.0.0Irish</th><td>3.702427e-01</td><td>1.977895e-01</td><td>6.999529e-01</td></tr>\n",
       "\t<tr><th scope=row>ethnic_background_21000.0.0Other ethnic group</th><td>8.342476e-01</td><td>4.252305e-01</td><td>1.640896e+00</td></tr>\n",
       "\t<tr><th scope=row>ethnic_background_21000.0.0Pakistani</th><td>1.002671e+00</td><td>4.037091e-01</td><td>2.374552e+00</td></tr>\n",
       "\t<tr><th scope=row>ethnic_background_21000.0.0Prefer not to answer</th><td>2.763650e-01</td><td>6.150414e-02</td><td>8.875219e-01</td></tr>\n",
       "\t<tr><th scope=row>ethnic_background_21000.0.0White</th><td>2.881825e-01</td><td>1.528824e-02</td><td>1.613932e+00</td></tr>\n",
       "\t<tr><th scope=row>ethnic_background_21000.0.0White and Asian</th><td>4.085303e-01</td><td>6.109520e-02</td><td>1.608019e+00</td></tr>\n",
       "\t<tr><th scope=row>ethnic_background_21000.0.0White and Black African</th><td>4.427614e-01</td><td>6.526316e-02</td><td>1.805914e+00</td></tr>\n",
       "\t<tr><th scope=row>ethnic_background_21000.0.0White and Black Caribbean</th><td>2.182561e-01</td><td>1.147778e-02</td><td>1.257275e+00</td></tr>\n",
       "\t<tr><th scope=row>average_total_household_income_before_tax_738.0.031,000 to 51,999</th><td>1.073278e+00</td><td>8.825117e-01</td><td>1.305320e+00</td></tr>\n",
       "\t<tr><th scope=row>average_total_household_income_before_tax_738.0.052,000 to 100,000</th><td>8.603010e-01</td><td>6.846115e-01</td><td>1.078326e+00</td></tr>\n",
       "\t<tr><th scope=row>average_total_household_income_before_tax_738.0.0Do not know</th><td>9.616098e-01</td><td>6.903713e-01</td><td>1.318995e+00</td></tr>\n",
       "\t<tr><th scope=row>average_total_household_income_before_tax_738.0.0Greater than 100,000</th><td>6.536159e-01</td><td>4.379678e-01</td><td>9.499626e-01</td></tr>\n",
       "\t<tr><th scope=row>average_total_household_income_before_tax_738.0.0Less than 18,000</th><td>1.122243e+00</td><td>9.304186e-01</td><td>1.354972e+00</td></tr>\n",
       "\t<tr><th scope=row>average_total_household_income_before_tax_738.0.0Prefer not to answer</th><td>1.061517e+00</td><td>8.318926e-01</td><td>1.347883e+00</td></tr>\n",
       "</tbody>\n",
       "</table>\n"
      ],
      "text/latex": [
       "\\begin{tabular}{r|lll}\n",
       "  &  & 2.5 \\% & 97.5 \\%\\\\\n",
       "\\hline\n",
       "\t(Intercept) & 5.488267e-33 & 4.027161e-40 & 7.625129e-26\\\\\n",
       "\ttownsend\\_deprivation\\_index\\_at\\_recruitment\\_189.0.0.x & 1.103281e+00 & 1.030873e+00 & 1.180144e+00\\\\\n",
       "\tMetS & 1.100842e+00 & 9.956848e-01 & 1.216459e+00\\\\\n",
       "\tsex\\_31.0.0Male & 1.235771e+00 & 1.077531e+00 & 1.417729e+00\\\\\n",
       "\tyear\\_of\\_birth\\_34.0.0 & 1.037517e+00 & 1.028841e+00 & 1.046254e+00\\\\\n",
       "\tlaboratory & 1.009702e+00 & 1.007787e+00 & 1.011617e+00\\\\\n",
       "\tspectype & 1.021889e+00 & 1.009615e+00 & 1.034030e+00\\\\\n",
       "\tqualifications\\_6138.0.0College or University degree & 9.355011e-01 & 7.403087e-01 & 1.189388e+00\\\\\n",
       "\tqualifications\\_6138.0.0CSEs or equivalent & 1.401957e+00 & 1.033097e+00 & 1.898594e+00\\\\\n",
       "\tqualifications\\_6138.0.0None of the above & 1.383834e+00 & 1.079786e+00 & 1.783456e+00\\\\\n",
       "\tqualifications\\_6138.0.0NVQ or HND or HNC or equivalent & 1.261376e+00 & 9.393860e-01 & 1.691741e+00\\\\\n",
       "\tqualifications\\_6138.0.0O levels/GCSEs or equivalent & 9.979916e-01 & 7.823683e-01 & 1.279304e+00\\\\\n",
       "\tqualifications\\_6138.0.0Other professional qualifications eg: nursing, teaching & 1.220030e+00 & 8.796310e-01 & 1.682001e+00\\\\\n",
       "\tqualifications\\_6138.0.0Prefer not to answer & 1.175088e+00 & 6.459257e-01 & 2.029147e+00\\\\\n",
       "\tsmoking\\_status\\_20116.0.0Never & 1.146106e+00 & 9.390343e-01 & 1.406741e+00\\\\\n",
       "\tsmoking\\_status\\_20116.0.0Prefer not to answer & 2.296998e+00 & 1.054242e+00 & 4.561315e+00\\\\\n",
       "\tsmoking\\_status\\_20116.0.0Previous & 1.190301e+00 & 9.704163e-01 & 1.467637e+00\\\\\n",
       "\tethnic\\_background\\_21000.0.0Any other Asian background & 7.732571e-01 & 3.017063e-01 & 1.864433e+00\\\\\n",
       "\tethnic\\_background\\_21000.0.0Any other Black background & 6.405056e+00 & 2.411843e-01 & 1.702202e+02\\\\\n",
       "\tethnic\\_background\\_21000.0.0Any other mixed background & 6.744350e-01 & 1.791157e-01 & 2.052607e+00\\\\\n",
       "\tethnic\\_background\\_21000.0.0Any other white background & 3.341050e-01 & 1.774809e-01 & 6.338648e-01\\\\\n",
       "\tethnic\\_background\\_21000.0.0Bangladeshi & 5.397801e-01 & 2.662031e-02 & 3.855096e+00\\\\\n",
       "\tethnic\\_background\\_21000.0.0Black or Black British & 4.766964e-05 &           NA & 1.280047e+13\\\\\n",
       "\tethnic\\_background\\_21000.0.0British & 4.268651e-01 & 2.601126e-01 & 7.260577e-01\\\\\n",
       "\tethnic\\_background\\_21000.0.0Caribbean & 9.261545e-01 & 4.747601e-01 & 1.814513e+00\\\\\n",
       "\tethnic\\_background\\_21000.0.0Chinese & 1.298982e+00 & 3.740665e-01 & 3.943627e+00\\\\\n",
       "\tethnic\\_background\\_21000.0.0Do not know & 4.736520e-01 & 2.425118e-02 & 2.993060e+00\\\\\n",
       "\tethnic\\_background\\_21000.0.0Indian & 5.440110e-01 & 2.739387e-01 & 1.076373e+00\\\\\n",
       "\tethnic\\_background\\_21000.0.0Irish & 3.702427e-01 & 1.977895e-01 & 6.999529e-01\\\\\n",
       "\tethnic\\_background\\_21000.0.0Other ethnic group & 8.342476e-01 & 4.252305e-01 & 1.640896e+00\\\\\n",
       "\tethnic\\_background\\_21000.0.0Pakistani & 1.002671e+00 & 4.037091e-01 & 2.374552e+00\\\\\n",
       "\tethnic\\_background\\_21000.0.0Prefer not to answer & 2.763650e-01 & 6.150414e-02 & 8.875219e-01\\\\\n",
       "\tethnic\\_background\\_21000.0.0White & 2.881825e-01 & 1.528824e-02 & 1.613932e+00\\\\\n",
       "\tethnic\\_background\\_21000.0.0White and Asian & 4.085303e-01 & 6.109520e-02 & 1.608019e+00\\\\\n",
       "\tethnic\\_background\\_21000.0.0White and Black African & 4.427614e-01 & 6.526316e-02 & 1.805914e+00\\\\\n",
       "\tethnic\\_background\\_21000.0.0White and Black Caribbean & 2.182561e-01 & 1.147778e-02 & 1.257275e+00\\\\\n",
       "\taverage\\_total\\_household\\_income\\_before\\_tax\\_738.0.031,000 to 51,999 & 1.073278e+00 & 8.825117e-01 & 1.305320e+00\\\\\n",
       "\taverage\\_total\\_household\\_income\\_before\\_tax\\_738.0.052,000 to 100,000 & 8.603010e-01 & 6.846115e-01 & 1.078326e+00\\\\\n",
       "\taverage\\_total\\_household\\_income\\_before\\_tax\\_738.0.0Do not know & 9.616098e-01 & 6.903713e-01 & 1.318995e+00\\\\\n",
       "\taverage\\_total\\_household\\_income\\_before\\_tax\\_738.0.0Greater than 100,000 & 6.536159e-01 & 4.379678e-01 & 9.499626e-01\\\\\n",
       "\taverage\\_total\\_household\\_income\\_before\\_tax\\_738.0.0Less than 18,000 & 1.122243e+00 & 9.304186e-01 & 1.354972e+00\\\\\n",
       "\taverage\\_total\\_household\\_income\\_before\\_tax\\_738.0.0Prefer not to answer & 1.061517e+00 & 8.318926e-01 & 1.347883e+00\\\\\n",
       "\\end{tabular}\n"
      ],
      "text/markdown": [
       "\n",
       "| <!--/--> |  | 2.5 % | 97.5 % |\n",
       "|---|---|---|---|\n",
       "| (Intercept) | 5.488267e-33 | 4.027161e-40 | 7.625129e-26 |\n",
       "| townsend_deprivation_index_at_recruitment_189.0.0.x | 1.103281e+00 | 1.030873e+00 | 1.180144e+00 |\n",
       "| MetS | 1.100842e+00 | 9.956848e-01 | 1.216459e+00 |\n",
       "| sex_31.0.0Male | 1.235771e+00 | 1.077531e+00 | 1.417729e+00 |\n",
       "| year_of_birth_34.0.0 | 1.037517e+00 | 1.028841e+00 | 1.046254e+00 |\n",
       "| laboratory | 1.009702e+00 | 1.007787e+00 | 1.011617e+00 |\n",
       "| spectype | 1.021889e+00 | 1.009615e+00 | 1.034030e+00 |\n",
       "| qualifications_6138.0.0College or University degree | 9.355011e-01 | 7.403087e-01 | 1.189388e+00 |\n",
       "| qualifications_6138.0.0CSEs or equivalent | 1.401957e+00 | 1.033097e+00 | 1.898594e+00 |\n",
       "| qualifications_6138.0.0None of the above | 1.383834e+00 | 1.079786e+00 | 1.783456e+00 |\n",
       "| qualifications_6138.0.0NVQ or HND or HNC or equivalent | 1.261376e+00 | 9.393860e-01 | 1.691741e+00 |\n",
       "| qualifications_6138.0.0O levels/GCSEs or equivalent | 9.979916e-01 | 7.823683e-01 | 1.279304e+00 |\n",
       "| qualifications_6138.0.0Other professional qualifications eg: nursing, teaching | 1.220030e+00 | 8.796310e-01 | 1.682001e+00 |\n",
       "| qualifications_6138.0.0Prefer not to answer | 1.175088e+00 | 6.459257e-01 | 2.029147e+00 |\n",
       "| smoking_status_20116.0.0Never | 1.146106e+00 | 9.390343e-01 | 1.406741e+00 |\n",
       "| smoking_status_20116.0.0Prefer not to answer | 2.296998e+00 | 1.054242e+00 | 4.561315e+00 |\n",
       "| smoking_status_20116.0.0Previous | 1.190301e+00 | 9.704163e-01 | 1.467637e+00 |\n",
       "| ethnic_background_21000.0.0Any other Asian background | 7.732571e-01 | 3.017063e-01 | 1.864433e+00 |\n",
       "| ethnic_background_21000.0.0Any other Black background | 6.405056e+00 | 2.411843e-01 | 1.702202e+02 |\n",
       "| ethnic_background_21000.0.0Any other mixed background | 6.744350e-01 | 1.791157e-01 | 2.052607e+00 |\n",
       "| ethnic_background_21000.0.0Any other white background | 3.341050e-01 | 1.774809e-01 | 6.338648e-01 |\n",
       "| ethnic_background_21000.0.0Bangladeshi | 5.397801e-01 | 2.662031e-02 | 3.855096e+00 |\n",
       "| ethnic_background_21000.0.0Black or Black British | 4.766964e-05 |           NA | 1.280047e+13 |\n",
       "| ethnic_background_21000.0.0British | 4.268651e-01 | 2.601126e-01 | 7.260577e-01 |\n",
       "| ethnic_background_21000.0.0Caribbean | 9.261545e-01 | 4.747601e-01 | 1.814513e+00 |\n",
       "| ethnic_background_21000.0.0Chinese | 1.298982e+00 | 3.740665e-01 | 3.943627e+00 |\n",
       "| ethnic_background_21000.0.0Do not know | 4.736520e-01 | 2.425118e-02 | 2.993060e+00 |\n",
       "| ethnic_background_21000.0.0Indian | 5.440110e-01 | 2.739387e-01 | 1.076373e+00 |\n",
       "| ethnic_background_21000.0.0Irish | 3.702427e-01 | 1.977895e-01 | 6.999529e-01 |\n",
       "| ethnic_background_21000.0.0Other ethnic group | 8.342476e-01 | 4.252305e-01 | 1.640896e+00 |\n",
       "| ethnic_background_21000.0.0Pakistani | 1.002671e+00 | 4.037091e-01 | 2.374552e+00 |\n",
       "| ethnic_background_21000.0.0Prefer not to answer | 2.763650e-01 | 6.150414e-02 | 8.875219e-01 |\n",
       "| ethnic_background_21000.0.0White | 2.881825e-01 | 1.528824e-02 | 1.613932e+00 |\n",
       "| ethnic_background_21000.0.0White and Asian | 4.085303e-01 | 6.109520e-02 | 1.608019e+00 |\n",
       "| ethnic_background_21000.0.0White and Black African | 4.427614e-01 | 6.526316e-02 | 1.805914e+00 |\n",
       "| ethnic_background_21000.0.0White and Black Caribbean | 2.182561e-01 | 1.147778e-02 | 1.257275e+00 |\n",
       "| average_total_household_income_before_tax_738.0.031,000 to 51,999 | 1.073278e+00 | 8.825117e-01 | 1.305320e+00 |\n",
       "| average_total_household_income_before_tax_738.0.052,000 to 100,000 | 8.603010e-01 | 6.846115e-01 | 1.078326e+00 |\n",
       "| average_total_household_income_before_tax_738.0.0Do not know | 9.616098e-01 | 6.903713e-01 | 1.318995e+00 |\n",
       "| average_total_household_income_before_tax_738.0.0Greater than 100,000 | 6.536159e-01 | 4.379678e-01 | 9.499626e-01 |\n",
       "| average_total_household_income_before_tax_738.0.0Less than 18,000 | 1.122243e+00 | 9.304186e-01 | 1.354972e+00 |\n",
       "| average_total_household_income_before_tax_738.0.0Prefer not to answer | 1.061517e+00 | 8.318926e-01 | 1.347883e+00 |\n",
       "\n"
      ],
      "text/plain": [
       "                                                                                           \n",
       "(Intercept)                                                                    5.488267e-33\n",
       "townsend_deprivation_index_at_recruitment_189.0.0.x                            1.103281e+00\n",
       "MetS                                                                           1.100842e+00\n",
       "sex_31.0.0Male                                                                 1.235771e+00\n",
       "year_of_birth_34.0.0                                                           1.037517e+00\n",
       "laboratory                                                                     1.009702e+00\n",
       "spectype                                                                       1.021889e+00\n",
       "qualifications_6138.0.0College or University degree                            9.355011e-01\n",
       "qualifications_6138.0.0CSEs or equivalent                                      1.401957e+00\n",
       "qualifications_6138.0.0None of the above                                       1.383834e+00\n",
       "qualifications_6138.0.0NVQ or HND or HNC or equivalent                         1.261376e+00\n",
       "qualifications_6138.0.0O levels/GCSEs or equivalent                            9.979916e-01\n",
       "qualifications_6138.0.0Other professional qualifications eg: nursing, teaching 1.220030e+00\n",
       "qualifications_6138.0.0Prefer not to answer                                    1.175088e+00\n",
       "smoking_status_20116.0.0Never                                                  1.146106e+00\n",
       "smoking_status_20116.0.0Prefer not to answer                                   2.296998e+00\n",
       "smoking_status_20116.0.0Previous                                               1.190301e+00\n",
       "ethnic_background_21000.0.0Any other Asian background                          7.732571e-01\n",
       "ethnic_background_21000.0.0Any other Black background                          6.405056e+00\n",
       "ethnic_background_21000.0.0Any other mixed background                          6.744350e-01\n",
       "ethnic_background_21000.0.0Any other white background                          3.341050e-01\n",
       "ethnic_background_21000.0.0Bangladeshi                                         5.397801e-01\n",
       "ethnic_background_21000.0.0Black or Black British                              4.766964e-05\n",
       "ethnic_background_21000.0.0British                                             4.268651e-01\n",
       "ethnic_background_21000.0.0Caribbean                                           9.261545e-01\n",
       "ethnic_background_21000.0.0Chinese                                             1.298982e+00\n",
       "ethnic_background_21000.0.0Do not know                                         4.736520e-01\n",
       "ethnic_background_21000.0.0Indian                                              5.440110e-01\n",
       "ethnic_background_21000.0.0Irish                                               3.702427e-01\n",
       "ethnic_background_21000.0.0Other ethnic group                                  8.342476e-01\n",
       "ethnic_background_21000.0.0Pakistani                                           1.002671e+00\n",
       "ethnic_background_21000.0.0Prefer not to answer                                2.763650e-01\n",
       "ethnic_background_21000.0.0White                                               2.881825e-01\n",
       "ethnic_background_21000.0.0White and Asian                                     4.085303e-01\n",
       "ethnic_background_21000.0.0White and Black African                             4.427614e-01\n",
       "ethnic_background_21000.0.0White and Black Caribbean                           2.182561e-01\n",
       "average_total_household_income_before_tax_738.0.031,000 to 51,999              1.073278e+00\n",
       "average_total_household_income_before_tax_738.0.052,000 to 100,000             8.603010e-01\n",
       "average_total_household_income_before_tax_738.0.0Do not know                   9.616098e-01\n",
       "average_total_household_income_before_tax_738.0.0Greater than 100,000          6.536159e-01\n",
       "average_total_household_income_before_tax_738.0.0Less than 18,000              1.122243e+00\n",
       "average_total_household_income_before_tax_738.0.0Prefer not to answer          1.061517e+00\n",
       "                                                                               2.5 %       \n",
       "(Intercept)                                                                    4.027161e-40\n",
       "townsend_deprivation_index_at_recruitment_189.0.0.x                            1.030873e+00\n",
       "MetS                                                                           9.956848e-01\n",
       "sex_31.0.0Male                                                                 1.077531e+00\n",
       "year_of_birth_34.0.0                                                           1.028841e+00\n",
       "laboratory                                                                     1.007787e+00\n",
       "spectype                                                                       1.009615e+00\n",
       "qualifications_6138.0.0College or University degree                            7.403087e-01\n",
       "qualifications_6138.0.0CSEs or equivalent                                      1.033097e+00\n",
       "qualifications_6138.0.0None of the above                                       1.079786e+00\n",
       "qualifications_6138.0.0NVQ or HND or HNC or equivalent                         9.393860e-01\n",
       "qualifications_6138.0.0O levels/GCSEs or equivalent                            7.823683e-01\n",
       "qualifications_6138.0.0Other professional qualifications eg: nursing, teaching 8.796310e-01\n",
       "qualifications_6138.0.0Prefer not to answer                                    6.459257e-01\n",
       "smoking_status_20116.0.0Never                                                  9.390343e-01\n",
       "smoking_status_20116.0.0Prefer not to answer                                   1.054242e+00\n",
       "smoking_status_20116.0.0Previous                                               9.704163e-01\n",
       "ethnic_background_21000.0.0Any other Asian background                          3.017063e-01\n",
       "ethnic_background_21000.0.0Any other Black background                          2.411843e-01\n",
       "ethnic_background_21000.0.0Any other mixed background                          1.791157e-01\n",
       "ethnic_background_21000.0.0Any other white background                          1.774809e-01\n",
       "ethnic_background_21000.0.0Bangladeshi                                         2.662031e-02\n",
       "ethnic_background_21000.0.0Black or Black British                                        NA\n",
       "ethnic_background_21000.0.0British                                             2.601126e-01\n",
       "ethnic_background_21000.0.0Caribbean                                           4.747601e-01\n",
       "ethnic_background_21000.0.0Chinese                                             3.740665e-01\n",
       "ethnic_background_21000.0.0Do not know                                         2.425118e-02\n",
       "ethnic_background_21000.0.0Indian                                              2.739387e-01\n",
       "ethnic_background_21000.0.0Irish                                               1.977895e-01\n",
       "ethnic_background_21000.0.0Other ethnic group                                  4.252305e-01\n",
       "ethnic_background_21000.0.0Pakistani                                           4.037091e-01\n",
       "ethnic_background_21000.0.0Prefer not to answer                                6.150414e-02\n",
       "ethnic_background_21000.0.0White                                               1.528824e-02\n",
       "ethnic_background_21000.0.0White and Asian                                     6.109520e-02\n",
       "ethnic_background_21000.0.0White and Black African                             6.526316e-02\n",
       "ethnic_background_21000.0.0White and Black Caribbean                           1.147778e-02\n",
       "average_total_household_income_before_tax_738.0.031,000 to 51,999              8.825117e-01\n",
       "average_total_household_income_before_tax_738.0.052,000 to 100,000             6.846115e-01\n",
       "average_total_household_income_before_tax_738.0.0Do not know                   6.903713e-01\n",
       "average_total_household_income_before_tax_738.0.0Greater than 100,000          4.379678e-01\n",
       "average_total_household_income_before_tax_738.0.0Less than 18,000              9.304186e-01\n",
       "average_total_household_income_before_tax_738.0.0Prefer not to answer          8.318926e-01\n",
       "                                                                               97.5 %      \n",
       "(Intercept)                                                                    7.625129e-26\n",
       "townsend_deprivation_index_at_recruitment_189.0.0.x                            1.180144e+00\n",
       "MetS                                                                           1.216459e+00\n",
       "sex_31.0.0Male                                                                 1.417729e+00\n",
       "year_of_birth_34.0.0                                                           1.046254e+00\n",
       "laboratory                                                                     1.011617e+00\n",
       "spectype                                                                       1.034030e+00\n",
       "qualifications_6138.0.0College or University degree                            1.189388e+00\n",
       "qualifications_6138.0.0CSEs or equivalent                                      1.898594e+00\n",
       "qualifications_6138.0.0None of the above                                       1.783456e+00\n",
       "qualifications_6138.0.0NVQ or HND or HNC or equivalent                         1.691741e+00\n",
       "qualifications_6138.0.0O levels/GCSEs or equivalent                            1.279304e+00\n",
       "qualifications_6138.0.0Other professional qualifications eg: nursing, teaching 1.682001e+00\n",
       "qualifications_6138.0.0Prefer not to answer                                    2.029147e+00\n",
       "smoking_status_20116.0.0Never                                                  1.406741e+00\n",
       "smoking_status_20116.0.0Prefer not to answer                                   4.561315e+00\n",
       "smoking_status_20116.0.0Previous                                               1.467637e+00\n",
       "ethnic_background_21000.0.0Any other Asian background                          1.864433e+00\n",
       "ethnic_background_21000.0.0Any other Black background                          1.702202e+02\n",
       "ethnic_background_21000.0.0Any other mixed background                          2.052607e+00\n",
       "ethnic_background_21000.0.0Any other white background                          6.338648e-01\n",
       "ethnic_background_21000.0.0Bangladeshi                                         3.855096e+00\n",
       "ethnic_background_21000.0.0Black or Black British                              1.280047e+13\n",
       "ethnic_background_21000.0.0British                                             7.260577e-01\n",
       "ethnic_background_21000.0.0Caribbean                                           1.814513e+00\n",
       "ethnic_background_21000.0.0Chinese                                             3.943627e+00\n",
       "ethnic_background_21000.0.0Do not know                                         2.993060e+00\n",
       "ethnic_background_21000.0.0Indian                                              1.076373e+00\n",
       "ethnic_background_21000.0.0Irish                                               6.999529e-01\n",
       "ethnic_background_21000.0.0Other ethnic group                                  1.640896e+00\n",
       "ethnic_background_21000.0.0Pakistani                                           2.374552e+00\n",
       "ethnic_background_21000.0.0Prefer not to answer                                8.875219e-01\n",
       "ethnic_background_21000.0.0White                                               1.613932e+00\n",
       "ethnic_background_21000.0.0White and Asian                                     1.608019e+00\n",
       "ethnic_background_21000.0.0White and Black African                             1.805914e+00\n",
       "ethnic_background_21000.0.0White and Black Caribbean                           1.257275e+00\n",
       "average_total_household_income_before_tax_738.0.031,000 to 51,999              1.305320e+00\n",
       "average_total_household_income_before_tax_738.0.052,000 to 100,000             1.078326e+00\n",
       "average_total_household_income_before_tax_738.0.0Do not know                   1.318995e+00\n",
       "average_total_household_income_before_tax_738.0.0Greater than 100,000          9.499626e-01\n",
       "average_total_household_income_before_tax_738.0.0Less than 18,000              1.354972e+00\n",
       "average_total_household_income_before_tax_738.0.0Prefer not to answer          1.347883e+00"
      ]
     },
     "metadata": {},
     "output_type": "display_data"
    }
   ],
   "source": [
    "exp(cbind(coef(metsinf_logit), confint(metsinf_logit)))"
   ]
  },
  {
   "cell_type": "markdown",
   "metadata": {},
   "source": [
    "# MetS latent variable and OR - covid mortality\n",
    "\n",
    "## Create dataframes"
   ]
  },
  {
   "cell_type": "code",
   "execution_count": 30,
   "metadata": {},
   "outputs": [],
   "source": [
    "covidinf=cov_base\n",
    "covidinf=covidinf[!duplicated(covidinf$eid),]\n",
    "covidinf=merge(di, covidinf, by='eid')\n",
    "cov_pos=(covidinf[covidinf$result==1,]) # take only people who tested positive\n",
    "coviddeath=merge(cov_pos, death, by='eid',all.x=T) # merge with death records\n",
    "coviddeath$level[is.na(coviddeath$level)]=0 # recode"
   ]
  },
  {
   "cell_type": "code",
   "execution_count": 31,
   "metadata": {},
   "outputs": [
    {
     "data": {
      "text/html": [
       "1152"
      ],
      "text/latex": [
       "1152"
      ],
      "text/markdown": [
       "1152"
      ],
      "text/plain": [
       "[1] 1152"
      ]
     },
     "metadata": {},
     "output_type": "display_data"
    }
   ],
   "source": [
    "coviddeath$TG=scale(log(coviddeath$triglycerides_30870.0.0))\n",
    "coviddeath$HDL=scale(log(coviddeath$hdl_cholesterol_30760.0.0))\n",
    "coviddeath$Sex=as.factor(coviddeath$sex_31.0.0)\n",
    "coviddeath$Waist=scale(coviddeath$waist_circumference_48.0.0)\n",
    "coviddeath$HbA1c=scale(log(coviddeath$glycated_haemoglobin_hba1c_30750.0.0))\n",
    "coviddeath$systolicBP=scale(rowMeans(cbind(coviddeath$systolic_blood_pressure_automated_reading_4080.0.0,\n",
    "                                      coviddeath$systolic_blood_pressure_automated_reading_4080.0.1)))\n",
    "coviddeath$diastolicBP=scale(rowMeans(cbind(coviddeath$diastolic_blood_pressure_automated_reading_4079.0.0,\n",
    "                                       coviddeath$diastolic_blood_pressure_automated_reading_4079.0.1)))\n",
    "coviddeath$glucose=scale(log(coviddeath$glucose_30740.0.0))\n",
    "coviddeath$CRP=scale(log(coviddeath$c.reactive_protein_30710.0.0))\n",
    "\n",
    "\n",
    "COVinf=select(coviddeath, TG, HDL, Sex, Hypertension, Diabetes, result,\n",
    "          laboratory, origin, spectype, qualifications_6138.0.0, townsend_deprivation_index_at_recruitment_189.0.0,\n",
    "          Waist, year_of_birth_34.0.0, smoking_status_20116.0.0,\n",
    "          ethnic_background_21000.0.0, HbA1c, systolicBP, diastolicBP, glucose,\n",
    "             average_total_household_income_before_tax_738.0.0, sex_31.0.0, CRP, level, eid,\n",
    "              sex_31.0.0, year_of_birth_34.0.0, waist_circumference_48.0.0, hip_circumference_49.0.0,\n",
    "         glucose_30740.0.0,glycated_haemoglobin_hba1c_30750.0.0,\n",
    "            hdl_cholesterol_30760.0.0)\n",
    "\n",
    "\n",
    "\n",
    "for (j in c(1, 2, 11, 12, 16, 17, 18, 19, 22)) { # \n",
    "    Q3=as.numeric(quantile(COVinf[j],0.75, na.rm=TRUE))\n",
    "    Q1=as.numeric(quantile(COVinf[j],0.25, na.rm=TRUE))\n",
    "    upper=Q3+(2.2*(Q3-Q1))\n",
    "    lower=Q1-(2.2*(Q3-Q1))\n",
    "    COVinf[j][COVinf[j]<lower]=NA\n",
    "    COVinf[j][COVinf[j]>upper]=NA\n",
    "    COVinf[j]=scale(COVinf[j])\n",
    "}\n",
    "\n",
    "\n",
    "COVinf$Hypertension=as.numeric(COVinf$Hypertension)\n",
    "COVinf$Diabetes=as.numeric(COVinf$Diabetes)\n",
    "\n",
    "COVinf=na.omit(COVinf)\n",
    "\n",
    "nrow(COVinf)\n",
    "\n",
    "COVinf=merge(COVinf,fasting, by=c('sex_31.0.0','year_of_birth_34.0.0', 'waist_circumference_48.0.0', \n",
    "                                  'hip_circumference_49.0.0','glucose_30740.0.0',\n",
    "                                 'hdl_cholesterol_30760.0.0','glycated_haemoglobin_hba1c_30750.0.0'), all.x=TRUE)\n",
    "\n",
    "COVinf$HDL=-1*COVinf$HDL\n",
    "\n",
    "COVinf$glucose=resid(lm(glucose ~ fasting_time_74.0.0, data=COVinf))\n",
    "\n"
   ]
  },
  {
   "cell_type": "code",
   "execution_count": 32,
   "metadata": {},
   "outputs": [
    {
     "data": {
      "text/html": [
       "180"
      ],
      "text/latex": [
       "180"
      ],
      "text/markdown": [
       "180"
      ],
      "text/plain": [
       "[1] 180"
      ]
     },
     "metadata": {},
     "output_type": "display_data"
    }
   ],
   "source": [
    "sum(COVinf$level)"
   ]
  },
  {
   "cell_type": "markdown",
   "metadata": {},
   "source": [
    "## Sample characteristics - values before transformations!"
   ]
  },
  {
   "cell_type": "markdown",
   "metadata": {},
   "source": [
    "### COVID survivors"
   ]
  },
  {
   "cell_type": "code",
   "execution_count": 19,
   "metadata": {},
   "outputs": [
    {
     "data": {
      "text/plain": [
       "\n",
       "0 \n",
       "1 "
      ]
     },
     "metadata": {},
     "output_type": "display_data"
    },
    {
     "data": {
      "text/html": [
       "<table>\n",
       "<thead><tr><th></th><th scope=col>vars</th><th scope=col>n</th><th scope=col>mean</th><th scope=col>sd</th><th scope=col>median</th><th scope=col>trimmed</th><th scope=col>mad</th><th scope=col>min</th><th scope=col>max</th><th scope=col>range</th><th scope=col>skew</th><th scope=col>kurtosis</th><th scope=col>se</th></tr></thead>\n",
       "<tbody>\n",
       "\t<tr><th scope=row>X1</th><td>1           </td><td>972         </td><td>1953.442    </td><td>9.052984    </td><td>1954        </td><td>1953.459    </td><td>11.8608     </td><td>1937        </td><td>1969        </td><td>32          </td><td>-0.008751376</td><td>-1.357239   </td><td>0.2903746   </td></tr>\n",
       "</tbody>\n",
       "</table>\n"
      ],
      "text/latex": [
       "\\begin{tabular}{r|lllllllllllll}\n",
       "  & vars & n & mean & sd & median & trimmed & mad & min & max & range & skew & kurtosis & se\\\\\n",
       "\\hline\n",
       "\tX1 & 1            & 972          & 1953.442     & 9.052984     & 1954         & 1953.459     & 11.8608      & 1937         & 1969         & 32           & -0.008751376 & -1.357239    & 0.2903746   \\\\\n",
       "\\end{tabular}\n"
      ],
      "text/markdown": [
       "\n",
       "| <!--/--> | vars | n | mean | sd | median | trimmed | mad | min | max | range | skew | kurtosis | se |\n",
       "|---|---|---|---|---|---|---|---|---|---|---|---|---|---|\n",
       "| X1 | 1            | 972          | 1953.442     | 9.052984     | 1954         | 1953.459     | 11.8608      | 1937         | 1969         | 32           | -0.008751376 | -1.357239    | 0.2903746    |\n",
       "\n"
      ],
      "text/plain": [
       "   vars n   mean     sd       median trimmed  mad     min  max  range\n",
       "X1 1    972 1953.442 9.052984 1954   1953.459 11.8608 1937 1969 32   \n",
       "   skew         kurtosis  se       \n",
       "X1 -0.008751376 -1.357239 0.2903746"
      ]
     },
     "metadata": {},
     "output_type": "display_data"
    },
    {
     "data": {
      "text/plain": [
       "\n",
       "   Female      Male \n",
       "0.4907407 0.5092593 "
      ]
     },
     "metadata": {},
     "output_type": "display_data"
    },
    {
     "data": {
      "text/html": [
       "<table>\n",
       "<thead><tr><th></th><th scope=col>vars</th><th scope=col>n</th><th scope=col>mean</th><th scope=col>sd</th><th scope=col>median</th><th scope=col>trimmed</th><th scope=col>mad</th><th scope=col>min</th><th scope=col>max</th><th scope=col>range</th><th scope=col>skew</th><th scope=col>kurtosis</th><th scope=col>se</th></tr></thead>\n",
       "<tbody>\n",
       "\t<tr><th scope=row>X1</th><td>1         </td><td>972       </td><td>92.55154  </td><td>13.61791  </td><td>92        </td><td>92.13638  </td><td>13.3434   </td><td>62        </td><td>139       </td><td>77        </td><td>0.3013247 </td><td>0.06799578</td><td>0.4367946 </td></tr>\n",
       "</tbody>\n",
       "</table>\n"
      ],
      "text/latex": [
       "\\begin{tabular}{r|lllllllllllll}\n",
       "  & vars & n & mean & sd & median & trimmed & mad & min & max & range & skew & kurtosis & se\\\\\n",
       "\\hline\n",
       "\tX1 & 1          & 972        & 92.55154   & 13.61791   & 92         & 92.13638   & 13.3434    & 62         & 139        & 77         & 0.3013247  & 0.06799578 & 0.4367946 \\\\\n",
       "\\end{tabular}\n"
      ],
      "text/markdown": [
       "\n",
       "| <!--/--> | vars | n | mean | sd | median | trimmed | mad | min | max | range | skew | kurtosis | se |\n",
       "|---|---|---|---|---|---|---|---|---|---|---|---|---|---|\n",
       "| X1 | 1          | 972        | 92.55154   | 13.61791   | 92         | 92.13638   | 13.3434    | 62         | 139        | 77         | 0.3013247  | 0.06799578 | 0.4367946  |\n",
       "\n"
      ],
      "text/plain": [
       "   vars n   mean     sd       median trimmed  mad     min max range skew     \n",
       "X1 1    972 92.55154 13.61791 92     92.13638 13.3434 62  139 77    0.3013247\n",
       "   kurtosis   se       \n",
       "X1 0.06799578 0.4367946"
      ]
     },
     "metadata": {},
     "output_type": "display_data"
    },
    {
     "data": {
      "text/html": [
       "<table>\n",
       "<thead><tr><th></th><th scope=col>vars</th><th scope=col>n</th><th scope=col>mean</th><th scope=col>sd</th><th scope=col>median</th><th scope=col>trimmed</th><th scope=col>mad</th><th scope=col>min</th><th scope=col>max</th><th scope=col>range</th><th scope=col>skew</th><th scope=col>kurtosis</th><th scope=col>se</th></tr></thead>\n",
       "<tbody>\n",
       "\t<tr><th scope=row>X1</th><td>1        </td><td>972      </td><td>35.73313 </td><td>4.621993 </td><td>35.2     </td><td>35.43895 </td><td>3.85476  </td><td>24       </td><td>54.7     </td><td>30.7     </td><td>0.810849 </td><td>1.597167 </td><td>0.1482505</td></tr>\n",
       "</tbody>\n",
       "</table>\n"
      ],
      "text/latex": [
       "\\begin{tabular}{r|lllllllllllll}\n",
       "  & vars & n & mean & sd & median & trimmed & mad & min & max & range & skew & kurtosis & se\\\\\n",
       "\\hline\n",
       "\tX1 & 1         & 972       & 35.73313  & 4.621993  & 35.2      & 35.43895  & 3.85476   & 24        & 54.7      & 30.7      & 0.810849  & 1.597167  & 0.1482505\\\\\n",
       "\\end{tabular}\n"
      ],
      "text/markdown": [
       "\n",
       "| <!--/--> | vars | n | mean | sd | median | trimmed | mad | min | max | range | skew | kurtosis | se |\n",
       "|---|---|---|---|---|---|---|---|---|---|---|---|---|---|\n",
       "| X1 | 1         | 972       | 35.73313  | 4.621993  | 35.2      | 35.43895  | 3.85476   | 24        | 54.7      | 30.7      | 0.810849  | 1.597167  | 0.1482505 |\n",
       "\n"
      ],
      "text/plain": [
       "   vars n   mean     sd       median trimmed  mad     min max  range skew    \n",
       "X1 1    972 35.73313 4.621993 35.2   35.43895 3.85476 24  54.7 30.7  0.810849\n",
       "   kurtosis se       \n",
       "X1 1.597167 0.1482505"
      ]
     },
     "metadata": {},
     "output_type": "display_data"
    },
    {
     "data": {
      "text/html": [
       "<table>\n",
       "<thead><tr><th></th><th scope=col>vars</th><th scope=col>n</th><th scope=col>mean</th><th scope=col>sd</th><th scope=col>median</th><th scope=col>trimmed</th><th scope=col>mad</th><th scope=col>min</th><th scope=col>max</th><th scope=col>range</th><th scope=col>skew</th><th scope=col>kurtosis</th><th scope=col>se</th></tr></thead>\n",
       "<tbody>\n",
       "\t<tr><th scope=row>X1</th><td>1        </td><td>972      </td><td>2.88606  </td><td>5.142509 </td><td>1.55     </td><td>1.897121 </td><td>1.445535 </td><td>0.09     </td><td>66.24    </td><td>66.15    </td><td>6.765148 </td><td>63.05964 </td><td>0.1649461</td></tr>\n",
       "</tbody>\n",
       "</table>\n"
      ],
      "text/latex": [
       "\\begin{tabular}{r|lllllllllllll}\n",
       "  & vars & n & mean & sd & median & trimmed & mad & min & max & range & skew & kurtosis & se\\\\\n",
       "\\hline\n",
       "\tX1 & 1         & 972       & 2.88606   & 5.142509  & 1.55      & 1.897121  & 1.445535  & 0.09      & 66.24     & 66.15     & 6.765148  & 63.05964  & 0.1649461\\\\\n",
       "\\end{tabular}\n"
      ],
      "text/markdown": [
       "\n",
       "| <!--/--> | vars | n | mean | sd | median | trimmed | mad | min | max | range | skew | kurtosis | se |\n",
       "|---|---|---|---|---|---|---|---|---|---|---|---|---|---|\n",
       "| X1 | 1         | 972       | 2.88606   | 5.142509  | 1.55      | 1.897121  | 1.445535  | 0.09      | 66.24     | 66.15     | 6.765148  | 63.05964  | 0.1649461 |\n",
       "\n"
      ],
      "text/plain": [
       "   vars n   mean    sd       median trimmed  mad      min  max   range skew    \n",
       "X1 1    972 2.88606 5.142509 1.55   1.897121 1.445535 0.09 66.24 66.15 6.765148\n",
       "   kurtosis se       \n",
       "X1 63.05964 0.1649461"
      ]
     },
     "metadata": {},
     "output_type": "display_data"
    },
    {
     "data": {
      "text/html": [
       "<table>\n",
       "<thead><tr><th></th><th scope=col>vars</th><th scope=col>n</th><th scope=col>mean</th><th scope=col>sd</th><th scope=col>median</th><th scope=col>trimmed</th><th scope=col>mad</th><th scope=col>min</th><th scope=col>max</th><th scope=col>range</th><th scope=col>skew</th><th scope=col>kurtosis</th><th scope=col>se</th></tr></thead>\n",
       "<tbody>\n",
       "\t<tr><th scope=row>X1</th><td>1         </td><td>972       </td><td>4.952096  </td><td>0.6285481 </td><td>4.8805    </td><td>4.902548  </td><td>0.5248404 </td><td>3.269     </td><td>7.812     </td><td>4.543     </td><td>0.9488837 </td><td>1.960684  </td><td>0.02016069</td></tr>\n",
       "</tbody>\n",
       "</table>\n"
      ],
      "text/latex": [
       "\\begin{tabular}{r|lllllllllllll}\n",
       "  & vars & n & mean & sd & median & trimmed & mad & min & max & range & skew & kurtosis & se\\\\\n",
       "\\hline\n",
       "\tX1 & 1          & 972        & 4.952096   & 0.6285481  & 4.8805     & 4.902548   & 0.5248404  & 3.269      & 7.812      & 4.543      & 0.9488837  & 1.960684   & 0.02016069\\\\\n",
       "\\end{tabular}\n"
      ],
      "text/markdown": [
       "\n",
       "| <!--/--> | vars | n | mean | sd | median | trimmed | mad | min | max | range | skew | kurtosis | se |\n",
       "|---|---|---|---|---|---|---|---|---|---|---|---|---|---|\n",
       "| X1 | 1          | 972        | 4.952096   | 0.6285481  | 4.8805     | 4.902548   | 0.5248404  | 3.269      | 7.812      | 4.543      | 0.9488837  | 1.960684   | 0.02016069 |\n",
       "\n"
      ],
      "text/plain": [
       "   vars n   mean     sd        median trimmed  mad       min   max   range\n",
       "X1 1    972 4.952096 0.6285481 4.8805 4.902548 0.5248404 3.269 7.812 4.543\n",
       "   skew      kurtosis se        \n",
       "X1 0.9488837 1.960684 0.02016069"
      ]
     },
     "metadata": {},
     "output_type": "display_data"
    },
    {
     "data": {
      "text/html": [
       "<table>\n",
       "<thead><tr><th></th><th scope=col>vars</th><th scope=col>n</th><th scope=col>mean</th><th scope=col>sd</th><th scope=col>median</th><th scope=col>trimmed</th><th scope=col>mad</th><th scope=col>min</th><th scope=col>max</th><th scope=col>range</th><th scope=col>skew</th><th scope=col>kurtosis</th><th scope=col>se</th></tr></thead>\n",
       "<tbody>\n",
       "\t<tr><th scope=row>X1</th><td>1         </td><td>972       </td><td>1.365096  </td><td>0.3488537 </td><td>1.322     </td><td>1.341048  </td><td>0.3417393 </td><td>0.511     </td><td>2.954     </td><td>2.443     </td><td>0.6852936 </td><td>0.5714034 </td><td>0.01118949</td></tr>\n",
       "</tbody>\n",
       "</table>\n"
      ],
      "text/latex": [
       "\\begin{tabular}{r|lllllllllllll}\n",
       "  & vars & n & mean & sd & median & trimmed & mad & min & max & range & skew & kurtosis & se\\\\\n",
       "\\hline\n",
       "\tX1 & 1          & 972        & 1.365096   & 0.3488537  & 1.322      & 1.341048   & 0.3417393  & 0.511      & 2.954      & 2.443      & 0.6852936  & 0.5714034  & 0.01118949\\\\\n",
       "\\end{tabular}\n"
      ],
      "text/markdown": [
       "\n",
       "| <!--/--> | vars | n | mean | sd | median | trimmed | mad | min | max | range | skew | kurtosis | se |\n",
       "|---|---|---|---|---|---|---|---|---|---|---|---|---|---|\n",
       "| X1 | 1          | 972        | 1.365096   | 0.3488537  | 1.322      | 1.341048   | 0.3417393  | 0.511      | 2.954      | 2.443      | 0.6852936  | 0.5714034  | 0.01118949 |\n",
       "\n"
      ],
      "text/plain": [
       "   vars n   mean     sd        median trimmed  mad       min   max   range\n",
       "X1 1    972 1.365096 0.3488537 1.322  1.341048 0.3417393 0.511 2.954 2.443\n",
       "   skew      kurtosis  se        \n",
       "X1 0.6852936 0.5714034 0.01118949"
      ]
     },
     "metadata": {},
     "output_type": "display_data"
    },
    {
     "data": {
      "text/html": [
       "<table>\n",
       "<thead><tr><th></th><th scope=col>vars</th><th scope=col>n</th><th scope=col>mean</th><th scope=col>sd</th><th scope=col>median</th><th scope=col>trimmed</th><th scope=col>mad</th><th scope=col>min</th><th scope=col>max</th><th scope=col>range</th><th scope=col>skew</th><th scope=col>kurtosis</th><th scope=col>se</th></tr></thead>\n",
       "<tbody>\n",
       "\t<tr><th scope=row>X1</th><td>1         </td><td>972       </td><td>1.775579  </td><td>1.047056  </td><td>1.5175    </td><td>1.625276  </td><td>0.8109822 </td><td>0.461     </td><td>10.856    </td><td>10.395    </td><td>2.095374  </td><td>8.675904  </td><td>0.03358433</td></tr>\n",
       "</tbody>\n",
       "</table>\n"
      ],
      "text/latex": [
       "\\begin{tabular}{r|lllllllllllll}\n",
       "  & vars & n & mean & sd & median & trimmed & mad & min & max & range & skew & kurtosis & se\\\\\n",
       "\\hline\n",
       "\tX1 & 1          & 972        & 1.775579   & 1.047056   & 1.5175     & 1.625276   & 0.8109822  & 0.461      & 10.856     & 10.395     & 2.095374   & 8.675904   & 0.03358433\\\\\n",
       "\\end{tabular}\n"
      ],
      "text/markdown": [
       "\n",
       "| <!--/--> | vars | n | mean | sd | median | trimmed | mad | min | max | range | skew | kurtosis | se |\n",
       "|---|---|---|---|---|---|---|---|---|---|---|---|---|---|\n",
       "| X1 | 1          | 972        | 1.775579   | 1.047056   | 1.5175     | 1.625276   | 0.8109822  | 0.461      | 10.856     | 10.395     | 2.095374   | 8.675904   | 0.03358433 |\n",
       "\n"
      ],
      "text/plain": [
       "   vars n   mean     sd       median trimmed  mad       min   max    range \n",
       "X1 1    972 1.775579 1.047056 1.5175 1.625276 0.8109822 0.461 10.856 10.395\n",
       "   skew     kurtosis se        \n",
       "X1 2.095374 8.675904 0.03358433"
      ]
     },
     "metadata": {},
     "output_type": "display_data"
    },
    {
     "data": {
      "text/html": [
       "<table>\n",
       "<thead><tr><th></th><th scope=col>vars</th><th scope=col>n</th><th scope=col>mean</th><th scope=col>sd</th><th scope=col>median</th><th scope=col>trimmed</th><th scope=col>mad</th><th scope=col>min</th><th scope=col>max</th><th scope=col>range</th><th scope=col>skew</th><th scope=col>kurtosis</th><th scope=col>se</th></tr></thead>\n",
       "<tbody>\n",
       "\t<tr><th scope=row>X1</th><td>1        </td><td>972      </td><td>135.7145 </td><td>18.15189 </td><td>133      </td><td>134.7076 </td><td>17.7912  </td><td>91.5     </td><td>204.5    </td><td>113      </td><td>0.5801877</td><td>0.3676232</td><td>0.5822223</td></tr>\n",
       "</tbody>\n",
       "</table>\n"
      ],
      "text/latex": [
       "\\begin{tabular}{r|lllllllllllll}\n",
       "  & vars & n & mean & sd & median & trimmed & mad & min & max & range & skew & kurtosis & se\\\\\n",
       "\\hline\n",
       "\tX1 & 1         & 972       & 135.7145  & 18.15189  & 133       & 134.7076  & 17.7912   & 91.5      & 204.5     & 113       & 0.5801877 & 0.3676232 & 0.5822223\\\\\n",
       "\\end{tabular}\n"
      ],
      "text/markdown": [
       "\n",
       "| <!--/--> | vars | n | mean | sd | median | trimmed | mad | min | max | range | skew | kurtosis | se |\n",
       "|---|---|---|---|---|---|---|---|---|---|---|---|---|---|\n",
       "| X1 | 1         | 972       | 135.7145  | 18.15189  | 133       | 134.7076  | 17.7912   | 91.5      | 204.5     | 113       | 0.5801877 | 0.3676232 | 0.5822223 |\n",
       "\n"
      ],
      "text/plain": [
       "   vars n   mean     sd       median trimmed  mad     min  max   range\n",
       "X1 1    972 135.7145 18.15189 133    134.7076 17.7912 91.5 204.5 113  \n",
       "   skew      kurtosis  se       \n",
       "X1 0.5801877 0.3676232 0.5822223"
      ]
     },
     "metadata": {},
     "output_type": "display_data"
    },
    {
     "data": {
      "text/html": [
       "<table>\n",
       "<thead><tr><th></th><th scope=col>vars</th><th scope=col>n</th><th scope=col>mean</th><th scope=col>sd</th><th scope=col>median</th><th scope=col>trimmed</th><th scope=col>mad</th><th scope=col>min</th><th scope=col>max</th><th scope=col>range</th><th scope=col>skew</th><th scope=col>kurtosis</th><th scope=col>se</th></tr></thead>\n",
       "<tbody>\n",
       "\t<tr><th scope=row>X1</th><td>1        </td><td>972      </td><td>82.20936 </td><td>10.3119  </td><td>81.5     </td><td>82.0482  </td><td>9.6369   </td><td>48       </td><td>118.5    </td><td>70.5     </td><td>0.2176547</td><td>0.2365661</td><td>0.3307545</td></tr>\n",
       "</tbody>\n",
       "</table>\n"
      ],
      "text/latex": [
       "\\begin{tabular}{r|lllllllllllll}\n",
       "  & vars & n & mean & sd & median & trimmed & mad & min & max & range & skew & kurtosis & se\\\\\n",
       "\\hline\n",
       "\tX1 & 1         & 972       & 82.20936  & 10.3119   & 81.5      & 82.0482   & 9.6369    & 48        & 118.5     & 70.5      & 0.2176547 & 0.2365661 & 0.3307545\\\\\n",
       "\\end{tabular}\n"
      ],
      "text/markdown": [
       "\n",
       "| <!--/--> | vars | n | mean | sd | median | trimmed | mad | min | max | range | skew | kurtosis | se |\n",
       "|---|---|---|---|---|---|---|---|---|---|---|---|---|---|\n",
       "| X1 | 1         | 972       | 82.20936  | 10.3119   | 81.5      | 82.0482   | 9.6369    | 48        | 118.5     | 70.5      | 0.2176547 | 0.2365661 | 0.3307545 |\n",
       "\n"
      ],
      "text/plain": [
       "   vars n   mean     sd      median trimmed mad    min max   range skew     \n",
       "X1 1    972 82.20936 10.3119 81.5   82.0482 9.6369 48  118.5 70.5  0.2176547\n",
       "   kurtosis  se       \n",
       "X1 0.2365661 0.3307545"
      ]
     },
     "metadata": {},
     "output_type": "display_data"
    },
    {
     "data": {
      "text/plain": [
       "\n",
       "         0          1 \n",
       "0.91049383 0.08950617 "
      ]
     },
     "metadata": {},
     "output_type": "display_data"
    },
    {
     "data": {
      "text/plain": [
       "\n",
       "        0         1 \n",
       "0.6183128 0.3816872 "
      ]
     },
     "metadata": {},
     "output_type": "display_data"
    }
   ],
   "source": [
    "char=merge(COVinf, coviddeath, by='eid', all.x=TRUE)\n",
    "char=char[char$level.x==0,]\n",
    "table(char$level.x)/nrow(char)\n",
    "describe(char$year_of_birth_34.0.0.x)\n",
    "table(char$sex_31.0.0.x)/nrow(char)\n",
    "describe(char$waist_circumference_48.0.0.x)\n",
    "describe(char$glycated_haemoglobin_hba1c_30750.0.0.x)\n",
    "describe(char$c.reactive_protein_30710.0.0)\n",
    "describe(char$glucose_30740.0.0.x)\n",
    "describe(char$hdl_cholesterol_30760.0.0.x)\n",
    "describe(char$triglycerides_30870.0.0)\n",
    "describe((rowMeans(cbind(char$systolic_blood_pressure_automated_reading_4080.0.0,\n",
    "                                      char$systolic_blood_pressure_automated_reading_4080.0.1))))\n",
    "describe(rowMeans(cbind(char$diastolic_blood_pressure_automated_reading_4079.0.0,\n",
    "                                       char$diastolic_blood_pressure_automated_reading_4079.0.1)))\n",
    "table(char$Diabetes.x)/nrow(char)\n",
    "table(char$Hypertension.x)/nrow(char)"
   ]
  },
  {
   "cell_type": "markdown",
   "metadata": {},
   "source": [
    "## COVID mortality group"
   ]
  },
  {
   "cell_type": "code",
   "execution_count": 20,
   "metadata": {},
   "outputs": [
    {
     "data": {
      "text/plain": [
       "\n",
       "1 \n",
       "1 "
      ]
     },
     "metadata": {},
     "output_type": "display_data"
    },
    {
     "data": {
      "text/html": [
       "<table>\n",
       "<thead><tr><th></th><th scope=col>vars</th><th scope=col>n</th><th scope=col>mean</th><th scope=col>sd</th><th scope=col>median</th><th scope=col>trimmed</th><th scope=col>mad</th><th scope=col>min</th><th scope=col>max</th><th scope=col>range</th><th scope=col>skew</th><th scope=col>kurtosis</th><th scope=col>se</th></tr></thead>\n",
       "<tbody>\n",
       "\t<tr><th scope=row>X1</th><td>1        </td><td>180      </td><td>1945.7   </td><td>6.243567 </td><td>1944     </td><td>1944.826 </td><td>4.4478   </td><td>1938     </td><td>1966     </td><td>28       </td><td>1.173092 </td><td>0.8313881</td><td>0.465368 </td></tr>\n",
       "</tbody>\n",
       "</table>\n"
      ],
      "text/latex": [
       "\\begin{tabular}{r|lllllllllllll}\n",
       "  & vars & n & mean & sd & median & trimmed & mad & min & max & range & skew & kurtosis & se\\\\\n",
       "\\hline\n",
       "\tX1 & 1         & 180       & 1945.7    & 6.243567  & 1944      & 1944.826  & 4.4478    & 1938      & 1966      & 28        & 1.173092  & 0.8313881 & 0.465368 \\\\\n",
       "\\end{tabular}\n"
      ],
      "text/markdown": [
       "\n",
       "| <!--/--> | vars | n | mean | sd | median | trimmed | mad | min | max | range | skew | kurtosis | se |\n",
       "|---|---|---|---|---|---|---|---|---|---|---|---|---|---|\n",
       "| X1 | 1         | 180       | 1945.7    | 6.243567  | 1944      | 1944.826  | 4.4478    | 1938      | 1966      | 28        | 1.173092  | 0.8313881 | 0.465368  |\n",
       "\n"
      ],
      "text/plain": [
       "   vars n   mean   sd       median trimmed  mad    min  max  range skew    \n",
       "X1 1    180 1945.7 6.243567 1944   1944.826 4.4478 1938 1966 28    1.173092\n",
       "   kurtosis  se      \n",
       "X1 0.8313881 0.465368"
      ]
     },
     "metadata": {},
     "output_type": "display_data"
    },
    {
     "data": {
      "text/plain": [
       "\n",
       "   Female      Male \n",
       "0.3666667 0.6333333 "
      ]
     },
     "metadata": {},
     "output_type": "display_data"
    },
    {
     "data": {
      "text/html": [
       "<table>\n",
       "<thead><tr><th></th><th scope=col>vars</th><th scope=col>n</th><th scope=col>mean</th><th scope=col>sd</th><th scope=col>median</th><th scope=col>trimmed</th><th scope=col>mad</th><th scope=col>min</th><th scope=col>max</th><th scope=col>range</th><th scope=col>skew</th><th scope=col>kurtosis</th><th scope=col>se</th></tr></thead>\n",
       "<tbody>\n",
       "\t<tr><th scope=row>X1</th><td>1        </td><td>180      </td><td>98.61611 </td><td>14.47821 </td><td>97       </td><td>98.14097 </td><td>14.0847  </td><td>68       </td><td>142      </td><td>74       </td><td>0.3882984</td><td>0.1097336</td><td>1.079142 </td></tr>\n",
       "</tbody>\n",
       "</table>\n"
      ],
      "text/latex": [
       "\\begin{tabular}{r|lllllllllllll}\n",
       "  & vars & n & mean & sd & median & trimmed & mad & min & max & range & skew & kurtosis & se\\\\\n",
       "\\hline\n",
       "\tX1 & 1         & 180       & 98.61611  & 14.47821  & 97        & 98.14097  & 14.0847   & 68        & 142       & 74        & 0.3882984 & 0.1097336 & 1.079142 \\\\\n",
       "\\end{tabular}\n"
      ],
      "text/markdown": [
       "\n",
       "| <!--/--> | vars | n | mean | sd | median | trimmed | mad | min | max | range | skew | kurtosis | se |\n",
       "|---|---|---|---|---|---|---|---|---|---|---|---|---|---|\n",
       "| X1 | 1         | 180       | 98.61611  | 14.47821  | 97        | 98.14097  | 14.0847   | 68        | 142       | 74        | 0.3882984 | 0.1097336 | 1.079142  |\n",
       "\n"
      ],
      "text/plain": [
       "   vars n   mean     sd       median trimmed  mad     min max range skew     \n",
       "X1 1    180 98.61611 14.47821 97     98.14097 14.0847 68  142 74    0.3882984\n",
       "   kurtosis  se      \n",
       "X1 0.1097336 1.079142"
      ]
     },
     "metadata": {},
     "output_type": "display_data"
    },
    {
     "data": {
      "text/html": [
       "<table>\n",
       "<thead><tr><th></th><th scope=col>vars</th><th scope=col>n</th><th scope=col>mean</th><th scope=col>sd</th><th scope=col>median</th><th scope=col>trimmed</th><th scope=col>mad</th><th scope=col>min</th><th scope=col>max</th><th scope=col>range</th><th scope=col>skew</th><th scope=col>kurtosis</th><th scope=col>se</th></tr></thead>\n",
       "<tbody>\n",
       "\t<tr><th scope=row>X1</th><td>1        </td><td>180      </td><td>36.98944 </td><td>5.233065 </td><td>36.15    </td><td>36.62083 </td><td>4.22541  </td><td>23.2     </td><td>55.8     </td><td>32.6     </td><td>0.8269979</td><td>1.580628 </td><td>0.3900497</td></tr>\n",
       "</tbody>\n",
       "</table>\n"
      ],
      "text/latex": [
       "\\begin{tabular}{r|lllllllllllll}\n",
       "  & vars & n & mean & sd & median & trimmed & mad & min & max & range & skew & kurtosis & se\\\\\n",
       "\\hline\n",
       "\tX1 & 1         & 180       & 36.98944  & 5.233065  & 36.15     & 36.62083  & 4.22541   & 23.2      & 55.8      & 32.6      & 0.8269979 & 1.580628  & 0.3900497\\\\\n",
       "\\end{tabular}\n"
      ],
      "text/markdown": [
       "\n",
       "| <!--/--> | vars | n | mean | sd | median | trimmed | mad | min | max | range | skew | kurtosis | se |\n",
       "|---|---|---|---|---|---|---|---|---|---|---|---|---|---|\n",
       "| X1 | 1         | 180       | 36.98944  | 5.233065  | 36.15     | 36.62083  | 4.22541   | 23.2      | 55.8      | 32.6      | 0.8269979 | 1.580628  | 0.3900497 |\n",
       "\n"
      ],
      "text/plain": [
       "   vars n   mean     sd       median trimmed  mad     min  max  range skew     \n",
       "X1 1    180 36.98944 5.233065 36.15  36.62083 4.22541 23.2 55.8 32.6  0.8269979\n",
       "   kurtosis se       \n",
       "X1 1.580628 0.3900497"
      ]
     },
     "metadata": {},
     "output_type": "display_data"
    },
    {
     "data": {
      "text/html": [
       "<table>\n",
       "<thead><tr><th></th><th scope=col>vars</th><th scope=col>n</th><th scope=col>mean</th><th scope=col>sd</th><th scope=col>median</th><th scope=col>trimmed</th><th scope=col>mad</th><th scope=col>min</th><th scope=col>max</th><th scope=col>range</th><th scope=col>skew</th><th scope=col>kurtosis</th><th scope=col>se</th></tr></thead>\n",
       "<tbody>\n",
       "\t<tr><th scope=row>X1</th><td>1        </td><td>180      </td><td>3.975556 </td><td>7.223022 </td><td>2.1      </td><td>2.572431 </td><td>2.07564  </td><td>0.1      </td><td>63.93    </td><td>63.83    </td><td>5.516725 </td><td>36.67144 </td><td>0.5383723</td></tr>\n",
       "</tbody>\n",
       "</table>\n"
      ],
      "text/latex": [
       "\\begin{tabular}{r|lllllllllllll}\n",
       "  & vars & n & mean & sd & median & trimmed & mad & min & max & range & skew & kurtosis & se\\\\\n",
       "\\hline\n",
       "\tX1 & 1         & 180       & 3.975556  & 7.223022  & 2.1       & 2.572431  & 2.07564   & 0.1       & 63.93     & 63.83     & 5.516725  & 36.67144  & 0.5383723\\\\\n",
       "\\end{tabular}\n"
      ],
      "text/markdown": [
       "\n",
       "| <!--/--> | vars | n | mean | sd | median | trimmed | mad | min | max | range | skew | kurtosis | se |\n",
       "|---|---|---|---|---|---|---|---|---|---|---|---|---|---|\n",
       "| X1 | 1         | 180       | 3.975556  | 7.223022  | 2.1       | 2.572431  | 2.07564   | 0.1       | 63.93     | 63.83     | 5.516725  | 36.67144  | 0.5383723 |\n",
       "\n"
      ],
      "text/plain": [
       "   vars n   mean     sd       median trimmed  mad     min max   range skew    \n",
       "X1 1    180 3.975556 7.223022 2.1    2.572431 2.07564 0.1 63.93 63.83 5.516725\n",
       "   kurtosis se       \n",
       "X1 36.67144 0.5383723"
      ]
     },
     "metadata": {},
     "output_type": "display_data"
    },
    {
     "data": {
      "text/html": [
       "<table>\n",
       "<thead><tr><th></th><th scope=col>vars</th><th scope=col>n</th><th scope=col>mean</th><th scope=col>sd</th><th scope=col>median</th><th scope=col>trimmed</th><th scope=col>mad</th><th scope=col>min</th><th scope=col>max</th><th scope=col>range</th><th scope=col>skew</th><th scope=col>kurtosis</th><th scope=col>se</th></tr></thead>\n",
       "<tbody>\n",
       "\t<tr><th scope=row>X1</th><td>1         </td><td>180       </td><td>5.19425   </td><td>0.7427305 </td><td>5.126     </td><td>5.160035  </td><td>0.6567918 </td><td>3.431     </td><td>7.498     </td><td>4.067     </td><td>0.4516618 </td><td>0.2660546 </td><td>0.05535987</td></tr>\n",
       "</tbody>\n",
       "</table>\n"
      ],
      "text/latex": [
       "\\begin{tabular}{r|lllllllllllll}\n",
       "  & vars & n & mean & sd & median & trimmed & mad & min & max & range & skew & kurtosis & se\\\\\n",
       "\\hline\n",
       "\tX1 & 1          & 180        & 5.19425    & 0.7427305  & 5.126      & 5.160035   & 0.6567918  & 3.431      & 7.498      & 4.067      & 0.4516618  & 0.2660546  & 0.05535987\\\\\n",
       "\\end{tabular}\n"
      ],
      "text/markdown": [
       "\n",
       "| <!--/--> | vars | n | mean | sd | median | trimmed | mad | min | max | range | skew | kurtosis | se |\n",
       "|---|---|---|---|---|---|---|---|---|---|---|---|---|---|\n",
       "| X1 | 1          | 180        | 5.19425    | 0.7427305  | 5.126      | 5.160035   | 0.6567918  | 3.431      | 7.498      | 4.067      | 0.4516618  | 0.2660546  | 0.05535987 |\n",
       "\n"
      ],
      "text/plain": [
       "   vars n   mean    sd        median trimmed  mad       min   max   range\n",
       "X1 1    180 5.19425 0.7427305 5.126  5.160035 0.6567918 3.431 7.498 4.067\n",
       "   skew      kurtosis  se        \n",
       "X1 0.4516618 0.2660546 0.05535987"
      ]
     },
     "metadata": {},
     "output_type": "display_data"
    },
    {
     "data": {
      "text/html": [
       "<table>\n",
       "<thead><tr><th></th><th scope=col>vars</th><th scope=col>n</th><th scope=col>mean</th><th scope=col>sd</th><th scope=col>median</th><th scope=col>trimmed</th><th scope=col>mad</th><th scope=col>min</th><th scope=col>max</th><th scope=col>range</th><th scope=col>skew</th><th scope=col>kurtosis</th><th scope=col>se</th></tr></thead>\n",
       "<tbody>\n",
       "\t<tr><th scope=row>X1</th><td>1         </td><td>180       </td><td>1.345178  </td><td>0.3161273 </td><td>1.2995    </td><td>1.32141   </td><td>0.2898483 </td><td>0.723     </td><td>2.41      </td><td>1.687     </td><td>0.7933539 </td><td>0.7965638 </td><td>0.02356274</td></tr>\n",
       "</tbody>\n",
       "</table>\n"
      ],
      "text/latex": [
       "\\begin{tabular}{r|lllllllllllll}\n",
       "  & vars & n & mean & sd & median & trimmed & mad & min & max & range & skew & kurtosis & se\\\\\n",
       "\\hline\n",
       "\tX1 & 1          & 180        & 1.345178   & 0.3161273  & 1.2995     & 1.32141    & 0.2898483  & 0.723      & 2.41       & 1.687      & 0.7933539  & 0.7965638  & 0.02356274\\\\\n",
       "\\end{tabular}\n"
      ],
      "text/markdown": [
       "\n",
       "| <!--/--> | vars | n | mean | sd | median | trimmed | mad | min | max | range | skew | kurtosis | se |\n",
       "|---|---|---|---|---|---|---|---|---|---|---|---|---|---|\n",
       "| X1 | 1          | 180        | 1.345178   | 0.3161273  | 1.2995     | 1.32141    | 0.2898483  | 0.723      | 2.41       | 1.687      | 0.7933539  | 0.7965638  | 0.02356274 |\n",
       "\n"
      ],
      "text/plain": [
       "   vars n   mean     sd        median trimmed mad       min   max  range\n",
       "X1 1    180 1.345178 0.3161273 1.2995 1.32141 0.2898483 0.723 2.41 1.687\n",
       "   skew      kurtosis  se        \n",
       "X1 0.7933539 0.7965638 0.02356274"
      ]
     },
     "metadata": {},
     "output_type": "display_data"
    },
    {
     "data": {
      "text/html": [
       "<table>\n",
       "<thead><tr><th></th><th scope=col>vars</th><th scope=col>n</th><th scope=col>mean</th><th scope=col>sd</th><th scope=col>median</th><th scope=col>trimmed</th><th scope=col>mad</th><th scope=col>min</th><th scope=col>max</th><th scope=col>range</th><th scope=col>skew</th><th scope=col>kurtosis</th><th scope=col>se</th></tr></thead>\n",
       "<tbody>\n",
       "\t<tr><th scope=row>X1</th><td>1         </td><td>180       </td><td>1.881439  </td><td>1.007062  </td><td>1.628     </td><td>1.74316   </td><td>0.8139474 </td><td>0.495     </td><td>5.284     </td><td>4.789     </td><td>1.170618  </td><td>0.8741212 </td><td>0.07506198</td></tr>\n",
       "</tbody>\n",
       "</table>\n"
      ],
      "text/latex": [
       "\\begin{tabular}{r|lllllllllllll}\n",
       "  & vars & n & mean & sd & median & trimmed & mad & min & max & range & skew & kurtosis & se\\\\\n",
       "\\hline\n",
       "\tX1 & 1          & 180        & 1.881439   & 1.007062   & 1.628      & 1.74316    & 0.8139474  & 0.495      & 5.284      & 4.789      & 1.170618   & 0.8741212  & 0.07506198\\\\\n",
       "\\end{tabular}\n"
      ],
      "text/markdown": [
       "\n",
       "| <!--/--> | vars | n | mean | sd | median | trimmed | mad | min | max | range | skew | kurtosis | se |\n",
       "|---|---|---|---|---|---|---|---|---|---|---|---|---|---|\n",
       "| X1 | 1          | 180        | 1.881439   | 1.007062   | 1.628      | 1.74316    | 0.8139474  | 0.495      | 5.284      | 4.789      | 1.170618   | 0.8741212  | 0.07506198 |\n",
       "\n"
      ],
      "text/plain": [
       "   vars n   mean     sd       median trimmed mad       min   max   range\n",
       "X1 1    180 1.881439 1.007062 1.628  1.74316 0.8139474 0.495 5.284 4.789\n",
       "   skew     kurtosis  se        \n",
       "X1 1.170618 0.8741212 0.07506198"
      ]
     },
     "metadata": {},
     "output_type": "display_data"
    },
    {
     "data": {
      "text/html": [
       "<table>\n",
       "<thead><tr><th></th><th scope=col>vars</th><th scope=col>n</th><th scope=col>mean</th><th scope=col>sd</th><th scope=col>median</th><th scope=col>trimmed</th><th scope=col>mad</th><th scope=col>min</th><th scope=col>max</th><th scope=col>range</th><th scope=col>skew</th><th scope=col>kurtosis</th><th scope=col>se</th></tr></thead>\n",
       "<tbody>\n",
       "\t<tr><th scope=row>X1</th><td>1         </td><td>180       </td><td>145.7583  </td><td>18.33354  </td><td>146.75    </td><td>145.1562  </td><td>18.16185  </td><td>104       </td><td>202.5     </td><td>98.5      </td><td>0.2712585 </td><td>0.01412596</td><td>1.366501  </td></tr>\n",
       "</tbody>\n",
       "</table>\n"
      ],
      "text/latex": [
       "\\begin{tabular}{r|lllllllllllll}\n",
       "  & vars & n & mean & sd & median & trimmed & mad & min & max & range & skew & kurtosis & se\\\\\n",
       "\\hline\n",
       "\tX1 & 1          & 180        & 145.7583   & 18.33354   & 146.75     & 145.1562   & 18.16185   & 104        & 202.5      & 98.5       & 0.2712585  & 0.01412596 & 1.366501  \\\\\n",
       "\\end{tabular}\n"
      ],
      "text/markdown": [
       "\n",
       "| <!--/--> | vars | n | mean | sd | median | trimmed | mad | min | max | range | skew | kurtosis | se |\n",
       "|---|---|---|---|---|---|---|---|---|---|---|---|---|---|\n",
       "| X1 | 1          | 180        | 145.7583   | 18.33354   | 146.75     | 145.1562   | 18.16185   | 104        | 202.5      | 98.5       | 0.2712585  | 0.01412596 | 1.366501   |\n",
       "\n"
      ],
      "text/plain": [
       "   vars n   mean     sd       median trimmed  mad      min max   range\n",
       "X1 1    180 145.7583 18.33354 146.75 145.1562 18.16185 104 202.5 98.5 \n",
       "   skew      kurtosis   se      \n",
       "X1 0.2712585 0.01412596 1.366501"
      ]
     },
     "metadata": {},
     "output_type": "display_data"
    },
    {
     "data": {
      "text/html": [
       "<table>\n",
       "<thead><tr><th></th><th scope=col>vars</th><th scope=col>n</th><th scope=col>mean</th><th scope=col>sd</th><th scope=col>median</th><th scope=col>trimmed</th><th scope=col>mad</th><th scope=col>min</th><th scope=col>max</th><th scope=col>range</th><th scope=col>skew</th><th scope=col>kurtosis</th><th scope=col>se</th></tr></thead>\n",
       "<tbody>\n",
       "\t<tr><th scope=row>X1</th><td>1         </td><td>180       </td><td>84.025    </td><td>10.02696  </td><td>84.25     </td><td>83.81597  </td><td>9.6369    </td><td>58.5      </td><td>110.5     </td><td>52        </td><td>0.178415  </td><td>0.09739533</td><td>0.7473653 </td></tr>\n",
       "</tbody>\n",
       "</table>\n"
      ],
      "text/latex": [
       "\\begin{tabular}{r|lllllllllllll}\n",
       "  & vars & n & mean & sd & median & trimmed & mad & min & max & range & skew & kurtosis & se\\\\\n",
       "\\hline\n",
       "\tX1 & 1          & 180        & 84.025     & 10.02696   & 84.25      & 83.81597   & 9.6369     & 58.5       & 110.5      & 52         & 0.178415   & 0.09739533 & 0.7473653 \\\\\n",
       "\\end{tabular}\n"
      ],
      "text/markdown": [
       "\n",
       "| <!--/--> | vars | n | mean | sd | median | trimmed | mad | min | max | range | skew | kurtosis | se |\n",
       "|---|---|---|---|---|---|---|---|---|---|---|---|---|---|\n",
       "| X1 | 1          | 180        | 84.025     | 10.02696   | 84.25      | 83.81597   | 9.6369     | 58.5       | 110.5      | 52         | 0.178415   | 0.09739533 | 0.7473653  |\n",
       "\n"
      ],
      "text/plain": [
       "   vars n   mean   sd       median trimmed  mad    min  max   range skew    \n",
       "X1 1    180 84.025 10.02696 84.25  83.81597 9.6369 58.5 110.5 52    0.178415\n",
       "   kurtosis   se       \n",
       "X1 0.09739533 0.7473653"
      ]
     },
     "metadata": {},
     "output_type": "display_data"
    },
    {
     "data": {
      "text/plain": [
       "\n",
       "        0         1 \n",
       "0.8444444 0.1555556 "
      ]
     },
     "metadata": {},
     "output_type": "display_data"
    },
    {
     "data": {
      "text/plain": [
       "\n",
       "        0         1 \n",
       "0.3777778 0.6222222 "
      ]
     },
     "metadata": {},
     "output_type": "display_data"
    }
   ],
   "source": [
    "char=merge(COVinf, coviddeath, by='eid', all.x=TRUE)\n",
    "char=char[char$level.x==1,]\n",
    "table(char$level.x)/nrow(char)\n",
    "describe(char$year_of_birth_34.0.0.x)\n",
    "table(char$sex_31.0.0.x)/nrow(char)\n",
    "describe(char$waist_circumference_48.0.0.x)\n",
    "describe(char$glycated_haemoglobin_hba1c_30750.0.0.x)\n",
    "describe(char$c.reactive_protein_30710.0.0)\n",
    "describe(char$glucose_30740.0.0.x)\n",
    "describe(char$hdl_cholesterol_30760.0.0.x)\n",
    "describe(char$triglycerides_30870.0.0)\n",
    "describe((rowMeans(cbind(char$systolic_blood_pressure_automated_reading_4080.0.0,\n",
    "                                      char$systolic_blood_pressure_automated_reading_4080.0.1))))\n",
    "describe(rowMeans(cbind(char$diastolic_blood_pressure_automated_reading_4079.0.0,\n",
    "                                       char$diastolic_blood_pressure_automated_reading_4079.0.1)))\n",
    "table(char$Diabetes.x)/nrow(char)\n",
    "table(char$Hypertension.x)/nrow(char)"
   ]
  },
  {
   "cell_type": "markdown",
   "metadata": {},
   "source": [
    "## CFA"
   ]
  },
  {
   "cell_type": "code",
   "execution_count": 33,
   "metadata": {
    "scrolled": false
   },
   "outputs": [
    {
     "name": "stdout",
     "output_type": "stream",
     "text": [
      "lavaan 0.6-7 ended normally after 44 iterations\n",
      "\n",
      "  Estimator                                         ML\n",
      "  Optimization method                           NLMINB\n",
      "  Number of free parameters                         24\n",
      "                                                      \n",
      "  Number of observations                          1152\n",
      "                                                      \n",
      "Model Test User Model:\n",
      "                                              Standard      Robust\n",
      "  Test Statistic                               212.742     194.245\n",
      "  Degrees of freedom                                31          31\n",
      "  P-value (Chi-square)                           0.000       0.000\n",
      "  Scaling correction factor                                  1.095\n",
      "       Satorra-Bentler correction                                 \n",
      "\n",
      "Model Test Baseline Model:\n",
      "\n",
      "  Test statistic                              2387.856    2096.836\n",
      "  Degrees of freedom                                45          45\n",
      "  P-value                                        0.000       0.000\n",
      "  Scaling correction factor                                  1.139\n",
      "\n",
      "User Model versus Baseline Model:\n",
      "\n",
      "  Comparative Fit Index (CFI)                    0.922       0.920\n",
      "  Tucker-Lewis Index (TLI)                       0.887       0.885\n",
      "                                                                  \n",
      "  Robust Comparative Fit Index (CFI)                         0.923\n",
      "  Robust Tucker-Lewis Index (TLI)                            0.889\n",
      "\n",
      "Loglikelihood and Information Criteria:\n",
      "\n",
      "  Loglikelihood user model (H0)             -12865.546  -12865.546\n",
      "  Loglikelihood unrestricted model (H1)     -12759.175  -12759.175\n",
      "                                                                  \n",
      "  Akaike (AIC)                               25779.092   25779.092\n",
      "  Bayesian (BIC)                             25900.274   25900.274\n",
      "  Sample-size adjusted Bayesian (BIC)        25824.043   25824.043\n",
      "\n",
      "Root Mean Square Error of Approximation:\n",
      "\n",
      "  RMSEA                                          0.071       0.068\n",
      "  90 Percent confidence interval - lower         0.062       0.059\n",
      "  90 Percent confidence interval - upper         0.081       0.076\n",
      "  P-value RMSEA <= 0.05                          0.000       0.000\n",
      "                                                                  \n",
      "  Robust RMSEA                                               0.071\n",
      "  90 Percent confidence interval - lower                     0.061\n",
      "  90 Percent confidence interval - upper                     0.080\n",
      "\n",
      "Standardized Root Mean Square Residual:\n",
      "\n",
      "  SRMR                                           0.049       0.049\n",
      "\n",
      "Parameter Estimates:\n",
      "\n",
      "  Standard errors                           Robust.sem\n",
      "  Information                                 Expected\n",
      "  Information saturated (h1) model          Structured\n",
      "\n",
      "Latent Variables:\n",
      "                        Estimate  Std.Err  z-value  P(>|z|)   Std.lv  Std.all\n",
      "  HypertensionLatent =~                                                      \n",
      "    diastolcBP             1.000                               0.378    0.378\n",
      "    systolicBP             1.282    0.102   12.559    0.000    0.484    0.487\n",
      "    Hypertensn             0.941    0.147    6.417    0.000    0.356    0.721\n",
      "  DiabetesLatent =~                                                          \n",
      "    HbA1c                  1.000                               0.710    0.748\n",
      "    glucose                0.441    0.067    6.550    0.000    0.313    0.326\n",
      "    Diabetes               0.259    0.027    9.543    0.000    0.184    0.613\n",
      "  DysL =~                                                                    \n",
      "    TG         (a)         1.000                               0.628    0.643\n",
      "    HDL        (a)         1.000                               0.628    0.637\n",
      "  MetS =~                                                                    \n",
      "    Waist                  1.000                               0.804    0.823\n",
      "    DysL                   0.543    0.044   12.379    0.000    0.696    0.696\n",
      "    HyprtnsnLt             0.240    0.039    6.145    0.000    0.510    0.510\n",
      "    DiabtsLtnt             0.490    0.045   10.818    0.000    0.555    0.555\n",
      "    CRP                    0.542    0.045   11.986    0.000    0.436    0.440\n",
      "\n",
      "Covariances:\n",
      "                   Estimate  Std.Err  z-value  P(>|z|)   Std.lv  Std.all\n",
      " .diastolicBP ~~                                                        \n",
      "   .systolicBP        0.491    0.038   12.967    0.000    0.491    0.611\n",
      " .HbA1c ~~                                                              \n",
      "   .glucose           0.007    0.034    0.217    0.829    0.007    0.013\n",
      "\n",
      "Variances:\n",
      "                   Estimate  Std.Err  z-value  P(>|z|)   Std.lv  Std.all\n",
      "   .diastolicBP       0.856    0.042   20.344    0.000    0.856    0.857\n",
      "   .systolicBP        0.754    0.048   15.708    0.000    0.754    0.763\n",
      "   .Hypertension      0.117    0.018    6.683    0.000    0.117    0.481\n",
      "   .HbA1c             0.396    0.053    7.478    0.000    0.396    0.440\n",
      "   .glucose           0.826    0.048   17.282    0.000    0.826    0.894\n",
      "   .Diabetes          0.056    0.004   12.715    0.000    0.056    0.624\n",
      "   .TG                0.560    0.033   16.768    0.000    0.560    0.586\n",
      "   .HDL               0.578    0.033   17.410    0.000    0.578    0.594\n",
      "   .Waist             0.308    0.041    7.520    0.000    0.308    0.323\n",
      "   .CRP               0.795    0.041   19.258    0.000    0.795    0.807\n",
      "   .HypertensnLtnt    0.106    0.024    4.492    0.000    0.740    0.740\n",
      "   .DiabetesLatent    0.348    0.054    6.508    0.000    0.692    0.692\n",
      "   .DysL              0.204    0.029    6.956    0.000    0.516    0.516\n",
      "    MetS              0.647    0.054   11.923    0.000    1.000    1.000\n",
      "\n"
     ]
    }
   ],
   "source": [
    "COVID_infection = '\n",
    "#Latent variables\n",
    "\n",
    "HypertensionLatent =~  diastolicBP + systolicBP  + Hypertension\n",
    "DiabetesLatent =~ HbA1c + glucose  + Diabetes\n",
    "DysL =~ a*TG + a*HDL\n",
    "\n",
    "MetS =~ Waist + DysL + HypertensionLatent + DiabetesLatent + CRP\n",
    "\n",
    "diastolicBP~~systolicBP\n",
    "HbA1c ~~ glucose\n",
    "\n",
    "'\n",
    "\n",
    "COVID_fitinf <- cfa(COVID_infection, data=COVinf, estimator='MLM')\n",
    "summary(COVID_fitinf, standardized=TRUE, fit.measures=T)\n",
    "#fitmeasures(WMHOB_fit) #fit indices"
   ]
  },
  {
   "cell_type": "markdown",
   "metadata": {},
   "source": [
    "### Get latent variable scores"
   ]
  },
  {
   "cell_type": "code",
   "execution_count": 34,
   "metadata": {},
   "outputs": [],
   "source": [
    "COVinf$MetS=(lavPredict(COVID_fitinf, newdata = NULL, type = \"lv\", method = \"regression\",\n",
    "           se = \"none\", acov = \"none\", label = TRUE, fsm = FALSE, \n",
    "           append.data = FALSE, assemble = FALSE,\n",
    "           level = 1L, optim.method = \"bfgs\", ETA = NULL))[,4]"
   ]
  },
  {
   "cell_type": "markdown",
   "metadata": {},
   "source": [
    "### Run logistic regression"
   ]
  },
  {
   "cell_type": "code",
   "execution_count": 23,
   "metadata": {
    "scrolled": false
   },
   "outputs": [
    {
     "data": {
      "text/plain": [
       "\n",
       "Call:\n",
       "glm(formula = level ~ townsend_deprivation_index_at_recruitment_189.0.0.x + \n",
       "    MetS + sex_31.0.0 + year_of_birth_34.0.0 + laboratory + spectype + \n",
       "    qualifications_6138.0.0 + smoking_status_20116.0.0 + ethnic_background_21000.0.0 + \n",
       "    average_total_household_income_before_tax_738.0.0, family = binomial(link = \"logit\"), \n",
       "    data = COVinf)\n",
       "\n",
       "Deviance Residuals: \n",
       "    Min       1Q   Median       3Q      Max  \n",
       "-1.5166  -0.6009  -0.3117  -0.1518   2.6364  \n",
       "\n",
       "Coefficients:\n",
       "                                                                                 Estimate\n",
       "(Intercept)                                                                     2.354e+02\n",
       "townsend_deprivation_index_at_recruitment_189.0.0.x                             1.197e-01\n",
       "MetS                                                                            5.102e-01\n",
       "sex_31.0.0Male                                                                  6.086e-02\n",
       "year_of_birth_34.0.0                                                           -1.213e-01\n",
       "laboratory                                                                     -1.324e-02\n",
       "spectype                                                                       -2.405e-03\n",
       "qualifications_6138.0.0College or University degree                             1.830e-01\n",
       "qualifications_6138.0.0CSEs or equivalent                                       2.208e-01\n",
       "qualifications_6138.0.0None of the above                                        3.382e-01\n",
       "qualifications_6138.0.0NVQ or HND or HNC or equivalent                         -1.436e-01\n",
       "qualifications_6138.0.0O levels/GCSEs or equivalent                             1.956e-01\n",
       "qualifications_6138.0.0Other professional qualifications eg: nursing, teaching  1.015e+00\n",
       "qualifications_6138.0.0Prefer not to answer                                     6.193e-01\n",
       "smoking_status_20116.0.0Never                                                   6.263e-02\n",
       "smoking_status_20116.0.0Prefer not to answer                                    7.644e-01\n",
       "smoking_status_20116.0.0Previous                                                4.977e-02\n",
       "ethnic_background_21000.0.0Any other Asian background                          -6.893e-01\n",
       "ethnic_background_21000.0.0Any other Black background                           1.763e+01\n",
       "ethnic_background_21000.0.0Any other mixed background                          -1.542e+01\n",
       "ethnic_background_21000.0.0Any other white background                          -7.801e-02\n",
       "ethnic_background_21000.0.0Bangladeshi                                         -1.389e+01\n",
       "ethnic_background_21000.0.0British                                             -1.040e+00\n",
       "ethnic_background_21000.0.0Caribbean                                           -3.198e-01\n",
       "ethnic_background_21000.0.0Chinese                                             -1.613e+01\n",
       "ethnic_background_21000.0.0Do not know                                         -1.346e+01\n",
       "ethnic_background_21000.0.0Indian                                              -6.427e-01\n",
       "ethnic_background_21000.0.0Irish                                               -2.922e+00\n",
       "ethnic_background_21000.0.0Other ethnic group                                  -2.156e+00\n",
       "ethnic_background_21000.0.0Pakistani                                           -1.519e+01\n",
       "ethnic_background_21000.0.0Prefer not to answer                                -1.217e+00\n",
       "ethnic_background_21000.0.0White                                                1.773e+01\n",
       "ethnic_background_21000.0.0White and Asian                                     -1.257e+01\n",
       "ethnic_background_21000.0.0White and Black African                              9.020e-01\n",
       "ethnic_background_21000.0.0White and Black Caribbean                           -1.472e+01\n",
       "average_total_household_income_before_tax_738.0.031,000 to 51,999               8.247e-01\n",
       "average_total_household_income_before_tax_738.0.052,000 to 100,000              1.136e+00\n",
       "average_total_household_income_before_tax_738.0.0Do not know                    2.784e-01\n",
       "average_total_household_income_before_tax_738.0.0Greater than 100,000           3.557e-01\n",
       "average_total_household_income_before_tax_738.0.0Less than 18,000               3.566e-01\n",
       "average_total_household_income_before_tax_738.0.0Prefer not to answer           5.809e-01\n",
       "                                                                               Std. Error\n",
       "(Intercept)                                                                     3.051e+01\n",
       "townsend_deprivation_index_at_recruitment_189.0.0.x                             1.022e-01\n",
       "MetS                                                                            1.482e-01\n",
       "sex_31.0.0Male                                                                  2.046e-01\n",
       "year_of_birth_34.0.0                                                            1.560e-02\n",
       "laboratory                                                                      3.138e-03\n",
       "spectype                                                                        1.941e-02\n",
       "qualifications_6138.0.0College or University degree                             3.927e-01\n",
       "qualifications_6138.0.0CSEs or equivalent                                       6.152e-01\n",
       "qualifications_6138.0.0None of the above                                        3.968e-01\n",
       "qualifications_6138.0.0NVQ or HND or HNC or equivalent                          5.001e-01\n",
       "qualifications_6138.0.0O levels/GCSEs or equivalent                             4.116e-01\n",
       "qualifications_6138.0.0Other professional qualifications eg: nursing, teaching  4.729e-01\n",
       "qualifications_6138.0.0Prefer not to answer                                     6.947e-01\n",
       "smoking_status_20116.0.0Never                                                   3.058e-01\n",
       "smoking_status_20116.0.0Prefer not to answer                                    8.184e-01\n",
       "smoking_status_20116.0.0Previous                                                3.034e-01\n",
       "ethnic_background_21000.0.0Any other Asian background                           1.330e+00\n",
       "ethnic_background_21000.0.0Any other Black background                           2.400e+03\n",
       "ethnic_background_21000.0.0Any other mixed background                           1.083e+03\n",
       "ethnic_background_21000.0.0Any other white background                           8.310e-01\n",
       "ethnic_background_21000.0.0Bangladeshi                                          2.400e+03\n",
       "ethnic_background_21000.0.0British                                              6.656e-01\n",
       "ethnic_background_21000.0.0Caribbean                                            8.395e-01\n",
       "ethnic_background_21000.0.0Chinese                                              1.023e+03\n",
       "ethnic_background_21000.0.0Do not know                                          2.400e+03\n",
       "ethnic_background_21000.0.0Indian                                               8.891e-01\n",
       "ethnic_background_21000.0.0Irish                                                1.236e+00\n",
       "ethnic_background_21000.0.0Other ethnic group                                   1.237e+00\n",
       "ethnic_background_21000.0.0Pakistani                                            7.155e+02\n",
       "ethnic_background_21000.0.0Prefer not to answer                                 1.554e+00\n",
       "ethnic_background_21000.0.0White                                                2.400e+03\n",
       "ethnic_background_21000.0.0White and Asian                                      1.675e+03\n",
       "ethnic_background_21000.0.0White and Black African                              1.813e+00\n",
       "ethnic_background_21000.0.0White and Black Caribbean                            2.400e+03\n",
       "average_total_household_income_before_tax_738.0.031,000 to 51,999               3.288e-01\n",
       "average_total_household_income_before_tax_738.0.052,000 to 100,000              3.774e-01\n",
       "average_total_household_income_before_tax_738.0.0Do not know                    4.539e-01\n",
       "average_total_household_income_before_tax_738.0.0Greater than 100,000           8.175e-01\n",
       "average_total_household_income_before_tax_738.0.0Less than 18,000               2.886e-01\n",
       "average_total_household_income_before_tax_738.0.0Prefer not to answer           3.440e-01\n",
       "                                                                               z value\n",
       "(Intercept)                                                                      7.717\n",
       "townsend_deprivation_index_at_recruitment_189.0.0.x                              1.171\n",
       "MetS                                                                             3.442\n",
       "sex_31.0.0Male                                                                   0.297\n",
       "year_of_birth_34.0.0                                                            -7.778\n",
       "laboratory                                                                      -4.217\n",
       "spectype                                                                        -0.124\n",
       "qualifications_6138.0.0College or University degree                              0.466\n",
       "qualifications_6138.0.0CSEs or equivalent                                        0.359\n",
       "qualifications_6138.0.0None of the above                                         0.852\n",
       "qualifications_6138.0.0NVQ or HND or HNC or equivalent                          -0.287\n",
       "qualifications_6138.0.0O levels/GCSEs or equivalent                              0.475\n",
       "qualifications_6138.0.0Other professional qualifications eg: nursing, teaching   2.147\n",
       "qualifications_6138.0.0Prefer not to answer                                      0.891\n",
       "smoking_status_20116.0.0Never                                                    0.205\n",
       "smoking_status_20116.0.0Prefer not to answer                                     0.934\n",
       "smoking_status_20116.0.0Previous                                                 0.164\n",
       "ethnic_background_21000.0.0Any other Asian background                           -0.518\n",
       "ethnic_background_21000.0.0Any other Black background                            0.007\n",
       "ethnic_background_21000.0.0Any other mixed background                           -0.014\n",
       "ethnic_background_21000.0.0Any other white background                           -0.094\n",
       "ethnic_background_21000.0.0Bangladeshi                                          -0.006\n",
       "ethnic_background_21000.0.0British                                              -1.562\n",
       "ethnic_background_21000.0.0Caribbean                                            -0.381\n",
       "ethnic_background_21000.0.0Chinese                                              -0.016\n",
       "ethnic_background_21000.0.0Do not know                                          -0.006\n",
       "ethnic_background_21000.0.0Indian                                               -0.723\n",
       "ethnic_background_21000.0.0Irish                                                -2.363\n",
       "ethnic_background_21000.0.0Other ethnic group                                   -1.743\n",
       "ethnic_background_21000.0.0Pakistani                                            -0.021\n",
       "ethnic_background_21000.0.0Prefer not to answer                                 -0.783\n",
       "ethnic_background_21000.0.0White                                                 0.007\n",
       "ethnic_background_21000.0.0White and Asian                                      -0.008\n",
       "ethnic_background_21000.0.0White and Black African                               0.497\n",
       "ethnic_background_21000.0.0White and Black Caribbean                            -0.006\n",
       "average_total_household_income_before_tax_738.0.031,000 to 51,999                2.508\n",
       "average_total_household_income_before_tax_738.0.052,000 to 100,000               3.011\n",
       "average_total_household_income_before_tax_738.0.0Do not know                     0.613\n",
       "average_total_household_income_before_tax_738.0.0Greater than 100,000            0.435\n",
       "average_total_household_income_before_tax_738.0.0Less than 18,000                1.236\n",
       "average_total_household_income_before_tax_738.0.0Prefer not to answer            1.689\n",
       "                                                                               Pr(>|z|)\n",
       "(Intercept)                                                                    1.19e-14\n",
       "townsend_deprivation_index_at_recruitment_189.0.0.x                            0.241639\n",
       "MetS                                                                           0.000578\n",
       "sex_31.0.0Male                                                                 0.766155\n",
       "year_of_birth_34.0.0                                                           7.34e-15\n",
       "laboratory                                                                     2.47e-05\n",
       "spectype                                                                       0.901358\n",
       "qualifications_6138.0.0College or University degree                            0.641143\n",
       "qualifications_6138.0.0CSEs or equivalent                                      0.719688\n",
       "qualifications_6138.0.0None of the above                                       0.394038\n",
       "qualifications_6138.0.0NVQ or HND or HNC or equivalent                         0.773988\n",
       "qualifications_6138.0.0O levels/GCSEs or equivalent                            0.634593\n",
       "qualifications_6138.0.0Other professional qualifications eg: nursing, teaching 0.031812\n",
       "qualifications_6138.0.0Prefer not to answer                                    0.372673\n",
       "smoking_status_20116.0.0Never                                                  0.837693\n",
       "smoking_status_20116.0.0Prefer not to answer                                   0.350303\n",
       "smoking_status_20116.0.0Previous                                               0.869713\n",
       "ethnic_background_21000.0.0Any other Asian background                          0.604199\n",
       "ethnic_background_21000.0.0Any other Black background                          0.994139\n",
       "ethnic_background_21000.0.0Any other mixed background                          0.988638\n",
       "ethnic_background_21000.0.0Any other white background                          0.925206\n",
       "ethnic_background_21000.0.0Bangladeshi                                         0.995381\n",
       "ethnic_background_21000.0.0British                                             0.118286\n",
       "ethnic_background_21000.0.0Caribbean                                           0.703259\n",
       "ethnic_background_21000.0.0Chinese                                             0.987417\n",
       "ethnic_background_21000.0.0Do not know                                         0.995526\n",
       "ethnic_background_21000.0.0Indian                                              0.469735\n",
       "ethnic_background_21000.0.0Irish                                               0.018108\n",
       "ethnic_background_21000.0.0Other ethnic group                                  0.081348\n",
       "ethnic_background_21000.0.0Pakistani                                           0.983060\n",
       "ethnic_background_21000.0.0Prefer not to answer                                0.433468\n",
       "ethnic_background_21000.0.0White                                               0.994103\n",
       "ethnic_background_21000.0.0White and Asian                                     0.994010\n",
       "ethnic_background_21000.0.0White and Black African                             0.618874\n",
       "ethnic_background_21000.0.0White and Black Caribbean                           0.995104\n",
       "average_total_household_income_before_tax_738.0.031,000 to 51,999              0.012133\n",
       "average_total_household_income_before_tax_738.0.052,000 to 100,000             0.002607\n",
       "average_total_household_income_before_tax_738.0.0Do not know                   0.539652\n",
       "average_total_household_income_before_tax_738.0.0Greater than 100,000          0.663494\n",
       "average_total_household_income_before_tax_738.0.0Less than 18,000              0.216617\n",
       "average_total_household_income_before_tax_738.0.0Prefer not to answer          0.091302\n",
       "                                                                                  \n",
       "(Intercept)                                                                    ***\n",
       "townsend_deprivation_index_at_recruitment_189.0.0.x                               \n",
       "MetS                                                                           ***\n",
       "sex_31.0.0Male                                                                    \n",
       "year_of_birth_34.0.0                                                           ***\n",
       "laboratory                                                                     ***\n",
       "spectype                                                                          \n",
       "qualifications_6138.0.0College or University degree                               \n",
       "qualifications_6138.0.0CSEs or equivalent                                         \n",
       "qualifications_6138.0.0None of the above                                          \n",
       "qualifications_6138.0.0NVQ or HND or HNC or equivalent                            \n",
       "qualifications_6138.0.0O levels/GCSEs or equivalent                               \n",
       "qualifications_6138.0.0Other professional qualifications eg: nursing, teaching *  \n",
       "qualifications_6138.0.0Prefer not to answer                                       \n",
       "smoking_status_20116.0.0Never                                                     \n",
       "smoking_status_20116.0.0Prefer not to answer                                      \n",
       "smoking_status_20116.0.0Previous                                                  \n",
       "ethnic_background_21000.0.0Any other Asian background                             \n",
       "ethnic_background_21000.0.0Any other Black background                             \n",
       "ethnic_background_21000.0.0Any other mixed background                             \n",
       "ethnic_background_21000.0.0Any other white background                             \n",
       "ethnic_background_21000.0.0Bangladeshi                                            \n",
       "ethnic_background_21000.0.0British                                                \n",
       "ethnic_background_21000.0.0Caribbean                                              \n",
       "ethnic_background_21000.0.0Chinese                                                \n",
       "ethnic_background_21000.0.0Do not know                                            \n",
       "ethnic_background_21000.0.0Indian                                                 \n",
       "ethnic_background_21000.0.0Irish                                               *  \n",
       "ethnic_background_21000.0.0Other ethnic group                                  .  \n",
       "ethnic_background_21000.0.0Pakistani                                              \n",
       "ethnic_background_21000.0.0Prefer not to answer                                   \n",
       "ethnic_background_21000.0.0White                                                  \n",
       "ethnic_background_21000.0.0White and Asian                                        \n",
       "ethnic_background_21000.0.0White and Black African                                \n",
       "ethnic_background_21000.0.0White and Black Caribbean                              \n",
       "average_total_household_income_before_tax_738.0.031,000 to 51,999              *  \n",
       "average_total_household_income_before_tax_738.0.052,000 to 100,000             ** \n",
       "average_total_household_income_before_tax_738.0.0Do not know                      \n",
       "average_total_household_income_before_tax_738.0.0Greater than 100,000             \n",
       "average_total_household_income_before_tax_738.0.0Less than 18,000                 \n",
       "average_total_household_income_before_tax_738.0.0Prefer not to answer          .  \n",
       "---\n",
       "Signif. codes:  0 ‘***’ 0.001 ‘**’ 0.01 ‘*’ 0.05 ‘.’ 0.1 ‘ ’ 1\n",
       "\n",
       "(Dispersion parameter for binomial family taken to be 1)\n",
       "\n",
       "    Null deviance: 998.55  on 1151  degrees of freedom\n",
       "Residual deviance: 787.93  on 1111  degrees of freedom\n",
       "AIC: 869.93\n",
       "\n",
       "Number of Fisher Scoring iterations: 15\n"
      ]
     },
     "metadata": {},
     "output_type": "display_data"
    }
   ],
   "source": [
    "metsinf_logit=(glm(level ~ townsend_deprivation_index_at_recruitment_189.0.0.x + \n",
    "           MetS +\n",
    "           sex_31.0.0 +\n",
    "           year_of_birth_34.0.0 +\n",
    "           laboratory +\n",
    "           spectype +\n",
    "           qualifications_6138.0.0 + \n",
    "           smoking_status_20116.0.0 + \n",
    "           ethnic_background_21000.0.0 +\n",
    "           average_total_household_income_before_tax_738.0.0, data=COVinf, family='binomial'(link=\"logit\")))\n",
    "\n",
    "summary(metsinf_logit)"
   ]
  },
  {
   "cell_type": "code",
   "execution_count": 39,
   "metadata": {
    "scrolled": false
   },
   "outputs": [
    {
     "data": {
      "text/plain": [
       "\n",
       "Call:\n",
       "glm(formula = level ~ townsend_deprivation_index_at_recruitment_189.0.0.x + \n",
       "    systolicBP + diastolicBP + Hypertension + glucose + HbA1c + \n",
       "    Diabetes + HDL + TG + CRP + Waist + sex_31.0.0 + year_of_birth_34.0.0 + \n",
       "    laboratory + spectype + qualifications_6138.0.0 + smoking_status_20116.0.0 + \n",
       "    ethnic_background_21000.0.0 + average_total_household_income_before_tax_738.0.0, \n",
       "    family = binomial(link = \"logit\"), data = COVinf)\n",
       "\n",
       "Deviance Residuals: \n",
       "    Min       1Q   Median       3Q      Max  \n",
       "-1.6837  -0.5873  -0.2990  -0.1435   2.8708  \n",
       "\n",
       "Coefficients:\n",
       "                                                                                 Estimate\n",
       "(Intercept)                                                                     2.191e+02\n",
       "townsend_deprivation_index_at_recruitment_189.0.0.x                             1.580e-01\n",
       "systolicBP                                                                      2.607e-01\n",
       "diastolicBP                                                                    -3.089e-02\n",
       "Hypertension                                                                    1.559e-01\n",
       "glucose                                                                         2.349e-01\n",
       "HbA1c                                                                          -1.379e-01\n",
       "Diabetes                                                                       -1.145e-01\n",
       "HDL                                                                             2.185e-02\n",
       "TG                                                                             -4.556e-02\n",
       "CRP                                                                             1.122e-01\n",
       "Waist                                                                           3.090e-01\n",
       "sex_31.0.0Male                                                                  6.956e-02\n",
       "year_of_birth_34.0.0                                                           -1.130e-01\n",
       "laboratory                                                                     -1.351e-02\n",
       "spectype                                                                       -6.282e-04\n",
       "qualifications_6138.0.0College or University degree                             2.530e-01\n",
       "qualifications_6138.0.0CSEs or equivalent                                       1.945e-01\n",
       "qualifications_6138.0.0None of the above                                        3.652e-01\n",
       "qualifications_6138.0.0NVQ or HND or HNC or equivalent                         -1.674e-01\n",
       "qualifications_6138.0.0O levels/GCSEs or equivalent                             2.177e-01\n",
       "qualifications_6138.0.0Other professional qualifications eg: nursing, teaching  1.009e+00\n",
       "qualifications_6138.0.0Prefer not to answer                                     4.204e-01\n",
       "smoking_status_20116.0.0Never                                                  -7.291e-02\n",
       "smoking_status_20116.0.0Prefer not to answer                                    8.756e-01\n",
       "smoking_status_20116.0.0Previous                                               -7.707e-02\n",
       "ethnic_background_21000.0.0Any other Asian background                          -3.384e-01\n",
       "ethnic_background_21000.0.0Any other Black background                           1.830e+01\n",
       "ethnic_background_21000.0.0Any other mixed background                          -1.542e+01\n",
       "ethnic_background_21000.0.0Any other white background                          -8.178e-02\n",
       "ethnic_background_21000.0.0Bangladeshi                                         -1.324e+01\n",
       "ethnic_background_21000.0.0British                                             -9.198e-01\n",
       "ethnic_background_21000.0.0Caribbean                                           -2.855e-01\n",
       "ethnic_background_21000.0.0Chinese                                             -1.597e+01\n",
       "ethnic_background_21000.0.0Do not know                                         -1.298e+01\n",
       "ethnic_background_21000.0.0Indian                                              -7.138e-01\n",
       "ethnic_background_21000.0.0Irish                                               -2.938e+00\n",
       "ethnic_background_21000.0.0Other ethnic group                                  -1.903e+00\n",
       "ethnic_background_21000.0.0Pakistani                                           -1.496e+01\n",
       "ethnic_background_21000.0.0Prefer not to answer                                -9.146e-01\n",
       "ethnic_background_21000.0.0White                                                1.751e+01\n",
       "ethnic_background_21000.0.0White and Asian                                     -1.241e+01\n",
       "ethnic_background_21000.0.0White and Black African                              1.430e+00\n",
       "ethnic_background_21000.0.0White and Black Caribbean                           -1.441e+01\n",
       "average_total_household_income_before_tax_738.0.031,000 to 51,999               7.508e-01\n",
       "average_total_household_income_before_tax_738.0.052,000 to 100,000              1.182e+00\n",
       "average_total_household_income_before_tax_738.0.0Do not know                    1.852e-01\n",
       "average_total_household_income_before_tax_738.0.0Greater than 100,000           3.805e-01\n",
       "average_total_household_income_before_tax_738.0.0Less than 18,000               2.789e-01\n",
       "average_total_household_income_before_tax_738.0.0Prefer not to answer           4.512e-01\n",
       "                                                                               Std. Error\n",
       "(Intercept)                                                                     3.291e+01\n",
       "townsend_deprivation_index_at_recruitment_189.0.0.x                             1.047e-01\n",
       "systolicBP                                                                      1.296e-01\n",
       "diastolicBP                                                                     1.263e-01\n",
       "Hypertension                                                                    2.078e-01\n",
       "glucose                                                                         9.949e-02\n",
       "HbA1c                                                                           1.201e-01\n",
       "Diabetes                                                                        3.303e-01\n",
       "HDL                                                                             1.178e-01\n",
       "TG                                                                              1.140e-01\n",
       "CRP                                                                             1.046e-01\n",
       "Waist                                                                           1.251e-01\n",
       "sex_31.0.0Male                                                                  2.281e-01\n",
       "year_of_birth_34.0.0                                                            1.680e-02\n",
       "laboratory                                                                      3.193e-03\n",
       "spectype                                                                        1.982e-02\n",
       "qualifications_6138.0.0College or University degree                             4.072e-01\n",
       "qualifications_6138.0.0CSEs or equivalent                                       6.288e-01\n",
       "qualifications_6138.0.0None of the above                                        4.102e-01\n",
       "qualifications_6138.0.0NVQ or HND or HNC or equivalent                          5.158e-01\n",
       "qualifications_6138.0.0O levels/GCSEs or equivalent                             4.223e-01\n",
       "qualifications_6138.0.0Other professional qualifications eg: nursing, teaching  4.865e-01\n",
       "qualifications_6138.0.0Prefer not to answer                                     7.085e-01\n",
       "smoking_status_20116.0.0Never                                                   3.156e-01\n",
       "smoking_status_20116.0.0Prefer not to answer                                    8.084e-01\n",
       "smoking_status_20116.0.0Previous                                                3.115e-01\n",
       "ethnic_background_21000.0.0Any other Asian background                           1.331e+00\n",
       "ethnic_background_21000.0.0Any other Black background                           2.400e+03\n",
       "ethnic_background_21000.0.0Any other mixed background                           1.053e+03\n",
       "ethnic_background_21000.0.0Any other white background                           8.642e-01\n",
       "ethnic_background_21000.0.0Bangladeshi                                          2.400e+03\n",
       "ethnic_background_21000.0.0British                                              6.984e-01\n",
       "ethnic_background_21000.0.0Caribbean                                            8.628e-01\n",
       "ethnic_background_21000.0.0Chinese                                              9.864e+02\n",
       "ethnic_background_21000.0.0Do not know                                          2.400e+03\n",
       "ethnic_background_21000.0.0Indian                                               9.260e-01\n",
       "ethnic_background_21000.0.0Irish                                                1.267e+00\n",
       "ethnic_background_21000.0.0Other ethnic group                                   1.261e+00\n",
       "ethnic_background_21000.0.0Pakistani                                            7.209e+02\n",
       "ethnic_background_21000.0.0Prefer not to answer                                 1.546e+00\n",
       "ethnic_background_21000.0.0White                                                2.400e+03\n",
       "ethnic_background_21000.0.0White and Asian                                      1.681e+03\n",
       "ethnic_background_21000.0.0White and Black African                              1.819e+00\n",
       "ethnic_background_21000.0.0White and Black Caribbean                            2.400e+03\n",
       "average_total_household_income_before_tax_738.0.031,000 to 51,999               3.357e-01\n",
       "average_total_household_income_before_tax_738.0.052,000 to 100,000              3.823e-01\n",
       "average_total_household_income_before_tax_738.0.0Do not know                    4.562e-01\n",
       "average_total_household_income_before_tax_738.0.0Greater than 100,000           8.317e-01\n",
       "average_total_household_income_before_tax_738.0.0Less than 18,000               2.954e-01\n",
       "average_total_household_income_before_tax_738.0.0Prefer not to answer           3.508e-01\n",
       "                                                                               z value\n",
       "(Intercept)                                                                      6.659\n",
       "townsend_deprivation_index_at_recruitment_189.0.0.x                              1.509\n",
       "systolicBP                                                                       2.013\n",
       "diastolicBP                                                                     -0.245\n",
       "Hypertension                                                                     0.750\n",
       "glucose                                                                          2.361\n",
       "HbA1c                                                                           -1.148\n",
       "Diabetes                                                                        -0.347\n",
       "HDL                                                                              0.185\n",
       "TG                                                                              -0.400\n",
       "CRP                                                                              1.073\n",
       "Waist                                                                            2.470\n",
       "sex_31.0.0Male                                                                   0.305\n",
       "year_of_birth_34.0.0                                                            -6.726\n",
       "laboratory                                                                      -4.231\n",
       "spectype                                                                        -0.032\n",
       "qualifications_6138.0.0College or University degree                              0.621\n",
       "qualifications_6138.0.0CSEs or equivalent                                        0.309\n",
       "qualifications_6138.0.0None of the above                                         0.890\n",
       "qualifications_6138.0.0NVQ or HND or HNC or equivalent                          -0.324\n",
       "qualifications_6138.0.0O levels/GCSEs or equivalent                              0.515\n",
       "qualifications_6138.0.0Other professional qualifications eg: nursing, teaching   2.074\n",
       "qualifications_6138.0.0Prefer not to answer                                      0.593\n",
       "smoking_status_20116.0.0Never                                                   -0.231\n",
       "smoking_status_20116.0.0Prefer not to answer                                     1.083\n",
       "smoking_status_20116.0.0Previous                                                -0.247\n",
       "ethnic_background_21000.0.0Any other Asian background                           -0.254\n",
       "ethnic_background_21000.0.0Any other Black background                            0.008\n",
       "ethnic_background_21000.0.0Any other mixed background                           -0.015\n",
       "ethnic_background_21000.0.0Any other white background                           -0.095\n",
       "ethnic_background_21000.0.0Bangladeshi                                          -0.006\n",
       "ethnic_background_21000.0.0British                                              -1.317\n",
       "ethnic_background_21000.0.0Caribbean                                            -0.331\n",
       "ethnic_background_21000.0.0Chinese                                              -0.016\n",
       "ethnic_background_21000.0.0Do not know                                          -0.005\n",
       "ethnic_background_21000.0.0Indian                                               -0.771\n",
       "ethnic_background_21000.0.0Irish                                                -2.319\n",
       "ethnic_background_21000.0.0Other ethnic group                                   -1.509\n",
       "ethnic_background_21000.0.0Pakistani                                            -0.021\n",
       "ethnic_background_21000.0.0Prefer not to answer                                 -0.592\n",
       "ethnic_background_21000.0.0White                                                 0.007\n",
       "ethnic_background_21000.0.0White and Asian                                      -0.007\n",
       "ethnic_background_21000.0.0White and Black African                               0.786\n",
       "ethnic_background_21000.0.0White and Black Caribbean                            -0.006\n",
       "average_total_household_income_before_tax_738.0.031,000 to 51,999                2.237\n",
       "average_total_household_income_before_tax_738.0.052,000 to 100,000               3.092\n",
       "average_total_household_income_before_tax_738.0.0Do not know                     0.406\n",
       "average_total_household_income_before_tax_738.0.0Greater than 100,000            0.457\n",
       "average_total_household_income_before_tax_738.0.0Less than 18,000                0.944\n",
       "average_total_household_income_before_tax_738.0.0Prefer not to answer            1.286\n",
       "                                                                               Pr(>|z|)\n",
       "(Intercept)                                                                    2.75e-11\n",
       "townsend_deprivation_index_at_recruitment_189.0.0.x                             0.13130\n",
       "systolicBP                                                                      0.04416\n",
       "diastolicBP                                                                     0.80681\n",
       "Hypertension                                                                    0.45302\n",
       "glucose                                                                         0.01823\n",
       "HbA1c                                                                           0.25089\n",
       "Diabetes                                                                        0.72890\n",
       "HDL                                                                             0.85288\n",
       "TG                                                                              0.68927\n",
       "CRP                                                                             0.28339\n",
       "Waist                                                                           0.01350\n",
       "sex_31.0.0Male                                                                  0.76042\n",
       "year_of_birth_34.0.0                                                           1.74e-11\n",
       "laboratory                                                                     2.33e-05\n",
       "spectype                                                                        0.97472\n",
       "qualifications_6138.0.0College or University degree                             0.53435\n",
       "qualifications_6138.0.0CSEs or equivalent                                       0.75707\n",
       "qualifications_6138.0.0None of the above                                        0.37330\n",
       "qualifications_6138.0.0NVQ or HND or HNC or equivalent                          0.74557\n",
       "qualifications_6138.0.0O levels/GCSEs or equivalent                             0.60623\n",
       "qualifications_6138.0.0Other professional qualifications eg: nursing, teaching  0.03804\n",
       "qualifications_6138.0.0Prefer not to answer                                     0.55289\n",
       "smoking_status_20116.0.0Never                                                   0.81731\n",
       "smoking_status_20116.0.0Prefer not to answer                                    0.27876\n",
       "smoking_status_20116.0.0Previous                                                0.80457\n",
       "ethnic_background_21000.0.0Any other Asian background                           0.79938\n",
       "ethnic_background_21000.0.0Any other Black background                           0.99392\n",
       "ethnic_background_21000.0.0Any other mixed background                           0.98832\n",
       "ethnic_background_21000.0.0Any other white background                           0.92460\n",
       "ethnic_background_21000.0.0Bangladeshi                                          0.99560\n",
       "ethnic_background_21000.0.0British                                              0.18783\n",
       "ethnic_background_21000.0.0Caribbean                                            0.74068\n",
       "ethnic_background_21000.0.0Chinese                                              0.98708\n",
       "ethnic_background_21000.0.0Do not know                                          0.99569\n",
       "ethnic_background_21000.0.0Indian                                               0.44082\n",
       "ethnic_background_21000.0.0Irish                                                0.02039\n",
       "ethnic_background_21000.0.0Other ethnic group                                   0.13122\n",
       "ethnic_background_21000.0.0Pakistani                                            0.98344\n",
       "ethnic_background_21000.0.0Prefer not to answer                                 0.55406\n",
       "ethnic_background_21000.0.0White                                                0.99418\n",
       "ethnic_background_21000.0.0White and Asian                                      0.99411\n",
       "ethnic_background_21000.0.0White and Black African                              0.43169\n",
       "ethnic_background_21000.0.0White and Black Caribbean                            0.99521\n",
       "average_total_household_income_before_tax_738.0.031,000 to 51,999               0.02530\n",
       "average_total_household_income_before_tax_738.0.052,000 to 100,000              0.00199\n",
       "average_total_household_income_before_tax_738.0.0Do not know                    0.68479\n",
       "average_total_household_income_before_tax_738.0.0Greater than 100,000           0.64734\n",
       "average_total_household_income_before_tax_738.0.0Less than 18,000               0.34504\n",
       "average_total_household_income_before_tax_738.0.0Prefer not to answer           0.19835\n",
       "                                                                                  \n",
       "(Intercept)                                                                    ***\n",
       "townsend_deprivation_index_at_recruitment_189.0.0.x                               \n",
       "systolicBP                                                                     *  \n",
       "diastolicBP                                                                       \n",
       "Hypertension                                                                      \n",
       "glucose                                                                        *  \n",
       "HbA1c                                                                             \n",
       "Diabetes                                                                          \n",
       "HDL                                                                               \n",
       "TG                                                                                \n",
       "CRP                                                                               \n",
       "Waist                                                                          *  \n",
       "sex_31.0.0Male                                                                    \n",
       "year_of_birth_34.0.0                                                           ***\n",
       "laboratory                                                                     ***\n",
       "spectype                                                                          \n",
       "qualifications_6138.0.0College or University degree                               \n",
       "qualifications_6138.0.0CSEs or equivalent                                         \n",
       "qualifications_6138.0.0None of the above                                          \n",
       "qualifications_6138.0.0NVQ or HND or HNC or equivalent                            \n",
       "qualifications_6138.0.0O levels/GCSEs or equivalent                               \n",
       "qualifications_6138.0.0Other professional qualifications eg: nursing, teaching *  \n",
       "qualifications_6138.0.0Prefer not to answer                                       \n",
       "smoking_status_20116.0.0Never                                                     \n",
       "smoking_status_20116.0.0Prefer not to answer                                      \n",
       "smoking_status_20116.0.0Previous                                                  \n",
       "ethnic_background_21000.0.0Any other Asian background                             \n",
       "ethnic_background_21000.0.0Any other Black background                             \n",
       "ethnic_background_21000.0.0Any other mixed background                             \n",
       "ethnic_background_21000.0.0Any other white background                             \n",
       "ethnic_background_21000.0.0Bangladeshi                                            \n",
       "ethnic_background_21000.0.0British                                                \n",
       "ethnic_background_21000.0.0Caribbean                                              \n",
       "ethnic_background_21000.0.0Chinese                                                \n",
       "ethnic_background_21000.0.0Do not know                                            \n",
       "ethnic_background_21000.0.0Indian                                                 \n",
       "ethnic_background_21000.0.0Irish                                               *  \n",
       "ethnic_background_21000.0.0Other ethnic group                                     \n",
       "ethnic_background_21000.0.0Pakistani                                              \n",
       "ethnic_background_21000.0.0Prefer not to answer                                   \n",
       "ethnic_background_21000.0.0White                                                  \n",
       "ethnic_background_21000.0.0White and Asian                                        \n",
       "ethnic_background_21000.0.0White and Black African                                \n",
       "ethnic_background_21000.0.0White and Black Caribbean                              \n",
       "average_total_household_income_before_tax_738.0.031,000 to 51,999              *  \n",
       "average_total_household_income_before_tax_738.0.052,000 to 100,000             ** \n",
       "average_total_household_income_before_tax_738.0.0Do not know                      \n",
       "average_total_household_income_before_tax_738.0.0Greater than 100,000             \n",
       "average_total_household_income_before_tax_738.0.0Less than 18,000                 \n",
       "average_total_household_income_before_tax_738.0.0Prefer not to answer             \n",
       "---\n",
       "Signif. codes:  0 ‘***’ 0.001 ‘**’ 0.01 ‘*’ 0.05 ‘.’ 0.1 ‘ ’ 1\n",
       "\n",
       "(Dispersion parameter for binomial family taken to be 1)\n",
       "\n",
       "    Null deviance: 998.55  on 1151  degrees of freedom\n",
       "Residual deviance: 772.51  on 1102  degrees of freedom\n",
       "AIC: 872.51\n",
       "\n",
       "Number of Fisher Scoring iterations: 15\n"
      ]
     },
     "metadata": {},
     "output_type": "display_data"
    }
   ],
   "source": [
    "metsinf_logit_specfactors=(glm(level ~ townsend_deprivation_index_at_recruitment_189.0.0.x + \n",
    "           systolicBP + diastolicBP + Hypertension +\n",
    "           glucose + HbA1c + Diabetes +\n",
    "           HDL + TG +\n",
    "           CRP +\n",
    "           Waist +\n",
    "           sex_31.0.0 +\n",
    "           year_of_birth_34.0.0 +\n",
    "           laboratory +\n",
    "           spectype +\n",
    "           qualifications_6138.0.0 + \n",
    "           smoking_status_20116.0.0 + \n",
    "           ethnic_background_21000.0.0 +\n",
    "           average_total_household_income_before_tax_738.0.0, data=COVinf, family='binomial'(link=\"logit\")))\n",
    "\n",
    "summary(metsinf_logit_specfactors)"
   ]
  },
  {
   "cell_type": "markdown",
   "metadata": {},
   "source": [
    "### Get odds ratio with CIs"
   ]
  },
  {
   "cell_type": "code",
   "execution_count": 54,
   "metadata": {
    "scrolled": false
   },
   "outputs": [
    {
     "name": "stderr",
     "output_type": "stream",
     "text": [
      "Waiting for profiling to be done...\n"
     ]
    },
    {
     "data": {
      "text/html": [
       "<table>\n",
       "<thead><tr><th></th><th scope=col></th><th scope=col>2.5 %</th><th scope=col>97.5 %</th></tr></thead>\n",
       "<tbody>\n",
       "\t<tr><th scope=row>(Intercept)</th><td>1.772112e+102</td><td> 1.082480e+77</td><td>1.149430e+129</td></tr>\n",
       "\t<tr><th scope=row>townsend_deprivation_index_at_recruitment_189.0.0.x</th><td> 1.127174e+00</td><td> 9.211501e-01</td><td> 1.376123e+00</td></tr>\n",
       "\t<tr><th scope=row>MetS</th><td> 1.665569e+00</td><td> 1.246804e+00</td><td> 2.231121e+00</td></tr>\n",
       "\t<tr><th scope=row>sex_31.0.0Male</th><td> 1.062755e+00</td><td> 7.122460e-01</td><td> 1.590560e+00</td></tr>\n",
       "\t<tr><th scope=row>year_of_birth_34.0.0</th><td> 8.857551e-01</td><td> 8.582322e-01</td><td> 9.124332e-01</td></tr>\n",
       "\t<tr><th scope=row>laboratory</th><td> 9.868510e-01</td><td> 9.807267e-01</td><td> 9.928846e-01</td></tr>\n",
       "\t<tr><th scope=row>spectype</th><td> 9.975975e-01</td><td> 9.598331e-01</td><td> 1.035829e+00</td></tr>\n",
       "\t<tr><th scope=row>qualifications_6138.0.0College or University degree</th><td> 1.200862e+00</td><td> 5.686233e-01</td><td> 2.676593e+00</td></tr>\n",
       "\t<tr><th scope=row>qualifications_6138.0.0CSEs or equivalent</th><td> 1.247057e+00</td><td> 3.460484e-01</td><td> 4.013204e+00</td></tr>\n",
       "\t<tr><th scope=row>qualifications_6138.0.0None of the above</th><td> 1.402383e+00</td><td> 6.597750e-01</td><td> 3.153209e+00</td></tr>\n",
       "\t<tr><th scope=row>qualifications_6138.0.0NVQ or HND or HNC or equivalent</th><td> 8.662270e-01</td><td> 3.201261e-01</td><td> 2.311895e+00</td></tr>\n",
       "\t<tr><th scope=row>qualifications_6138.0.0O levels/GCSEs or equivalent</th><td> 1.216094e+00</td><td> 5.521748e-01</td><td> 2.800337e+00</td></tr>\n",
       "\t<tr><th scope=row>qualifications_6138.0.0Other professional qualifications eg: nursing, teaching</th><td> 2.759813e+00</td><td> 1.101710e+00</td><td> 7.103332e+00</td></tr>\n",
       "\t<tr><th scope=row>qualifications_6138.0.0Prefer not to answer</th><td> 1.857573e+00</td><td> 4.481273e-01</td><td> 7.088864e+00</td></tr>\n",
       "\t<tr><th scope=row>smoking_status_20116.0.0Never</th><td> 1.064637e+00</td><td> 5.925837e-01</td><td> 1.973037e+00</td></tr>\n",
       "\t<tr><th scope=row>smoking_status_20116.0.0Prefer not to answer</th><td> 2.147635e+00</td><td> 3.721158e-01</td><td> 1.010527e+01</td></tr>\n",
       "\t<tr><th scope=row>smoking_status_20116.0.0Previous</th><td> 1.051030e+00</td><td> 5.872696e-01</td><td> 1.938000e+00</td></tr>\n",
       "\t<tr><th scope=row>ethnic_background_21000.0.0Any other Asian background</th><td> 5.019090e-01</td><td> 2.016759e-02</td><td> 5.523655e+00</td></tr>\n",
       "\t<tr><th scope=row>ethnic_background_21000.0.0Any other Black background</th><td> 4.519597e+07</td><td>4.919562e-205</td><td>           NA</td></tr>\n",
       "\t<tr><th scope=row>ethnic_background_21000.0.0Any other mixed background</th><td> 2.000386e-07</td><td>           NA</td><td> 3.241946e+36</td></tr>\n",
       "\t<tr><th scope=row>ethnic_background_21000.0.0Any other white background</th><td> 9.249517e-01</td><td> 1.844728e-01</td><td> 5.001201e+00</td></tr>\n",
       "\t<tr><th scope=row>ethnic_background_21000.0.0Bangladeshi</th><td> 9.282294e-07</td><td>           NA</td><td>6.802692e+205</td></tr>\n",
       "\t<tr><th scope=row>ethnic_background_21000.0.0British</th><td> 3.535617e-01</td><td> 1.020184e-01</td><td> 1.456986e+00</td></tr>\n",
       "\t<tr><th scope=row>ethnic_background_21000.0.0Caribbean</th><td> 7.263152e-01</td><td> 1.411075e-01</td><td> 3.970165e+00</td></tr>\n",
       "\t<tr><th scope=row>ethnic_background_21000.0.0Chinese</th><td> 9.906003e-08</td><td>           NA</td><td> 7.096754e+39</td></tr>\n",
       "\t<tr><th scope=row>ethnic_background_21000.0.0Do not know</th><td> 1.433933e-06</td><td>           NA</td><td>1.197262e+206</td></tr>\n",
       "\t<tr><th scope=row>ethnic_background_21000.0.0Indian</th><td> 5.258592e-01</td><td> 8.923131e-02</td><td> 3.093855e+00</td></tr>\n",
       "\t<tr><th scope=row>ethnic_background_21000.0.0Irish</th><td> 5.381641e-02</td><td> 2.413205e-03</td><td> 4.785651e-01</td></tr>\n",
       "\t<tr><th scope=row>ethnic_background_21000.0.0Other ethnic group</th><td> 1.158093e-01</td><td> 5.184294e-03</td><td> 1.027462e+00</td></tr>\n",
       "\t<tr><th scope=row>ethnic_background_21000.0.0Pakistani</th><td> 2.527237e-07</td><td>           NA</td><td> 5.101854e+26</td></tr>\n",
       "\t<tr><th scope=row>ethnic_background_21000.0.0Prefer not to answer</th><td> 2.960044e-01</td><td> 8.669609e-03</td><td> 5.533338e+00</td></tr>\n",
       "\t<tr><th scope=row>ethnic_background_21000.0.0White</th><td> 5.032802e+07</td><td>5.714973e-205</td><td>           NA</td></tr>\n",
       "\t<tr><th scope=row>ethnic_background_21000.0.0White and Asian</th><td> 3.457468e-06</td><td>           NA</td><td>4.459239e+107</td></tr>\n",
       "\t<tr><th scope=row>ethnic_background_21000.0.0White and Black African</th><td> 2.464566e+00</td><td> 5.765535e-02</td><td> 1.083913e+02</td></tr>\n",
       "\t<tr><th scope=row>ethnic_background_21000.0.0White and Black Caribbean</th><td> 4.033061e-07</td><td>           NA</td><td>3.298109e+205</td></tr>\n",
       "\t<tr><th scope=row>average_total_household_income_before_tax_738.0.031,000 to 51,999</th><td> 2.281125e+00</td><td> 1.202062e+00</td><td> 4.379894e+00</td></tr>\n",
       "\t<tr><th scope=row>average_total_household_income_before_tax_738.0.052,000 to 100,000</th><td> 3.115351e+00</td><td> 1.483433e+00</td><td> 6.549877e+00</td></tr>\n",
       "\t<tr><th scope=row>average_total_household_income_before_tax_738.0.0Do not know</th><td> 1.320986e+00</td><td> 5.299756e-01</td><td> 3.168643e+00</td></tr>\n",
       "\t<tr><th scope=row>average_total_household_income_before_tax_738.0.0Greater than 100,000</th><td> 1.427170e+00</td><td> 2.070126e-01</td><td> 5.952934e+00</td></tr>\n",
       "\t<tr><th scope=row>average_total_household_income_before_tax_738.0.0Less than 18,000</th><td> 1.428490e+00</td><td> 8.181041e-01</td><td> 2.544802e+00</td></tr>\n",
       "\t<tr><th scope=row>average_total_household_income_before_tax_738.0.0Prefer not to answer</th><td> 1.787628e+00</td><td> 9.084613e-01</td><td> 3.516332e+00</td></tr>\n",
       "</tbody>\n",
       "</table>\n"
      ],
      "text/latex": [
       "\\begin{tabular}{r|lll}\n",
       "  &  & 2.5 \\% & 97.5 \\%\\\\\n",
       "\\hline\n",
       "\t(Intercept) & 1.772112e+102 &  1.082480e+77 & 1.149430e+129\\\\\n",
       "\ttownsend\\_deprivation\\_index\\_at\\_recruitment\\_189.0.0.x &  1.127174e+00 &  9.211501e-01 &  1.376123e+00\\\\\n",
       "\tMetS &  1.665569e+00 &  1.246804e+00 &  2.231121e+00\\\\\n",
       "\tsex\\_31.0.0Male &  1.062755e+00 &  7.122460e-01 &  1.590560e+00\\\\\n",
       "\tyear\\_of\\_birth\\_34.0.0 &  8.857551e-01 &  8.582322e-01 &  9.124332e-01\\\\\n",
       "\tlaboratory &  9.868510e-01 &  9.807267e-01 &  9.928846e-01\\\\\n",
       "\tspectype &  9.975975e-01 &  9.598331e-01 &  1.035829e+00\\\\\n",
       "\tqualifications\\_6138.0.0College or University degree &  1.200862e+00 &  5.686233e-01 &  2.676593e+00\\\\\n",
       "\tqualifications\\_6138.0.0CSEs or equivalent &  1.247057e+00 &  3.460484e-01 &  4.013204e+00\\\\\n",
       "\tqualifications\\_6138.0.0None of the above &  1.402383e+00 &  6.597750e-01 &  3.153209e+00\\\\\n",
       "\tqualifications\\_6138.0.0NVQ or HND or HNC or equivalent &  8.662270e-01 &  3.201261e-01 &  2.311895e+00\\\\\n",
       "\tqualifications\\_6138.0.0O levels/GCSEs or equivalent &  1.216094e+00 &  5.521748e-01 &  2.800337e+00\\\\\n",
       "\tqualifications\\_6138.0.0Other professional qualifications eg: nursing, teaching &  2.759813e+00 &  1.101710e+00 &  7.103332e+00\\\\\n",
       "\tqualifications\\_6138.0.0Prefer not to answer &  1.857573e+00 &  4.481273e-01 &  7.088864e+00\\\\\n",
       "\tsmoking\\_status\\_20116.0.0Never &  1.064637e+00 &  5.925837e-01 &  1.973037e+00\\\\\n",
       "\tsmoking\\_status\\_20116.0.0Prefer not to answer &  2.147635e+00 &  3.721158e-01 &  1.010527e+01\\\\\n",
       "\tsmoking\\_status\\_20116.0.0Previous &  1.051030e+00 &  5.872696e-01 &  1.938000e+00\\\\\n",
       "\tethnic\\_background\\_21000.0.0Any other Asian background &  5.019090e-01 &  2.016759e-02 &  5.523655e+00\\\\\n",
       "\tethnic\\_background\\_21000.0.0Any other Black background &  4.519597e+07 & 4.919562e-205 &            NA\\\\\n",
       "\tethnic\\_background\\_21000.0.0Any other mixed background &  2.000386e-07 &            NA &  3.241946e+36\\\\\n",
       "\tethnic\\_background\\_21000.0.0Any other white background &  9.249517e-01 &  1.844728e-01 &  5.001201e+00\\\\\n",
       "\tethnic\\_background\\_21000.0.0Bangladeshi &  9.282294e-07 &            NA & 6.802692e+205\\\\\n",
       "\tethnic\\_background\\_21000.0.0British &  3.535617e-01 &  1.020184e-01 &  1.456986e+00\\\\\n",
       "\tethnic\\_background\\_21000.0.0Caribbean &  7.263152e-01 &  1.411075e-01 &  3.970165e+00\\\\\n",
       "\tethnic\\_background\\_21000.0.0Chinese &  9.906003e-08 &            NA &  7.096754e+39\\\\\n",
       "\tethnic\\_background\\_21000.0.0Do not know &  1.433933e-06 &            NA & 1.197262e+206\\\\\n",
       "\tethnic\\_background\\_21000.0.0Indian &  5.258592e-01 &  8.923131e-02 &  3.093855e+00\\\\\n",
       "\tethnic\\_background\\_21000.0.0Irish &  5.381641e-02 &  2.413205e-03 &  4.785651e-01\\\\\n",
       "\tethnic\\_background\\_21000.0.0Other ethnic group &  1.158093e-01 &  5.184294e-03 &  1.027462e+00\\\\\n",
       "\tethnic\\_background\\_21000.0.0Pakistani &  2.527237e-07 &            NA &  5.101854e+26\\\\\n",
       "\tethnic\\_background\\_21000.0.0Prefer not to answer &  2.960044e-01 &  8.669609e-03 &  5.533338e+00\\\\\n",
       "\tethnic\\_background\\_21000.0.0White &  5.032802e+07 & 5.714973e-205 &            NA\\\\\n",
       "\tethnic\\_background\\_21000.0.0White and Asian &  3.457468e-06 &            NA & 4.459239e+107\\\\\n",
       "\tethnic\\_background\\_21000.0.0White and Black African &  2.464566e+00 &  5.765535e-02 &  1.083913e+02\\\\\n",
       "\tethnic\\_background\\_21000.0.0White and Black Caribbean &  4.033061e-07 &            NA & 3.298109e+205\\\\\n",
       "\taverage\\_total\\_household\\_income\\_before\\_tax\\_738.0.031,000 to 51,999 &  2.281125e+00 &  1.202062e+00 &  4.379894e+00\\\\\n",
       "\taverage\\_total\\_household\\_income\\_before\\_tax\\_738.0.052,000 to 100,000 &  3.115351e+00 &  1.483433e+00 &  6.549877e+00\\\\\n",
       "\taverage\\_total\\_household\\_income\\_before\\_tax\\_738.0.0Do not know &  1.320986e+00 &  5.299756e-01 &  3.168643e+00\\\\\n",
       "\taverage\\_total\\_household\\_income\\_before\\_tax\\_738.0.0Greater than 100,000 &  1.427170e+00 &  2.070126e-01 &  5.952934e+00\\\\\n",
       "\taverage\\_total\\_household\\_income\\_before\\_tax\\_738.0.0Less than 18,000 &  1.428490e+00 &  8.181041e-01 &  2.544802e+00\\\\\n",
       "\taverage\\_total\\_household\\_income\\_before\\_tax\\_738.0.0Prefer not to answer &  1.787628e+00 &  9.084613e-01 &  3.516332e+00\\\\\n",
       "\\end{tabular}\n"
      ],
      "text/markdown": [
       "\n",
       "| <!--/--> |  | 2.5 % | 97.5 % |\n",
       "|---|---|---|---|\n",
       "| (Intercept) | 1.772112e+102 |  1.082480e+77 | 1.149430e+129 |\n",
       "| townsend_deprivation_index_at_recruitment_189.0.0.x |  1.127174e+00 |  9.211501e-01 |  1.376123e+00 |\n",
       "| MetS |  1.665569e+00 |  1.246804e+00 |  2.231121e+00 |\n",
       "| sex_31.0.0Male |  1.062755e+00 |  7.122460e-01 |  1.590560e+00 |\n",
       "| year_of_birth_34.0.0 |  8.857551e-01 |  8.582322e-01 |  9.124332e-01 |\n",
       "| laboratory |  9.868510e-01 |  9.807267e-01 |  9.928846e-01 |\n",
       "| spectype |  9.975975e-01 |  9.598331e-01 |  1.035829e+00 |\n",
       "| qualifications_6138.0.0College or University degree |  1.200862e+00 |  5.686233e-01 |  2.676593e+00 |\n",
       "| qualifications_6138.0.0CSEs or equivalent |  1.247057e+00 |  3.460484e-01 |  4.013204e+00 |\n",
       "| qualifications_6138.0.0None of the above |  1.402383e+00 |  6.597750e-01 |  3.153209e+00 |\n",
       "| qualifications_6138.0.0NVQ or HND or HNC or equivalent |  8.662270e-01 |  3.201261e-01 |  2.311895e+00 |\n",
       "| qualifications_6138.0.0O levels/GCSEs or equivalent |  1.216094e+00 |  5.521748e-01 |  2.800337e+00 |\n",
       "| qualifications_6138.0.0Other professional qualifications eg: nursing, teaching |  2.759813e+00 |  1.101710e+00 |  7.103332e+00 |\n",
       "| qualifications_6138.0.0Prefer not to answer |  1.857573e+00 |  4.481273e-01 |  7.088864e+00 |\n",
       "| smoking_status_20116.0.0Never |  1.064637e+00 |  5.925837e-01 |  1.973037e+00 |\n",
       "| smoking_status_20116.0.0Prefer not to answer |  2.147635e+00 |  3.721158e-01 |  1.010527e+01 |\n",
       "| smoking_status_20116.0.0Previous |  1.051030e+00 |  5.872696e-01 |  1.938000e+00 |\n",
       "| ethnic_background_21000.0.0Any other Asian background |  5.019090e-01 |  2.016759e-02 |  5.523655e+00 |\n",
       "| ethnic_background_21000.0.0Any other Black background |  4.519597e+07 | 4.919562e-205 |            NA |\n",
       "| ethnic_background_21000.0.0Any other mixed background |  2.000386e-07 |            NA |  3.241946e+36 |\n",
       "| ethnic_background_21000.0.0Any other white background |  9.249517e-01 |  1.844728e-01 |  5.001201e+00 |\n",
       "| ethnic_background_21000.0.0Bangladeshi |  9.282294e-07 |            NA | 6.802692e+205 |\n",
       "| ethnic_background_21000.0.0British |  3.535617e-01 |  1.020184e-01 |  1.456986e+00 |\n",
       "| ethnic_background_21000.0.0Caribbean |  7.263152e-01 |  1.411075e-01 |  3.970165e+00 |\n",
       "| ethnic_background_21000.0.0Chinese |  9.906003e-08 |            NA |  7.096754e+39 |\n",
       "| ethnic_background_21000.0.0Do not know |  1.433933e-06 |            NA | 1.197262e+206 |\n",
       "| ethnic_background_21000.0.0Indian |  5.258592e-01 |  8.923131e-02 |  3.093855e+00 |\n",
       "| ethnic_background_21000.0.0Irish |  5.381641e-02 |  2.413205e-03 |  4.785651e-01 |\n",
       "| ethnic_background_21000.0.0Other ethnic group |  1.158093e-01 |  5.184294e-03 |  1.027462e+00 |\n",
       "| ethnic_background_21000.0.0Pakistani |  2.527237e-07 |            NA |  5.101854e+26 |\n",
       "| ethnic_background_21000.0.0Prefer not to answer |  2.960044e-01 |  8.669609e-03 |  5.533338e+00 |\n",
       "| ethnic_background_21000.0.0White |  5.032802e+07 | 5.714973e-205 |            NA |\n",
       "| ethnic_background_21000.0.0White and Asian |  3.457468e-06 |            NA | 4.459239e+107 |\n",
       "| ethnic_background_21000.0.0White and Black African |  2.464566e+00 |  5.765535e-02 |  1.083913e+02 |\n",
       "| ethnic_background_21000.0.0White and Black Caribbean |  4.033061e-07 |            NA | 3.298109e+205 |\n",
       "| average_total_household_income_before_tax_738.0.031,000 to 51,999 |  2.281125e+00 |  1.202062e+00 |  4.379894e+00 |\n",
       "| average_total_household_income_before_tax_738.0.052,000 to 100,000 |  3.115351e+00 |  1.483433e+00 |  6.549877e+00 |\n",
       "| average_total_household_income_before_tax_738.0.0Do not know |  1.320986e+00 |  5.299756e-01 |  3.168643e+00 |\n",
       "| average_total_household_income_before_tax_738.0.0Greater than 100,000 |  1.427170e+00 |  2.070126e-01 |  5.952934e+00 |\n",
       "| average_total_household_income_before_tax_738.0.0Less than 18,000 |  1.428490e+00 |  8.181041e-01 |  2.544802e+00 |\n",
       "| average_total_household_income_before_tax_738.0.0Prefer not to answer |  1.787628e+00 |  9.084613e-01 |  3.516332e+00 |\n",
       "\n"
      ],
      "text/plain": [
       "                                                                                            \n",
       "(Intercept)                                                                    1.772112e+102\n",
       "townsend_deprivation_index_at_recruitment_189.0.0.x                             1.127174e+00\n",
       "MetS                                                                            1.665569e+00\n",
       "sex_31.0.0Male                                                                  1.062755e+00\n",
       "year_of_birth_34.0.0                                                            8.857551e-01\n",
       "laboratory                                                                      9.868510e-01\n",
       "spectype                                                                        9.975975e-01\n",
       "qualifications_6138.0.0College or University degree                             1.200862e+00\n",
       "qualifications_6138.0.0CSEs or equivalent                                       1.247057e+00\n",
       "qualifications_6138.0.0None of the above                                        1.402383e+00\n",
       "qualifications_6138.0.0NVQ or HND or HNC or equivalent                          8.662270e-01\n",
       "qualifications_6138.0.0O levels/GCSEs or equivalent                             1.216094e+00\n",
       "qualifications_6138.0.0Other professional qualifications eg: nursing, teaching  2.759813e+00\n",
       "qualifications_6138.0.0Prefer not to answer                                     1.857573e+00\n",
       "smoking_status_20116.0.0Never                                                   1.064637e+00\n",
       "smoking_status_20116.0.0Prefer not to answer                                    2.147635e+00\n",
       "smoking_status_20116.0.0Previous                                                1.051030e+00\n",
       "ethnic_background_21000.0.0Any other Asian background                           5.019090e-01\n",
       "ethnic_background_21000.0.0Any other Black background                           4.519597e+07\n",
       "ethnic_background_21000.0.0Any other mixed background                           2.000386e-07\n",
       "ethnic_background_21000.0.0Any other white background                           9.249517e-01\n",
       "ethnic_background_21000.0.0Bangladeshi                                          9.282294e-07\n",
       "ethnic_background_21000.0.0British                                              3.535617e-01\n",
       "ethnic_background_21000.0.0Caribbean                                            7.263152e-01\n",
       "ethnic_background_21000.0.0Chinese                                              9.906003e-08\n",
       "ethnic_background_21000.0.0Do not know                                          1.433933e-06\n",
       "ethnic_background_21000.0.0Indian                                               5.258592e-01\n",
       "ethnic_background_21000.0.0Irish                                                5.381641e-02\n",
       "ethnic_background_21000.0.0Other ethnic group                                   1.158093e-01\n",
       "ethnic_background_21000.0.0Pakistani                                            2.527237e-07\n",
       "ethnic_background_21000.0.0Prefer not to answer                                 2.960044e-01\n",
       "ethnic_background_21000.0.0White                                                5.032802e+07\n",
       "ethnic_background_21000.0.0White and Asian                                      3.457468e-06\n",
       "ethnic_background_21000.0.0White and Black African                              2.464566e+00\n",
       "ethnic_background_21000.0.0White and Black Caribbean                            4.033061e-07\n",
       "average_total_household_income_before_tax_738.0.031,000 to 51,999               2.281125e+00\n",
       "average_total_household_income_before_tax_738.0.052,000 to 100,000              3.115351e+00\n",
       "average_total_household_income_before_tax_738.0.0Do not know                    1.320986e+00\n",
       "average_total_household_income_before_tax_738.0.0Greater than 100,000           1.427170e+00\n",
       "average_total_household_income_before_tax_738.0.0Less than 18,000               1.428490e+00\n",
       "average_total_household_income_before_tax_738.0.0Prefer not to answer           1.787628e+00\n",
       "                                                                               2.5 %        \n",
       "(Intercept)                                                                     1.082480e+77\n",
       "townsend_deprivation_index_at_recruitment_189.0.0.x                             9.211501e-01\n",
       "MetS                                                                            1.246804e+00\n",
       "sex_31.0.0Male                                                                  7.122460e-01\n",
       "year_of_birth_34.0.0                                                            8.582322e-01\n",
       "laboratory                                                                      9.807267e-01\n",
       "spectype                                                                        9.598331e-01\n",
       "qualifications_6138.0.0College or University degree                             5.686233e-01\n",
       "qualifications_6138.0.0CSEs or equivalent                                       3.460484e-01\n",
       "qualifications_6138.0.0None of the above                                        6.597750e-01\n",
       "qualifications_6138.0.0NVQ or HND or HNC or equivalent                          3.201261e-01\n",
       "qualifications_6138.0.0O levels/GCSEs or equivalent                             5.521748e-01\n",
       "qualifications_6138.0.0Other professional qualifications eg: nursing, teaching  1.101710e+00\n",
       "qualifications_6138.0.0Prefer not to answer                                     4.481273e-01\n",
       "smoking_status_20116.0.0Never                                                   5.925837e-01\n",
       "smoking_status_20116.0.0Prefer not to answer                                    3.721158e-01\n",
       "smoking_status_20116.0.0Previous                                                5.872696e-01\n",
       "ethnic_background_21000.0.0Any other Asian background                           2.016759e-02\n",
       "ethnic_background_21000.0.0Any other Black background                          4.919562e-205\n",
       "ethnic_background_21000.0.0Any other mixed background                                     NA\n",
       "ethnic_background_21000.0.0Any other white background                           1.844728e-01\n",
       "ethnic_background_21000.0.0Bangladeshi                                                    NA\n",
       "ethnic_background_21000.0.0British                                              1.020184e-01\n",
       "ethnic_background_21000.0.0Caribbean                                            1.411075e-01\n",
       "ethnic_background_21000.0.0Chinese                                                        NA\n",
       "ethnic_background_21000.0.0Do not know                                                    NA\n",
       "ethnic_background_21000.0.0Indian                                               8.923131e-02\n",
       "ethnic_background_21000.0.0Irish                                                2.413205e-03\n",
       "ethnic_background_21000.0.0Other ethnic group                                   5.184294e-03\n",
       "ethnic_background_21000.0.0Pakistani                                                      NA\n",
       "ethnic_background_21000.0.0Prefer not to answer                                 8.669609e-03\n",
       "ethnic_background_21000.0.0White                                               5.714973e-205\n",
       "ethnic_background_21000.0.0White and Asian                                                NA\n",
       "ethnic_background_21000.0.0White and Black African                              5.765535e-02\n",
       "ethnic_background_21000.0.0White and Black Caribbean                                      NA\n",
       "average_total_household_income_before_tax_738.0.031,000 to 51,999               1.202062e+00\n",
       "average_total_household_income_before_tax_738.0.052,000 to 100,000              1.483433e+00\n",
       "average_total_household_income_before_tax_738.0.0Do not know                    5.299756e-01\n",
       "average_total_household_income_before_tax_738.0.0Greater than 100,000           2.070126e-01\n",
       "average_total_household_income_before_tax_738.0.0Less than 18,000               8.181041e-01\n",
       "average_total_household_income_before_tax_738.0.0Prefer not to answer           9.084613e-01\n",
       "                                                                               97.5 %       \n",
       "(Intercept)                                                                    1.149430e+129\n",
       "townsend_deprivation_index_at_recruitment_189.0.0.x                             1.376123e+00\n",
       "MetS                                                                            2.231121e+00\n",
       "sex_31.0.0Male                                                                  1.590560e+00\n",
       "year_of_birth_34.0.0                                                            9.124332e-01\n",
       "laboratory                                                                      9.928846e-01\n",
       "spectype                                                                        1.035829e+00\n",
       "qualifications_6138.0.0College or University degree                             2.676593e+00\n",
       "qualifications_6138.0.0CSEs or equivalent                                       4.013204e+00\n",
       "qualifications_6138.0.0None of the above                                        3.153209e+00\n",
       "qualifications_6138.0.0NVQ or HND or HNC or equivalent                          2.311895e+00\n",
       "qualifications_6138.0.0O levels/GCSEs or equivalent                             2.800337e+00\n",
       "qualifications_6138.0.0Other professional qualifications eg: nursing, teaching  7.103332e+00\n",
       "qualifications_6138.0.0Prefer not to answer                                     7.088864e+00\n",
       "smoking_status_20116.0.0Never                                                   1.973037e+00\n",
       "smoking_status_20116.0.0Prefer not to answer                                    1.010527e+01\n",
       "smoking_status_20116.0.0Previous                                                1.938000e+00\n",
       "ethnic_background_21000.0.0Any other Asian background                           5.523655e+00\n",
       "ethnic_background_21000.0.0Any other Black background                                     NA\n",
       "ethnic_background_21000.0.0Any other mixed background                           3.241946e+36\n",
       "ethnic_background_21000.0.0Any other white background                           5.001201e+00\n",
       "ethnic_background_21000.0.0Bangladeshi                                         6.802692e+205\n",
       "ethnic_background_21000.0.0British                                              1.456986e+00\n",
       "ethnic_background_21000.0.0Caribbean                                            3.970165e+00\n",
       "ethnic_background_21000.0.0Chinese                                              7.096754e+39\n",
       "ethnic_background_21000.0.0Do not know                                         1.197262e+206\n",
       "ethnic_background_21000.0.0Indian                                               3.093855e+00\n",
       "ethnic_background_21000.0.0Irish                                                4.785651e-01\n",
       "ethnic_background_21000.0.0Other ethnic group                                   1.027462e+00\n",
       "ethnic_background_21000.0.0Pakistani                                            5.101854e+26\n",
       "ethnic_background_21000.0.0Prefer not to answer                                 5.533338e+00\n",
       "ethnic_background_21000.0.0White                                                          NA\n",
       "ethnic_background_21000.0.0White and Asian                                     4.459239e+107\n",
       "ethnic_background_21000.0.0White and Black African                              1.083913e+02\n",
       "ethnic_background_21000.0.0White and Black Caribbean                           3.298109e+205\n",
       "average_total_household_income_before_tax_738.0.031,000 to 51,999               4.379894e+00\n",
       "average_total_household_income_before_tax_738.0.052,000 to 100,000              6.549877e+00\n",
       "average_total_household_income_before_tax_738.0.0Do not know                    3.168643e+00\n",
       "average_total_household_income_before_tax_738.0.0Greater than 100,000           5.952934e+00\n",
       "average_total_household_income_before_tax_738.0.0Less than 18,000               2.544802e+00\n",
       "average_total_household_income_before_tax_738.0.0Prefer not to answer           3.516332e+00"
      ]
     },
     "metadata": {},
     "output_type": "display_data"
    }
   ],
   "source": [
    "(ORs_MetS=exp(cbind(coef(metsinf_logit), confint(metsinf_logit)))  )"
   ]
  },
  {
   "cell_type": "code",
   "execution_count": 55,
   "metadata": {
    "scrolled": false
   },
   "outputs": [
    {
     "name": "stderr",
     "output_type": "stream",
     "text": [
      "Waiting for profiling to be done...\n"
     ]
    },
    {
     "data": {
      "text/html": [
       "<table>\n",
       "<thead><tr><th></th><th scope=col></th><th scope=col>2.5 %</th><th scope=col>97.5 %</th></tr></thead>\n",
       "<tbody>\n",
       "\t<tr><th scope=row>(Intercept)</th><td>1.477322e+95 </td><td> 7.419678e+67</td><td>9.662547e+123</td></tr>\n",
       "\t<tr><th scope=row>townsend_deprivation_index_at_recruitment_189.0.0.x</th><td>1.171224e+00 </td><td> 9.526168e-01</td><td> 1.437180e+00</td></tr>\n",
       "\t<tr><th scope=row>systolicBP</th><td>1.297900e+00 </td><td> 1.007529e+00</td><td> 1.675721e+00</td></tr>\n",
       "\t<tr><th scope=row>diastolicBP</th><td>9.695858e-01 </td><td> 7.561384e-01</td><td> 1.241558e+00</td></tr>\n",
       "\t<tr><th scope=row>Hypertension</th><td>1.168750e+00 </td><td> 7.774952e-01</td><td> 1.757692e+00</td></tr>\n",
       "\t<tr><th scope=row>glucose</th><td>1.264788e+00 </td><td> 1.041902e+00</td><td> 1.539575e+00</td></tr>\n",
       "\t<tr><th scope=row>HbA1c</th><td>8.711770e-01 </td><td> 6.882663e-01</td><td> 1.102822e+00</td></tr>\n",
       "\t<tr><th scope=row>Diabetes</th><td>8.918223e-01 </td><td> 4.617203e-01</td><td> 1.689505e+00</td></tr>\n",
       "\t<tr><th scope=row>HDL</th><td>1.022088e+00 </td><td> 8.111743e-01</td><td> 1.288145e+00</td></tr>\n",
       "\t<tr><th scope=row>TG</th><td>9.554585e-01 </td><td> 7.632668e-01</td><td> 1.193817e+00</td></tr>\n",
       "\t<tr><th scope=row>CRP</th><td>1.118718e+00 </td><td> 9.103407e-01</td><td> 1.372623e+00</td></tr>\n",
       "\t<tr><th scope=row>Waist</th><td>1.362012e+00 </td><td> 1.066019e+00</td><td> 1.741962e+00</td></tr>\n",
       "\t<tr><th scope=row>sex_31.0.0Male</th><td>1.072038e+00 </td><td> 6.858646e-01</td><td> 1.679603e+00</td></tr>\n",
       "\t<tr><th scope=row>year_of_birth_34.0.0</th><td>8.931612e-01 </td><td> 8.634095e-01</td><td> 9.222783e-01</td></tr>\n",
       "\t<tr><th scope=row>laboratory</th><td>9.865836e-01 </td><td> 9.803541e-01</td><td> 9.927187e-01</td></tr>\n",
       "\t<tr><th scope=row>spectype</th><td>9.993720e-01 </td><td> 9.607746e-01</td><td> 1.038542e+00</td></tr>\n",
       "\t<tr><th scope=row>qualifications_6138.0.0College or University degree</th><td>1.287910e+00 </td><td> 5.932343e-01</td><td> 2.953471e+00</td></tr>\n",
       "\t<tr><th scope=row>qualifications_6138.0.0CSEs or equivalent</th><td>1.214699e+00 </td><td> 3.293729e-01</td><td> 4.021742e+00</td></tr>\n",
       "\t<tr><th scope=row>qualifications_6138.0.0None of the above</th><td>1.440770e+00 </td><td> 6.602112e-01</td><td> 3.323963e+00</td></tr>\n",
       "\t<tr><th scope=row>qualifications_6138.0.0NVQ or HND or HNC or equivalent</th><td>8.458851e-01 </td><td> 3.036671e-01</td><td> 2.330111e+00</td></tr>\n",
       "\t<tr><th scope=row>qualifications_6138.0.0O levels/GCSEs or equivalent</th><td>1.243164e+00 </td><td> 5.530769e-01</td><td> 2.922757e+00</td></tr>\n",
       "\t<tr><th scope=row>qualifications_6138.0.0Other professional qualifications eg: nursing, teaching</th><td>2.743351e+00 </td><td> 1.066753e+00</td><td> 7.250763e+00</td></tr>\n",
       "\t<tr><th scope=row>qualifications_6138.0.0Prefer not to answer</th><td>1.522620e+00 </td><td> 3.597672e-01</td><td> 5.986567e+00</td></tr>\n",
       "\t<tr><th scope=row>smoking_status_20116.0.0Never</th><td>9.296829e-01 </td><td> 5.067728e-01</td><td> 1.753850e+00</td></tr>\n",
       "\t<tr><th scope=row>smoking_status_20116.0.0Prefer not to answer</th><td>2.400365e+00 </td><td> 4.260285e-01</td><td> 1.111924e+01</td></tr>\n",
       "\t<tr><th scope=row>smoking_status_20116.0.0Previous</th><td>9.258283e-01 </td><td> 5.085308e-01</td><td> 1.731725e+00</td></tr>\n",
       "\t<tr><th scope=row>ethnic_background_21000.0.0Any other Asian background</th><td>7.129180e-01 </td><td> 2.854762e-02</td><td> 7.879207e+00</td></tr>\n",
       "\t<tr><th scope=row>ethnic_background_21000.0.0Any other Black background</th><td>8.841242e+07 </td><td>1.461253e-204</td><td>           NA</td></tr>\n",
       "\t<tr><th scope=row>ethnic_background_21000.0.0Any other mixed background</th><td>2.001944e-07 </td><td>           NA</td><td> 1.748210e+35</td></tr>\n",
       "\t<tr><th scope=row>ethnic_background_21000.0.0Any other white background</th><td>9.214708e-01 </td><td> 1.720567e-01</td><td> 5.298979e+00</td></tr>\n",
       "\t<tr><th scope=row>ethnic_background_21000.0.0Bangladeshi</th><td>1.770863e-06 </td><td>           NA</td><td>8.783452e+205</td></tr>\n",
       "\t<tr><th scope=row>ethnic_background_21000.0.0British</th><td>3.985966e-01 </td><td> 1.078904e-01</td><td> 1.744152e+00</td></tr>\n",
       "\t<tr><th scope=row>ethnic_background_21000.0.0Caribbean</th><td>7.516123e-01 </td><td> 1.397461e-01</td><td> 4.300033e+00</td></tr>\n",
       "\t<tr><th scope=row>ethnic_background_21000.0.0Chinese</th><td>1.157989e-07 </td><td>           NA</td><td> 1.111263e+35</td></tr>\n",
       "\t<tr><th scope=row>ethnic_background_21000.0.0Do not know</th><td>2.317253e-06 </td><td>           NA</td><td>1.666135e+206</td></tr>\n",
       "\t<tr><th scope=row>ethnic_background_21000.0.0Indian</th><td>4.897891e-01 </td><td> 7.703745e-02</td><td> 3.085663e+00</td></tr>\n",
       "\t<tr><th scope=row>ethnic_background_21000.0.0Irish</th><td>5.296259e-02 </td><td> 2.292547e-03</td><td> 5.058535e-01</td></tr>\n",
       "\t<tr><th scope=row>ethnic_background_21000.0.0Other ethnic group</th><td>1.491447e-01 </td><td> 6.489282e-03</td><td> 1.396019e+00</td></tr>\n",
       "\t<tr><th scope=row>ethnic_background_21000.0.0Pakistani</th><td>3.178723e-07 </td><td>           NA</td><td> 4.806531e+19</td></tr>\n",
       "\t<tr><th scope=row>ethnic_background_21000.0.0Prefer not to answer</th><td>4.006923e-01 </td><td> 1.227946e-02</td><td> 7.641523e+00</td></tr>\n",
       "\t<tr><th scope=row>ethnic_background_21000.0.0White</th><td>4.007840e+07 </td><td>5.093736e-205</td><td>           NA</td></tr>\n",
       "\t<tr><th scope=row>ethnic_background_21000.0.0White and Asian</th><td>4.093841e-06 </td><td>           NA</td><td>8.602855e+107</td></tr>\n",
       "\t<tr><th scope=row>ethnic_background_21000.0.0White and Black African</th><td>4.178756e+00 </td><td> 9.556751e-02</td><td> 1.868497e+02</td></tr>\n",
       "\t<tr><th scope=row>ethnic_background_21000.0.0White and Black Caribbean</th><td>5.515539e-07 </td><td>           NA</td><td>3.984757e+205</td></tr>\n",
       "\t<tr><th scope=row>average_total_household_income_before_tax_738.0.031,000 to 51,999</th><td>2.118715e+00 </td><td> 1.101027e+00</td><td> 4.121739e+00</td></tr>\n",
       "\t<tr><th scope=row>average_total_household_income_before_tax_738.0.052,000 to 100,000</th><td>3.261615e+00 </td><td> 1.539233e+00</td><td> 6.927537e+00</td></tr>\n",
       "\t<tr><th scope=row>average_total_household_income_before_tax_738.0.0Do not know</th><td>1.203452e+00 </td><td> 4.811347e-01</td><td> 2.902514e+00</td></tr>\n",
       "\t<tr><th scope=row>average_total_household_income_before_tax_738.0.0Greater than 100,000</th><td>1.462989e+00 </td><td> 2.074423e-01</td><td> 6.276737e+00</td></tr>\n",
       "\t<tr><th scope=row>average_total_household_income_before_tax_738.0.0Less than 18,000</th><td>1.321734e+00 </td><td> 7.463479e-01</td><td> 2.384115e+00</td></tr>\n",
       "\t<tr><th scope=row>average_total_household_income_before_tax_738.0.0Prefer not to answer</th><td>1.570271e+00 </td><td> 7.869453e-01</td><td> 3.127954e+00</td></tr>\n",
       "</tbody>\n",
       "</table>\n"
      ],
      "text/latex": [
       "\\begin{tabular}{r|lll}\n",
       "  &  & 2.5 \\% & 97.5 \\%\\\\\n",
       "\\hline\n",
       "\t(Intercept) & 1.477322e+95  &  7.419678e+67 & 9.662547e+123\\\\\n",
       "\ttownsend\\_deprivation\\_index\\_at\\_recruitment\\_189.0.0.x & 1.171224e+00  &  9.526168e-01 &  1.437180e+00\\\\\n",
       "\tsystolicBP & 1.297900e+00  &  1.007529e+00 &  1.675721e+00\\\\\n",
       "\tdiastolicBP & 9.695858e-01  &  7.561384e-01 &  1.241558e+00\\\\\n",
       "\tHypertension & 1.168750e+00  &  7.774952e-01 &  1.757692e+00\\\\\n",
       "\tglucose & 1.264788e+00  &  1.041902e+00 &  1.539575e+00\\\\\n",
       "\tHbA1c & 8.711770e-01  &  6.882663e-01 &  1.102822e+00\\\\\n",
       "\tDiabetes & 8.918223e-01  &  4.617203e-01 &  1.689505e+00\\\\\n",
       "\tHDL & 1.022088e+00  &  8.111743e-01 &  1.288145e+00\\\\\n",
       "\tTG & 9.554585e-01  &  7.632668e-01 &  1.193817e+00\\\\\n",
       "\tCRP & 1.118718e+00  &  9.103407e-01 &  1.372623e+00\\\\\n",
       "\tWaist & 1.362012e+00  &  1.066019e+00 &  1.741962e+00\\\\\n",
       "\tsex\\_31.0.0Male & 1.072038e+00  &  6.858646e-01 &  1.679603e+00\\\\\n",
       "\tyear\\_of\\_birth\\_34.0.0 & 8.931612e-01  &  8.634095e-01 &  9.222783e-01\\\\\n",
       "\tlaboratory & 9.865836e-01  &  9.803541e-01 &  9.927187e-01\\\\\n",
       "\tspectype & 9.993720e-01  &  9.607746e-01 &  1.038542e+00\\\\\n",
       "\tqualifications\\_6138.0.0College or University degree & 1.287910e+00  &  5.932343e-01 &  2.953471e+00\\\\\n",
       "\tqualifications\\_6138.0.0CSEs or equivalent & 1.214699e+00  &  3.293729e-01 &  4.021742e+00\\\\\n",
       "\tqualifications\\_6138.0.0None of the above & 1.440770e+00  &  6.602112e-01 &  3.323963e+00\\\\\n",
       "\tqualifications\\_6138.0.0NVQ or HND or HNC or equivalent & 8.458851e-01  &  3.036671e-01 &  2.330111e+00\\\\\n",
       "\tqualifications\\_6138.0.0O levels/GCSEs or equivalent & 1.243164e+00  &  5.530769e-01 &  2.922757e+00\\\\\n",
       "\tqualifications\\_6138.0.0Other professional qualifications eg: nursing, teaching & 2.743351e+00  &  1.066753e+00 &  7.250763e+00\\\\\n",
       "\tqualifications\\_6138.0.0Prefer not to answer & 1.522620e+00  &  3.597672e-01 &  5.986567e+00\\\\\n",
       "\tsmoking\\_status\\_20116.0.0Never & 9.296829e-01  &  5.067728e-01 &  1.753850e+00\\\\\n",
       "\tsmoking\\_status\\_20116.0.0Prefer not to answer & 2.400365e+00  &  4.260285e-01 &  1.111924e+01\\\\\n",
       "\tsmoking\\_status\\_20116.0.0Previous & 9.258283e-01  &  5.085308e-01 &  1.731725e+00\\\\\n",
       "\tethnic\\_background\\_21000.0.0Any other Asian background & 7.129180e-01  &  2.854762e-02 &  7.879207e+00\\\\\n",
       "\tethnic\\_background\\_21000.0.0Any other Black background & 8.841242e+07  & 1.461253e-204 &            NA\\\\\n",
       "\tethnic\\_background\\_21000.0.0Any other mixed background & 2.001944e-07  &            NA &  1.748210e+35\\\\\n",
       "\tethnic\\_background\\_21000.0.0Any other white background & 9.214708e-01  &  1.720567e-01 &  5.298979e+00\\\\\n",
       "\tethnic\\_background\\_21000.0.0Bangladeshi & 1.770863e-06  &            NA & 8.783452e+205\\\\\n",
       "\tethnic\\_background\\_21000.0.0British & 3.985966e-01  &  1.078904e-01 &  1.744152e+00\\\\\n",
       "\tethnic\\_background\\_21000.0.0Caribbean & 7.516123e-01  &  1.397461e-01 &  4.300033e+00\\\\\n",
       "\tethnic\\_background\\_21000.0.0Chinese & 1.157989e-07  &            NA &  1.111263e+35\\\\\n",
       "\tethnic\\_background\\_21000.0.0Do not know & 2.317253e-06  &            NA & 1.666135e+206\\\\\n",
       "\tethnic\\_background\\_21000.0.0Indian & 4.897891e-01  &  7.703745e-02 &  3.085663e+00\\\\\n",
       "\tethnic\\_background\\_21000.0.0Irish & 5.296259e-02  &  2.292547e-03 &  5.058535e-01\\\\\n",
       "\tethnic\\_background\\_21000.0.0Other ethnic group & 1.491447e-01  &  6.489282e-03 &  1.396019e+00\\\\\n",
       "\tethnic\\_background\\_21000.0.0Pakistani & 3.178723e-07  &            NA &  4.806531e+19\\\\\n",
       "\tethnic\\_background\\_21000.0.0Prefer not to answer & 4.006923e-01  &  1.227946e-02 &  7.641523e+00\\\\\n",
       "\tethnic\\_background\\_21000.0.0White & 4.007840e+07  & 5.093736e-205 &            NA\\\\\n",
       "\tethnic\\_background\\_21000.0.0White and Asian & 4.093841e-06  &            NA & 8.602855e+107\\\\\n",
       "\tethnic\\_background\\_21000.0.0White and Black African & 4.178756e+00  &  9.556751e-02 &  1.868497e+02\\\\\n",
       "\tethnic\\_background\\_21000.0.0White and Black Caribbean & 5.515539e-07  &            NA & 3.984757e+205\\\\\n",
       "\taverage\\_total\\_household\\_income\\_before\\_tax\\_738.0.031,000 to 51,999 & 2.118715e+00  &  1.101027e+00 &  4.121739e+00\\\\\n",
       "\taverage\\_total\\_household\\_income\\_before\\_tax\\_738.0.052,000 to 100,000 & 3.261615e+00  &  1.539233e+00 &  6.927537e+00\\\\\n",
       "\taverage\\_total\\_household\\_income\\_before\\_tax\\_738.0.0Do not know & 1.203452e+00  &  4.811347e-01 &  2.902514e+00\\\\\n",
       "\taverage\\_total\\_household\\_income\\_before\\_tax\\_738.0.0Greater than 100,000 & 1.462989e+00  &  2.074423e-01 &  6.276737e+00\\\\\n",
       "\taverage\\_total\\_household\\_income\\_before\\_tax\\_738.0.0Less than 18,000 & 1.321734e+00  &  7.463479e-01 &  2.384115e+00\\\\\n",
       "\taverage\\_total\\_household\\_income\\_before\\_tax\\_738.0.0Prefer not to answer & 1.570271e+00  &  7.869453e-01 &  3.127954e+00\\\\\n",
       "\\end{tabular}\n"
      ],
      "text/markdown": [
       "\n",
       "| <!--/--> |  | 2.5 % | 97.5 % |\n",
       "|---|---|---|---|\n",
       "| (Intercept) | 1.477322e+95  |  7.419678e+67 | 9.662547e+123 |\n",
       "| townsend_deprivation_index_at_recruitment_189.0.0.x | 1.171224e+00  |  9.526168e-01 |  1.437180e+00 |\n",
       "| systolicBP | 1.297900e+00  |  1.007529e+00 |  1.675721e+00 |\n",
       "| diastolicBP | 9.695858e-01  |  7.561384e-01 |  1.241558e+00 |\n",
       "| Hypertension | 1.168750e+00  |  7.774952e-01 |  1.757692e+00 |\n",
       "| glucose | 1.264788e+00  |  1.041902e+00 |  1.539575e+00 |\n",
       "| HbA1c | 8.711770e-01  |  6.882663e-01 |  1.102822e+00 |\n",
       "| Diabetes | 8.918223e-01  |  4.617203e-01 |  1.689505e+00 |\n",
       "| HDL | 1.022088e+00  |  8.111743e-01 |  1.288145e+00 |\n",
       "| TG | 9.554585e-01  |  7.632668e-01 |  1.193817e+00 |\n",
       "| CRP | 1.118718e+00  |  9.103407e-01 |  1.372623e+00 |\n",
       "| Waist | 1.362012e+00  |  1.066019e+00 |  1.741962e+00 |\n",
       "| sex_31.0.0Male | 1.072038e+00  |  6.858646e-01 |  1.679603e+00 |\n",
       "| year_of_birth_34.0.0 | 8.931612e-01  |  8.634095e-01 |  9.222783e-01 |\n",
       "| laboratory | 9.865836e-01  |  9.803541e-01 |  9.927187e-01 |\n",
       "| spectype | 9.993720e-01  |  9.607746e-01 |  1.038542e+00 |\n",
       "| qualifications_6138.0.0College or University degree | 1.287910e+00  |  5.932343e-01 |  2.953471e+00 |\n",
       "| qualifications_6138.0.0CSEs or equivalent | 1.214699e+00  |  3.293729e-01 |  4.021742e+00 |\n",
       "| qualifications_6138.0.0None of the above | 1.440770e+00  |  6.602112e-01 |  3.323963e+00 |\n",
       "| qualifications_6138.0.0NVQ or HND or HNC or equivalent | 8.458851e-01  |  3.036671e-01 |  2.330111e+00 |\n",
       "| qualifications_6138.0.0O levels/GCSEs or equivalent | 1.243164e+00  |  5.530769e-01 |  2.922757e+00 |\n",
       "| qualifications_6138.0.0Other professional qualifications eg: nursing, teaching | 2.743351e+00  |  1.066753e+00 |  7.250763e+00 |\n",
       "| qualifications_6138.0.0Prefer not to answer | 1.522620e+00  |  3.597672e-01 |  5.986567e+00 |\n",
       "| smoking_status_20116.0.0Never | 9.296829e-01  |  5.067728e-01 |  1.753850e+00 |\n",
       "| smoking_status_20116.0.0Prefer not to answer | 2.400365e+00  |  4.260285e-01 |  1.111924e+01 |\n",
       "| smoking_status_20116.0.0Previous | 9.258283e-01  |  5.085308e-01 |  1.731725e+00 |\n",
       "| ethnic_background_21000.0.0Any other Asian background | 7.129180e-01  |  2.854762e-02 |  7.879207e+00 |\n",
       "| ethnic_background_21000.0.0Any other Black background | 8.841242e+07  | 1.461253e-204 |            NA |\n",
       "| ethnic_background_21000.0.0Any other mixed background | 2.001944e-07  |            NA |  1.748210e+35 |\n",
       "| ethnic_background_21000.0.0Any other white background | 9.214708e-01  |  1.720567e-01 |  5.298979e+00 |\n",
       "| ethnic_background_21000.0.0Bangladeshi | 1.770863e-06  |            NA | 8.783452e+205 |\n",
       "| ethnic_background_21000.0.0British | 3.985966e-01  |  1.078904e-01 |  1.744152e+00 |\n",
       "| ethnic_background_21000.0.0Caribbean | 7.516123e-01  |  1.397461e-01 |  4.300033e+00 |\n",
       "| ethnic_background_21000.0.0Chinese | 1.157989e-07  |            NA |  1.111263e+35 |\n",
       "| ethnic_background_21000.0.0Do not know | 2.317253e-06  |            NA | 1.666135e+206 |\n",
       "| ethnic_background_21000.0.0Indian | 4.897891e-01  |  7.703745e-02 |  3.085663e+00 |\n",
       "| ethnic_background_21000.0.0Irish | 5.296259e-02  |  2.292547e-03 |  5.058535e-01 |\n",
       "| ethnic_background_21000.0.0Other ethnic group | 1.491447e-01  |  6.489282e-03 |  1.396019e+00 |\n",
       "| ethnic_background_21000.0.0Pakistani | 3.178723e-07  |            NA |  4.806531e+19 |\n",
       "| ethnic_background_21000.0.0Prefer not to answer | 4.006923e-01  |  1.227946e-02 |  7.641523e+00 |\n",
       "| ethnic_background_21000.0.0White | 4.007840e+07  | 5.093736e-205 |            NA |\n",
       "| ethnic_background_21000.0.0White and Asian | 4.093841e-06  |            NA | 8.602855e+107 |\n",
       "| ethnic_background_21000.0.0White and Black African | 4.178756e+00  |  9.556751e-02 |  1.868497e+02 |\n",
       "| ethnic_background_21000.0.0White and Black Caribbean | 5.515539e-07  |            NA | 3.984757e+205 |\n",
       "| average_total_household_income_before_tax_738.0.031,000 to 51,999 | 2.118715e+00  |  1.101027e+00 |  4.121739e+00 |\n",
       "| average_total_household_income_before_tax_738.0.052,000 to 100,000 | 3.261615e+00  |  1.539233e+00 |  6.927537e+00 |\n",
       "| average_total_household_income_before_tax_738.0.0Do not know | 1.203452e+00  |  4.811347e-01 |  2.902514e+00 |\n",
       "| average_total_household_income_before_tax_738.0.0Greater than 100,000 | 1.462989e+00  |  2.074423e-01 |  6.276737e+00 |\n",
       "| average_total_household_income_before_tax_738.0.0Less than 18,000 | 1.321734e+00  |  7.463479e-01 |  2.384115e+00 |\n",
       "| average_total_household_income_before_tax_738.0.0Prefer not to answer | 1.570271e+00  |  7.869453e-01 |  3.127954e+00 |\n",
       "\n"
      ],
      "text/plain": [
       "                                                                                           \n",
       "(Intercept)                                                                    1.477322e+95\n",
       "townsend_deprivation_index_at_recruitment_189.0.0.x                            1.171224e+00\n",
       "systolicBP                                                                     1.297900e+00\n",
       "diastolicBP                                                                    9.695858e-01\n",
       "Hypertension                                                                   1.168750e+00\n",
       "glucose                                                                        1.264788e+00\n",
       "HbA1c                                                                          8.711770e-01\n",
       "Diabetes                                                                       8.918223e-01\n",
       "HDL                                                                            1.022088e+00\n",
       "TG                                                                             9.554585e-01\n",
       "CRP                                                                            1.118718e+00\n",
       "Waist                                                                          1.362012e+00\n",
       "sex_31.0.0Male                                                                 1.072038e+00\n",
       "year_of_birth_34.0.0                                                           8.931612e-01\n",
       "laboratory                                                                     9.865836e-01\n",
       "spectype                                                                       9.993720e-01\n",
       "qualifications_6138.0.0College or University degree                            1.287910e+00\n",
       "qualifications_6138.0.0CSEs or equivalent                                      1.214699e+00\n",
       "qualifications_6138.0.0None of the above                                       1.440770e+00\n",
       "qualifications_6138.0.0NVQ or HND or HNC or equivalent                         8.458851e-01\n",
       "qualifications_6138.0.0O levels/GCSEs or equivalent                            1.243164e+00\n",
       "qualifications_6138.0.0Other professional qualifications eg: nursing, teaching 2.743351e+00\n",
       "qualifications_6138.0.0Prefer not to answer                                    1.522620e+00\n",
       "smoking_status_20116.0.0Never                                                  9.296829e-01\n",
       "smoking_status_20116.0.0Prefer not to answer                                   2.400365e+00\n",
       "smoking_status_20116.0.0Previous                                               9.258283e-01\n",
       "ethnic_background_21000.0.0Any other Asian background                          7.129180e-01\n",
       "ethnic_background_21000.0.0Any other Black background                          8.841242e+07\n",
       "ethnic_background_21000.0.0Any other mixed background                          2.001944e-07\n",
       "ethnic_background_21000.0.0Any other white background                          9.214708e-01\n",
       "ethnic_background_21000.0.0Bangladeshi                                         1.770863e-06\n",
       "ethnic_background_21000.0.0British                                             3.985966e-01\n",
       "ethnic_background_21000.0.0Caribbean                                           7.516123e-01\n",
       "ethnic_background_21000.0.0Chinese                                             1.157989e-07\n",
       "ethnic_background_21000.0.0Do not know                                         2.317253e-06\n",
       "ethnic_background_21000.0.0Indian                                              4.897891e-01\n",
       "ethnic_background_21000.0.0Irish                                               5.296259e-02\n",
       "ethnic_background_21000.0.0Other ethnic group                                  1.491447e-01\n",
       "ethnic_background_21000.0.0Pakistani                                           3.178723e-07\n",
       "ethnic_background_21000.0.0Prefer not to answer                                4.006923e-01\n",
       "ethnic_background_21000.0.0White                                               4.007840e+07\n",
       "ethnic_background_21000.0.0White and Asian                                     4.093841e-06\n",
       "ethnic_background_21000.0.0White and Black African                             4.178756e+00\n",
       "ethnic_background_21000.0.0White and Black Caribbean                           5.515539e-07\n",
       "average_total_household_income_before_tax_738.0.031,000 to 51,999              2.118715e+00\n",
       "average_total_household_income_before_tax_738.0.052,000 to 100,000             3.261615e+00\n",
       "average_total_household_income_before_tax_738.0.0Do not know                   1.203452e+00\n",
       "average_total_household_income_before_tax_738.0.0Greater than 100,000          1.462989e+00\n",
       "average_total_household_income_before_tax_738.0.0Less than 18,000              1.321734e+00\n",
       "average_total_household_income_before_tax_738.0.0Prefer not to answer          1.570271e+00\n",
       "                                                                               2.5 %        \n",
       "(Intercept)                                                                     7.419678e+67\n",
       "townsend_deprivation_index_at_recruitment_189.0.0.x                             9.526168e-01\n",
       "systolicBP                                                                      1.007529e+00\n",
       "diastolicBP                                                                     7.561384e-01\n",
       "Hypertension                                                                    7.774952e-01\n",
       "glucose                                                                         1.041902e+00\n",
       "HbA1c                                                                           6.882663e-01\n",
       "Diabetes                                                                        4.617203e-01\n",
       "HDL                                                                             8.111743e-01\n",
       "TG                                                                              7.632668e-01\n",
       "CRP                                                                             9.103407e-01\n",
       "Waist                                                                           1.066019e+00\n",
       "sex_31.0.0Male                                                                  6.858646e-01\n",
       "year_of_birth_34.0.0                                                            8.634095e-01\n",
       "laboratory                                                                      9.803541e-01\n",
       "spectype                                                                        9.607746e-01\n",
       "qualifications_6138.0.0College or University degree                             5.932343e-01\n",
       "qualifications_6138.0.0CSEs or equivalent                                       3.293729e-01\n",
       "qualifications_6138.0.0None of the above                                        6.602112e-01\n",
       "qualifications_6138.0.0NVQ or HND or HNC or equivalent                          3.036671e-01\n",
       "qualifications_6138.0.0O levels/GCSEs or equivalent                             5.530769e-01\n",
       "qualifications_6138.0.0Other professional qualifications eg: nursing, teaching  1.066753e+00\n",
       "qualifications_6138.0.0Prefer not to answer                                     3.597672e-01\n",
       "smoking_status_20116.0.0Never                                                   5.067728e-01\n",
       "smoking_status_20116.0.0Prefer not to answer                                    4.260285e-01\n",
       "smoking_status_20116.0.0Previous                                                5.085308e-01\n",
       "ethnic_background_21000.0.0Any other Asian background                           2.854762e-02\n",
       "ethnic_background_21000.0.0Any other Black background                          1.461253e-204\n",
       "ethnic_background_21000.0.0Any other mixed background                                     NA\n",
       "ethnic_background_21000.0.0Any other white background                           1.720567e-01\n",
       "ethnic_background_21000.0.0Bangladeshi                                                    NA\n",
       "ethnic_background_21000.0.0British                                              1.078904e-01\n",
       "ethnic_background_21000.0.0Caribbean                                            1.397461e-01\n",
       "ethnic_background_21000.0.0Chinese                                                        NA\n",
       "ethnic_background_21000.0.0Do not know                                                    NA\n",
       "ethnic_background_21000.0.0Indian                                               7.703745e-02\n",
       "ethnic_background_21000.0.0Irish                                                2.292547e-03\n",
       "ethnic_background_21000.0.0Other ethnic group                                   6.489282e-03\n",
       "ethnic_background_21000.0.0Pakistani                                                      NA\n",
       "ethnic_background_21000.0.0Prefer not to answer                                 1.227946e-02\n",
       "ethnic_background_21000.0.0White                                               5.093736e-205\n",
       "ethnic_background_21000.0.0White and Asian                                                NA\n",
       "ethnic_background_21000.0.0White and Black African                              9.556751e-02\n",
       "ethnic_background_21000.0.0White and Black Caribbean                                      NA\n",
       "average_total_household_income_before_tax_738.0.031,000 to 51,999               1.101027e+00\n",
       "average_total_household_income_before_tax_738.0.052,000 to 100,000              1.539233e+00\n",
       "average_total_household_income_before_tax_738.0.0Do not know                    4.811347e-01\n",
       "average_total_household_income_before_tax_738.0.0Greater than 100,000           2.074423e-01\n",
       "average_total_household_income_before_tax_738.0.0Less than 18,000               7.463479e-01\n",
       "average_total_household_income_before_tax_738.0.0Prefer not to answer           7.869453e-01\n",
       "                                                                               97.5 %       \n",
       "(Intercept)                                                                    9.662547e+123\n",
       "townsend_deprivation_index_at_recruitment_189.0.0.x                             1.437180e+00\n",
       "systolicBP                                                                      1.675721e+00\n",
       "diastolicBP                                                                     1.241558e+00\n",
       "Hypertension                                                                    1.757692e+00\n",
       "glucose                                                                         1.539575e+00\n",
       "HbA1c                                                                           1.102822e+00\n",
       "Diabetes                                                                        1.689505e+00\n",
       "HDL                                                                             1.288145e+00\n",
       "TG                                                                              1.193817e+00\n",
       "CRP                                                                             1.372623e+00\n",
       "Waist                                                                           1.741962e+00\n",
       "sex_31.0.0Male                                                                  1.679603e+00\n",
       "year_of_birth_34.0.0                                                            9.222783e-01\n",
       "laboratory                                                                      9.927187e-01\n",
       "spectype                                                                        1.038542e+00\n",
       "qualifications_6138.0.0College or University degree                             2.953471e+00\n",
       "qualifications_6138.0.0CSEs or equivalent                                       4.021742e+00\n",
       "qualifications_6138.0.0None of the above                                        3.323963e+00\n",
       "qualifications_6138.0.0NVQ or HND or HNC or equivalent                          2.330111e+00\n",
       "qualifications_6138.0.0O levels/GCSEs or equivalent                             2.922757e+00\n",
       "qualifications_6138.0.0Other professional qualifications eg: nursing, teaching  7.250763e+00\n",
       "qualifications_6138.0.0Prefer not to answer                                     5.986567e+00\n",
       "smoking_status_20116.0.0Never                                                   1.753850e+00\n",
       "smoking_status_20116.0.0Prefer not to answer                                    1.111924e+01\n",
       "smoking_status_20116.0.0Previous                                                1.731725e+00\n",
       "ethnic_background_21000.0.0Any other Asian background                           7.879207e+00\n",
       "ethnic_background_21000.0.0Any other Black background                                     NA\n",
       "ethnic_background_21000.0.0Any other mixed background                           1.748210e+35\n",
       "ethnic_background_21000.0.0Any other white background                           5.298979e+00\n",
       "ethnic_background_21000.0.0Bangladeshi                                         8.783452e+205\n",
       "ethnic_background_21000.0.0British                                              1.744152e+00\n",
       "ethnic_background_21000.0.0Caribbean                                            4.300033e+00\n",
       "ethnic_background_21000.0.0Chinese                                              1.111263e+35\n",
       "ethnic_background_21000.0.0Do not know                                         1.666135e+206\n",
       "ethnic_background_21000.0.0Indian                                               3.085663e+00\n",
       "ethnic_background_21000.0.0Irish                                                5.058535e-01\n",
       "ethnic_background_21000.0.0Other ethnic group                                   1.396019e+00\n",
       "ethnic_background_21000.0.0Pakistani                                            4.806531e+19\n",
       "ethnic_background_21000.0.0Prefer not to answer                                 7.641523e+00\n",
       "ethnic_background_21000.0.0White                                                          NA\n",
       "ethnic_background_21000.0.0White and Asian                                     8.602855e+107\n",
       "ethnic_background_21000.0.0White and Black African                              1.868497e+02\n",
       "ethnic_background_21000.0.0White and Black Caribbean                           3.984757e+205\n",
       "average_total_household_income_before_tax_738.0.031,000 to 51,999               4.121739e+00\n",
       "average_total_household_income_before_tax_738.0.052,000 to 100,000              6.927537e+00\n",
       "average_total_household_income_before_tax_738.0.0Do not know                    2.902514e+00\n",
       "average_total_household_income_before_tax_738.0.0Greater than 100,000           6.276737e+00\n",
       "average_total_household_income_before_tax_738.0.0Less than 18,000               2.384115e+00\n",
       "average_total_household_income_before_tax_738.0.0Prefer not to answer           3.127954e+00"
      ]
     },
     "metadata": {},
     "output_type": "display_data"
    }
   ],
   "source": [
    "(ORs_mortality=exp(cbind(coef(metsinf_logit_specfactors), confint(metsinf_logit_specfactors)))  )"
   ]
  },
  {
   "cell_type": "markdown",
   "metadata": {},
   "source": [
    "## What does 1 unit change on latent variable MetS mean?"
   ]
  },
  {
   "cell_type": "code",
   "execution_count": 48,
   "metadata": {},
   "outputs": [],
   "source": [
    "interpretation=merge(COVinf, coviddeath, by='eid', all.x=TRUE)\n",
    "interpretation$SBP=rowMeans(cbind(interpretation$systolic_blood_pressure_automated_reading_4080.0.0,\n",
    "                               interpretation$systolic_blood_pressure_automated_reading_4080.0.1))\n",
    "interpretation$DBP=rowMeans(cbind(interpretation$diastolic_blood_pressure_automated_reading_4079.0.0,\n",
    "                               interpretation$diastolic_blood_pressure_automated_reading_4079.0.1))"
   ]
  },
  {
   "cell_type": "code",
   "execution_count": 68,
   "metadata": {},
   "outputs": [
    {
     "data": {
      "text/plain": [
       "\n",
       "Call:\n",
       "lm(formula = glucose_30740.0.0.x ~ MetS, data = interpretation)\n",
       "\n",
       "Residuals:\n",
       "     Min       1Q   Median       3Q      Max \n",
       "-1.81185 -0.41921 -0.06108  0.33696  2.70196 \n",
       "\n",
       "Coefficients:\n",
       "            Estimate Std. Error t value Pr(>|t|)    \n",
       "(Intercept)  4.98993    0.01879  265.60  < 2e-16 ***\n",
       "MetS         0.20438    0.02679    7.63 4.91e-14 ***\n",
       "---\n",
       "Signif. codes:  0 ‘***’ 0.001 ‘**’ 0.01 ‘*’ 0.05 ‘.’ 0.1 ‘ ’ 1\n",
       "\n",
       "Residual standard error: 0.6377 on 1150 degrees of freedom\n",
       "Multiple R-squared:  0.04818,\tAdjusted R-squared:  0.04735 \n",
       "F-statistic: 58.21 on 1 and 1150 DF,  p-value: 4.912e-14\n"
      ]
     },
     "metadata": {},
     "output_type": "display_data"
    },
    {
     "data": {
      "text/plain": [
       "\n",
       "Call:\n",
       "lm(formula = SBP ~ MetS, data = interpretation)\n",
       "\n",
       "Residuals:\n",
       "    Min      1Q  Median      3Q     Max \n",
       "-40.630 -12.576  -2.072  11.263  71.034 \n",
       "\n",
       "Coefficients:\n",
       "            Estimate Std. Error t value Pr(>|t|)    \n",
       "(Intercept) 137.2839     0.5259 261.062   <2e-16 ***\n",
       "MetS          7.1619     0.7498   9.552   <2e-16 ***\n",
       "---\n",
       "Signif. codes:  0 ‘***’ 0.001 ‘**’ 0.01 ‘*’ 0.05 ‘.’ 0.1 ‘ ’ 1\n",
       "\n",
       "Residual standard error: 17.85 on 1150 degrees of freedom\n",
       "Multiple R-squared:  0.07351,\tAdjusted R-squared:  0.0727 \n",
       "F-statistic: 91.24 on 1 and 1150 DF,  p-value: < 2.2e-16\n"
      ]
     },
     "metadata": {},
     "output_type": "display_data"
    },
    {
     "data": {
      "text/plain": [
       "\n",
       "Call:\n",
       "lm(formula = DBP ~ MetS, data = interpretation)\n",
       "\n",
       "Residuals:\n",
       "    Min      1Q  Median      3Q     Max \n",
       "-30.989  -6.437  -0.385   6.350  32.950 \n",
       "\n",
       "Coefficients:\n",
       "            Estimate Std. Error t value Pr(>|t|)    \n",
       "(Intercept)  82.4931     0.2903  284.14   <2e-16 ***\n",
       "MetS          4.2185     0.4139   10.19   <2e-16 ***\n",
       "---\n",
       "Signif. codes:  0 ‘***’ 0.001 ‘**’ 0.01 ‘*’ 0.05 ‘.’ 0.1 ‘ ’ 1\n",
       "\n",
       "Residual standard error: 9.854 on 1150 degrees of freedom\n",
       "Multiple R-squared:  0.08283,\tAdjusted R-squared:  0.08203 \n",
       "F-statistic: 103.9 on 1 and 1150 DF,  p-value: < 2.2e-16\n"
      ]
     },
     "metadata": {},
     "output_type": "display_data"
    },
    {
     "data": {
      "text/plain": [
       "\n",
       "Call:\n",
       "lm(formula = glycated_haemoglobin_hba1c_30750.0.0.x ~ MetS, data = interpretation)\n",
       "\n",
       "Residuals:\n",
       "     Min       1Q   Median       3Q      Max \n",
       "-13.3744  -2.5843  -0.2932   2.3397  17.5203 \n",
       "\n",
       "Coefficients:\n",
       "            Estimate Std. Error t value Pr(>|t|)    \n",
       "(Intercept)  35.9294     0.1225  293.36   <2e-16 ***\n",
       "MetS          3.2574     0.1746   18.65   <2e-16 ***\n",
       "---\n",
       "Signif. codes:  0 ‘***’ 0.001 ‘**’ 0.01 ‘*’ 0.05 ‘.’ 0.1 ‘ ’ 1\n",
       "\n",
       "Residual standard error: 4.157 on 1150 degrees of freedom\n",
       "Multiple R-squared:  0.2323,\tAdjusted R-squared:  0.2316 \n",
       "F-statistic:   348 on 1 and 1150 DF,  p-value: < 2.2e-16\n"
      ]
     },
     "metadata": {},
     "output_type": "display_data"
    },
    {
     "data": {
      "text/plain": [
       "\n",
       "Call:\n",
       "lm(formula = c.reactive_protein_30710.0.0 ~ MetS, data = interpretation)\n",
       "\n",
       "Residuals:\n",
       "   Min     1Q Median     3Q    Max \n",
       "-6.196 -2.039 -0.956  0.282 63.310 \n",
       "\n",
       "Coefficients:\n",
       "            Estimate Std. Error t value Pr(>|t|)    \n",
       "(Intercept)   3.0563     0.1569  19.482   <2e-16 ***\n",
       "MetS          2.1387     0.2237   9.561   <2e-16 ***\n",
       "---\n",
       "Signif. codes:  0 ‘***’ 0.001 ‘**’ 0.01 ‘*’ 0.05 ‘.’ 0.1 ‘ ’ 1\n",
       "\n",
       "Residual standard error: 5.325 on 1150 degrees of freedom\n",
       "Multiple R-squared:  0.07364,\tAdjusted R-squared:  0.07283 \n",
       "F-statistic: 91.42 on 1 and 1150 DF,  p-value: < 2.2e-16\n"
      ]
     },
     "metadata": {},
     "output_type": "display_data"
    },
    {
     "data": {
      "text/plain": [
       "\n",
       "Call:\n",
       "lm(formula = triglycerides_30870.0.0 ~ MetS, data = interpretation)\n",
       "\n",
       "Residuals:\n",
       "    Min      1Q  Median      3Q     Max \n",
       "-2.0579 -0.5637 -0.1696  0.3229  8.4979 \n",
       "\n",
       "Coefficients:\n",
       "            Estimate Std. Error t value Pr(>|t|)    \n",
       "(Intercept)  1.79212    0.02734   65.56   <2e-16 ***\n",
       "MetS         0.67457    0.03897   17.31   <2e-16 ***\n",
       "---\n",
       "Signif. codes:  0 ‘***’ 0.001 ‘**’ 0.01 ‘*’ 0.05 ‘.’ 0.1 ‘ ’ 1\n",
       "\n",
       "Residual standard error: 0.9278 on 1150 degrees of freedom\n",
       "Multiple R-squared:  0.2067,\tAdjusted R-squared:  0.206 \n",
       "F-statistic: 299.6 on 1 and 1150 DF,  p-value: < 2.2e-16\n"
      ]
     },
     "metadata": {},
     "output_type": "display_data"
    },
    {
     "data": {
      "text/plain": [
       "\n",
       "Call:\n",
       "lm(formula = hdl_cholesterol_30760.0.0.x ~ MetS, data = interpretation)\n",
       "\n",
       "Residuals:\n",
       "     Min       1Q   Median       3Q      Max \n",
       "-0.72002 -0.21265 -0.03939  0.17010  1.35280 \n",
       "\n",
       "Coefficients:\n",
       "             Estimate Std. Error t value Pr(>|t|)    \n",
       "(Intercept)  1.361984   0.008772  155.27   <2e-16 ***\n",
       "MetS        -0.245614   0.012507  -19.64   <2e-16 ***\n",
       "---\n",
       "Signif. codes:  0 ‘***’ 0.001 ‘**’ 0.01 ‘*’ 0.05 ‘.’ 0.1 ‘ ’ 1\n",
       "\n",
       "Residual standard error: 0.2977 on 1150 degrees of freedom\n",
       "Multiple R-squared:  0.2511,\tAdjusted R-squared:  0.2505 \n",
       "F-statistic: 385.7 on 1 and 1150 DF,  p-value: < 2.2e-16\n"
      ]
     },
     "metadata": {},
     "output_type": "display_data"
    },
    {
     "data": {
      "text/plain": [
       "\n",
       "Call:\n",
       "lm(formula = waist_circumference_48.0.0.x ~ MetS, data = interpretation)\n",
       "\n",
       "Residuals:\n",
       "     Min       1Q   Median       3Q      Max \n",
       "-14.6171  -3.0341   0.0596   3.2645  15.5257 \n",
       "\n",
       "Coefficients:\n",
       "            Estimate Std. Error t value Pr(>|t|)    \n",
       "(Intercept)  93.4991     0.1353  690.94   <2e-16 ***\n",
       "MetS         18.7356     0.1929   97.11   <2e-16 ***\n",
       "---\n",
       "Signif. codes:  0 ‘***’ 0.001 ‘**’ 0.01 ‘*’ 0.05 ‘.’ 0.1 ‘ ’ 1\n",
       "\n",
       "Residual standard error: 4.593 on 1150 degrees of freedom\n",
       "Multiple R-squared:  0.8913,\tAdjusted R-squared:  0.8912 \n",
       "F-statistic:  9429 on 1 and 1150 DF,  p-value: < 2.2e-16\n"
      ]
     },
     "metadata": {},
     "output_type": "display_data"
    }
   ],
   "source": [
    "summary(lm(glucose_30740.0.0.x~MetS, data=interpretation))\n",
    "summary(lm(SBP~MetS, data=interpretation))\n",
    "summary(lm(DBP~MetS, data=interpretation))\n",
    "summary(lm(glycated_haemoglobin_hba1c_30750.0.0.x~MetS, data=interpretation))\n",
    "summary(lm(c.reactive_protein_30710.0.0~MetS, data=interpretation))\n",
    "summary(lm(triglycerides_30870.0.0~MetS, data=interpretation))\n",
    "summary(lm(hdl_cholesterol_30760.0.0.x~MetS, data=interpretation))\n",
    "summary(lm(waist_circumference_48.0.0.x~MetS, data=interpretation))"
   ]
  },
  {
   "cell_type": "markdown",
   "metadata": {},
   "source": [
    "## Plot ORs for mortality"
   ]
  },
  {
   "cell_type": "code",
   "execution_count": 56,
   "metadata": {},
   "outputs": [],
   "source": [
    "library(wesanderson)\n",
    "library(ggplot2)\n",
    "\n",
    "ORs_mortality=data.frame(ORs_mortality)\n",
    "ORs_mortality$names <- rownames(ORs_mortality)\n",
    "ORs_mortality=ORs_mortality[3:12,]\n",
    "ORs_mortality$names=factor(ORs_mortality$names, ordered=T)\n",
    "ORs_mortality$names=c('Systolic BP','Diastolic BP','Hypertension diagnosis','Serum glucose','HbA1c',\n",
    "                     'Diabetes diagnosis', 'HDL','TG','CRP','Waist circumference')\n",
    "\n",
    "\n",
    "ORs_mortality$Symptomsgroup=c('Hypertension','Hypertension','Hypertension','Diabetes',\n",
    "                      'Diabetes','Diabetes','Dyslipidemia','Dyslipidemia','Inflammation','Waist circumference')"
   ]
  },
  {
   "cell_type": "code",
   "execution_count": 58,
   "metadata": {},
   "outputs": [],
   "source": [
    "ORs_MetS=data.frame(ORs_MetS)\n",
    "ORs_MetS$names <- rownames(ORs_MetS)\n",
    "ORs_MetS$names=factor(ORs_MetS$names, ordered=T)\n",
    "ORs_MetS=ORs_MetS[3,]\n",
    "ORs_MetS$names=c('Metabolic health')\n",
    "ORs_MetS$Symptomsgroup=c('Metabolic health')\n",
    "\n",
    "ORs_mortality=rbind(ORs_mortality, ORs_MetS)"
   ]
  },
  {
   "cell_type": "code",
   "execution_count": 60,
   "metadata": {},
   "outputs": [
    {
     "data": {
      "image/png": "[encoded data removed]",
      "text/plain": [
       "plot without title"
      ]
     },
     "metadata": {},
     "output_type": "display_data"
    }
   ],
   "source": [
    "(p_death <- ggplot(ORs_mortality, aes(x = (V1), y = reorder(names, -V1))) + \n",
    "    geom_vline(aes(xintercept = 1), size = .25, linetype = \"dashed\") + \n",
    "    geom_errorbarh(aes(xmax = X97.5.., xmin = X2.5..), size = 0.2, height = 0.2, color = \"gray50\") +\n",
    "    geom_point(size = 3, aes(color = Symptomsgroup)) +\n",
    "    scale_x_continuous(breaks = c(0,0.5,1,1.5,2),\n",
    "                       limits = c(0,2.5)) +\n",
    "    theme_minimal() +\n",
    "    theme(panel.grid.minor = element_blank()) +\n",
    "    ylab(\"\") +\n",
    "    xlab(\"Adjusted odds ratio: mortality\") + \n",
    "    #ggtitle(\"B\") +\n",
    "    scale_color_brewer(palette=\"RdYlBu\", name='Symptoms group') +\n",
    "    geom_hline(aes(yintercept = 1.5), size = .25, color='red', linetype='dashed') \n",
    " )\n",
    "\n",
    "ggsave('/dagher/dagher11/filip/COVID/COVID_mortality.tiff',\n",
    "  plot = p_death,\n",
    "  device = 'tiff',\n",
    "  scale = 1,\n",
    "  width = 15,\n",
    "  height = 10,\n",
    "  units = 'cm',\n",
    "  dpi = 300\n",
    ")"
   ]
  },
  {
   "cell_type": "code",
   "execution_count": null,
   "metadata": {},
   "outputs": [],
   "source": []
  }
 ],
 "metadata": {
  "kernelspec": {
   "display_name": "R",
   "language": "R",
   "name": "ir"
  },
  "language_info": {
   "codemirror_mode": "r",
   "file_extension": ".r",
   "mimetype": "text/x-r-source",
   "name": "R",
   "pygments_lexer": "r",
   "version": "3.6.1"
  }
 },
 "nbformat": 4,
 "nbformat_minor": 2
}
